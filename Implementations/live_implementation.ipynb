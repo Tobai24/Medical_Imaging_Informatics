{
 "cells": [
  {
   "cell_type": "markdown",
   "id": "9056e522",
   "metadata": {},
   "source": [
    "### Dice Loss Equation\n",
    "\n",
    "Dice Loss is commonly used for image segmentation tasks to measure the overlap between predicted and ground truth masks. It is defined as:\n",
    "\n",
    "$$\n",
    "\\text{Dice Loss} = 1 - \\frac{2 \\cdot \\sum a \\cdot b + epsilon}{\\sum a + \\sum b + epsilon}\n",
    "$$\n",
    "\n",
    "Where:  \n",
    "- a: predicted value for pixel  \n",
    "- b: ground truth value for pixel  \n",
    "- epsilon: small constant to avoid division by zero\n"
   ]
  },
  {
   "cell_type": "code",
   "execution_count": null,
   "id": "a30c0ba8",
   "metadata": {},
   "outputs": [],
   "source": [
    "import torch\n",
    "import torch.nn as nn\n",
    "\n",
    "class DiceLoss(nn.Module):\n",
    "    def __init__(self, smooth=1e-6):\n",
    "        super().__init__()\n",
    "        self.smooth = smooth\n",
    "        \n",
    "    def forward(self, preds, target):\n",
    "        preds = torch.sigmoid(preds)\n",
    "        \n",
    "        target = target.view(-1)\n",
    "        preds = preds.view(-1)\n",
    "        \n",
    "        intersection = (preds * target).sum()\n",
    "        dice_score = (2 * intersection + self.smooth) / (preds.sum() + target.sum() + self.smooth)\n",
    "        \n",
    "        return 1 - dice_score\n",
    "        "
   ]
  }
 ],
 "metadata": {
  "kernelspec": {
   "display_name": "Python 3",
   "language": "python",
   "name": "python3"
  },
  "language_info": {
   "name": "python",
   "version": "3.12.1"
  }
 },
 "nbformat": 4,
 "nbformat_minor": 5
}

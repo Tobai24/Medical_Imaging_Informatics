{
 "cells": [
  {
   "cell_type": "code",
   "execution_count": 1,
   "id": "f00ca83e",
   "metadata": {},
   "outputs": [
    {
     "name": "stdout",
     "output_type": "stream",
     "text": [
      "\n",
      "\u001b[1m[\u001b[0m\u001b[34;49mnotice\u001b[0m\u001b[1;39;49m]\u001b[0m\u001b[39;49m A new release of pip is available: \u001b[0m\u001b[31;49m25.0.1\u001b[0m\u001b[39;49m -> \u001b[0m\u001b[32;49m25.1.1\u001b[0m\n",
      "\u001b[1m[\u001b[0m\u001b[34;49mnotice\u001b[0m\u001b[1;39;49m]\u001b[0m\u001b[39;49m To update, run: \u001b[0m\u001b[32;49mpip install --upgrade pip\u001b[0m\n",
      "\n",
      "\u001b[1m[\u001b[0m\u001b[34;49mnotice\u001b[0m\u001b[1;39;49m]\u001b[0m\u001b[39;49m A new release of pip is available: \u001b[0m\u001b[31;49m25.0.1\u001b[0m\u001b[39;49m -> \u001b[0m\u001b[32;49m25.1.1\u001b[0m\n",
      "\u001b[1m[\u001b[0m\u001b[34;49mnotice\u001b[0m\u001b[1;39;49m]\u001b[0m\u001b[39;49m To update, run: \u001b[0m\u001b[32;49mpip install --upgrade pip\u001b[0m\n"
     ]
    }
   ],
   "source": [
    "import sys\n",
    "\n",
    "# install simpleDicomViewer and forked pydicom-seg dependency\n",
    "!{sys.executable} -m pip install --upgrade -q git+https://github.com/kirbyju/pydicom-seg.git@master\n",
    "!{sys.executable} -m pip install --upgrade -q simpleDicomViewer"
   ]
  },
  {
   "cell_type": "code",
   "execution_count": 2,
   "id": "4e3e7091",
   "metadata": {},
   "outputs": [],
   "source": [
    "# import the necessary dependencies\n",
    "from tcia_utils import nbia\n",
    "from simpleDicomViewer import dicomViewer"
   ]
  },
  {
   "cell_type": "code",
   "execution_count": 3,
   "id": "d5ed547e",
   "metadata": {},
   "outputs": [
    {
     "name": "stderr",
     "output_type": "stream",
     "text": [
      "2025-05-21 21:07:22,616:INFO:Success - Token saved to global api_call_headers variable and expires at 2025-05-21 23:07:22.616527\n",
      "2025-05-21 21:07:22,618:INFO:Accessing public data anonymously. To access restricted data use nbia.getToken() with your credentials.\n",
      "2025-05-21 21:07:22,618:INFO:Calling getSeries with parameters {'Collection': 'NSCLC-Radiomics'}\n"
     ]
    }
   ],
   "source": [
    "data = nbia.getSeries(collection='NSCLC-Radiomics')"
   ]
  },
  {
   "cell_type": "code",
   "execution_count": 4,
   "id": "ac7034b9",
   "metadata": {},
   "outputs": [
    {
     "data": {
      "text/plain": [
       "1265"
      ]
     },
     "execution_count": 4,
     "metadata": {},
     "output_type": "execute_result"
    }
   ],
   "source": [
    "# check the number of data in the series\n",
    "len(data)"
   ]
  },
  {
   "cell_type": "code",
   "execution_count": null,
   "id": "35c2ca48",
   "metadata": {},
   "outputs": [
    {
     "name": "stderr",
     "output_type": "stream",
     "text": [
      "2025-05-17 13:19:49,359:INFO:Downloading 2 out of 1265 Series Instance UIDs (scans).\n",
      "2025-05-17 13:19:49,361:INFO:Directory 'tciaDownload' already exists.\n",
      "2025-05-17 13:19:49,362:WARNING:Series 1.3.6.1.4.1.32722.99.99.320898527671900265039224224949289088459 already downloaded and unzipped.\n",
      "2025-05-17 13:19:49,364:WARNING:Series 1.3.6.1.4.1.32722.99.99.71621653125201582124240564508842688465 already downloaded and unzipped.\n",
      "2025-05-17 13:19:49,364:INFO:Downloading... https://services.cancerimagingarchive.net/nbia-api/services/v2/getImage?NewFileNames=Yes&SeriesInstanceUID=1.3.6.1.4.1.32722.99.99.138522260934437218114778023563031054616\n",
      "2025-05-17 13:20:07,257:INFO:Downloading... https://services.cancerimagingarchive.net/nbia-api/services/v2/getImage?NewFileNames=Yes&SeriesInstanceUID=1.3.6.1.4.1.32722.99.99.134645872977266948002680323417926540760\n",
      "2025-05-17 13:20:20,031:INFO:Downloaded 2 out of 2 Series Instance UIDs (scans).\n",
      "0 failed to download.\n",
      "2 previously downloaded.\n"
     ]
    }
   ],
   "source": [
    "# download two samples from the collections\n",
    "nbia.downloadSeries(data, number=2)"
   ]
  },
  {
   "cell_type": "code",
   "execution_count": 5,
   "id": "54c06f8e",
   "metadata": {},
   "outputs": [
    {
     "name": "stdout",
     "output_type": "stream",
     "text": [
      "Your path does not contain a single DICOM series.\n"
     ]
    }
   ],
   "source": [
    "#view a sample of the dataset\n",
    "from simpleDicomViewer import dicomViewer\n",
    "\n",
    "seriesUid = \"1.3.6.1.4.1.32722.99.99.71621653125201582124240564508842688465\"\n",
    "dicomViewer.viewSeries(f\"./tciaDownload/{seriesUid}\")"
   ]
  },
  {
   "cell_type": "code",
   "execution_count": 6,
   "id": "72e2abd6",
   "metadata": {},
   "outputs": [
    {
     "name": "stderr",
     "output_type": "stream",
     "text": [
      "2025-05-21 21:07:36,598:INFO:Calling getSeries with parameters {'Collection': 'NSCLC-Radiomics'}\n"
     ]
    },
    {
     "data": {
      "text/html": [
       "<div>\n",
       "<style scoped>\n",
       "    .dataframe tbody tr th:only-of-type {\n",
       "        vertical-align: middle;\n",
       "    }\n",
       "\n",
       "    .dataframe tbody tr th {\n",
       "        vertical-align: top;\n",
       "    }\n",
       "\n",
       "    .dataframe thead th {\n",
       "        text-align: right;\n",
       "    }\n",
       "</style>\n",
       "<table border=\"1\" class=\"dataframe\">\n",
       "  <thead>\n",
       "    <tr style=\"text-align: right;\">\n",
       "      <th></th>\n",
       "      <th>SeriesInstanceUID</th>\n",
       "      <th>StudyInstanceUID</th>\n",
       "      <th>Modality</th>\n",
       "      <th>ProtocolName</th>\n",
       "      <th>SeriesDate</th>\n",
       "      <th>BodyPartExamined</th>\n",
       "      <th>SeriesNumber</th>\n",
       "      <th>Collection</th>\n",
       "      <th>PatientID</th>\n",
       "      <th>Manufacturer</th>\n",
       "      <th>...</th>\n",
       "      <th>ImageCount</th>\n",
       "      <th>TimeStamp</th>\n",
       "      <th>LicenseName</th>\n",
       "      <th>LicenseURI</th>\n",
       "      <th>CollectionURI</th>\n",
       "      <th>FileSize</th>\n",
       "      <th>DateReleased</th>\n",
       "      <th>StudyDate</th>\n",
       "      <th>ThirdPartyAnalysis</th>\n",
       "      <th>SeriesDescription</th>\n",
       "    </tr>\n",
       "  </thead>\n",
       "  <tbody>\n",
       "    <tr>\n",
       "      <th>0</th>\n",
       "      <td>1.3.6.1.4.1.32722.99.99.3208985276719002650392...</td>\n",
       "      <td>1.3.6.1.4.1.32722.99.99.2923185306557238260155...</td>\n",
       "      <td>CT</td>\n",
       "      <td>MAASTRO_PETCT_WholeBodyC</td>\n",
       "      <td>2006-04-13 00:00:00.0</td>\n",
       "      <td>LUNG</td>\n",
       "      <td>0</td>\n",
       "      <td>NSCLC-Radiomics</td>\n",
       "      <td>LUNG1-048</td>\n",
       "      <td>SIEMENS</td>\n",
       "      <td>...</td>\n",
       "      <td>135</td>\n",
       "      <td>2020-10-07 14:01:08.0</td>\n",
       "      <td>Creative Commons Attribution-NonCommercial 3.0...</td>\n",
       "      <td>https://creativecommons.org/licenses/by-nc/3.0/</td>\n",
       "      <td>https://doi.org/10.7937/K9/TCIA.2015.PF0M9REI</td>\n",
       "      <td>71041260</td>\n",
       "      <td>2020-10-07 14:01:08.0</td>\n",
       "      <td>2006-04-13 00:00:00.0</td>\n",
       "      <td>NO</td>\n",
       "      <td>NaN</td>\n",
       "    </tr>\n",
       "    <tr>\n",
       "      <th>1</th>\n",
       "      <td>1.3.6.1.4.1.32722.99.99.7162165312520158212424...</td>\n",
       "      <td>1.3.6.1.4.1.32722.99.99.1008555718320741529516...</td>\n",
       "      <td>CT</td>\n",
       "      <td>MAASTRO_PETCT_WholeBodyC</td>\n",
       "      <td>2006-01-06 00:00:00.0</td>\n",
       "      <td>LUNG</td>\n",
       "      <td>0</td>\n",
       "      <td>NSCLC-Radiomics</td>\n",
       "      <td>LUNG1-065</td>\n",
       "      <td>SIEMENS</td>\n",
       "      <td>...</td>\n",
       "      <td>135</td>\n",
       "      <td>2020-10-07 14:00:50.0</td>\n",
       "      <td>Creative Commons Attribution-NonCommercial 3.0...</td>\n",
       "      <td>https://creativecommons.org/licenses/by-nc/3.0/</td>\n",
       "      <td>https://doi.org/10.7937/K9/TCIA.2015.PF0M9REI</td>\n",
       "      <td>71040974</td>\n",
       "      <td>2020-10-07 14:00:50.0</td>\n",
       "      <td>2006-01-06 00:00:00.0</td>\n",
       "      <td>NO</td>\n",
       "      <td>NaN</td>\n",
       "    </tr>\n",
       "  </tbody>\n",
       "</table>\n",
       "<p>2 rows × 22 columns</p>\n",
       "</div>"
      ],
      "text/plain": [
       "                                   SeriesInstanceUID  \\\n",
       "0  1.3.6.1.4.1.32722.99.99.3208985276719002650392...   \n",
       "1  1.3.6.1.4.1.32722.99.99.7162165312520158212424...   \n",
       "\n",
       "                                    StudyInstanceUID Modality  \\\n",
       "0  1.3.6.1.4.1.32722.99.99.2923185306557238260155...       CT   \n",
       "1  1.3.6.1.4.1.32722.99.99.1008555718320741529516...       CT   \n",
       "\n",
       "               ProtocolName             SeriesDate BodyPartExamined  \\\n",
       "0  MAASTRO_PETCT_WholeBodyC  2006-04-13 00:00:00.0             LUNG   \n",
       "1  MAASTRO_PETCT_WholeBodyC  2006-01-06 00:00:00.0             LUNG   \n",
       "\n",
       "   SeriesNumber       Collection  PatientID Manufacturer  ... ImageCount  \\\n",
       "0             0  NSCLC-Radiomics  LUNG1-048      SIEMENS  ...        135   \n",
       "1             0  NSCLC-Radiomics  LUNG1-065      SIEMENS  ...        135   \n",
       "\n",
       "               TimeStamp                                        LicenseName  \\\n",
       "0  2020-10-07 14:01:08.0  Creative Commons Attribution-NonCommercial 3.0...   \n",
       "1  2020-10-07 14:00:50.0  Creative Commons Attribution-NonCommercial 3.0...   \n",
       "\n",
       "                                        LicenseURI  \\\n",
       "0  https://creativecommons.org/licenses/by-nc/3.0/   \n",
       "1  https://creativecommons.org/licenses/by-nc/3.0/   \n",
       "\n",
       "                                   CollectionURI  FileSize  \\\n",
       "0  https://doi.org/10.7937/K9/TCIA.2015.PF0M9REI  71041260   \n",
       "1  https://doi.org/10.7937/K9/TCIA.2015.PF0M9REI  71040974   \n",
       "\n",
       "            DateReleased              StudyDate ThirdPartyAnalysis  \\\n",
       "0  2020-10-07 14:01:08.0  2006-04-13 00:00:00.0                 NO   \n",
       "1  2020-10-07 14:00:50.0  2006-01-06 00:00:00.0                 NO   \n",
       "\n",
       "  SeriesDescription  \n",
       "0               NaN  \n",
       "1               NaN  \n",
       "\n",
       "[2 rows x 22 columns]"
      ]
     },
     "execution_count": 6,
     "metadata": {},
     "output_type": "execute_result"
    }
   ],
   "source": [
    "# get the dataframe of the images for quick exploration\n",
    "df = nbia.getSeries(collection = \"NSCLC-Radiomics\", format = \"df\")\n",
    "df.head(2)"
   ]
  },
  {
   "cell_type": "code",
   "execution_count": 5,
   "id": "af574f97",
   "metadata": {},
   "outputs": [
    {
     "data": {
      "text/plain": [
       "1265"
      ]
     },
     "execution_count": 5,
     "metadata": {},
     "output_type": "execute_result"
    }
   ],
   "source": [
    "df[\"SeriesInstanceUID\"].nunique()"
   ]
  },
  {
   "cell_type": "code",
   "execution_count": 6,
   "id": "6f77eba4",
   "metadata": {},
   "outputs": [
    {
     "data": {
      "text/plain": [
       "422"
      ]
     },
     "execution_count": 6,
     "metadata": {},
     "output_type": "execute_result"
    }
   ],
   "source": [
    "df[\"StudyInstanceUID\"].nunique()"
   ]
  },
  {
   "cell_type": "code",
   "execution_count": 7,
   "id": "aef854b4",
   "metadata": {},
   "outputs": [
    {
     "data": {
      "text/plain": [
       "Modality\n",
       "CT          422\n",
       "RTSTRUCT    422\n",
       "SEG         421\n",
       "Name: count, dtype: int64"
      ]
     },
     "execution_count": 7,
     "metadata": {},
     "output_type": "execute_result"
    }
   ],
   "source": [
    "# check the types of image modalities that are available for this collection\n",
    "df[\"Modality\"].value_counts()"
   ]
  },
  {
   "cell_type": "code",
   "execution_count": 8,
   "id": "3160d02b",
   "metadata": {},
   "outputs": [],
   "source": [
    "# we are going to be working with patientId-lung1-412\n",
    "seriesUid = '1.3.6.1.4.1.32722.99.99.95262804700588909422498251982012748381'"
   ]
  },
  {
   "cell_type": "code",
   "execution_count": 69,
   "id": "d3c80757",
   "metadata": {},
   "outputs": [
    {
     "data": {
      "text/html": [
       "<div>\n",
       "<style scoped>\n",
       "    .dataframe tbody tr th:only-of-type {\n",
       "        vertical-align: middle;\n",
       "    }\n",
       "\n",
       "    .dataframe tbody tr th {\n",
       "        vertical-align: top;\n",
       "    }\n",
       "\n",
       "    .dataframe thead th {\n",
       "        text-align: right;\n",
       "    }\n",
       "</style>\n",
       "<table border=\"1\" class=\"dataframe\">\n",
       "  <thead>\n",
       "    <tr style=\"text-align: right;\">\n",
       "      <th></th>\n",
       "      <th>SeriesInstanceUID</th>\n",
       "      <th>StudyInstanceUID</th>\n",
       "      <th>Modality</th>\n",
       "      <th>ProtocolName</th>\n",
       "      <th>SeriesDate</th>\n",
       "      <th>BodyPartExamined</th>\n",
       "      <th>SeriesNumber</th>\n",
       "      <th>Collection</th>\n",
       "      <th>PatientID</th>\n",
       "      <th>Manufacturer</th>\n",
       "      <th>...</th>\n",
       "      <th>ImageCount</th>\n",
       "      <th>TimeStamp</th>\n",
       "      <th>LicenseName</th>\n",
       "      <th>LicenseURI</th>\n",
       "      <th>CollectionURI</th>\n",
       "      <th>FileSize</th>\n",
       "      <th>DateReleased</th>\n",
       "      <th>StudyDate</th>\n",
       "      <th>ThirdPartyAnalysis</th>\n",
       "      <th>SeriesDescription</th>\n",
       "    </tr>\n",
       "  </thead>\n",
       "  <tbody>\n",
       "    <tr>\n",
       "      <th>200</th>\n",
       "      <td>1.3.6.1.4.1.32722.99.99.2133868181977835886994...</td>\n",
       "      <td>1.3.6.1.4.1.32722.99.99.9526280470058890942249...</td>\n",
       "      <td>CT</td>\n",
       "      <td>RCCTPET_THORAX_8F</td>\n",
       "      <td>2010-06-26 00:00:00.0</td>\n",
       "      <td>LUNG</td>\n",
       "      <td>0</td>\n",
       "      <td>NSCLC-Radiomics</td>\n",
       "      <td>LUNG1-412</td>\n",
       "      <td>SIEMENS</td>\n",
       "      <td>...</td>\n",
       "      <td>134</td>\n",
       "      <td>2020-10-07 14:01:31.0</td>\n",
       "      <td>Creative Commons Attribution-NonCommercial 3.0...</td>\n",
       "      <td>https://creativecommons.org/licenses/by-nc/3.0/</td>\n",
       "      <td>https://doi.org/10.7937/K9/TCIA.2015.PF0M9REI</td>\n",
       "      <td>70512274</td>\n",
       "      <td>2020-10-07 14:01:31.0</td>\n",
       "      <td>2010-06-26 00:00:00.0</td>\n",
       "      <td>NO</td>\n",
       "      <td>NaN</td>\n",
       "    </tr>\n",
       "    <tr>\n",
       "      <th>714</th>\n",
       "      <td>1.3.6.1.4.1.32722.99.99.1978236425204812568226...</td>\n",
       "      <td>1.3.6.1.4.1.32722.99.99.9526280470058890942249...</td>\n",
       "      <td>RTSTRUCT</td>\n",
       "      <td>NaN</td>\n",
       "      <td>NaN</td>\n",
       "      <td>NaN</td>\n",
       "      <td>1</td>\n",
       "      <td>NSCLC-Radiomics</td>\n",
       "      <td>LUNG1-412</td>\n",
       "      <td>Varian Medical Systems</td>\n",
       "      <td>...</td>\n",
       "      <td>1</td>\n",
       "      <td>2020-10-08 14:17:52.0</td>\n",
       "      <td>Creative Commons Attribution-NonCommercial 3.0...</td>\n",
       "      <td>https://creativecommons.org/licenses/by-nc/3.0/</td>\n",
       "      <td>https://doi.org/10.7937/K9/TCIA.2015.PF0M9REI</td>\n",
       "      <td>1748378</td>\n",
       "      <td>2020-10-08 14:17:52.0</td>\n",
       "      <td>2010-06-26 00:00:00.0</td>\n",
       "      <td>NO</td>\n",
       "      <td>NaN</td>\n",
       "    </tr>\n",
       "    <tr>\n",
       "      <th>1263</th>\n",
       "      <td>1.2.276.0.7230010.3.1.3.2323910823.6176.159725...</td>\n",
       "      <td>1.3.6.1.4.1.32722.99.99.9526280470058890942249...</td>\n",
       "      <td>SEG</td>\n",
       "      <td>NaN</td>\n",
       "      <td>2020-08-12 00:00:00.0</td>\n",
       "      <td>LUNG</td>\n",
       "      <td>300</td>\n",
       "      <td>NSCLC-Radiomics</td>\n",
       "      <td>LUNG1-412</td>\n",
       "      <td>QIICR</td>\n",
       "      <td>...</td>\n",
       "      <td>1</td>\n",
       "      <td>2020-08-20 18:51:05.0</td>\n",
       "      <td>Creative Commons Attribution-NonCommercial 3.0...</td>\n",
       "      <td>https://creativecommons.org/licenses/by-nc/3.0/</td>\n",
       "      <td>https://doi.org/10.7937/K9/TCIA.2015.PF0M9REI</td>\n",
       "      <td>26828234</td>\n",
       "      <td>2020-08-20 18:51:05.0</td>\n",
       "      <td>2010-06-26 00:00:00.0</td>\n",
       "      <td>NO</td>\n",
       "      <td>Segmentation</td>\n",
       "    </tr>\n",
       "  </tbody>\n",
       "</table>\n",
       "<p>3 rows × 22 columns</p>\n",
       "</div>"
      ],
      "text/plain": [
       "                                      SeriesInstanceUID  \\\n",
       "200   1.3.6.1.4.1.32722.99.99.2133868181977835886994...   \n",
       "714   1.3.6.1.4.1.32722.99.99.1978236425204812568226...   \n",
       "1263  1.2.276.0.7230010.3.1.3.2323910823.6176.159725...   \n",
       "\n",
       "                                       StudyInstanceUID  Modality  \\\n",
       "200   1.3.6.1.4.1.32722.99.99.9526280470058890942249...        CT   \n",
       "714   1.3.6.1.4.1.32722.99.99.9526280470058890942249...  RTSTRUCT   \n",
       "1263  1.3.6.1.4.1.32722.99.99.9526280470058890942249...       SEG   \n",
       "\n",
       "           ProtocolName             SeriesDate BodyPartExamined  SeriesNumber  \\\n",
       "200   RCCTPET_THORAX_8F  2010-06-26 00:00:00.0             LUNG             0   \n",
       "714                 NaN                    NaN              NaN             1   \n",
       "1263                NaN  2020-08-12 00:00:00.0             LUNG           300   \n",
       "\n",
       "           Collection  PatientID            Manufacturer  ... ImageCount  \\\n",
       "200   NSCLC-Radiomics  LUNG1-412                 SIEMENS  ...        134   \n",
       "714   NSCLC-Radiomics  LUNG1-412  Varian Medical Systems  ...          1   \n",
       "1263  NSCLC-Radiomics  LUNG1-412                   QIICR  ...          1   \n",
       "\n",
       "                  TimeStamp  \\\n",
       "200   2020-10-07 14:01:31.0   \n",
       "714   2020-10-08 14:17:52.0   \n",
       "1263  2020-08-20 18:51:05.0   \n",
       "\n",
       "                                            LicenseName  \\\n",
       "200   Creative Commons Attribution-NonCommercial 3.0...   \n",
       "714   Creative Commons Attribution-NonCommercial 3.0...   \n",
       "1263  Creative Commons Attribution-NonCommercial 3.0...   \n",
       "\n",
       "                                           LicenseURI  \\\n",
       "200   https://creativecommons.org/licenses/by-nc/3.0/   \n",
       "714   https://creativecommons.org/licenses/by-nc/3.0/   \n",
       "1263  https://creativecommons.org/licenses/by-nc/3.0/   \n",
       "\n",
       "                                      CollectionURI  FileSize  \\\n",
       "200   https://doi.org/10.7937/K9/TCIA.2015.PF0M9REI  70512274   \n",
       "714   https://doi.org/10.7937/K9/TCIA.2015.PF0M9REI   1748378   \n",
       "1263  https://doi.org/10.7937/K9/TCIA.2015.PF0M9REI  26828234   \n",
       "\n",
       "               DateReleased              StudyDate ThirdPartyAnalysis  \\\n",
       "200   2020-10-07 14:01:31.0  2010-06-26 00:00:00.0                 NO   \n",
       "714   2020-10-08 14:17:52.0  2010-06-26 00:00:00.0                 NO   \n",
       "1263  2020-08-20 18:51:05.0  2010-06-26 00:00:00.0                 NO   \n",
       "\n",
       "     SeriesDescription  \n",
       "200                NaN  \n",
       "714                NaN  \n",
       "1263      Segmentation  \n",
       "\n",
       "[3 rows x 22 columns]"
      ]
     },
     "execution_count": 69,
     "metadata": {},
     "output_type": "execute_result"
    }
   ],
   "source": [
    "#the studyUid is the unique identifier for the dataset\n",
    "df[df[\"StudyInstanceUID\"] == seriesUid]"
   ]
  },
  {
   "cell_type": "code",
   "execution_count": 8,
   "id": "1a8678dd",
   "metadata": {},
   "outputs": [],
   "source": [
    "# get the segmentation SeriesInstanceUID\n",
    "dcm_uid = df[\"SeriesInstanceUID\"][200]\n",
    "seg_uid = \"1.2.276.0.7230010.3.1.3.2323910823.6176.1597257401.104\""
   ]
  },
  {
   "cell_type": "code",
   "execution_count": null,
   "id": "6c0289c9",
   "metadata": {},
   "outputs": [],
   "source": [
    "# download the dcm image and segmentation for patientId-lung1-412\n",
    "nbia.downloadSeries(\n",
    "    series_data=[\n",
    "        {\"SeriesInstanceUID\": \"1.2.276.0.7230010.3.1.3.2323910823.6176.1597257401.104\"},\n",
    "        {\"SeriesInstanceUID\": \"1.3.6.1.4.1.32722.99.99.213386818197783588699450691502803616672\"}\n",
    "    ]\n",
    ")"
   ]
  },
  {
   "cell_type": "code",
   "execution_count": 9,
   "id": "0016ab04",
   "metadata": {},
   "outputs": [
    {
     "name": "stderr",
     "output_type": "stream",
     "text": [
      "2025-05-21 21:08:10,255:WARNING:DICOM-SEG does not specify \"(0062, 0013) SegmentsOverlap\", assuming UNDEFINED and checking pixels\n"
     ]
    },
    {
     "data": {
      "application/vnd.jupyter.widget-view+json": {
       "model_id": "92a59979826c48b685a29928cf09ec35",
       "version_major": 2,
       "version_minor": 0
      },
      "text/plain": [
       "interactive(children=(Checkbox(value=False, description='suppress_warnings'), IntSlider(value=66, description=…"
      ]
     },
     "metadata": {},
     "output_type": "display_data"
    }
   ],
   "source": [
    "#display the segmantation as well as the image\n",
    "imgPath = \"tciaDownload/\" + dcm_uid\n",
    "\n",
    "segPath = \"tciaDownload/\" + seg_uid + \"/1-1.dcm\"\n",
    "\n",
    "dicomViewer.viewSeriesAnnotation(imgPath, segPath)"
   ]
  },
  {
   "cell_type": "code",
   "execution_count": 17,
   "id": "f3da0ae0",
   "metadata": {},
   "outputs": [
    {
     "name": "stdout",
     "output_type": "stream",
     "text": [
      "Reading segmentation file: /workspaces/Medical_Imaging_Informatics/TCIA/tciaDownload/1.2.276.0.7230010.3.1.3.2323910823.6176.1597257401.104/1-1.dcm\n",
      "Unique labels in segmentation: [  0 255]\n",
      "Found 2349510 tumor voxels\n"
     ]
    },
    {
     "data": {
      "text/plain": [
       "{'x_y_z': [18.447814961611908, -172.04502438850292, -154.06019212516654],\n",
       " 'min_x_y_z': [-135.5117, -266.5117, -634.0],\n",
       " 'max_x_y_z': [174.4883, -72.51170000000002, 124.0],\n",
       " 'voxel_count': 2349510}"
      ]
     },
     "execution_count": 17,
     "metadata": {},
     "output_type": "execute_result"
    }
   ],
   "source": [
    "import SimpleITK as sitk\n",
    "import numpy as np\n",
    "\n",
    "def extract_tumor_xyz_from_seg(seg_path):\n",
    "    print(f\"Reading segmentation file: {seg_path}\")\n",
    "    image = sitk.ReadImage(seg_path)\n",
    "\n",
    "    array = sitk.GetArrayFromImage(image)  # shape: [slices, rows, cols]\n",
    "\n",
    "    unique_labels = np.unique(array)\n",
    "    print(f\"Unique labels in segmentation: {unique_labels}\")\n",
    "\n",
    "    if len(unique_labels) <= 1:\n",
    "        raise ValueError(\"Segmentation does not contain labeled voxels.\")\n",
    "\n",
    "    # Try with label 1 (tumor), or ask user to select\n",
    "    label = 1 if 1 in unique_labels else int(unique_labels[1])\n",
    "    tumor_voxels = np.argwhere(array == label)\n",
    "\n",
    "    if tumor_voxels.size == 0:\n",
    "        raise ValueError(f\"No voxels found with label: {label}\")\n",
    "\n",
    "    print(f\"Found {len(tumor_voxels)} tumor voxels\")\n",
    "\n",
    "    spacing = image.GetSpacing()\n",
    "    origin = image.GetOrigin()\n",
    "    direction = np.array(image.GetDirection()).reshape(3, 3)\n",
    "\n",
    "    coords = []\n",
    "    for z, y, x in tumor_voxels:\n",
    "        phys = origin + direction @ (np.array([x, y, z]) * spacing)\n",
    "        coords.append(phys)\n",
    "\n",
    "    coords = np.array(coords)\n",
    "    centroid = coords.mean(axis=0)\n",
    "    min_xyz = coords.min(axis=0)\n",
    "    max_xyz = coords.max(axis=0)\n",
    "\n",
    "    # print(f\"\\nTumor centroid: {centroid}\")\n",
    "    # print(f\"Bounding box min: {min_xyz}\")\n",
    "    # print(f\"Bounding box max: {max_xyz}\")\n",
    "\n",
    "    return {\n",
    "        \"x_y_z\": centroid.tolist(),\n",
    "        \"min_x_y_z\": min_xyz.tolist(),\n",
    "        \"max_x_y_z\": max_xyz.tolist(),\n",
    "        \"voxel_count\": len(coords)\n",
    "    }\n",
    "\n",
    "# Example usage\n",
    "extract_tumor_xyz_from_seg(\"/workspaces/Medical_Imaging_Informatics/TCIA/tciaDownload/1.2.276.0.7230010.3.1.3.2323910823.6176.1597257401.104/1-1.dcm\")\n"
   ]
  }
 ],
 "metadata": {
  "kernelspec": {
   "display_name": "Python 3 (ipykernel)",
   "language": "python",
   "name": "python3"
  },
  "language_info": {
   "codemirror_mode": {
    "name": "ipython",
    "version": 3
   },
   "file_extension": ".py",
   "mimetype": "text/x-python",
   "name": "python",
   "nbconvert_exporter": "python",
   "pygments_lexer": "ipython3",
   "version": "3.12.1"
  }
 },
 "nbformat": 4,
 "nbformat_minor": 5
}

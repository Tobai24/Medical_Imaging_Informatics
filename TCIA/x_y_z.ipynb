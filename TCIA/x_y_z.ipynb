{
 "cells": [
  {
   "cell_type": "code",
   "execution_count": 1,
   "id": "06781780-e47f-4142-9289-8bf9e8d1bdac",
   "metadata": {},
   "outputs": [
    {
     "name": "stdout",
     "output_type": "stream",
     "text": [
      "Requirement already satisfied: tcia_utils in /usr/local/python/3.12.1/lib/python3.12/site-packages (2.4.20)\n",
      "Requirement already satisfied: bs4 in /usr/local/python/3.12.1/lib/python3.12/site-packages (from tcia_utils) (0.0.2)\n",
      "Requirement already satisfied: pandas in /home/codespace/.local/lib/python3.12/site-packages (from tcia_utils) (2.2.3)\n",
      "Requirement already satisfied: plotly in /home/codespace/.local/lib/python3.12/site-packages (from tcia_utils) (6.0.1)\n",
      "Requirement already satisfied: requests in /home/codespace/.local/lib/python3.12/site-packages (from tcia_utils) (2.32.3)\n",
      "Requirement already satisfied: unidecode in /usr/local/python/3.12.1/lib/python3.12/site-packages (from tcia_utils) (1.4.0)\n",
      "Requirement already satisfied: beautifulsoup4 in /home/codespace/.local/lib/python3.12/site-packages (from bs4->tcia_utils) (4.13.3)\n",
      "Requirement already satisfied: numpy>=1.26.0 in /usr/local/python/3.12.1/lib/python3.12/site-packages (from pandas->tcia_utils) (1.26.4)\n",
      "Requirement already satisfied: python-dateutil>=2.8.2 in /home/codespace/.local/lib/python3.12/site-packages (from pandas->tcia_utils) (2.9.0.post0)\n",
      "Requirement already satisfied: pytz>=2020.1 in /home/codespace/.local/lib/python3.12/site-packages (from pandas->tcia_utils) (2025.1)\n",
      "Requirement already satisfied: tzdata>=2022.7 in /home/codespace/.local/lib/python3.12/site-packages (from pandas->tcia_utils) (2025.1)\n",
      "Requirement already satisfied: narwhals>=1.15.1 in /home/codespace/.local/lib/python3.12/site-packages (from plotly->tcia_utils) (1.31.0)\n",
      "Requirement already satisfied: packaging in /home/codespace/.local/lib/python3.12/site-packages (from plotly->tcia_utils) (24.2)\n",
      "Requirement already satisfied: charset-normalizer<4,>=2 in /home/codespace/.local/lib/python3.12/site-packages (from requests->tcia_utils) (3.4.2)\n",
      "Requirement already satisfied: idna<4,>=2.5 in /home/codespace/.local/lib/python3.12/site-packages (from requests->tcia_utils) (3.10)\n",
      "Requirement already satisfied: urllib3<3,>=1.21.1 in /home/codespace/.local/lib/python3.12/site-packages (from requests->tcia_utils) (2.4.0)\n",
      "Requirement already satisfied: certifi>=2017.4.17 in /home/codespace/.local/lib/python3.12/site-packages (from requests->tcia_utils) (2025.1.31)\n",
      "Requirement already satisfied: six>=1.5 in /home/codespace/.local/lib/python3.12/site-packages (from python-dateutil>=2.8.2->pandas->tcia_utils) (1.17.0)\n",
      "Requirement already satisfied: soupsieve>1.2 in /home/codespace/.local/lib/python3.12/site-packages (from beautifulsoup4->bs4->tcia_utils) (2.6)\n",
      "Requirement already satisfied: typing-extensions>=4.0.0 in /home/codespace/.local/lib/python3.12/site-packages (from beautifulsoup4->bs4->tcia_utils) (4.12.2)\n",
      "\n",
      "\u001b[1m[\u001b[0m\u001b[34;49mnotice\u001b[0m\u001b[1;39;49m]\u001b[0m\u001b[39;49m A new release of pip is available: \u001b[0m\u001b[31;49m25.0.1\u001b[0m\u001b[39;49m -> \u001b[0m\u001b[32;49m25.1.1\u001b[0m\n",
      "\u001b[1m[\u001b[0m\u001b[34;49mnotice\u001b[0m\u001b[1;39;49m]\u001b[0m\u001b[39;49m To update, run: \u001b[0m\u001b[32;49mpython3 -m pip install --upgrade pip\u001b[0m\n",
      "Requirement already satisfied: pandas in /home/codespace/.local/lib/python3.12/site-packages (2.2.3)\n",
      "Requirement already satisfied: numpy>=1.26.0 in /usr/local/python/3.12.1/lib/python3.12/site-packages (from pandas) (1.26.4)\n",
      "Requirement already satisfied: python-dateutil>=2.8.2 in /home/codespace/.local/lib/python3.12/site-packages (from pandas) (2.9.0.post0)\n",
      "Requirement already satisfied: pytz>=2020.1 in /home/codespace/.local/lib/python3.12/site-packages (from pandas) (2025.1)\n",
      "Requirement already satisfied: tzdata>=2022.7 in /home/codespace/.local/lib/python3.12/site-packages (from pandas) (2025.1)\n",
      "Requirement already satisfied: six>=1.5 in /home/codespace/.local/lib/python3.12/site-packages (from python-dateutil>=2.8.2->pandas) (1.17.0)\n",
      "\n",
      "\u001b[1m[\u001b[0m\u001b[34;49mnotice\u001b[0m\u001b[1;39;49m]\u001b[0m\u001b[39;49m A new release of pip is available: \u001b[0m\u001b[31;49m25.0.1\u001b[0m\u001b[39;49m -> \u001b[0m\u001b[32;49m25.1.1\u001b[0m\n",
      "\u001b[1m[\u001b[0m\u001b[34;49mnotice\u001b[0m\u001b[1;39;49m]\u001b[0m\u001b[39;49m To update, run: \u001b[0m\u001b[32;49mpython3 -m pip install --upgrade pip\u001b[0m\n",
      "Requirement already satisfied: numpy in /usr/local/python/3.12.1/lib/python3.12/site-packages (1.26.4)\n",
      "\n",
      "\u001b[1m[\u001b[0m\u001b[34;49mnotice\u001b[0m\u001b[1;39;49m]\u001b[0m\u001b[39;49m A new release of pip is available: \u001b[0m\u001b[31;49m25.0.1\u001b[0m\u001b[39;49m -> \u001b[0m\u001b[32;49m25.1.1\u001b[0m\n",
      "\u001b[1m[\u001b[0m\u001b[34;49mnotice\u001b[0m\u001b[1;39;49m]\u001b[0m\u001b[39;49m To update, run: \u001b[0m\u001b[32;49mpython3 -m pip install --upgrade pip\u001b[0m\n",
      "Requirement already satisfied: openpyxl in /usr/local/python/3.12.1/lib/python3.12/site-packages (3.1.5)\n",
      "Requirement already satisfied: et-xmlfile in /usr/local/python/3.12.1/lib/python3.12/site-packages (from openpyxl) (2.0.0)\n",
      "\n",
      "\u001b[1m[\u001b[0m\u001b[34;49mnotice\u001b[0m\u001b[1;39;49m]\u001b[0m\u001b[39;49m A new release of pip is available: \u001b[0m\u001b[31;49m25.0.1\u001b[0m\u001b[39;49m -> \u001b[0m\u001b[32;49m25.1.1\u001b[0m\n",
      "\u001b[1m[\u001b[0m\u001b[34;49mnotice\u001b[0m\u001b[1;39;49m]\u001b[0m\u001b[39;49m To update, run: \u001b[0m\u001b[32;49mpython3 -m pip install --upgrade pip\u001b[0m\n"
     ]
    }
   ],
   "source": [
    "!pip install tcia_utils\n",
    "!pip install pandas\n",
    "!pip install numpy\n",
    "!pip install openpyxl"
   ]
  },
  {
   "cell_type": "code",
   "execution_count": 2,
   "id": "301a2400",
   "metadata": {},
   "outputs": [
    {
     "name": "stdout",
     "output_type": "stream",
     "text": [
      "\n",
      "\u001b[1m[\u001b[0m\u001b[34;49mnotice\u001b[0m\u001b[1;39;49m]\u001b[0m\u001b[39;49m A new release of pip is available: \u001b[0m\u001b[31;49m25.0.1\u001b[0m\u001b[39;49m -> \u001b[0m\u001b[32;49m25.1.1\u001b[0m\n",
      "\u001b[1m[\u001b[0m\u001b[34;49mnotice\u001b[0m\u001b[1;39;49m]\u001b[0m\u001b[39;49m To update, run: \u001b[0m\u001b[32;49mpython -m pip install --upgrade pip\u001b[0m\n",
      "\n",
      "\u001b[1m[\u001b[0m\u001b[34;49mnotice\u001b[0m\u001b[1;39;49m]\u001b[0m\u001b[39;49m A new release of pip is available: \u001b[0m\u001b[31;49m25.0.1\u001b[0m\u001b[39;49m -> \u001b[0m\u001b[32;49m25.1.1\u001b[0m\n",
      "\u001b[1m[\u001b[0m\u001b[34;49mnotice\u001b[0m\u001b[1;39;49m]\u001b[0m\u001b[39;49m To update, run: \u001b[0m\u001b[32;49mpython -m pip install --upgrade pip\u001b[0m\n"
     ]
    }
   ],
   "source": [
    "import sys\n",
    "\n",
    "# install simpleDicomViewer and forked pydicom-seg dependency\n",
    "!{sys.executable} -m pip install --upgrade -q git+https://github.com/kirbyju/pydicom-seg.git@master\n",
    "!{sys.executable} -m pip install --upgrade -q simpleDicomViewer"
   ]
  },
  {
   "cell_type": "code",
   "execution_count": 3,
   "id": "7a4620f7",
   "metadata": {},
   "outputs": [],
   "source": [
    "# import the necessary dependencies\n",
    "import os\n",
    "import SimpleITK as sitk\n",
    "import numpy as np\n",
    "import pandas as pd\n",
    "from tqdm import tqdm\n",
    "from tcia_utils import nbia\n",
    "from simpleDicomViewer import dicomViewer"
   ]
  },
  {
   "cell_type": "markdown",
   "id": "e3bfcd31-a36e-47aa-8a0f-ba0a333bca59",
   "metadata": {},
   "source": [
    "### Download the dcm files using the tcia API"
   ]
  },
  {
   "cell_type": "code",
   "execution_count": 4,
   "id": "b6490290-853e-44d8-a3bd-987f9e276639",
   "metadata": {},
   "outputs": [
    {
     "name": "stderr",
     "output_type": "stream",
     "text": [
      "2025-05-23 12:37:20,635:INFO:Success - Token saved to global api_call_headers variable and expires at 2025-05-23 14:37:20.635790\n",
      "2025-05-23 12:37:20,637:INFO:Accessing public data anonymously. To access restricted data use nbia.getToken() with your credentials.\n",
      "2025-05-23 12:37:20,639:INFO:Calling getSeries with parameters {'Collection': 'NSCLC-Radiomics'}\n"
     ]
    }
   ],
   "source": [
    "data = nbia.getSeries(collection='NSCLC-Radiomics')"
   ]
  },
  {
   "cell_type": "code",
   "execution_count": 5,
   "id": "ab7092a4-e863-4b7e-a67b-33bef082c991",
   "metadata": {},
   "outputs": [
    {
     "name": "stderr",
     "output_type": "stream",
     "text": [
      "2025-05-23 12:37:28,195:INFO:Calling getSeries with parameters {'Collection': 'NSCLC-Radiomics'}\n"
     ]
    },
    {
     "data": {
      "text/html": [
       "<div>\n",
       "<style scoped>\n",
       "    .dataframe tbody tr th:only-of-type {\n",
       "        vertical-align: middle;\n",
       "    }\n",
       "\n",
       "    .dataframe tbody tr th {\n",
       "        vertical-align: top;\n",
       "    }\n",
       "\n",
       "    .dataframe thead th {\n",
       "        text-align: right;\n",
       "    }\n",
       "</style>\n",
       "<table border=\"1\" class=\"dataframe\">\n",
       "  <thead>\n",
       "    <tr style=\"text-align: right;\">\n",
       "      <th></th>\n",
       "      <th>SeriesInstanceUID</th>\n",
       "      <th>StudyInstanceUID</th>\n",
       "      <th>Modality</th>\n",
       "      <th>ProtocolName</th>\n",
       "      <th>SeriesDate</th>\n",
       "      <th>BodyPartExamined</th>\n",
       "      <th>SeriesNumber</th>\n",
       "      <th>Collection</th>\n",
       "      <th>PatientID</th>\n",
       "      <th>Manufacturer</th>\n",
       "      <th>...</th>\n",
       "      <th>ImageCount</th>\n",
       "      <th>TimeStamp</th>\n",
       "      <th>LicenseName</th>\n",
       "      <th>LicenseURI</th>\n",
       "      <th>CollectionURI</th>\n",
       "      <th>FileSize</th>\n",
       "      <th>DateReleased</th>\n",
       "      <th>StudyDate</th>\n",
       "      <th>ThirdPartyAnalysis</th>\n",
       "      <th>SeriesDescription</th>\n",
       "    </tr>\n",
       "  </thead>\n",
       "  <tbody>\n",
       "    <tr>\n",
       "      <th>0</th>\n",
       "      <td>1.3.6.1.4.1.32722.99.99.3208985276719002650392...</td>\n",
       "      <td>1.3.6.1.4.1.32722.99.99.2923185306557238260155...</td>\n",
       "      <td>CT</td>\n",
       "      <td>MAASTRO_PETCT_WholeBodyC</td>\n",
       "      <td>2006-04-13 00:00:00.0</td>\n",
       "      <td>LUNG</td>\n",
       "      <td>0</td>\n",
       "      <td>NSCLC-Radiomics</td>\n",
       "      <td>LUNG1-048</td>\n",
       "      <td>SIEMENS</td>\n",
       "      <td>...</td>\n",
       "      <td>135</td>\n",
       "      <td>2020-10-07 14:01:08.0</td>\n",
       "      <td>Creative Commons Attribution-NonCommercial 3.0...</td>\n",
       "      <td>https://creativecommons.org/licenses/by-nc/3.0/</td>\n",
       "      <td>https://doi.org/10.7937/K9/TCIA.2015.PF0M9REI</td>\n",
       "      <td>71041260</td>\n",
       "      <td>2020-10-07 14:01:08.0</td>\n",
       "      <td>2006-04-13 00:00:00.0</td>\n",
       "      <td>NO</td>\n",
       "      <td>NaN</td>\n",
       "    </tr>\n",
       "    <tr>\n",
       "      <th>1</th>\n",
       "      <td>1.3.6.1.4.1.32722.99.99.7162165312520158212424...</td>\n",
       "      <td>1.3.6.1.4.1.32722.99.99.1008555718320741529516...</td>\n",
       "      <td>CT</td>\n",
       "      <td>MAASTRO_PETCT_WholeBodyC</td>\n",
       "      <td>2006-01-06 00:00:00.0</td>\n",
       "      <td>LUNG</td>\n",
       "      <td>0</td>\n",
       "      <td>NSCLC-Radiomics</td>\n",
       "      <td>LUNG1-065</td>\n",
       "      <td>SIEMENS</td>\n",
       "      <td>...</td>\n",
       "      <td>135</td>\n",
       "      <td>2020-10-07 14:00:50.0</td>\n",
       "      <td>Creative Commons Attribution-NonCommercial 3.0...</td>\n",
       "      <td>https://creativecommons.org/licenses/by-nc/3.0/</td>\n",
       "      <td>https://doi.org/10.7937/K9/TCIA.2015.PF0M9REI</td>\n",
       "      <td>71040974</td>\n",
       "      <td>2020-10-07 14:00:50.0</td>\n",
       "      <td>2006-01-06 00:00:00.0</td>\n",
       "      <td>NO</td>\n",
       "      <td>NaN</td>\n",
       "    </tr>\n",
       "  </tbody>\n",
       "</table>\n",
       "<p>2 rows × 22 columns</p>\n",
       "</div>"
      ],
      "text/plain": [
       "                                   SeriesInstanceUID  \\\n",
       "0  1.3.6.1.4.1.32722.99.99.3208985276719002650392...   \n",
       "1  1.3.6.1.4.1.32722.99.99.7162165312520158212424...   \n",
       "\n",
       "                                    StudyInstanceUID Modality  \\\n",
       "0  1.3.6.1.4.1.32722.99.99.2923185306557238260155...       CT   \n",
       "1  1.3.6.1.4.1.32722.99.99.1008555718320741529516...       CT   \n",
       "\n",
       "               ProtocolName             SeriesDate BodyPartExamined  \\\n",
       "0  MAASTRO_PETCT_WholeBodyC  2006-04-13 00:00:00.0             LUNG   \n",
       "1  MAASTRO_PETCT_WholeBodyC  2006-01-06 00:00:00.0             LUNG   \n",
       "\n",
       "   SeriesNumber       Collection  PatientID Manufacturer  ... ImageCount  \\\n",
       "0             0  NSCLC-Radiomics  LUNG1-048      SIEMENS  ...        135   \n",
       "1             0  NSCLC-Radiomics  LUNG1-065      SIEMENS  ...        135   \n",
       "\n",
       "               TimeStamp                                        LicenseName  \\\n",
       "0  2020-10-07 14:01:08.0  Creative Commons Attribution-NonCommercial 3.0...   \n",
       "1  2020-10-07 14:00:50.0  Creative Commons Attribution-NonCommercial 3.0...   \n",
       "\n",
       "                                        LicenseURI  \\\n",
       "0  https://creativecommons.org/licenses/by-nc/3.0/   \n",
       "1  https://creativecommons.org/licenses/by-nc/3.0/   \n",
       "\n",
       "                                   CollectionURI  FileSize  \\\n",
       "0  https://doi.org/10.7937/K9/TCIA.2015.PF0M9REI  71041260   \n",
       "1  https://doi.org/10.7937/K9/TCIA.2015.PF0M9REI  71040974   \n",
       "\n",
       "            DateReleased              StudyDate ThirdPartyAnalysis  \\\n",
       "0  2020-10-07 14:01:08.0  2006-04-13 00:00:00.0                 NO   \n",
       "1  2020-10-07 14:00:50.0  2006-01-06 00:00:00.0                 NO   \n",
       "\n",
       "  SeriesDescription  \n",
       "0               NaN  \n",
       "1               NaN  \n",
       "\n",
       "[2 rows x 22 columns]"
      ]
     },
     "execution_count": 5,
     "metadata": {},
     "output_type": "execute_result"
    }
   ],
   "source": [
    "df = nbia.getSeries(collection = \"NSCLC-Radiomics\", format = \"df\")\n",
    "df.head(2)"
   ]
  },
  {
   "cell_type": "code",
   "execution_count": 6,
   "id": "a815e77f-8327-4a6a-b82c-ed33343d7d41",
   "metadata": {},
   "outputs": [
    {
     "data": {
      "text/plain": [
       "Index(['SeriesInstanceUID', 'StudyInstanceUID', 'Modality', 'ProtocolName',\n",
       "       'SeriesDate', 'BodyPartExamined', 'SeriesNumber', 'Collection',\n",
       "       'PatientID', 'Manufacturer', 'ManufacturerModelName',\n",
       "       'SoftwareVersions', 'ImageCount', 'TimeStamp', 'LicenseName',\n",
       "       'LicenseURI', 'CollectionURI', 'FileSize', 'DateReleased', 'StudyDate',\n",
       "       'ThirdPartyAnalysis', 'SeriesDescription'],\n",
       "      dtype='object')"
      ]
     },
     "execution_count": 6,
     "metadata": {},
     "output_type": "execute_result"
    }
   ],
   "source": [
    "df.columns"
   ]
  },
  {
   "cell_type": "code",
   "execution_count": 7,
   "id": "b87d79be-1ff8-40d8-af62-d89fcd5a8633",
   "metadata": {},
   "outputs": [
    {
     "data": {
      "text/plain": [
       "Modality\n",
       "CT          422\n",
       "RTSTRUCT    422\n",
       "SEG         421\n",
       "Name: count, dtype: int64"
      ]
     },
     "execution_count": 7,
     "metadata": {},
     "output_type": "execute_result"
    }
   ],
   "source": [
    "df[\"Modality\"].value_counts()"
   ]
  },
  {
   "cell_type": "code",
   "execution_count": 8,
   "id": "74a37841-4b5e-4957-9a71-88fb8e0bdff7",
   "metadata": {},
   "outputs": [],
   "source": [
    "seg_df = df[df['Modality'] == \"SEG\"]"
   ]
  },
  {
   "cell_type": "code",
   "execution_count": 9,
   "id": "cfb44c83-4e65-4688-bf7d-83f1615fb9ba",
   "metadata": {},
   "outputs": [],
   "source": [
    "series = seg_df[\"SeriesInstanceUID\"]"
   ]
  },
  {
   "cell_type": "code",
   "execution_count": 10,
   "id": "2b09d6be-8887-452b-bb9a-7bc9ba7147e6",
   "metadata": {},
   "outputs": [],
   "source": [
    "series_data = series.to_dict()"
   ]
  },
  {
   "cell_type": "code",
   "execution_count": 11,
   "id": "efc218ca-6561-46a9-87d3-d081368b0d6b",
   "metadata": {},
   "outputs": [],
   "source": [
    "converted = [{\"SeriesInstanceUID\": value} for value in series_data.values()]"
   ]
  },
  {
   "cell_type": "code",
   "execution_count": null,
   "id": "e12e459f-7ed3-4226-84fa-34196c79aaa1",
   "metadata": {
    "scrolled": true
   },
   "outputs": [
    {
     "name": "stderr",
     "output_type": "stream",
     "text": [
      "2025-05-23 09:55:47,046:INFO:Downloading 421 out of 421 Series Instance UIDs (scans).\n",
      "2025-05-23 09:55:47,047:INFO:Directory 'tciaDownload' created successfully.\n",
      "2025-05-23 09:55:47,048:INFO:Downloading... https://services.cancerimagingarchive.net/nbia-api/services/v2/getImage?NewFileNames=Yes&SeriesInstanceUID=1.2.276.0.7230010.3.1.3.2323910823.11644.1597260534.485\n",
      "2025-05-23 09:55:48,157:INFO:Downloading... https://services.cancerimagingarchive.net/nbia-api/services/v2/getImage?NewFileNames=Yes&SeriesInstanceUID=1.2.276.0.7230010.3.1.3.2323910823.20524.1597260509.554\n",
      "2025-05-23 09:55:49,246:INFO:Downloading... https://services.cancerimagingarchive.net/nbia-api/services/v2/getImage?NewFileNames=Yes&SeriesInstanceUID=1.2.276.0.7230010.3.1.3.2323910823.11436.1597260561.739\n",
      "2025-05-23 09:55:50,292:INFO:Downloading... https://services.cancerimagingarchive.net/nbia-api/services/v2/getImage?NewFileNames=Yes&SeriesInstanceUID=1.2.276.0.7230010.3.1.3.2323910823.23864.1597260522.316\n",
      "2025-05-23 09:55:51,340:INFO:Downloading... https://services.cancerimagingarchive.net/nbia-api/services/v2/getImage?NewFileNames=Yes&SeriesInstanceUID=1.2.276.0.7230010.3.1.3.2323910823.20804.1597260568.342\n",
      "2025-05-23 09:55:52,451:INFO:Downloading... https://services.cancerimagingarchive.net/nbia-api/services/v2/getImage?NewFileNames=Yes&SeriesInstanceUID=1.2.276.0.7230010.3.1.3.2323910823.11504.1597260515.421\n",
      "2025-05-23 09:55:53,577:INFO:Downloading... https://services.cancerimagingarchive.net/nbia-api/services/v2/getImage?NewFileNames=Yes&SeriesInstanceUID=1.2.276.0.7230010.3.1.3.2323910823.1956.1597260554.647\n",
      "2025-05-23 09:55:55,284:INFO:Downloading... https://services.cancerimagingarchive.net/nbia-api/services/v2/getImage?NewFileNames=Yes&SeriesInstanceUID=1.2.276.0.7230010.3.1.3.2323910823.4780.1597260528.760\n",
      "2025-05-23 09:55:56,636:INFO:Downloading... https://services.cancerimagingarchive.net/nbia-api/services/v2/getImage?NewFileNames=Yes&SeriesInstanceUID=1.2.276.0.7230010.3.1.3.2323910823.21456.1597260540.379\n",
      "2025-05-23 09:55:57,729:INFO:Downloading... https://services.cancerimagingarchive.net/nbia-api/services/v2/getImage?NewFileNames=Yes&SeriesInstanceUID=1.2.276.0.7230010.3.1.3.2323910823.22444.1597260547.585\n",
      "2025-05-23 09:55:58,870:INFO:Downloading... https://services.cancerimagingarchive.net/nbia-api/services/v2/getImage?NewFileNames=Yes&SeriesInstanceUID=1.2.276.0.7230010.3.1.3.2323910823.1568.1597260605.476\n",
      "2025-05-23 09:55:59,925:INFO:Downloading... https://services.cancerimagingarchive.net/nbia-api/services/v2/getImage?NewFileNames=Yes&SeriesInstanceUID=1.2.276.0.7230010.3.1.3.2323910823.12536.1597260637.689\n",
      "2025-05-23 09:56:01,086:INFO:Downloading... https://services.cancerimagingarchive.net/nbia-api/services/v2/getImage?NewFileNames=Yes&SeriesInstanceUID=1.2.276.0.7230010.3.1.3.2323910823.24744.1597260612.191\n",
      "2025-05-23 09:56:02,172:INFO:Downloading... https://services.cancerimagingarchive.net/nbia-api/services/v2/getImage?NewFileNames=Yes&SeriesInstanceUID=1.2.276.0.7230010.3.1.3.2323910823.21208.1597260597.918\n",
      "2025-05-23 09:56:03,221:INFO:Downloading... https://services.cancerimagingarchive.net/nbia-api/services/v2/getImage?NewFileNames=Yes&SeriesInstanceUID=1.2.276.0.7230010.3.1.3.2323910823.10712.1597260629.793\n",
      "2025-05-23 09:56:04,291:INFO:Downloading... https://services.cancerimagingarchive.net/nbia-api/services/v2/getImage?NewFileNames=Yes&SeriesInstanceUID=1.2.276.0.7230010.3.1.3.2323910823.19496.1597260575.3\n",
      "2025-05-23 09:56:05,371:INFO:Downloading... https://services.cancerimagingarchive.net/nbia-api/services/v2/getImage?NewFileNames=Yes&SeriesInstanceUID=1.2.276.0.7230010.3.1.3.2323910823.22296.1597260590.809\n",
      "2025-05-23 09:56:06,449:INFO:Downloading... https://services.cancerimagingarchive.net/nbia-api/services/v2/getImage?NewFileNames=Yes&SeriesInstanceUID=1.2.276.0.7230010.3.1.3.2323910823.16512.1597260621.241\n",
      "2025-05-23 09:56:07,538:INFO:Downloading... https://services.cancerimagingarchive.net/nbia-api/services/v2/getImage?NewFileNames=Yes&SeriesInstanceUID=1.2.276.0.7230010.3.1.3.2323910823.6456.1597260647.931\n",
      "2025-05-23 09:56:08,664:INFO:Downloading... https://services.cancerimagingarchive.net/nbia-api/services/v2/getImage?NewFileNames=Yes&SeriesInstanceUID=1.2.276.0.7230010.3.1.3.2323910823.17176.1597260583.102\n",
      "2025-05-23 09:56:10,648:INFO:Downloading... https://services.cancerimagingarchive.net/nbia-api/services/v2/getImage?NewFileNames=Yes&SeriesInstanceUID=1.2.276.0.7230010.3.1.3.2323910823.14716.1597260694.1001\n",
      "2025-05-23 09:56:11,713:INFO:Downloading... https://services.cancerimagingarchive.net/nbia-api/services/v2/getImage?NewFileNames=Yes&SeriesInstanceUID=1.2.276.0.7230010.3.1.3.2323910823.22612.1597260702.688\n",
      "2025-05-23 09:56:12,781:INFO:Downloading... https://services.cancerimagingarchive.net/nbia-api/services/v2/getImage?NewFileNames=Yes&SeriesInstanceUID=1.2.276.0.7230010.3.1.3.2323910823.16628.1597260733.543\n",
      "2025-05-23 09:56:13,863:INFO:Downloading... https://services.cancerimagingarchive.net/nbia-api/services/v2/getImage?NewFileNames=Yes&SeriesInstanceUID=1.2.276.0.7230010.3.1.3.2323910823.2268.1597260725.514\n",
      "2025-05-23 09:56:15,706:INFO:Downloading... https://services.cancerimagingarchive.net/nbia-api/services/v2/getImage?NewFileNames=Yes&SeriesInstanceUID=1.2.276.0.7230010.3.1.3.2323910823.21828.1597260711.476\n",
      "2025-05-23 09:56:16,872:INFO:Downloading... https://services.cancerimagingarchive.net/nbia-api/services/v2/getImage?NewFileNames=Yes&SeriesInstanceUID=1.2.276.0.7230010.3.1.3.2323910823.25056.1597260686.735\n",
      "2025-05-23 09:56:18,098:INFO:Downloading... https://services.cancerimagingarchive.net/nbia-api/services/v2/getImage?NewFileNames=Yes&SeriesInstanceUID=1.2.276.0.7230010.3.1.3.2323910823.5248.1597260718.487\n",
      "2025-05-23 09:56:19,236:INFO:Downloading... https://services.cancerimagingarchive.net/nbia-api/services/v2/getImage?NewFileNames=Yes&SeriesInstanceUID=1.2.276.0.7230010.3.1.3.2323910823.19328.1597260740.711\n",
      "2025-05-23 09:56:20,420:INFO:Downloading... https://services.cancerimagingarchive.net/nbia-api/services/v2/getImage?NewFileNames=Yes&SeriesInstanceUID=1.2.276.0.7230010.3.1.3.2323910823.24656.1597260676.393\n",
      "2025-05-23 09:56:21,604:INFO:Downloading... https://services.cancerimagingarchive.net/nbia-api/services/v2/getImage?NewFileNames=Yes&SeriesInstanceUID=1.2.276.0.7230010.3.1.3.2323910823.6544.1597260785.400\n",
      "2025-05-23 09:56:22,855:INFO:Downloading... https://services.cancerimagingarchive.net/nbia-api/services/v2/getImage?NewFileNames=Yes&SeriesInstanceUID=1.2.276.0.7230010.3.1.3.2323910823.23408.1597260777.332\n",
      "2025-05-23 09:56:23,947:INFO:Downloading... https://services.cancerimagingarchive.net/nbia-api/services/v2/getImage?NewFileNames=Yes&SeriesInstanceUID=1.2.276.0.7230010.3.1.3.2323910823.16036.1597260821.97\n",
      "2025-05-23 09:56:25,004:INFO:Downloading... https://services.cancerimagingarchive.net/nbia-api/services/v2/getImage?NewFileNames=Yes&SeriesInstanceUID=1.2.276.0.7230010.3.1.3.2323910823.19136.1597260792.432\n",
      "2025-05-23 09:56:26,161:INFO:Downloading... https://services.cancerimagingarchive.net/nbia-api/services/v2/getImage?NewFileNames=Yes&SeriesInstanceUID=1.2.276.0.7230010.3.1.3.2323910823.18812.1597260662.849\n",
      "2025-05-23 09:56:27,834:INFO:Downloading... https://services.cancerimagingarchive.net/nbia-api/services/v2/getImage?NewFileNames=Yes&SeriesInstanceUID=1.2.276.0.7230010.3.1.3.2323910823.20880.1597260800.39\n",
      "2025-05-23 09:56:28,882:INFO:Downloading... https://services.cancerimagingarchive.net/nbia-api/services/v2/getImage?NewFileNames=Yes&SeriesInstanceUID=1.2.276.0.7230010.3.1.3.2323910823.21080.1597260828.622\n",
      "2025-05-23 09:56:30,351:INFO:Downloading... https://services.cancerimagingarchive.net/nbia-api/services/v2/getImage?NewFileNames=Yes&SeriesInstanceUID=1.2.276.0.7230010.3.1.3.2323910823.3520.1597260769.495\n",
      "2025-05-23 09:56:31,500:INFO:Downloading... https://services.cancerimagingarchive.net/nbia-api/services/v2/getImage?NewFileNames=Yes&SeriesInstanceUID=1.2.276.0.7230010.3.1.3.2323910823.18844.1597260811.617\n",
      "2025-05-23 09:56:32,960:INFO:Downloading... https://services.cancerimagingarchive.net/nbia-api/services/v2/getImage?NewFileNames=Yes&SeriesInstanceUID=1.2.276.0.7230010.3.1.3.2323910823.19464.1597260904.406\n",
      "2025-05-23 09:56:33,774:INFO:Downloading... https://services.cancerimagingarchive.net/nbia-api/services/v2/getImage?NewFileNames=Yes&SeriesInstanceUID=1.2.276.0.7230010.3.1.3.2323910823.12276.1597260760.299\n",
      "2025-05-23 09:56:34,783:INFO:Downloading... https://services.cancerimagingarchive.net/nbia-api/services/v2/getImage?NewFileNames=Yes&SeriesInstanceUID=1.2.276.0.7230010.3.1.3.2323910823.24572.1597260867.965\n",
      "2025-05-23 09:56:35,896:INFO:Downloading... https://services.cancerimagingarchive.net/nbia-api/services/v2/getImage?NewFileNames=Yes&SeriesInstanceUID=1.2.276.0.7230010.3.1.3.2323910823.19268.1597260900.345\n",
      "2025-05-23 09:56:37,072:INFO:Downloading... https://services.cancerimagingarchive.net/nbia-api/services/v2/getImage?NewFileNames=Yes&SeriesInstanceUID=1.2.276.0.7230010.3.1.3.2323910823.24772.1597260878.920\n",
      "2025-05-23 09:56:38,160:INFO:Downloading... https://services.cancerimagingarchive.net/nbia-api/services/v2/getImage?NewFileNames=Yes&SeriesInstanceUID=1.2.276.0.7230010.3.1.3.2323910823.10320.1597260861.446\n",
      "2025-05-23 09:56:39,442:INFO:Downloading... https://services.cancerimagingarchive.net/nbia-api/services/v2/getImage?NewFileNames=Yes&SeriesInstanceUID=1.2.276.0.7230010.3.1.3.2323910823.19136.1597260893.910\n",
      "2025-05-23 09:56:40,889:INFO:Downloading... https://services.cancerimagingarchive.net/nbia-api/services/v2/getImage?NewFileNames=Yes&SeriesInstanceUID=1.2.276.0.7230010.3.1.3.2323910823.12340.1597260886.994\n",
      "2025-05-23 09:56:41,932:INFO:Downloading... https://services.cancerimagingarchive.net/nbia-api/services/v2/getImage?NewFileNames=Yes&SeriesInstanceUID=1.2.276.0.7230010.3.1.3.2323910823.2832.1597260852.35\n",
      "2025-05-23 09:56:42,982:INFO:Downloading... https://services.cancerimagingarchive.net/nbia-api/services/v2/getImage?NewFileNames=Yes&SeriesInstanceUID=1.2.276.0.7230010.3.1.3.2323910823.25264.1597260750.927\n",
      "2025-05-23 09:56:44,279:INFO:Downloading... https://services.cancerimagingarchive.net/nbia-api/services/v2/getImage?NewFileNames=Yes&SeriesInstanceUID=1.2.276.0.7230010.3.1.3.2323910823.3244.1597260988.841\n",
      "2025-05-23 09:56:45,364:INFO:Downloading... https://services.cancerimagingarchive.net/nbia-api/services/v2/getImage?NewFileNames=Yes&SeriesInstanceUID=1.2.276.0.7230010.3.1.3.2323910823.20892.1597260926.322\n",
      "2025-05-23 09:56:46,441:INFO:Downloading... https://services.cancerimagingarchive.net/nbia-api/services/v2/getImage?NewFileNames=Yes&SeriesInstanceUID=1.2.276.0.7230010.3.1.3.2323910823.18620.1597260981.184\n",
      "2025-05-23 09:56:47,483:INFO:Downloading... https://services.cancerimagingarchive.net/nbia-api/services/v2/getImage?NewFileNames=Yes&SeriesInstanceUID=1.2.276.0.7230010.3.1.3.2323910823.17684.1597260842.466\n",
      "2025-05-23 09:56:48,611:INFO:Downloading... https://services.cancerimagingarchive.net/nbia-api/services/v2/getImage?NewFileNames=Yes&SeriesInstanceUID=1.2.276.0.7230010.3.1.3.2323910823.24912.1597260950.917\n",
      "2025-05-23 09:56:49,740:INFO:Downloading... https://services.cancerimagingarchive.net/nbia-api/services/v2/getImage?NewFileNames=Yes&SeriesInstanceUID=1.2.276.0.7230010.3.1.3.2323910823.21600.1597260957.912\n",
      "2025-05-23 09:56:50,811:INFO:Downloading... https://services.cancerimagingarchive.net/nbia-api/services/v2/getImage?NewFileNames=Yes&SeriesInstanceUID=1.2.276.0.7230010.3.1.3.2323910823.25128.1597260933.249\n",
      "2025-05-23 09:56:52,048:INFO:Downloading... https://services.cancerimagingarchive.net/nbia-api/services/v2/getImage?NewFileNames=Yes&SeriesInstanceUID=1.2.276.0.7230010.3.1.3.2323910823.17480.1597260942.806\n",
      "2025-05-23 09:56:53,222:INFO:Downloading... https://services.cancerimagingarchive.net/nbia-api/services/v2/getImage?NewFileNames=Yes&SeriesInstanceUID=1.2.276.0.7230010.3.1.3.2323910823.16932.1597260835.449\n",
      "2025-05-23 09:56:54,286:INFO:Downloading... https://services.cancerimagingarchive.net/nbia-api/services/v2/getImage?NewFileNames=Yes&SeriesInstanceUID=1.2.276.0.7230010.3.1.3.2323910823.19272.1597261035.532\n",
      "2025-05-23 09:56:55,167:INFO:Downloading... https://services.cancerimagingarchive.net/nbia-api/services/v2/getImage?NewFileNames=Yes&SeriesInstanceUID=1.2.276.0.7230010.3.1.3.2323910823.23868.1597261009.305\n",
      "2025-05-23 09:56:56,392:INFO:Downloading... https://services.cancerimagingarchive.net/nbia-api/services/v2/getImage?NewFileNames=Yes&SeriesInstanceUID=1.2.276.0.7230010.3.1.3.2323910823.2712.1597261016.47\n",
      "2025-05-23 09:56:57,506:INFO:Downloading... https://services.cancerimagingarchive.net/nbia-api/services/v2/getImage?NewFileNames=Yes&SeriesInstanceUID=1.2.276.0.7230010.3.1.3.2323910823.24096.1597260920.20\n",
      "2025-05-23 09:56:58,596:INFO:Downloading... https://services.cancerimagingarchive.net/nbia-api/services/v2/getImage?NewFileNames=Yes&SeriesInstanceUID=1.2.276.0.7230010.3.1.3.2323910823.25468.1597261055.568\n",
      "2025-05-23 09:57:00,342:INFO:Downloading... https://services.cancerimagingarchive.net/nbia-api/services/v2/getImage?NewFileNames=Yes&SeriesInstanceUID=1.2.276.0.7230010.3.1.3.2323910823.3464.1597261030.742\n",
      "2025-05-23 09:57:01,408:INFO:Downloading... https://services.cancerimagingarchive.net/nbia-api/services/v2/getImage?NewFileNames=Yes&SeriesInstanceUID=1.2.276.0.7230010.3.1.3.2323910823.23264.1597261023.803\n",
      "2025-05-23 09:57:02,498:INFO:Downloading... https://services.cancerimagingarchive.net/nbia-api/services/v2/getImage?NewFileNames=Yes&SeriesInstanceUID=1.2.276.0.7230010.3.1.3.2323910823.20524.1597260970.612\n",
      "2025-05-23 09:57:03,855:INFO:Downloading... https://services.cancerimagingarchive.net/nbia-api/services/v2/getImage?NewFileNames=Yes&SeriesInstanceUID=1.2.276.0.7230010.3.1.3.2323910823.18812.1597261048.393\n",
      "2025-05-23 09:57:05,597:INFO:Downloading... https://services.cancerimagingarchive.net/nbia-api/services/v2/getImage?NewFileNames=Yes&SeriesInstanceUID=1.2.276.0.7230010.3.1.3.2323910823.24880.1597261106.932\n",
      "2025-05-23 09:57:06,628:INFO:Downloading... https://services.cancerimagingarchive.net/nbia-api/services/v2/getImage?NewFileNames=Yes&SeriesInstanceUID=1.2.276.0.7230010.3.1.3.2323910823.23864.1597261003.731\n",
      "2025-05-23 09:57:07,632:INFO:Downloading... https://services.cancerimagingarchive.net/nbia-api/services/v2/getImage?NewFileNames=Yes&SeriesInstanceUID=1.2.276.0.7230010.3.1.3.2323910823.32.1597261112.557\n",
      "2025-05-23 09:57:08,999:INFO:Downloading... https://services.cancerimagingarchive.net/nbia-api/services/v2/getImage?NewFileNames=Yes&SeriesInstanceUID=1.2.276.0.7230010.3.1.3.2323910823.11540.1597261090.253\n",
      "2025-05-23 09:57:10,039:INFO:Downloading... https://services.cancerimagingarchive.net/nbia-api/services/v2/getImage?NewFileNames=Yes&SeriesInstanceUID=1.2.276.0.7230010.3.1.3.2323910823.3528.1597260911.663\n",
      "2025-05-23 09:57:11,208:INFO:Downloading... https://services.cancerimagingarchive.net/nbia-api/services/v2/getImage?NewFileNames=Yes&SeriesInstanceUID=1.2.276.0.7230010.3.1.3.2323910823.4364.1597261040.763\n",
      "2025-05-23 09:57:12,281:INFO:Downloading... https://services.cancerimagingarchive.net/nbia-api/services/v2/getImage?NewFileNames=Yes&SeriesInstanceUID=1.2.276.0.7230010.3.1.3.2323910823.11208.1597261136.4\n",
      "2025-05-23 09:57:13,389:INFO:Downloading... https://services.cancerimagingarchive.net/nbia-api/services/v2/getImage?NewFileNames=Yes&SeriesInstanceUID=1.2.276.0.7230010.3.1.3.2323910823.15564.1597261099.504\n",
      "2025-05-23 09:57:14,555:INFO:Downloading... https://services.cancerimagingarchive.net/nbia-api/services/v2/getImage?NewFileNames=Yes&SeriesInstanceUID=1.2.276.0.7230010.3.1.3.2323910823.3320.1597261081.954\n",
      "2025-05-23 09:57:15,770:INFO:Downloading... https://services.cancerimagingarchive.net/nbia-api/services/v2/getImage?NewFileNames=Yes&SeriesInstanceUID=1.2.276.0.7230010.3.1.3.2323910823.10252.1597261128.805\n",
      "2025-05-23 09:57:16,957:INFO:Downloading... https://services.cancerimagingarchive.net/nbia-api/services/v2/getImage?NewFileNames=Yes&SeriesInstanceUID=1.2.276.0.7230010.3.1.3.2323910823.23952.1597260996.321\n",
      "2025-05-23 09:57:18,065:INFO:Downloading... https://services.cancerimagingarchive.net/nbia-api/services/v2/getImage?NewFileNames=Yes&SeriesInstanceUID=1.2.276.0.7230010.3.1.3.2323910823.24496.1597261170.569\n",
      "2025-05-23 09:57:19,162:INFO:Downloading... https://services.cancerimagingarchive.net/nbia-api/services/v2/getImage?NewFileNames=Yes&SeriesInstanceUID=1.2.276.0.7230010.3.1.3.2323910823.18620.1597261072.484\n",
      "2025-05-23 09:57:20,893:INFO:Downloading... https://services.cancerimagingarchive.net/nbia-api/services/v2/getImage?NewFileNames=Yes&SeriesInstanceUID=1.2.276.0.7230010.3.1.3.2323910823.11620.1597261188.603\n",
      "2025-05-23 09:57:22,128:INFO:Downloading... https://services.cancerimagingarchive.net/nbia-api/services/v2/getImage?NewFileNames=Yes&SeriesInstanceUID=1.2.276.0.7230010.3.1.3.2323910823.25396.1597261196.406\n",
      "2025-05-23 09:57:23,213:INFO:Downloading... https://services.cancerimagingarchive.net/nbia-api/services/v2/getImage?NewFileNames=Yes&SeriesInstanceUID=1.2.276.0.7230010.3.1.3.2323910823.4748.1597261218.19\n",
      "2025-05-23 09:57:24,391:INFO:Downloading... https://services.cancerimagingarchive.net/nbia-api/services/v2/getImage?NewFileNames=Yes&SeriesInstanceUID=1.2.276.0.7230010.3.1.3.2323910823.21996.1597261120.89\n",
      "2025-05-23 09:57:25,627:INFO:Downloading... https://services.cancerimagingarchive.net/nbia-api/services/v2/getImage?NewFileNames=Yes&SeriesInstanceUID=1.2.276.0.7230010.3.1.3.2323910823.23080.1597261211.633\n",
      "2025-05-23 09:57:26,757:INFO:Downloading... https://services.cancerimagingarchive.net/nbia-api/services/v2/getImage?NewFileNames=Yes&SeriesInstanceUID=1.2.276.0.7230010.3.1.3.2323910823.15288.1597261179.859\n",
      "2025-05-23 09:57:27,909:INFO:Downloading... https://services.cancerimagingarchive.net/nbia-api/services/v2/getImage?NewFileNames=Yes&SeriesInstanceUID=1.2.276.0.7230010.3.1.3.2323910823.20552.1597261161.880\n",
      "2025-05-23 09:57:29,223:INFO:Downloading... https://services.cancerimagingarchive.net/nbia-api/services/v2/getImage?NewFileNames=Yes&SeriesInstanceUID=1.2.276.0.7230010.3.1.3.2323910823.10320.1597261253.444\n",
      "2025-05-23 09:57:30,215:INFO:Downloading... https://services.cancerimagingarchive.net/nbia-api/services/v2/getImage?NewFileNames=Yes&SeriesInstanceUID=1.2.276.0.7230010.3.1.3.2323910823.3528.1597261298.711\n",
      "2025-05-23 09:57:31,420:INFO:Downloading... https://services.cancerimagingarchive.net/nbia-api/services/v2/getImage?NewFileNames=Yes&SeriesInstanceUID=1.2.276.0.7230010.3.1.3.2323910823.7828.1597261277.116\n",
      "2025-05-23 09:57:32,470:INFO:Downloading... https://services.cancerimagingarchive.net/nbia-api/services/v2/getImage?NewFileNames=Yes&SeriesInstanceUID=1.2.276.0.7230010.3.1.3.2323910823.23808.1597261063.971\n",
      "2025-05-23 09:57:33,537:INFO:Downloading... https://services.cancerimagingarchive.net/nbia-api/services/v2/getImage?NewFileNames=Yes&SeriesInstanceUID=1.2.276.0.7230010.3.1.3.2323910823.2964.1597261268.557\n",
      "2025-05-23 09:57:34,674:INFO:Downloading... https://services.cancerimagingarchive.net/nbia-api/services/v2/getImage?NewFileNames=Yes&SeriesInstanceUID=1.2.276.0.7230010.3.1.3.2323910823.1488.1597261152.798\n",
      "2025-05-23 09:57:35,832:INFO:Downloading... https://services.cancerimagingarchive.net/nbia-api/services/v2/getImage?NewFileNames=Yes&SeriesInstanceUID=1.2.276.0.7230010.3.1.3.2323910823.16752.1597261204.820\n",
      "2025-05-23 09:57:37,141:INFO:Downloading... https://services.cancerimagingarchive.net/nbia-api/services/v2/getImage?NewFileNames=Yes&SeriesInstanceUID=1.2.276.0.7230010.3.1.3.2323910823.25068.1597261291.711\n",
      "2025-05-23 09:57:38,230:INFO:Downloading... https://services.cancerimagingarchive.net/nbia-api/services/v2/getImage?NewFileNames=Yes&SeriesInstanceUID=1.2.276.0.7230010.3.1.3.2323910823.19372.1597261259.403\n",
      "2025-05-23 09:57:39,374:INFO:Downloading... https://services.cancerimagingarchive.net/nbia-api/services/v2/getImage?NewFileNames=Yes&SeriesInstanceUID=1.2.276.0.7230010.3.1.3.2323910823.12952.1597259404.216\n",
      "2025-05-23 09:57:40,983:INFO:Downloading... https://services.cancerimagingarchive.net/nbia-api/services/v2/getImage?NewFileNames=Yes&SeriesInstanceUID=1.2.276.0.7230010.3.1.3.2323910823.18468.1597261245.613\n",
      "2025-05-23 09:57:42,165:INFO:Downloading... https://services.cancerimagingarchive.net/nbia-api/services/v2/getImage?NewFileNames=Yes&SeriesInstanceUID=1.2.276.0.7230010.3.1.3.2323910823.17848.1597261143.260\n",
      "2025-05-23 09:57:43,281:INFO:Downloading... https://services.cancerimagingarchive.net/nbia-api/services/v2/getImage?NewFileNames=Yes&SeriesInstanceUID=1.2.276.0.7230010.3.1.3.2323910823.3532.1597259397.756\n",
      "2025-05-23 09:57:44,385:INFO:Downloading... https://services.cancerimagingarchive.net/nbia-api/services/v2/getImage?NewFileNames=Yes&SeriesInstanceUID=1.2.276.0.7230010.3.1.3.2323910823.22476.1597259430.28\n",
      "2025-05-23 09:57:46,206:INFO:Downloading... https://services.cancerimagingarchive.net/nbia-api/services/v2/getImage?NewFileNames=Yes&SeriesInstanceUID=1.2.276.0.7230010.3.1.3.2323910823.19388.1597259421.126\n",
      "2025-05-23 09:57:47,299:INFO:Downloading... https://services.cancerimagingarchive.net/nbia-api/services/v2/getImage?NewFileNames=Yes&SeriesInstanceUID=1.2.276.0.7230010.3.1.3.2323910823.17768.1597261284.466\n",
      "2025-05-23 09:57:48,369:INFO:Downloading... https://services.cancerimagingarchive.net/nbia-api/services/v2/getImage?NewFileNames=Yes&SeriesInstanceUID=1.2.276.0.7230010.3.1.3.2323910823.15980.1597261234.658\n",
      "2025-05-23 09:57:49,532:INFO:Downloading... https://services.cancerimagingarchive.net/nbia-api/services/v2/getImage?NewFileNames=Yes&SeriesInstanceUID=1.2.276.0.7230010.3.1.3.2323910823.12196.1597259389.145\n",
      "2025-05-23 09:57:50,628:INFO:Downloading... https://services.cancerimagingarchive.net/nbia-api/services/v2/getImage?NewFileNames=Yes&SeriesInstanceUID=1.2.276.0.7230010.3.1.3.2323910823.6976.1597259484.719\n",
      "2025-05-23 09:57:51,712:INFO:Downloading... https://services.cancerimagingarchive.net/nbia-api/services/v2/getImage?NewFileNames=Yes&SeriesInstanceUID=1.2.276.0.7230010.3.1.3.2323910823.17256.1597259363.510\n",
      "2025-05-23 09:57:52,857:INFO:Downloading... https://services.cancerimagingarchive.net/nbia-api/services/v2/getImage?NewFileNames=Yes&SeriesInstanceUID=1.2.276.0.7230010.3.1.3.2323910823.21980.1597261226.117\n",
      "2025-05-23 09:57:54,010:INFO:Downloading... https://services.cancerimagingarchive.net/nbia-api/services/v2/getImage?NewFileNames=Yes&SeriesInstanceUID=1.2.276.0.7230010.3.1.3.2323910823.9504.1597259378.185\n",
      "2025-05-23 09:57:55,625:INFO:Downloading... https://services.cancerimagingarchive.net/nbia-api/services/v2/getImage?NewFileNames=Yes&SeriesInstanceUID=1.2.276.0.7230010.3.1.3.2323910823.25312.1597259471.482\n",
      "2025-05-23 09:57:56,428:INFO:Downloading... https://services.cancerimagingarchive.net/nbia-api/services/v2/getImage?NewFileNames=Yes&SeriesInstanceUID=1.2.276.0.7230010.3.1.3.2323910823.9180.1597259494.658\n",
      "2025-05-23 09:57:57,327:INFO:Downloading... https://services.cancerimagingarchive.net/nbia-api/services/v2/getImage?NewFileNames=Yes&SeriesInstanceUID=1.2.276.0.7230010.3.1.3.2323910823.15884.1597259478.101\n",
      "2025-05-23 09:57:58,534:INFO:Downloading... https://services.cancerimagingarchive.net/nbia-api/services/v2/getImage?NewFileNames=Yes&SeriesInstanceUID=1.2.276.0.7230010.3.1.3.2323910823.17820.1597259355.782\n",
      "2025-05-23 09:57:59,781:INFO:Downloading... https://services.cancerimagingarchive.net/nbia-api/services/v2/getImage?NewFileNames=Yes&SeriesInstanceUID=1.2.276.0.7230010.3.1.3.2323910823.16980.1597259500.465\n",
      "2025-05-23 09:58:00,850:INFO:Downloading... https://services.cancerimagingarchive.net/nbia-api/services/v2/getImage?NewFileNames=Yes&SeriesInstanceUID=1.2.276.0.7230010.3.1.3.2323910823.25308.1597259413.448\n",
      "2025-05-23 09:58:02,113:INFO:Downloading... https://services.cancerimagingarchive.net/nbia-api/services/v2/getImage?NewFileNames=Yes&SeriesInstanceUID=1.2.276.0.7230010.3.1.3.2323910823.20520.1597259551.939\n",
      "2025-05-23 09:58:03,618:INFO:Downloading... https://services.cancerimagingarchive.net/nbia-api/services/v2/getImage?NewFileNames=Yes&SeriesInstanceUID=1.2.276.0.7230010.3.1.3.2323910823.15032.1597259458.407\n",
      "2025-05-23 09:58:04,757:INFO:Downloading... https://services.cancerimagingarchive.net/nbia-api/services/v2/getImage?NewFileNames=Yes&SeriesInstanceUID=1.2.276.0.7230010.3.1.3.2323910823.21164.1597259535.616\n",
      "2025-05-23 09:58:05,821:INFO:Downloading... https://services.cancerimagingarchive.net/nbia-api/services/v2/getImage?NewFileNames=Yes&SeriesInstanceUID=1.2.276.0.7230010.3.1.3.2323910823.21036.1597259348.769\n",
      "2025-05-23 09:58:06,838:INFO:Downloading... https://services.cancerimagingarchive.net/nbia-api/services/v2/getImage?NewFileNames=Yes&SeriesInstanceUID=1.2.276.0.7230010.3.1.3.2323910823.23176.1597259567.693\n",
      "2025-05-23 09:58:08,538:INFO:Downloading... https://services.cancerimagingarchive.net/nbia-api/services/v2/getImage?NewFileNames=Yes&SeriesInstanceUID=1.2.276.0.7230010.3.1.3.2323910823.9316.1597259466.812\n",
      "2025-05-23 09:58:09,681:INFO:Downloading... https://services.cancerimagingarchive.net/nbia-api/services/v2/getImage?NewFileNames=Yes&SeriesInstanceUID=1.2.276.0.7230010.3.1.3.2323910823.792.1597259573.496\n",
      "2025-05-23 09:58:10,787:INFO:Downloading... https://services.cancerimagingarchive.net/nbia-api/services/v2/getImage?NewFileNames=Yes&SeriesInstanceUID=1.2.276.0.7230010.3.1.3.2323910823.21760.1597259489.643\n",
      "2025-05-23 09:58:12,091:INFO:Downloading... https://services.cancerimagingarchive.net/nbia-api/services/v2/getImage?NewFileNames=Yes&SeriesInstanceUID=1.2.276.0.7230010.3.1.3.2323910823.17340.1597259622.353\n",
      "2025-05-23 09:58:13,070:INFO:Downloading... https://services.cancerimagingarchive.net/nbia-api/services/v2/getImage?NewFileNames=Yes&SeriesInstanceUID=1.2.276.0.7230010.3.1.3.2323910823.7408.1597259542.963\n",
      "2025-05-23 09:58:14,214:INFO:Downloading... https://services.cancerimagingarchive.net/nbia-api/services/v2/getImage?NewFileNames=Yes&SeriesInstanceUID=1.2.276.0.7230010.3.1.3.2323910823.19432.1597259449.889\n",
      "2025-05-23 09:58:16,197:INFO:Downloading... https://services.cancerimagingarchive.net/nbia-api/services/v2/getImage?NewFileNames=Yes&SeriesInstanceUID=1.2.276.0.7230010.3.1.3.2323910823.16264.1597259607.747\n",
      "2025-05-23 09:58:17,395:INFO:Downloading... https://services.cancerimagingarchive.net/nbia-api/services/v2/getImage?NewFileNames=Yes&SeriesInstanceUID=1.2.276.0.7230010.3.1.3.2323910823.18660.1597259519.710\n",
      "2025-05-23 09:58:18,487:INFO:Downloading... https://services.cancerimagingarchive.net/nbia-api/services/v2/getImage?NewFileNames=Yes&SeriesInstanceUID=1.2.276.0.7230010.3.1.3.2323910823.18072.1597259633.874\n",
      "2025-05-23 09:58:19,544:INFO:Downloading... https://services.cancerimagingarchive.net/nbia-api/services/v2/getImage?NewFileNames=Yes&SeriesInstanceUID=1.2.276.0.7230010.3.1.3.2323910823.25164.1597259639.590\n",
      "2025-05-23 09:58:21,130:INFO:Downloading... https://services.cancerimagingarchive.net/nbia-api/services/v2/getImage?NewFileNames=Yes&SeriesInstanceUID=1.2.276.0.7230010.3.1.3.2323910823.25464.1597259689.118\n",
      "2025-05-23 09:58:22,295:INFO:Downloading... https://services.cancerimagingarchive.net/nbia-api/services/v2/getImage?NewFileNames=Yes&SeriesInstanceUID=1.2.276.0.7230010.3.1.3.2323910823.6096.1597259674.893\n",
      "2025-05-23 09:58:23,923:INFO:Downloading... https://services.cancerimagingarchive.net/nbia-api/services/v2/getImage?NewFileNames=Yes&SeriesInstanceUID=1.2.276.0.7230010.3.1.3.2323910823.25312.1597259560.805\n",
      "2025-05-23 09:58:25,482:INFO:Downloading... https://services.cancerimagingarchive.net/nbia-api/services/v2/getImage?NewFileNames=Yes&SeriesInstanceUID=1.2.276.0.7230010.3.1.3.2323910823.11860.1597259528.443\n",
      "2025-05-23 09:58:26,679:INFO:Downloading... https://services.cancerimagingarchive.net/nbia-api/services/v2/getImage?NewFileNames=Yes&SeriesInstanceUID=1.2.276.0.7230010.3.1.3.2323910823.23960.1597259440.66\n",
      "2025-05-23 09:58:28,368:INFO:Downloading... https://services.cancerimagingarchive.net/nbia-api/services/v2/getImage?NewFileNames=Yes&SeriesInstanceUID=1.2.276.0.7230010.3.1.3.2323910823.23220.1597259594.731\n",
      "2025-05-23 09:58:29,652:INFO:Downloading... https://services.cancerimagingarchive.net/nbia-api/services/v2/getImage?NewFileNames=Yes&SeriesInstanceUID=1.2.276.0.7230010.3.1.3.2323910823.20032.1597259512.885\n",
      "2025-05-23 09:58:30,702:INFO:Downloading... https://services.cancerimagingarchive.net/nbia-api/services/v2/getImage?NewFileNames=Yes&SeriesInstanceUID=1.2.276.0.7230010.3.1.3.2323910823.4436.1597259703.503\n",
      "2025-05-23 09:58:32,423:INFO:Downloading... https://services.cancerimagingarchive.net/nbia-api/services/v2/getImage?NewFileNames=Yes&SeriesInstanceUID=1.2.276.0.7230010.3.1.3.2323910823.16608.1597259615.605\n",
      "2025-05-23 09:58:34,297:INFO:Downloading... https://services.cancerimagingarchive.net/nbia-api/services/v2/getImage?NewFileNames=Yes&SeriesInstanceUID=1.2.276.0.7230010.3.1.3.2323910823.19220.1597259795.66\n",
      "2025-05-23 09:58:35,383:INFO:Downloading... https://services.cancerimagingarchive.net/nbia-api/services/v2/getImage?NewFileNames=Yes&SeriesInstanceUID=1.2.276.0.7230010.3.1.3.2323910823.2876.1597259507.333\n",
      "2025-05-23 09:58:36,237:INFO:Downloading... https://services.cancerimagingarchive.net/nbia-api/services/v2/getImage?NewFileNames=Yes&SeriesInstanceUID=1.2.276.0.7230010.3.1.3.2323910823.22272.1597259628.39\n",
      "2025-05-23 09:58:37,371:INFO:Downloading... https://services.cancerimagingarchive.net/nbia-api/services/v2/getImage?NewFileNames=Yes&SeriesInstanceUID=1.2.276.0.7230010.3.1.3.2323910823.8412.1597259714.165\n",
      "2025-05-23 09:58:38,478:INFO:Downloading... https://services.cancerimagingarchive.net/nbia-api/services/v2/getImage?NewFileNames=Yes&SeriesInstanceUID=1.2.276.0.7230010.3.1.3.2323910823.22156.1597259681.329\n",
      "2025-05-23 09:58:39,583:INFO:Downloading... https://services.cancerimagingarchive.net/nbia-api/services/v2/getImage?NewFileNames=Yes&SeriesInstanceUID=1.2.276.0.7230010.3.1.3.2323910823.20560.1597259601.104\n",
      "2025-05-23 09:58:40,671:INFO:Downloading... https://services.cancerimagingarchive.net/nbia-api/services/v2/getImage?NewFileNames=Yes&SeriesInstanceUID=1.2.276.0.7230010.3.1.3.2323910823.23176.1597259777.810\n",
      "2025-05-23 09:58:41,732:INFO:Downloading... https://services.cancerimagingarchive.net/nbia-api/services/v2/getImage?NewFileNames=Yes&SeriesInstanceUID=1.2.276.0.7230010.3.1.3.2323910823.20920.1597259588.137\n",
      "2025-05-23 09:58:42,837:INFO:Downloading... https://services.cancerimagingarchive.net/nbia-api/services/v2/getImage?NewFileNames=Yes&SeriesInstanceUID=1.2.276.0.7230010.3.1.3.2323910823.4696.1597259660.927\n",
      "2025-05-23 09:58:43,965:INFO:Downloading... https://services.cancerimagingarchive.net/nbia-api/services/v2/getImage?NewFileNames=Yes&SeriesInstanceUID=1.2.276.0.7230010.3.1.3.2323910823.23292.1597259814.444\n",
      "2025-05-23 09:58:45,055:INFO:Downloading... https://services.cancerimagingarchive.net/nbia-api/services/v2/getImage?NewFileNames=Yes&SeriesInstanceUID=1.2.276.0.7230010.3.1.3.2323910823.22124.1597259694.845\n",
      "2025-05-23 09:58:45,833:INFO:Downloading... https://services.cancerimagingarchive.net/nbia-api/services/v2/getImage?NewFileNames=Yes&SeriesInstanceUID=1.2.276.0.7230010.3.1.3.2323910823.2772.1597259786.661\n",
      "2025-05-23 09:58:46,947:INFO:Downloading... https://services.cancerimagingarchive.net/nbia-api/services/v2/getImage?NewFileNames=Yes&SeriesInstanceUID=1.2.276.0.7230010.3.1.3.2323910823.12536.1597259667.361\n",
      "2025-05-23 09:58:48,012:INFO:Downloading... https://services.cancerimagingarchive.net/nbia-api/services/v2/getImage?NewFileNames=Yes&SeriesInstanceUID=1.2.276.0.7230010.3.1.3.2323910823.21544.1597259825.589\n",
      "2025-05-23 09:58:49,061:INFO:Downloading... https://services.cancerimagingarchive.net/nbia-api/services/v2/getImage?NewFileNames=Yes&SeriesInstanceUID=1.2.276.0.7230010.3.1.3.2323910823.23444.1597259580.56\n",
      "2025-05-23 09:58:50,182:INFO:Downloading... https://services.cancerimagingarchive.net/nbia-api/services/v2/getImage?NewFileNames=Yes&SeriesInstanceUID=1.2.276.0.7230010.3.1.3.2323910823.19884.1597259903.946\n",
      "2025-05-23 09:58:51,566:INFO:Downloading... https://services.cancerimagingarchive.net/nbia-api/services/v2/getImage?NewFileNames=Yes&SeriesInstanceUID=1.2.276.0.7230010.3.1.3.2323910823.23048.1597259883.158\n",
      "2025-05-23 09:58:52,657:INFO:Downloading... https://services.cancerimagingarchive.net/nbia-api/services/v2/getImage?NewFileNames=Yes&SeriesInstanceUID=1.2.276.0.7230010.3.1.3.2323910823.3968.1597259920.978\n",
      "2025-05-23 09:58:53,793:INFO:Downloading... https://services.cancerimagingarchive.net/nbia-api/services/v2/getImage?NewFileNames=Yes&SeriesInstanceUID=1.2.276.0.7230010.3.1.3.2323910823.22300.1597259748.517\n",
      "2025-05-23 09:58:55,291:INFO:Downloading... https://services.cancerimagingarchive.net/nbia-api/services/v2/getImage?NewFileNames=Yes&SeriesInstanceUID=1.2.276.0.7230010.3.1.3.2323910823.21548.1597259802.588\n",
      "2025-05-23 09:58:57,060:INFO:Downloading... https://services.cancerimagingarchive.net/nbia-api/services/v2/getImage?NewFileNames=Yes&SeriesInstanceUID=1.2.276.0.7230010.3.1.3.2323910823.22240.1597259653.167\n",
      "2025-05-23 09:58:58,266:INFO:Downloading... https://services.cancerimagingarchive.net/nbia-api/services/v2/getImage?NewFileNames=Yes&SeriesInstanceUID=1.2.276.0.7230010.3.1.3.2323910823.15524.1597259645.741\n",
      "2025-05-23 09:58:59,376:INFO:Downloading... https://services.cancerimagingarchive.net/nbia-api/services/v2/getImage?NewFileNames=Yes&SeriesInstanceUID=1.2.276.0.7230010.3.1.3.2323910823.1956.1597259929.328\n",
      "2025-05-23 09:59:00,761:INFO:Downloading... https://services.cancerimagingarchive.net/nbia-api/services/v2/getImage?NewFileNames=Yes&SeriesInstanceUID=1.2.276.0.7230010.3.1.3.2323910823.11960.1597259765.23\n",
      "2025-05-23 09:59:01,875:INFO:Downloading... https://services.cancerimagingarchive.net/nbia-api/services/v2/getImage?NewFileNames=Yes&SeriesInstanceUID=1.2.276.0.7230010.3.1.3.2323910823.15524.1597259893.936\n",
      "2025-05-23 09:59:03,006:INFO:Downloading... https://services.cancerimagingarchive.net/nbia-api/services/v2/getImage?NewFileNames=Yes&SeriesInstanceUID=1.2.276.0.7230010.3.1.3.2323910823.5888.1597259976.264\n",
      "2025-05-23 09:59:04,074:INFO:Downloading... https://services.cancerimagingarchive.net/nbia-api/services/v2/getImage?NewFileNames=Yes&SeriesInstanceUID=1.2.276.0.7230010.3.1.3.2323910823.20380.1597259963.116\n",
      "2025-05-23 09:59:05,097:INFO:Downloading... https://services.cancerimagingarchive.net/nbia-api/services/v2/getImage?NewFileNames=Yes&SeriesInstanceUID=1.2.276.0.7230010.3.1.3.2323910823.20828.1597259912.865\n",
      "2025-05-23 09:59:06,370:INFO:Downloading... https://services.cancerimagingarchive.net/nbia-api/services/v2/getImage?NewFileNames=Yes&SeriesInstanceUID=1.2.276.0.7230010.3.1.3.2323910823.24588.1597259969.599\n",
      "2025-05-23 09:59:07,969:INFO:Downloading... https://services.cancerimagingarchive.net/nbia-api/services/v2/getImage?NewFileNames=Yes&SeriesInstanceUID=1.2.276.0.7230010.3.1.3.2323910823.8528.1597259736.700\n",
      "2025-05-23 09:59:09,054:INFO:Downloading... https://services.cancerimagingarchive.net/nbia-api/services/v2/getImage?NewFileNames=Yes&SeriesInstanceUID=1.2.276.0.7230010.3.1.3.2323910823.12008.1597259861.47\n",
      "2025-05-23 09:59:10,262:INFO:Downloading... https://services.cancerimagingarchive.net/nbia-api/services/v2/getImage?NewFileNames=Yes&SeriesInstanceUID=1.2.276.0.7230010.3.1.3.2323910823.9892.1597259991.956\n",
      "2025-05-23 09:59:11,366:INFO:Downloading... https://services.cancerimagingarchive.net/nbia-api/services/v2/getImage?NewFileNames=Yes&SeriesInstanceUID=1.2.276.0.7230010.3.1.3.2323910823.5220.1597259725.541\n",
      "2025-05-23 09:59:13,367:INFO:Downloading... https://services.cancerimagingarchive.net/nbia-api/services/v2/getImage?NewFileNames=Yes&SeriesInstanceUID=1.2.276.0.7230010.3.1.3.2323910823.15524.1597260001.34\n",
      "2025-05-23 09:59:14,526:INFO:Downloading... https://services.cancerimagingarchive.net/nbia-api/services/v2/getImage?NewFileNames=Yes&SeriesInstanceUID=1.2.276.0.7230010.3.1.3.2323910823.22228.1597260052.934\n",
      "2025-05-23 09:59:15,754:INFO:Downloading... https://services.cancerimagingarchive.net/nbia-api/services/v2/getImage?NewFileNames=Yes&SeriesInstanceUID=1.2.276.0.7230010.3.1.3.2323910823.17660.1597259872.898\n",
      "2025-05-23 09:59:17,402:INFO:Downloading... https://services.cancerimagingarchive.net/nbia-api/services/v2/getImage?NewFileNames=Yes&SeriesInstanceUID=1.2.276.0.7230010.3.1.3.2323910823.7812.1597259950.739\n",
      "2025-05-23 09:59:18,798:INFO:Downloading... https://services.cancerimagingarchive.net/nbia-api/services/v2/getImage?NewFileNames=Yes&SeriesInstanceUID=1.2.276.0.7230010.3.1.3.2323910823.22112.1597260041.430\n",
      "2025-05-23 09:59:19,898:INFO:Downloading... https://services.cancerimagingarchive.net/nbia-api/services/v2/getImage?NewFileNames=Yes&SeriesInstanceUID=1.2.276.0.7230010.3.1.3.2323910823.11800.1597259983.981\n",
      "2025-05-23 09:59:21,660:INFO:Downloading... https://services.cancerimagingarchive.net/nbia-api/services/v2/getImage?NewFileNames=Yes&SeriesInstanceUID=1.2.276.0.7230010.3.1.3.2323910823.2020.1597260047.292\n",
      "2025-05-23 09:59:22,856:INFO:Downloading... https://services.cancerimagingarchive.net/nbia-api/services/v2/getImage?NewFileNames=Yes&SeriesInstanceUID=1.2.276.0.7230010.3.1.3.2323910823.21324.1597259846.837\n",
      "2025-05-23 09:59:23,963:INFO:Downloading... https://services.cancerimagingarchive.net/nbia-api/services/v2/getImage?NewFileNames=Yes&SeriesInstanceUID=1.2.276.0.7230010.3.1.3.2323910823.17780.1597259837.175\n",
      "2025-05-23 09:59:25,111:INFO:Downloading... https://services.cancerimagingarchive.net/nbia-api/services/v2/getImage?NewFileNames=Yes&SeriesInstanceUID=1.2.276.0.7230010.3.1.3.2323910823.24600.1597260066.788\n",
      "2025-05-23 09:59:26,373:INFO:Downloading... https://services.cancerimagingarchive.net/nbia-api/services/v2/getImage?NewFileNames=Yes&SeriesInstanceUID=1.2.276.0.7230010.3.1.3.2323910823.12236.1597260074.85\n",
      "2025-05-23 09:59:27,469:INFO:Downloading... https://services.cancerimagingarchive.net/nbia-api/services/v2/getImage?NewFileNames=Yes&SeriesInstanceUID=1.2.276.0.7230010.3.1.3.2323910823.24368.1597260123.251\n",
      "2025-05-23 09:59:28,646:INFO:Downloading... https://services.cancerimagingarchive.net/nbia-api/services/v2/getImage?NewFileNames=Yes&SeriesInstanceUID=1.2.276.0.7230010.3.1.3.2323910823.22808.1597260060.644\n",
      "2025-05-23 09:59:29,681:INFO:Downloading... https://services.cancerimagingarchive.net/nbia-api/services/v2/getImage?NewFileNames=Yes&SeriesInstanceUID=1.2.276.0.7230010.3.1.3.2323910823.18944.1597259956.847\n",
      "2025-05-23 09:59:30,905:INFO:Downloading... https://services.cancerimagingarchive.net/nbia-api/services/v2/getImage?NewFileNames=Yes&SeriesInstanceUID=1.2.276.0.7230010.3.1.3.2323910823.25112.1597260107.787\n",
      "2025-05-23 09:59:31,980:INFO:Downloading... https://services.cancerimagingarchive.net/nbia-api/services/v2/getImage?NewFileNames=Yes&SeriesInstanceUID=1.2.276.0.7230010.3.1.3.2323910823.14796.1597259937.609\n",
      "2025-05-23 09:59:33,121:INFO:Downloading... https://services.cancerimagingarchive.net/nbia-api/services/v2/getImage?NewFileNames=Yes&SeriesInstanceUID=1.2.276.0.7230010.3.1.3.2323910823.17648.1597260025.256\n",
      "2025-05-23 09:59:34,399:INFO:Downloading... https://services.cancerimagingarchive.net/nbia-api/services/v2/getImage?NewFileNames=Yes&SeriesInstanceUID=1.2.276.0.7230010.3.1.3.2323910823.25020.1597259944.759\n",
      "2025-05-23 09:59:35,549:INFO:Downloading... https://services.cancerimagingarchive.net/nbia-api/services/v2/getImage?NewFileNames=Yes&SeriesInstanceUID=1.2.276.0.7230010.3.1.3.2323910823.4884.1597260114.982\n",
      "2025-05-23 09:59:36,658:INFO:Downloading... https://services.cancerimagingarchive.net/nbia-api/services/v2/getImage?NewFileNames=Yes&SeriesInstanceUID=1.2.276.0.7230010.3.1.3.2323910823.2828.1597260137.404\n",
      "2025-05-23 09:59:37,771:INFO:Downloading... https://services.cancerimagingarchive.net/nbia-api/services/v2/getImage?NewFileNames=Yes&SeriesInstanceUID=1.2.276.0.7230010.3.1.3.2323910823.1592.1597258599.950\n",
      "2025-05-23 09:59:38,936:INFO:Downloading... https://services.cancerimagingarchive.net/nbia-api/services/v2/getImage?NewFileNames=Yes&SeriesInstanceUID=1.2.276.0.7230010.3.1.3.2323910823.10724.1597258611.781\n",
      "2025-05-23 09:59:39,708:INFO:Downloading... https://services.cancerimagingarchive.net/nbia-api/services/v2/getImage?NewFileNames=Yes&SeriesInstanceUID=1.2.276.0.7230010.3.1.3.2323910823.5104.1597258544.250\n",
      "2025-05-23 09:59:40,796:INFO:Downloading... https://services.cancerimagingarchive.net/nbia-api/services/v2/getImage?NewFileNames=Yes&SeriesInstanceUID=1.2.276.0.7230010.3.1.3.2323910823.24612.1597260130.724\n",
      "2025-05-23 09:59:42,319:INFO:Downloading... https://services.cancerimagingarchive.net/nbia-api/services/v2/getImage?NewFileNames=Yes&SeriesInstanceUID=1.2.276.0.7230010.3.1.3.2323910823.24976.1597260033.469\n",
      "2025-05-23 09:59:43,566:INFO:Downloading... https://services.cancerimagingarchive.net/nbia-api/services/v2/getImage?NewFileNames=Yes&SeriesInstanceUID=1.2.276.0.7230010.3.1.3.2323910823.5016.1597260018.45\n",
      "2025-05-23 09:59:44,698:INFO:Downloading... https://services.cancerimagingarchive.net/nbia-api/services/v2/getImage?NewFileNames=Yes&SeriesInstanceUID=1.2.276.0.7230010.3.1.3.2323910823.23020.1597258584.743\n",
      "2025-05-23 09:59:45,836:INFO:Downloading... https://services.cancerimagingarchive.net/nbia-api/services/v2/getImage?NewFileNames=Yes&SeriesInstanceUID=1.2.276.0.7230010.3.1.3.2323910823.25492.1597258592.177\n",
      "2025-05-23 09:59:46,879:INFO:Downloading... https://services.cancerimagingarchive.net/nbia-api/services/v2/getImage?NewFileNames=Yes&SeriesInstanceUID=1.2.276.0.7230010.3.1.3.2323910823.25268.1597260096.416\n",
      "2025-05-23 09:59:48,017:INFO:Downloading... https://services.cancerimagingarchive.net/nbia-api/services/v2/getImage?NewFileNames=Yes&SeriesInstanceUID=1.2.276.0.7230010.3.1.3.2323910823.16932.1597260009.374\n",
      "2025-05-23 09:59:49,089:INFO:Downloading... https://services.cancerimagingarchive.net/nbia-api/services/v2/getImage?NewFileNames=Yes&SeriesInstanceUID=1.2.276.0.7230010.3.1.3.2323910823.20760.1597260102.419\n",
      "2025-05-23 09:59:51,468:INFO:Downloading... https://services.cancerimagingarchive.net/nbia-api/services/v2/getImage?NewFileNames=Yes&SeriesInstanceUID=1.2.276.0.7230010.3.1.3.2323910823.12848.1597258672.156\n",
      "2025-05-23 09:59:52,645:INFO:Downloading... https://services.cancerimagingarchive.net/nbia-api/services/v2/getImage?NewFileNames=Yes&SeriesInstanceUID=1.2.276.0.7230010.3.1.3.2323910823.17428.1597258662.107\n",
      "2025-05-23 09:59:53,706:INFO:Downloading... https://services.cancerimagingarchive.net/nbia-api/services/v2/getImage?NewFileNames=Yes&SeriesInstanceUID=1.2.276.0.7230010.3.1.3.2323910823.22212.1597258607.335\n",
      "2025-05-23 09:59:54,812:INFO:Downloading... https://services.cancerimagingarchive.net/nbia-api/services/v2/getImage?NewFileNames=Yes&SeriesInstanceUID=1.2.276.0.7230010.3.1.3.2323910823.19760.1597258617.886\n",
      "2025-05-23 09:59:55,901:INFO:Downloading... https://services.cancerimagingarchive.net/nbia-api/services/v2/getImage?NewFileNames=Yes&SeriesInstanceUID=1.2.276.0.7230010.3.1.3.2323910823.20908.1597260089.507\n",
      "2025-05-23 09:59:57,011:INFO:Downloading... https://services.cancerimagingarchive.net/nbia-api/services/v2/getImage?NewFileNames=Yes&SeriesInstanceUID=1.2.276.0.7230010.3.1.3.2323910823.15620.1597258649.901\n",
      "2025-05-23 09:59:58,127:INFO:Downloading... https://services.cancerimagingarchive.net/nbia-api/services/v2/getImage?NewFileNames=Yes&SeriesInstanceUID=1.2.276.0.7230010.3.1.3.2323910823.25412.1597258656.343\n",
      "2025-05-23 09:59:59,198:INFO:Downloading... https://services.cancerimagingarchive.net/nbia-api/services/v2/getImage?NewFileNames=Yes&SeriesInstanceUID=1.2.276.0.7230010.3.1.3.2323910823.18136.1597258568.75\n",
      "2025-05-23 10:00:00,299:INFO:Downloading... https://services.cancerimagingarchive.net/nbia-api/services/v2/getImage?NewFileNames=Yes&SeriesInstanceUID=1.2.276.0.7230010.3.1.3.2323910823.22756.1597258666.889\n",
      "2025-05-23 10:00:01,218:INFO:Downloading... https://services.cancerimagingarchive.net/nbia-api/services/v2/getImage?NewFileNames=Yes&SeriesInstanceUID=1.2.276.0.7230010.3.1.3.2323910823.22068.1597258724.791\n",
      "2025-05-23 10:00:02,244:INFO:Downloading... https://services.cancerimagingarchive.net/nbia-api/services/v2/getImage?NewFileNames=Yes&SeriesInstanceUID=1.2.276.0.7230010.3.1.3.2323910823.2964.1597258736.31\n",
      "2025-05-23 10:00:03,350:INFO:Downloading... https://services.cancerimagingarchive.net/nbia-api/services/v2/getImage?NewFileNames=Yes&SeriesInstanceUID=1.2.276.0.7230010.3.1.3.2323910823.18380.1597258575.835\n",
      "2025-05-23 10:00:04,417:INFO:Downloading... https://services.cancerimagingarchive.net/nbia-api/services/v2/getImage?NewFileNames=Yes&SeriesInstanceUID=1.2.276.0.7230010.3.1.3.2323910823.4500.1597258678.178\n",
      "2025-05-23 10:00:05,568:INFO:Downloading... https://services.cancerimagingarchive.net/nbia-api/services/v2/getImage?NewFileNames=Yes&SeriesInstanceUID=1.2.276.0.7230010.3.1.3.2323910823.23340.1597258560.864\n",
      "2025-05-23 10:00:06,724:INFO:Downloading... https://services.cancerimagingarchive.net/nbia-api/services/v2/getImage?NewFileNames=Yes&SeriesInstanceUID=1.2.276.0.7230010.3.1.3.2323910823.20348.1597258712.72\n",
      "2025-05-23 10:00:07,962:INFO:Downloading... https://services.cancerimagingarchive.net/nbia-api/services/v2/getImage?NewFileNames=Yes&SeriesInstanceUID=1.2.276.0.7230010.3.1.3.2323910823.15024.1597260082.194\n",
      "2025-05-23 10:00:09,248:INFO:Downloading... https://services.cancerimagingarchive.net/nbia-api/services/v2/getImage?NewFileNames=Yes&SeriesInstanceUID=1.2.276.0.7230010.3.1.3.2323910823.8412.1597258718.998\n",
      "2025-05-23 10:00:10,773:INFO:Downloading... https://services.cancerimagingarchive.net/nbia-api/services/v2/getImage?NewFileNames=Yes&SeriesInstanceUID=1.2.276.0.7230010.3.1.3.2323910823.21052.1597258730.420\n",
      "2025-05-23 10:00:11,834:INFO:Downloading... https://services.cancerimagingarchive.net/nbia-api/services/v2/getImage?NewFileNames=Yes&SeriesInstanceUID=1.2.276.0.7230010.3.1.3.2323910823.22072.1597258636.134\n",
      "2025-05-23 10:00:13,241:INFO:Downloading... https://services.cancerimagingarchive.net/nbia-api/services/v2/getImage?NewFileNames=Yes&SeriesInstanceUID=1.2.276.0.7230010.3.1.3.2323910823.24496.1597258641.860\n",
      "2025-05-23 10:00:14,723:INFO:Downloading... https://services.cancerimagingarchive.net/nbia-api/services/v2/getImage?NewFileNames=Yes&SeriesInstanceUID=1.2.276.0.7230010.3.1.3.2323910823.19516.1597258792.989\n",
      "2025-05-23 10:00:16,369:INFO:Downloading... https://services.cancerimagingarchive.net/nbia-api/services/v2/getImage?NewFileNames=Yes&SeriesInstanceUID=1.2.276.0.7230010.3.1.3.2323910823.9316.1597258779.765\n",
      "2025-05-23 10:00:17,415:INFO:Downloading... https://services.cancerimagingarchive.net/nbia-api/services/v2/getImage?NewFileNames=Yes&SeriesInstanceUID=1.2.276.0.7230010.3.1.3.2323910823.22184.1597258630.111\n",
      "2025-05-23 10:00:18,607:INFO:Downloading... https://services.cancerimagingarchive.net/nbia-api/services/v2/getImage?NewFileNames=Yes&SeriesInstanceUID=1.2.276.0.7230010.3.1.3.2323910823.23284.1597258743.358\n",
      "2025-05-23 10:00:19,755:INFO:Downloading... https://services.cancerimagingarchive.net/nbia-api/services/v2/getImage?NewFileNames=Yes&SeriesInstanceUID=1.2.276.0.7230010.3.1.3.2323910823.23564.1597258808.674\n",
      "2025-05-23 10:00:20,860:INFO:Downloading... https://services.cancerimagingarchive.net/nbia-api/services/v2/getImage?NewFileNames=Yes&SeriesInstanceUID=1.2.276.0.7230010.3.1.3.2323910823.16040.1597258786.448\n",
      "2025-05-23 10:00:22,204:INFO:Downloading... https://services.cancerimagingarchive.net/nbia-api/services/v2/getImage?NewFileNames=Yes&SeriesInstanceUID=1.2.276.0.7230010.3.1.3.2323910823.22824.1597258698.709\n",
      "2025-05-23 10:00:23,479:INFO:Downloading... https://services.cancerimagingarchive.net/nbia-api/services/v2/getImage?NewFileNames=Yes&SeriesInstanceUID=1.2.276.0.7230010.3.1.3.2323910823.18132.1597258553.248\n",
      "2025-05-23 10:00:24,568:INFO:Downloading... https://services.cancerimagingarchive.net/nbia-api/services/v2/getImage?NewFileNames=Yes&SeriesInstanceUID=1.2.276.0.7230010.3.1.3.2323910823.20896.1597258853.286\n",
      "2025-05-23 10:00:25,639:INFO:Downloading... https://services.cancerimagingarchive.net/nbia-api/services/v2/getImage?NewFileNames=Yes&SeriesInstanceUID=1.2.276.0.7230010.3.1.3.2323910823.21176.1597258692.25\n",
      "2025-05-23 10:00:26,829:INFO:Downloading... https://services.cancerimagingarchive.net/nbia-api/services/v2/getImage?NewFileNames=Yes&SeriesInstanceUID=1.2.276.0.7230010.3.1.3.2323910823.25492.1597258861.290\n",
      "2025-05-23 10:00:28,003:INFO:Downloading... https://services.cancerimagingarchive.net/nbia-api/services/v2/getImage?NewFileNames=Yes&SeriesInstanceUID=1.2.276.0.7230010.3.1.3.2323910823.16924.1597258705.686\n",
      "2025-05-23 10:00:29,128:INFO:Downloading... https://services.cancerimagingarchive.net/nbia-api/services/v2/getImage?NewFileNames=Yes&SeriesInstanceUID=1.2.276.0.7230010.3.1.3.2323910823.12236.1597258800.413\n",
      "2025-05-23 10:00:30,506:INFO:Downloading... https://services.cancerimagingarchive.net/nbia-api/services/v2/getImage?NewFileNames=Yes&SeriesInstanceUID=1.2.276.0.7230010.3.1.3.2323910823.1272.1597258883.839\n",
      "2025-05-23 10:00:31,665:INFO:Downloading... https://services.cancerimagingarchive.net/nbia-api/services/v2/getImage?NewFileNames=Yes&SeriesInstanceUID=1.2.276.0.7230010.3.1.3.2323910823.6720.1597258816.589\n",
      "2025-05-23 10:00:33,018:INFO:Downloading... https://services.cancerimagingarchive.net/nbia-api/services/v2/getImage?NewFileNames=Yes&SeriesInstanceUID=1.2.276.0.7230010.3.1.3.2323910823.15796.1597258869.746\n",
      "2025-05-23 10:00:34,206:INFO:Downloading... https://services.cancerimagingarchive.net/nbia-api/services/v2/getImage?NewFileNames=Yes&SeriesInstanceUID=1.2.276.0.7230010.3.1.3.2323910823.25212.1597258765.714\n",
      "2025-05-23 10:00:35,387:INFO:Downloading... https://services.cancerimagingarchive.net/nbia-api/services/v2/getImage?NewFileNames=Yes&SeriesInstanceUID=1.2.276.0.7230010.3.1.3.2323910823.23048.1597258624.73\n",
      "2025-05-23 10:00:36,601:INFO:Downloading... https://services.cancerimagingarchive.net/nbia-api/services/v2/getImage?NewFileNames=Yes&SeriesInstanceUID=1.2.276.0.7230010.3.1.3.2323910823.20520.1597258876.493\n",
      "2025-05-23 10:00:37,849:INFO:Downloading... https://services.cancerimagingarchive.net/nbia-api/services/v2/getImage?NewFileNames=Yes&SeriesInstanceUID=1.2.276.0.7230010.3.1.3.2323910823.20264.1597258891.428\n",
      "2025-05-23 10:00:39,597:INFO:Downloading... https://services.cancerimagingarchive.net/nbia-api/services/v2/getImage?NewFileNames=Yes&SeriesInstanceUID=1.2.276.0.7230010.3.1.3.2323910823.23608.1597258772.968\n",
      "2025-05-23 10:00:40,744:INFO:Downloading... https://services.cancerimagingarchive.net/nbia-api/services/v2/getImage?NewFileNames=Yes&SeriesInstanceUID=1.2.276.0.7230010.3.1.3.2323910823.19804.1597258938.929\n",
      "2025-05-23 10:00:41,829:INFO:Downloading... https://services.cancerimagingarchive.net/nbia-api/services/v2/getImage?NewFileNames=Yes&SeriesInstanceUID=1.2.276.0.7230010.3.1.3.2323910823.2780.1597258928.514\n",
      "2025-05-23 10:00:43,097:INFO:Downloading... https://services.cancerimagingarchive.net/nbia-api/services/v2/getImage?NewFileNames=Yes&SeriesInstanceUID=1.2.276.0.7230010.3.1.3.2323910823.21516.1597258948.620\n",
      "2025-05-23 10:00:44,245:INFO:Downloading... https://services.cancerimagingarchive.net/nbia-api/services/v2/getImage?NewFileNames=Yes&SeriesInstanceUID=1.2.276.0.7230010.3.1.3.2323910823.19272.1597258758.834\n",
      "2025-05-23 10:00:45,386:INFO:Downloading... https://services.cancerimagingarchive.net/nbia-api/services/v2/getImage?NewFileNames=Yes&SeriesInstanceUID=1.2.276.0.7230010.3.1.3.2323910823.24284.1597258685.151\n",
      "2025-05-23 10:00:46,568:INFO:Downloading... https://services.cancerimagingarchive.net/nbia-api/services/v2/getImage?NewFileNames=Yes&SeriesInstanceUID=1.2.276.0.7230010.3.1.3.2323910823.24328.1597258963.342\n",
      "2025-05-23 10:00:47,861:INFO:Downloading... https://services.cancerimagingarchive.net/nbia-api/services/v2/getImage?NewFileNames=Yes&SeriesInstanceUID=1.2.276.0.7230010.3.1.3.2323910823.11676.1597258838.5\n",
      "2025-05-23 10:00:48,904:INFO:Downloading... https://services.cancerimagingarchive.net/nbia-api/services/v2/getImage?NewFileNames=Yes&SeriesInstanceUID=1.2.276.0.7230010.3.1.3.2323910823.21096.1597258970.772\n",
      "2025-05-23 10:00:50,032:INFO:Downloading... https://services.cancerimagingarchive.net/nbia-api/services/v2/getImage?NewFileNames=Yes&SeriesInstanceUID=1.2.276.0.7230010.3.1.3.2323910823.9504.1597259006.266\n",
      "2025-05-23 10:00:51,132:INFO:Downloading... https://services.cancerimagingarchive.net/nbia-api/services/v2/getImage?NewFileNames=Yes&SeriesInstanceUID=1.2.276.0.7230010.3.1.3.2323910823.15572.1597258955.450\n",
      "2025-05-23 10:00:52,274:INFO:Downloading... https://services.cancerimagingarchive.net/nbia-api/services/v2/getImage?NewFileNames=Yes&SeriesInstanceUID=1.2.276.0.7230010.3.1.3.2323910823.22828.1597258831.993\n",
      "2025-05-23 10:00:53,361:INFO:Downloading... https://services.cancerimagingarchive.net/nbia-api/services/v2/getImage?NewFileNames=Yes&SeriesInstanceUID=1.2.276.0.7230010.3.1.3.2323910823.18204.1597259013.116\n",
      "2025-05-23 10:00:54,585:INFO:Downloading... https://services.cancerimagingarchive.net/nbia-api/services/v2/getImage?NewFileNames=Yes&SeriesInstanceUID=1.2.276.0.7230010.3.1.3.2323910823.24812.1597258846.343\n",
      "2025-05-23 10:00:55,728:INFO:Downloading... https://services.cancerimagingarchive.net/nbia-api/services/v2/getImage?NewFileNames=Yes&SeriesInstanceUID=1.2.276.0.7230010.3.1.3.2323910823.18240.1597259021.273\n",
      "2025-05-23 10:00:56,827:INFO:Downloading... https://services.cancerimagingarchive.net/nbia-api/services/v2/getImage?NewFileNames=Yes&SeriesInstanceUID=1.2.276.0.7230010.3.1.3.2323910823.24880.1597259037.165\n",
      "2025-05-23 10:00:57,925:INFO:Downloading... https://services.cancerimagingarchive.net/nbia-api/services/v2/getImage?NewFileNames=Yes&SeriesInstanceUID=1.2.276.0.7230010.3.1.3.2323910823.20860.1597258910.553\n",
      "2025-05-23 10:00:59,207:INFO:Downloading... https://services.cancerimagingarchive.net/nbia-api/services/v2/getImage?NewFileNames=Yes&SeriesInstanceUID=1.2.276.0.7230010.3.1.3.2323910823.23544.1597258751.112\n",
      "2025-05-23 10:01:00,355:INFO:Downloading... https://services.cancerimagingarchive.net/nbia-api/services/v2/getImage?NewFileNames=Yes&SeriesInstanceUID=1.2.276.0.7230010.3.1.3.2323910823.17836.1597258903.866\n",
      "2025-05-23 10:01:01,480:INFO:Downloading... https://services.cancerimagingarchive.net/nbia-api/services/v2/getImage?NewFileNames=Yes&SeriesInstanceUID=1.2.276.0.7230010.3.1.3.2323910823.9200.1597259043.435\n",
      "2025-05-23 10:01:02,582:INFO:Downloading... https://services.cancerimagingarchive.net/nbia-api/services/v2/getImage?NewFileNames=Yes&SeriesInstanceUID=1.2.276.0.7230010.3.1.3.2323910823.20692.1597259109.706\n",
      "2025-05-23 10:01:03,702:INFO:Downloading... https://services.cancerimagingarchive.net/nbia-api/services/v2/getImage?NewFileNames=Yes&SeriesInstanceUID=1.2.276.0.7230010.3.1.3.2323910823.15048.1597259086.447\n",
      "2025-05-23 10:01:04,808:INFO:Downloading... https://services.cancerimagingarchive.net/nbia-api/services/v2/getImage?NewFileNames=Yes&SeriesInstanceUID=1.2.276.0.7230010.3.1.3.2323910823.8012.1597259079.376\n",
      "2025-05-23 10:01:06,111:INFO:Downloading... https://services.cancerimagingarchive.net/nbia-api/services/v2/getImage?NewFileNames=Yes&SeriesInstanceUID=1.2.276.0.7230010.3.1.3.2323910823.25516.1597259029.615\n",
      "2025-05-23 10:01:07,250:INFO:Downloading... https://services.cancerimagingarchive.net/nbia-api/services/v2/getImage?NewFileNames=Yes&SeriesInstanceUID=1.2.276.0.7230010.3.1.3.2323910823.18976.1597259093.831\n",
      "2025-05-23 10:01:08,440:INFO:Downloading... https://services.cancerimagingarchive.net/nbia-api/services/v2/getImage?NewFileNames=Yes&SeriesInstanceUID=1.2.276.0.7230010.3.1.3.2323910823.20516.1597258918.838\n",
      "2025-05-23 10:01:09,705:INFO:Downloading... https://services.cancerimagingarchive.net/nbia-api/services/v2/getImage?NewFileNames=Yes&SeriesInstanceUID=1.2.276.0.7230010.3.1.3.2323910823.19388.1597258991.510\n",
      "2025-05-23 10:01:10,867:INFO:Downloading... https://services.cancerimagingarchive.net/nbia-api/services/v2/getImage?NewFileNames=Yes&SeriesInstanceUID=1.2.276.0.7230010.3.1.3.2323910823.24844.1597258825.769\n",
      "2025-05-23 10:01:11,988:INFO:Downloading... https://services.cancerimagingarchive.net/nbia-api/services/v2/getImage?NewFileNames=Yes&SeriesInstanceUID=1.2.276.0.7230010.3.1.3.2323910823.19272.1597259115.280\n",
      "2025-05-23 10:01:13,108:INFO:Downloading... https://services.cancerimagingarchive.net/nbia-api/services/v2/getImage?NewFileNames=Yes&SeriesInstanceUID=1.2.276.0.7230010.3.1.3.2323910823.7960.1597259143.872\n",
      "2025-05-23 10:01:14,176:INFO:Downloading... https://services.cancerimagingarchive.net/nbia-api/services/v2/getImage?NewFileNames=Yes&SeriesInstanceUID=1.2.276.0.7230010.3.1.3.2323910823.19488.1597259150.562\n",
      "2025-05-23 10:01:15,169:INFO:Downloading... https://services.cancerimagingarchive.net/nbia-api/services/v2/getImage?NewFileNames=Yes&SeriesInstanceUID=1.2.276.0.7230010.3.1.3.2323910823.5016.1597259064.374\n",
      "2025-05-23 10:01:16,310:INFO:Downloading... https://services.cancerimagingarchive.net/nbia-api/services/v2/getImage?NewFileNames=Yes&SeriesInstanceUID=1.2.276.0.7230010.3.1.3.2323910823.17916.1597258999.726\n",
      "2025-05-23 10:01:17,468:INFO:Downloading... https://services.cancerimagingarchive.net/nbia-api/services/v2/getImage?NewFileNames=Yes&SeriesInstanceUID=1.2.276.0.7230010.3.1.3.2323910823.708.1597258983.418\n",
      "2025-05-23 10:01:18,919:INFO:Downloading... https://services.cancerimagingarchive.net/nbia-api/services/v2/getImage?NewFileNames=Yes&SeriesInstanceUID=1.2.276.0.7230010.3.1.3.2323910823.22348.1597259158.686\n",
      "2025-05-23 10:01:19,994:INFO:Downloading... https://services.cancerimagingarchive.net/nbia-api/services/v2/getImage?NewFileNames=Yes&SeriesInstanceUID=1.2.276.0.7230010.3.1.3.2323910823.13372.1597259174.960\n",
      "2025-05-23 10:01:21,581:INFO:Downloading... https://services.cancerimagingarchive.net/nbia-api/services/v2/getImage?NewFileNames=Yes&SeriesInstanceUID=1.2.276.0.7230010.3.1.3.2323910823.15612.1597259101.869\n",
      "2025-05-23 10:01:22,724:INFO:Downloading... https://services.cancerimagingarchive.net/nbia-api/services/v2/getImage?NewFileNames=Yes&SeriesInstanceUID=1.2.276.0.7230010.3.1.3.2323910823.22452.1597259222.506\n",
      "2025-05-23 10:01:24,773:INFO:Downloading... https://services.cancerimagingarchive.net/nbia-api/services/v2/getImage?NewFileNames=Yes&SeriesInstanceUID=1.2.276.0.7230010.3.1.3.2323910823.3532.1597259228.706\n",
      "2025-05-23 10:01:26,632:INFO:Downloading... https://services.cancerimagingarchive.net/nbia-api/services/v2/getImage?NewFileNames=Yes&SeriesInstanceUID=1.2.276.0.7230010.3.1.3.2323910823.19744.1597258897.937\n",
      "2025-05-23 10:01:27,713:INFO:Downloading... https://services.cancerimagingarchive.net/nbia-api/services/v2/getImage?NewFileNames=Yes&SeriesInstanceUID=1.2.276.0.7230010.3.1.3.2323910823.22304.1597259131.380\n",
      "2025-05-23 10:01:29,129:INFO:Downloading... https://services.cancerimagingarchive.net/nbia-api/services/v2/getImage?NewFileNames=Yes&SeriesInstanceUID=1.2.276.0.7230010.3.1.3.2323910823.15696.1597259183.624\n",
      "2025-05-23 10:01:30,781:INFO:Downloading... https://services.cancerimagingarchive.net/nbia-api/services/v2/getImage?NewFileNames=Yes&SeriesInstanceUID=1.2.276.0.7230010.3.1.3.2323910823.20892.1597259057.195\n",
      "2025-05-23 10:01:32,248:INFO:Downloading... https://services.cancerimagingarchive.net/nbia-api/services/v2/getImage?NewFileNames=Yes&SeriesInstanceUID=1.2.276.0.7230010.3.1.3.2323910823.4140.1597259071.969\n",
      "2025-05-23 10:01:33,913:INFO:Downloading... https://services.cancerimagingarchive.net/nbia-api/services/v2/getImage?NewFileNames=Yes&SeriesInstanceUID=1.2.276.0.7230010.3.1.3.2323910823.23564.1597259166.761\n",
      "2025-05-23 10:01:35,532:INFO:Downloading... https://services.cancerimagingarchive.net/nbia-api/services/v2/getImage?NewFileNames=Yes&SeriesInstanceUID=1.2.276.0.7230010.3.1.3.2323910823.23268.1597259247.860\n",
      "2025-05-23 10:01:37,227:INFO:Downloading... https://services.cancerimagingarchive.net/nbia-api/services/v2/getImage?NewFileNames=Yes&SeriesInstanceUID=1.2.276.0.7230010.3.1.3.2323910823.14156.1597259235.337\n",
      "2025-05-23 10:01:38,357:INFO:Downloading... https://services.cancerimagingarchive.net/nbia-api/services/v2/getImage?NewFileNames=Yes&SeriesInstanceUID=1.2.276.0.7230010.3.1.3.2323910823.1440.1597257734.86\n",
      "2025-05-23 10:01:39,782:INFO:Downloading... https://services.cancerimagingarchive.net/nbia-api/services/v2/getImage?NewFileNames=Yes&SeriesInstanceUID=1.2.276.0.7230010.3.1.3.2323910823.5428.1597258976.375\n",
      "2025-05-23 10:01:40,853:INFO:Downloading... https://services.cancerimagingarchive.net/nbia-api/services/v2/getImage?NewFileNames=Yes&SeriesInstanceUID=1.2.276.0.7230010.3.1.3.2323910823.21984.1597257676.349\n",
      "2025-05-23 10:01:42,839:INFO:Downloading... https://services.cancerimagingarchive.net/nbia-api/services/v2/getImage?NewFileNames=Yes&SeriesInstanceUID=1.2.276.0.7230010.3.1.3.2323910823.19696.1597259206.999\n",
      "2025-05-23 10:01:44,286:INFO:Downloading... https://services.cancerimagingarchive.net/nbia-api/services/v2/getImage?NewFileNames=Yes&SeriesInstanceUID=1.2.276.0.7230010.3.1.3.2323910823.5936.1597257744.837\n",
      "2025-05-23 10:01:45,417:INFO:Downloading... https://services.cancerimagingarchive.net/nbia-api/services/v2/getImage?NewFileNames=Yes&SeriesInstanceUID=1.2.276.0.7230010.3.1.3.2323910823.21220.1597259241.705\n",
      "2025-05-23 10:01:46,534:INFO:Downloading... https://services.cancerimagingarchive.net/nbia-api/services/v2/getImage?NewFileNames=Yes&SeriesInstanceUID=1.2.276.0.7230010.3.1.3.2323910823.25516.1597259125.918\n",
      "2025-05-23 10:01:47,639:INFO:Downloading... https://services.cancerimagingarchive.net/nbia-api/services/v2/getImage?NewFileNames=Yes&SeriesInstanceUID=1.2.276.0.7230010.3.1.3.2323910823.3864.1597259136.948\n",
      "2025-05-23 10:01:49,035:INFO:Downloading... https://services.cancerimagingarchive.net/nbia-api/services/v2/getImage?NewFileNames=Yes&SeriesInstanceUID=1.2.276.0.7230010.3.1.3.2323910823.5156.1597257794.644\n",
      "2025-05-23 10:01:50,186:INFO:Downloading... https://services.cancerimagingarchive.net/nbia-api/services/v2/getImage?NewFileNames=Yes&SeriesInstanceUID=1.2.276.0.7230010.3.1.3.2323910823.15516.1597257709.94\n",
      "2025-05-23 10:01:51,202:INFO:Downloading... https://services.cancerimagingarchive.net/nbia-api/services/v2/getImage?NewFileNames=Yes&SeriesInstanceUID=1.2.276.0.7230010.3.1.3.2323910823.22832.1597257799.287\n",
      "2025-05-23 10:01:52,355:INFO:Downloading... https://services.cancerimagingarchive.net/nbia-api/services/v2/getImage?NewFileNames=Yes&SeriesInstanceUID=1.2.276.0.7230010.3.1.3.2323910823.24764.1597257749.930\n",
      "2025-05-23 10:01:53,620:INFO:Downloading... https://services.cancerimagingarchive.net/nbia-api/services/v2/getImage?NewFileNames=Yes&SeriesInstanceUID=1.2.276.0.7230010.3.1.3.2323910823.24664.1597259050.875\n",
      "2025-05-23 10:01:54,780:INFO:Downloading... https://services.cancerimagingarchive.net/nbia-api/services/v2/getImage?NewFileNames=Yes&SeriesInstanceUID=1.2.276.0.7230010.3.1.3.2323910823.21324.1597257766.153\n",
      "2025-05-23 10:01:56,521:INFO:Downloading... https://services.cancerimagingarchive.net/nbia-api/services/v2/getImage?NewFileNames=Yes&SeriesInstanceUID=1.2.276.0.7230010.3.1.3.2323910823.17948.1597257760.135\n",
      "2025-05-23 10:01:57,643:INFO:Downloading... https://services.cancerimagingarchive.net/nbia-api/services/v2/getImage?NewFileNames=Yes&SeriesInstanceUID=1.2.276.0.7230010.3.1.3.2323910823.25020.1597257754.499\n",
      "2025-05-23 10:01:59,088:INFO:Downloading... https://services.cancerimagingarchive.net/nbia-api/services/v2/getImage?NewFileNames=Yes&SeriesInstanceUID=1.2.276.0.7230010.3.1.3.2323910823.25212.1597259199.40\n",
      "2025-05-23 10:02:01,010:INFO:Downloading... https://services.cancerimagingarchive.net/nbia-api/services/v2/getImage?NewFileNames=Yes&SeriesInstanceUID=1.2.276.0.7230010.3.1.3.2323910823.13228.1597257783.401\n",
      "2025-05-23 10:02:02,888:INFO:Downloading... https://services.cancerimagingarchive.net/nbia-api/services/v2/getImage?NewFileNames=Yes&SeriesInstanceUID=1.2.276.0.7230010.3.1.3.2323910823.11168.1597257848.356\n",
      "2025-05-23 10:02:04,022:INFO:Downloading... https://services.cancerimagingarchive.net/nbia-api/services/v2/getImage?NewFileNames=Yes&SeriesInstanceUID=1.2.276.0.7230010.3.1.3.2323910823.25212.1597259120.404\n",
      "2025-05-23 10:02:05,538:INFO:Downloading... https://services.cancerimagingarchive.net/nbia-api/services/v2/getImage?NewFileNames=Yes&SeriesInstanceUID=1.2.276.0.7230010.3.1.3.2323910823.22996.1597257815.270\n",
      "2025-05-23 10:02:06,679:INFO:Downloading... https://services.cancerimagingarchive.net/nbia-api/services/v2/getImage?NewFileNames=Yes&SeriesInstanceUID=1.2.276.0.7230010.3.1.3.2323910823.9180.1597257853.312\n",
      "2025-05-23 10:02:08,471:INFO:Downloading... https://services.cancerimagingarchive.net/nbia-api/services/v2/getImage?NewFileNames=Yes&SeriesInstanceUID=1.2.276.0.7230010.3.1.3.2323910823.3516.1597259214.976\n",
      "2025-05-23 10:02:11,619:INFO:Downloading... https://services.cancerimagingarchive.net/nbia-api/services/v2/getImage?NewFileNames=Yes&SeriesInstanceUID=1.2.276.0.7230010.3.1.3.2323910823.21572.1597257804.452\n",
      "2025-05-23 10:02:12,664:INFO:Downloading... https://services.cancerimagingarchive.net/nbia-api/services/v2/getImage?NewFileNames=Yes&SeriesInstanceUID=1.2.276.0.7230010.3.1.3.2323910823.24516.1597257820.582\n",
      "2025-05-23 10:02:15,608:INFO:Downloading... https://services.cancerimagingarchive.net/nbia-api/services/v2/getImage?NewFileNames=Yes&SeriesInstanceUID=1.2.276.0.7230010.3.1.3.2323910823.752.1597257902.77\n",
      "2025-05-23 10:02:16,695:INFO:Downloading... https://services.cancerimagingarchive.net/nbia-api/services/v2/getImage?NewFileNames=Yes&SeriesInstanceUID=1.2.276.0.7230010.3.1.3.2323910823.24772.1597257810.624\n",
      "2025-05-23 10:02:18,878:INFO:Downloading... https://services.cancerimagingarchive.net/nbia-api/services/v2/getImage?NewFileNames=Yes&SeriesInstanceUID=1.2.276.0.7230010.3.1.3.2323910823.20404.1597257699.978\n",
      "2025-05-23 10:02:21,737:INFO:Downloading... https://services.cancerimagingarchive.net/nbia-api/services/v2/getImage?NewFileNames=Yes&SeriesInstanceUID=1.2.276.0.7230010.3.1.3.2323910823.19836.1597257837.514\n",
      "2025-05-23 10:02:24,340:INFO:Downloading... https://services.cancerimagingarchive.net/nbia-api/services/v2/getImage?NewFileNames=Yes&SeriesInstanceUID=1.2.276.0.7230010.3.1.3.2323910823.22372.1597259190.507\n",
      "2025-05-23 10:02:26,215:INFO:Downloading... https://services.cancerimagingarchive.net/nbia-api/services/v2/getImage?NewFileNames=Yes&SeriesInstanceUID=1.2.276.0.7230010.3.1.3.2323910823.23908.1597257721.209\n",
      "2025-05-23 10:02:27,361:INFO:Downloading... https://services.cancerimagingarchive.net/nbia-api/services/v2/getImage?NewFileNames=Yes&SeriesInstanceUID=1.2.276.0.7230010.3.1.3.2323910823.20716.1597257876.132\n",
      "2025-05-23 10:02:33,047:INFO:Downloading... https://services.cancerimagingarchive.net/nbia-api/services/v2/getImage?NewFileNames=Yes&SeriesInstanceUID=1.2.276.0.7230010.3.1.3.2323910823.23348.1597257858.673\n",
      "2025-05-23 10:02:38,194:INFO:Downloading... https://services.cancerimagingarchive.net/nbia-api/services/v2/getImage?NewFileNames=Yes&SeriesInstanceUID=1.2.276.0.7230010.3.1.3.2323910823.12016.1597257870.546\n",
      "2025-05-23 10:02:42,344:INFO:Downloading... https://services.cancerimagingarchive.net/nbia-api/services/v2/getImage?NewFileNames=Yes&SeriesInstanceUID=1.2.276.0.7230010.3.1.3.2323910823.4812.1597257908.649\n",
      "2025-05-23 10:02:43,729:INFO:Downloading... https://services.cancerimagingarchive.net/nbia-api/services/v2/getImage?NewFileNames=Yes&SeriesInstanceUID=1.2.276.0.7230010.3.1.3.2323910823.16476.1597257778.788\n",
      "2025-05-23 10:02:45,482:INFO:Downloading... https://services.cancerimagingarchive.net/nbia-api/services/v2/getImage?NewFileNames=Yes&SeriesInstanceUID=1.2.276.0.7230010.3.1.3.2323910823.21640.1597257891.391\n",
      "2025-05-23 10:02:47,486:INFO:Downloading... https://services.cancerimagingarchive.net/nbia-api/services/v2/getImage?NewFileNames=Yes&SeriesInstanceUID=1.2.276.0.7230010.3.1.3.2323910823.13720.1597257689.741\n",
      "2025-05-23 10:02:49,369:INFO:Downloading... https://services.cancerimagingarchive.net/nbia-api/services/v2/getImage?NewFileNames=Yes&SeriesInstanceUID=1.2.276.0.7230010.3.1.3.2323910823.18008.1597257961.539\n",
      "2025-05-23 10:02:52,633:INFO:Downloading... https://services.cancerimagingarchive.net/nbia-api/services/v2/getImage?NewFileNames=Yes&SeriesInstanceUID=1.2.276.0.7230010.3.1.3.2323910823.21096.1597257926.34\n",
      "2025-05-23 10:02:53,953:INFO:Downloading... https://services.cancerimagingarchive.net/nbia-api/services/v2/getImage?NewFileNames=Yes&SeriesInstanceUID=1.2.276.0.7230010.3.1.3.2323910823.22300.1597257788.622\n",
      "2025-05-23 10:02:56,144:INFO:Downloading... https://services.cancerimagingarchive.net/nbia-api/services/v2/getImage?NewFileNames=Yes&SeriesInstanceUID=1.2.276.0.7230010.3.1.3.2323910823.2364.1597257968.35\n",
      "2025-05-23 10:02:58,090:INFO:Downloading... https://services.cancerimagingarchive.net/nbia-api/services/v2/getImage?NewFileNames=Yes&SeriesInstanceUID=1.2.276.0.7230010.3.1.3.2323910823.22048.1597257914.847\n",
      "2025-05-23 10:03:00,120:INFO:Downloading... https://services.cancerimagingarchive.net/nbia-api/services/v2/getImage?NewFileNames=Yes&SeriesInstanceUID=1.2.276.0.7230010.3.1.3.2323910823.23964.1597257864.465\n",
      "2025-05-23 10:03:03,401:INFO:Downloading... https://services.cancerimagingarchive.net/nbia-api/services/v2/getImage?NewFileNames=Yes&SeriesInstanceUID=1.2.276.0.7230010.3.1.3.2323910823.17844.1597257931.974\n",
      "2025-05-23 10:03:04,724:INFO:Downloading... https://services.cancerimagingarchive.net/nbia-api/services/v2/getImage?NewFileNames=Yes&SeriesInstanceUID=1.2.276.0.7230010.3.1.3.2323910823.5936.1597257832.286\n",
      "2025-05-23 10:03:06,112:INFO:Downloading... https://services.cancerimagingarchive.net/nbia-api/services/v2/getImage?NewFileNames=Yes&SeriesInstanceUID=1.2.276.0.7230010.3.1.3.2323910823.6488.1597257987.545\n",
      "2025-05-23 10:03:07,473:INFO:Downloading... https://services.cancerimagingarchive.net/nbia-api/services/v2/getImage?NewFileNames=Yes&SeriesInstanceUID=1.2.276.0.7230010.3.1.3.2323910823.24788.1597258052.334\n",
      "2025-05-23 10:03:09,245:INFO:Downloading... https://services.cancerimagingarchive.net/nbia-api/services/v2/getImage?NewFileNames=Yes&SeriesInstanceUID=1.2.276.0.7230010.3.1.3.2323910823.24776.1597257995.465\n",
      "2025-05-23 10:03:10,300:INFO:Downloading... https://services.cancerimagingarchive.net/nbia-api/services/v2/getImage?NewFileNames=Yes&SeriesInstanceUID=1.2.276.0.7230010.3.1.3.2323910823.7324.1597257921.138\n",
      "2025-05-23 10:03:12,473:INFO:Downloading... https://services.cancerimagingarchive.net/nbia-api/services/v2/getImage?NewFileNames=Yes&SeriesInstanceUID=1.2.276.0.7230010.3.1.3.2323910823.25352.1597257949.346\n",
      "2025-05-23 10:03:14,231:INFO:Downloading... https://services.cancerimagingarchive.net/nbia-api/services/v2/getImage?NewFileNames=Yes&SeriesInstanceUID=1.2.276.0.7230010.3.1.3.2323910823.912.1597258038.723\n",
      "2025-05-23 10:03:22,319:INFO:Downloading... https://services.cancerimagingarchive.net/nbia-api/services/v2/getImage?NewFileNames=Yes&SeriesInstanceUID=1.2.276.0.7230010.3.1.3.2323910823.11560.1597257843.240\n",
      "2025-05-23 10:03:24,394:INFO:Downloading... https://services.cancerimagingarchive.net/nbia-api/services/v2/getImage?NewFileNames=Yes&SeriesInstanceUID=1.2.276.0.7230010.3.1.3.2323910823.10112.1597257772.658\n",
      "2025-05-23 10:03:26,714:INFO:Downloading... https://services.cancerimagingarchive.net/nbia-api/services/v2/getImage?NewFileNames=Yes&SeriesInstanceUID=1.2.276.0.7230010.3.1.3.2323910823.22304.1597257974.609\n",
      "2025-05-23 10:03:30,835:INFO:Downloading... https://services.cancerimagingarchive.net/nbia-api/services/v2/getImage?NewFileNames=Yes&SeriesInstanceUID=1.2.276.0.7230010.3.1.3.2323910823.13084.1597257886.943\n",
      "2025-05-23 10:03:32,861:INFO:Downloading... https://services.cancerimagingarchive.net/nbia-api/services/v2/getImage?NewFileNames=Yes&SeriesInstanceUID=1.2.276.0.7230010.3.1.3.2323910823.20728.1597258080.910\n",
      "2025-05-23 10:03:35,158:INFO:Downloading... https://services.cancerimagingarchive.net/nbia-api/services/v2/getImage?NewFileNames=Yes&SeriesInstanceUID=1.2.276.0.7230010.3.1.3.2323910823.4140.1597258147.912\n",
      "2025-05-23 10:03:37,890:INFO:Downloading... https://services.cancerimagingarchive.net/nbia-api/services/v2/getImage?NewFileNames=Yes&SeriesInstanceUID=1.2.276.0.7230010.3.1.3.2323910823.3824.1597258090.602\n",
      "2025-05-23 10:03:40,451:INFO:Downloading... https://services.cancerimagingarchive.net/nbia-api/services/v2/getImage?NewFileNames=Yes&SeriesInstanceUID=1.2.276.0.7230010.3.1.3.2323910823.17564.1597257943.880\n",
      "2025-05-23 10:03:42,965:INFO:Downloading... https://services.cancerimagingarchive.net/nbia-api/services/v2/getImage?NewFileNames=Yes&SeriesInstanceUID=1.2.276.0.7230010.3.1.3.2323910823.7456.1597258061.361\n",
      "2025-05-23 10:03:44,871:INFO:Downloading... https://services.cancerimagingarchive.net/nbia-api/services/v2/getImage?NewFileNames=Yes&SeriesInstanceUID=1.2.276.0.7230010.3.1.3.2323910823.21736.1597257896.335\n",
      "2025-05-23 10:03:46,276:INFO:Downloading... https://services.cancerimagingarchive.net/nbia-api/services/v2/getImage?NewFileNames=Yes&SeriesInstanceUID=1.2.276.0.7230010.3.1.3.2323910823.17484.1597258138.435\n",
      "2025-05-23 10:03:49,231:INFO:Downloading... https://services.cancerimagingarchive.net/nbia-api/services/v2/getImage?NewFileNames=Yes&SeriesInstanceUID=1.2.276.0.7230010.3.1.3.2323910823.24764.1597258017.760\n",
      "2025-05-23 10:03:51,500:INFO:Downloading... https://services.cancerimagingarchive.net/nbia-api/services/v2/getImage?NewFileNames=Yes&SeriesInstanceUID=1.2.276.0.7230010.3.1.3.2323910823.18764.1597257981.526\n",
      "2025-05-23 10:03:54,439:INFO:Downloading... https://services.cancerimagingarchive.net/nbia-api/services/v2/getImage?NewFileNames=Yes&SeriesInstanceUID=1.2.276.0.7230010.3.1.3.2323910823.23904.1597257826.764\n",
      "2025-05-23 10:03:56,987:INFO:Downloading... https://services.cancerimagingarchive.net/nbia-api/services/v2/getImage?NewFileNames=Yes&SeriesInstanceUID=1.2.276.0.7230010.3.1.3.2323910823.14848.1597258177.601\n",
      "2025-05-23 10:03:59,960:INFO:Downloading... https://services.cancerimagingarchive.net/nbia-api/services/v2/getImage?NewFileNames=Yes&SeriesInstanceUID=1.2.276.0.7230010.3.1.3.2323910823.21620.1597257953.833\n",
      "2025-05-23 10:04:01,412:INFO:Downloading... https://services.cancerimagingarchive.net/nbia-api/services/v2/getImage?NewFileNames=Yes&SeriesInstanceUID=1.2.276.0.7230010.3.1.3.2323910823.23132.1597258246.550\n",
      "2025-05-23 10:04:02,843:INFO:Downloading... https://services.cancerimagingarchive.net/nbia-api/services/v2/getImage?NewFileNames=Yes&SeriesInstanceUID=1.2.276.0.7230010.3.1.3.2323910823.17484.1597258010.132\n",
      "2025-05-23 10:04:04,455:INFO:Downloading... https://services.cancerimagingarchive.net/nbia-api/services/v2/getImage?NewFileNames=Yes&SeriesInstanceUID=1.2.276.0.7230010.3.1.3.2323910823.25564.1597258189.158\n",
      "2025-05-23 10:04:06,956:INFO:Downloading... https://services.cancerimagingarchive.net/nbia-api/services/v2/getImage?NewFileNames=Yes&SeriesInstanceUID=1.2.276.0.7230010.3.1.3.2323910823.8800.1597258157.874\n",
      "2025-05-23 10:04:11,292:INFO:Downloading... https://services.cancerimagingarchive.net/nbia-api/services/v2/getImage?NewFileNames=Yes&SeriesInstanceUID=1.2.276.0.7230010.3.1.3.2323910823.17376.1597258237.118\n",
      "2025-05-23 10:04:15,822:INFO:Downloading... https://services.cancerimagingarchive.net/nbia-api/services/v2/getImage?NewFileNames=Yes&SeriesInstanceUID=1.2.276.0.7230010.3.1.3.2323910823.17888.1597257881.851\n",
      "2025-05-23 10:04:17,860:INFO:Downloading... https://services.cancerimagingarchive.net/nbia-api/services/v2/getImage?NewFileNames=Yes&SeriesInstanceUID=1.2.276.0.7230010.3.1.3.2323910823.21276.1597258117.861\n",
      "2025-05-23 10:04:20,953:INFO:Downloading... https://services.cancerimagingarchive.net/nbia-api/services/v2/getImage?NewFileNames=Yes&SeriesInstanceUID=1.2.276.0.7230010.3.1.3.2323910823.20436.1597258071.430\n",
      "2025-05-23 10:04:23,883:INFO:Downloading... https://services.cancerimagingarchive.net/nbia-api/services/v2/getImage?NewFileNames=Yes&SeriesInstanceUID=1.2.276.0.7230010.3.1.3.2323910823.22668.1597258330.146\n",
      "2025-05-23 10:04:25,779:INFO:Downloading... https://services.cancerimagingarchive.net/nbia-api/services/v2/getImage?NewFileNames=Yes&SeriesInstanceUID=1.2.276.0.7230010.3.1.3.2323910823.25464.1597258272.819\n",
      "2025-05-23 10:04:27,800:INFO:Downloading... https://services.cancerimagingarchive.net/nbia-api/services/v2/getImage?NewFileNames=Yes&SeriesInstanceUID=1.2.276.0.7230010.3.1.3.2323910823.11192.1597258025.108\n",
      "2025-05-23 10:04:29,268:INFO:Downloading... https://services.cancerimagingarchive.net/nbia-api/services/v2/getImage?NewFileNames=Yes&SeriesInstanceUID=1.2.276.0.7230010.3.1.3.2323910823.22996.1597258281.491\n",
      "2025-05-23 10:04:31,178:INFO:Downloading... https://services.cancerimagingarchive.net/nbia-api/services/v2/getImage?NewFileNames=Yes&SeriesInstanceUID=1.2.276.0.7230010.3.1.3.2323910823.24720.1597258109.252\n",
      "2025-05-23 10:04:33,225:INFO:Downloading... https://services.cancerimagingarchive.net/nbia-api/services/v2/getImage?NewFileNames=Yes&SeriesInstanceUID=1.2.276.0.7230010.3.1.3.2323910823.25444.1597258255.2\n",
      "2025-05-23 10:04:39,548:INFO:Downloading... https://services.cancerimagingarchive.net/nbia-api/services/v2/getImage?NewFileNames=Yes&SeriesInstanceUID=1.2.276.0.7230010.3.1.3.2323910823.2812.1597257938.743\n",
      "2025-05-23 10:04:42,632:INFO:Downloading... https://services.cancerimagingarchive.net/nbia-api/services/v2/getImage?NewFileNames=Yes&SeriesInstanceUID=1.2.276.0.7230010.3.1.3.2323910823.20768.1597258322.597\n",
      "2025-05-23 10:04:45,500:INFO:Downloading... https://services.cancerimagingarchive.net/nbia-api/services/v2/getImage?NewFileNames=Yes&SeriesInstanceUID=1.2.276.0.7230010.3.1.3.2323910823.20092.1597258218.629\n",
      "2025-05-23 10:04:48,572:INFO:Downloading... https://services.cancerimagingarchive.net/nbia-api/services/v2/getImage?NewFileNames=Yes&SeriesInstanceUID=1.2.276.0.7230010.3.1.3.2323910823.3136.1597258353.355\n",
      "2025-05-23 10:04:51,620:INFO:Downloading... https://services.cancerimagingarchive.net/nbia-api/services/v2/getImage?NewFileNames=Yes&SeriesInstanceUID=1.2.276.0.7230010.3.1.3.2323910823.6720.1597258167.743\n",
      "2025-05-23 10:04:55,058:INFO:Downloading... https://services.cancerimagingarchive.net/nbia-api/services/v2/getImage?NewFileNames=Yes&SeriesInstanceUID=1.2.276.0.7230010.3.1.3.2323910823.17928.1597258408.635\n",
      "2025-05-23 10:04:58,548:INFO:Downloading... https://services.cancerimagingarchive.net/nbia-api/services/v2/getImage?NewFileNames=Yes&SeriesInstanceUID=1.2.276.0.7230010.3.1.3.2323910823.21864.1597258209.673\n",
      "2025-05-23 10:05:00,681:INFO:Downloading... https://services.cancerimagingarchive.net/nbia-api/services/v2/getImage?NewFileNames=Yes&SeriesInstanceUID=1.2.276.0.7230010.3.1.3.2323910823.4588.1597258360.826\n",
      "2025-05-23 10:05:03,722:INFO:Downloading... https://services.cancerimagingarchive.net/nbia-api/services/v2/getImage?NewFileNames=Yes&SeriesInstanceUID=1.2.276.0.7230010.3.1.3.2323910823.17168.1597258337.943\n",
      "2025-05-23 10:05:06,749:INFO:Downloading... https://services.cancerimagingarchive.net/nbia-api/services/v2/getImage?NewFileNames=Yes&SeriesInstanceUID=1.2.276.0.7230010.3.1.3.2323910823.976.1597258128.107\n",
      "2025-05-23 10:05:09,893:INFO:Downloading... https://services.cancerimagingarchive.net/nbia-api/services/v2/getImage?NewFileNames=Yes&SeriesInstanceUID=1.2.276.0.7230010.3.1.3.2323910823.24428.1597258399.695\n",
      "2025-05-23 10:05:11,276:INFO:Downloading... https://services.cancerimagingarchive.net/nbia-api/services/v2/getImage?NewFileNames=Yes&SeriesInstanceUID=1.2.276.0.7230010.3.1.3.2323910823.22596.1597258002.955\n",
      "2025-05-23 10:05:12,809:INFO:Downloading... https://services.cancerimagingarchive.net/nbia-api/services/v2/getImage?NewFileNames=Yes&SeriesInstanceUID=1.2.276.0.7230010.3.1.3.2323910823.3444.1597258306.775\n",
      "2025-05-23 10:05:14,744:INFO:Downloading... https://services.cancerimagingarchive.net/nbia-api/services/v2/getImage?NewFileNames=Yes&SeriesInstanceUID=1.2.276.0.7230010.3.1.3.2323910823.19064.1597258433.812\n",
      "2025-05-23 10:05:17,904:INFO:Downloading... https://services.cancerimagingarchive.net/nbia-api/services/v2/getImage?NewFileNames=Yes&SeriesInstanceUID=1.2.276.0.7230010.3.1.3.2323910823.4832.1597258263.810\n",
      "2025-05-23 10:05:23,240:INFO:Downloading... https://services.cancerimagingarchive.net/nbia-api/services/v2/getImage?NewFileNames=Yes&SeriesInstanceUID=1.2.276.0.7230010.3.1.3.2323910823.17648.1597257338.366\n",
      "2025-05-23 10:05:26,930:INFO:Downloading... https://services.cancerimagingarchive.net/nbia-api/services/v2/getImage?NewFileNames=Yes&SeriesInstanceUID=1.2.276.0.7230010.3.1.3.2323910823.24204.1597258299.222\n",
      "2025-05-23 10:05:29,746:INFO:Downloading... https://services.cancerimagingarchive.net/nbia-api/services/v2/getImage?NewFileNames=Yes&SeriesInstanceUID=1.2.276.0.7230010.3.1.3.2323910823.20860.1597258227.961\n",
      "2025-05-23 10:05:32,584:INFO:Downloading... https://services.cancerimagingarchive.net/nbia-api/services/v2/getImage?NewFileNames=Yes&SeriesInstanceUID=1.2.276.0.7230010.3.1.3.2323910823.21324.1597257257.231\n",
      "2025-05-23 10:05:34,179:INFO:Downloading... https://services.cancerimagingarchive.net/nbia-api/services/v2/getImage?NewFileNames=Yes&SeriesInstanceUID=1.2.276.0.7230010.3.1.3.2323910823.25180.1597258416.918\n",
      "2025-05-23 10:05:35,289:INFO:Downloading... https://services.cancerimagingarchive.net/nbia-api/services/v2/getImage?NewFileNames=Yes&SeriesInstanceUID=1.2.276.0.7230010.3.1.3.2323910823.22628.1597257326.285\n",
      "2025-05-23 10:05:38,857:INFO:Downloading... https://services.cancerimagingarchive.net/nbia-api/services/v2/getImage?NewFileNames=Yes&SeriesInstanceUID=1.2.276.0.7230010.3.1.3.2323910823.2432.1597258383.482\n",
      "2025-05-23 10:05:42,578:INFO:Downloading... https://services.cancerimagingarchive.net/nbia-api/services/v2/getImage?NewFileNames=Yes&SeriesInstanceUID=1.2.276.0.7230010.3.1.3.2323910823.16672.1597258345.428\n",
      "2025-05-23 10:05:46,419:INFO:Downloading... https://services.cancerimagingarchive.net/nbia-api/services/v2/getImage?NewFileNames=Yes&SeriesInstanceUID=1.2.276.0.7230010.3.1.3.2323910823.5420.1597258100.678\n",
      "2025-05-23 10:05:49,411:INFO:Downloading... https://services.cancerimagingarchive.net/nbia-api/services/v2/getImage?NewFileNames=Yes&SeriesInstanceUID=1.2.276.0.7230010.3.1.3.2323910823.10956.1597257464.636\n",
      "2025-05-23 10:05:53,316:INFO:Downloading... https://services.cancerimagingarchive.net/nbia-api/services/v2/getImage?NewFileNames=Yes&SeriesInstanceUID=1.2.276.0.7230010.3.1.3.2323910823.11592.1597257375.448\n",
      "2025-05-23 10:05:57,331:INFO:Downloading... https://services.cancerimagingarchive.net/nbia-api/services/v2/getImage?NewFileNames=Yes&SeriesInstanceUID=1.2.276.0.7230010.3.1.3.2323910823.15016.1597258376.730\n",
      "2025-05-23 10:06:00,786:INFO:Downloading... https://services.cancerimagingarchive.net/nbia-api/services/v2/getImage?NewFileNames=Yes&SeriesInstanceUID=1.2.276.0.7230010.3.1.3.2323910823.9960.1597258313.565\n",
      "2025-05-23 10:06:02,077:INFO:Downloading... https://services.cancerimagingarchive.net/nbia-api/services/v2/getImage?NewFileNames=Yes&SeriesInstanceUID=1.2.276.0.7230010.3.1.3.2323910823.23736.1597257349.790\n",
      "2025-05-23 10:06:03,709:INFO:Downloading... https://services.cancerimagingarchive.net/nbia-api/services/v2/getImage?NewFileNames=Yes&SeriesInstanceUID=1.2.276.0.7230010.3.1.3.2323910823.20928.1597257388.674\n",
      "2025-05-23 10:06:05,792:INFO:Downloading... https://services.cancerimagingarchive.net/nbia-api/services/v2/getImage?NewFileNames=Yes&SeriesInstanceUID=1.2.276.0.7230010.3.1.3.2323910823.22716.1597258425.266\n",
      "2025-05-23 10:06:07,391:INFO:Downloading... https://services.cancerimagingarchive.net/nbia-api/services/v2/getImage?NewFileNames=Yes&SeriesInstanceUID=1.2.276.0.7230010.3.1.3.2323910823.23816.1597258201.199\n",
      "2025-05-23 10:06:12,660:INFO:Downloading... https://services.cancerimagingarchive.net/nbia-api/services/v2/getImage?NewFileNames=Yes&SeriesInstanceUID=1.2.276.0.7230010.3.1.3.2323910823.21500.1597257452.142\n",
      "2025-05-23 10:06:19,127:INFO:Downloading... https://services.cancerimagingarchive.net/nbia-api/services/v2/getImage?NewFileNames=Yes&SeriesInstanceUID=1.2.276.0.7230010.3.1.3.2323910823.1672.1597257503.485\n",
      "2025-05-23 10:06:22,196:INFO:Downloading... https://services.cancerimagingarchive.net/nbia-api/services/v2/getImage?NewFileNames=Yes&SeriesInstanceUID=1.2.276.0.7230010.3.1.3.2323910823.15944.1597257301.946\n",
      "2025-05-23 10:06:26,115:INFO:Downloading... https://services.cancerimagingarchive.net/nbia-api/services/v2/getImage?NewFileNames=Yes&SeriesInstanceUID=1.2.276.0.7230010.3.1.3.2323910823.20000.1597257289.87\n",
      "2025-05-23 10:06:30,291:INFO:Downloading... https://services.cancerimagingarchive.net/nbia-api/services/v2/getImage?NewFileNames=Yes&SeriesInstanceUID=1.2.276.0.7230010.3.1.3.2323910823.24368.1597258391.184\n",
      "2025-05-23 10:06:33,716:INFO:Downloading... https://services.cancerimagingarchive.net/nbia-api/services/v2/getImage?NewFileNames=Yes&SeriesInstanceUID=1.2.276.0.7230010.3.1.3.2323910823.9396.1597257478.140\n",
      "2025-05-23 10:06:38,143:INFO:Downloading... https://services.cancerimagingarchive.net/nbia-api/services/v2/getImage?NewFileNames=Yes&SeriesInstanceUID=1.2.276.0.7230010.3.1.3.2323910823.18724.1597257516.794\n",
      "2025-05-23 10:06:39,537:INFO:Downloading... https://services.cancerimagingarchive.net/nbia-api/services/v2/getImage?NewFileNames=Yes&SeriesInstanceUID=1.2.276.0.7230010.3.1.3.2323910823.19540.1597258290.453\n",
      "2025-05-23 10:06:40,641:INFO:Downloading... https://services.cancerimagingarchive.net/nbia-api/services/v2/getImage?NewFileNames=Yes&SeriesInstanceUID=1.2.276.0.7230010.3.1.3.2323910823.21056.1597257361.983\n",
      "2025-05-23 10:06:42,639:INFO:Downloading... https://services.cancerimagingarchive.net/nbia-api/services/v2/getImage?NewFileNames=Yes&SeriesInstanceUID=1.2.276.0.7230010.3.1.3.2323910823.22716.1597257413.671\n",
      "2025-05-23 10:06:45,337:INFO:Downloading... https://services.cancerimagingarchive.net/nbia-api/services/v2/getImage?NewFileNames=Yes&SeriesInstanceUID=1.2.276.0.7230010.3.1.3.2323910823.25464.1597257314.410\n",
      "2025-05-23 10:06:51,228:INFO:Downloading... https://services.cancerimagingarchive.net/nbia-api/services/v2/getImage?NewFileNames=Yes&SeriesInstanceUID=1.2.276.0.7230010.3.1.3.2323910823.15224.1597257426.910\n",
      "2025-05-23 10:06:57,848:INFO:Downloading... https://services.cancerimagingarchive.net/nbia-api/services/v2/getImage?NewFileNames=Yes&SeriesInstanceUID=1.2.276.0.7230010.3.1.3.2323910823.19488.1597258368.184\n",
      "2025-05-23 10:07:01,803:INFO:Downloading... https://services.cancerimagingarchive.net/nbia-api/services/v2/getImage?NewFileNames=Yes&SeriesInstanceUID=1.2.276.0.7230010.3.1.3.2323910823.25160.1597257490.655\n",
      "2025-05-23 10:07:04,988:INFO:Downloading... https://services.cancerimagingarchive.net/nbia-api/services/v2/getImage?NewFileNames=Yes&SeriesInstanceUID=1.2.276.0.7230010.3.1.3.2323910823.18860.1597257439.490\n",
      "2025-05-23 10:07:08,145:INFO:Downloading... https://services.cancerimagingarchive.net/nbia-api/services/v2/getImage?NewFileNames=Yes&SeriesInstanceUID=1.2.276.0.7230010.3.1.3.2323910823.4944.1597257273.478\n",
      "2025-05-23 10:07:10,851:INFO:Downloading... https://services.cancerimagingarchive.net/nbia-api/services/v2/getImage?NewFileNames=Yes&SeriesInstanceUID=1.2.276.0.7230010.3.1.3.2323910823.6176.1597257401.104\n",
      "2025-05-23 10:07:14,089:INFO:Downloading... https://services.cancerimagingarchive.net/nbia-api/services/v2/getImage?NewFileNames=Yes&SeriesInstanceUID=1.2.276.0.7230010.3.1.3.2323910823.20536.1597257528.824\n"
     ]
    }
   ],
   "source": [
    "nbia.downloadSeries(\n",
    "    series_data = converted\n",
    ")"
   ]
  },
  {
   "cell_type": "markdown",
   "id": "6bfd2ead-139b-46fd-bad9-fb4bff57b505",
   "metadata": {},
   "source": [
    "### load the radiomics features"
   ]
  },
  {
   "cell_type": "code",
   "execution_count": 4,
   "id": "59674c8c-278f-46b3-a81f-02adbcbee529",
   "metadata": {},
   "outputs": [],
   "source": [
    "radiomics = pd.read_excel(\"radiomics.xlsx\")"
   ]
  },
  {
   "cell_type": "code",
   "execution_count": 5,
   "id": "aba73ce0-07f4-49b8-b079-b14fcdd8a2bf",
   "metadata": {},
   "outputs": [
    {
     "data": {
      "text/html": [
       "<div>\n",
       "<style scoped>\n",
       "    .dataframe tbody tr th:only-of-type {\n",
       "        vertical-align: middle;\n",
       "    }\n",
       "\n",
       "    .dataframe tbody tr th {\n",
       "        vertical-align: top;\n",
       "    }\n",
       "\n",
       "    .dataframe thead th {\n",
       "        text-align: right;\n",
       "    }\n",
       "</style>\n",
       "<table border=\"1\" class=\"dataframe\">\n",
       "  <thead>\n",
       "    <tr style=\"text-align: right;\">\n",
       "      <th></th>\n",
       "      <th>PatientID</th>\n",
       "      <th>age</th>\n",
       "      <th>clinical.T.Stage</th>\n",
       "      <th>Clinical.N.Stage</th>\n",
       "      <th>Clinical.M.Stage</th>\n",
       "      <th>Overall.Stage</th>\n",
       "      <th>Histology</th>\n",
       "      <th>gender</th>\n",
       "      <th>Survival.time</th>\n",
       "      <th>deadstatus.event</th>\n",
       "      <th>...</th>\n",
       "      <th>wavelet-LLL_gldm_GrayLevelNonUniformity</th>\n",
       "      <th>wavelet-LLL_gldm_GrayLevelVariance</th>\n",
       "      <th>wavelet-LLL_gldm_HighGrayLevelEmphasis</th>\n",
       "      <th>wavelet-LLL_gldm_LargeDependenceEmphasis</th>\n",
       "      <th>wavelet-LLL_gldm_LargeDependenceHighGrayLevelEmphasis</th>\n",
       "      <th>wavelet-LLL_gldm_LargeDependenceLowGrayLevelEmphasis</th>\n",
       "      <th>wavelet-LLL_gldm_LowGrayLevelEmphasis</th>\n",
       "      <th>wavelet-LLL_gldm_SmallDependenceEmphasis</th>\n",
       "      <th>wavelet-LLL_gldm_SmallDependenceHighGrayLevelEmphasis</th>\n",
       "      <th>wavelet-LLL_gldm_SmallDependenceLowGrayLevelEmphasis</th>\n",
       "    </tr>\n",
       "  </thead>\n",
       "  <tbody>\n",
       "    <tr>\n",
       "      <th>0</th>\n",
       "      <td>LUNG1-001</td>\n",
       "      <td>78.7515</td>\n",
       "      <td>2.0</td>\n",
       "      <td>3</td>\n",
       "      <td>0</td>\n",
       "      <td>IIIb</td>\n",
       "      <td>large cell</td>\n",
       "      <td>male</td>\n",
       "      <td>2165</td>\n",
       "      <td>1</td>\n",
       "      <td>...</td>\n",
       "      <td>13393.763031</td>\n",
       "      <td>179.264900</td>\n",
       "      <td>4832.419014</td>\n",
       "      <td>72.065403</td>\n",
       "      <td>395108.830811</td>\n",
       "      <td>0.017872</td>\n",
       "      <td>0.000442</td>\n",
       "      <td>0.189049</td>\n",
       "      <td>642.147174</td>\n",
       "      <td>0.000123</td>\n",
       "    </tr>\n",
       "    <tr>\n",
       "      <th>1</th>\n",
       "      <td>LUNG1-002</td>\n",
       "      <td>83.8001</td>\n",
       "      <td>2.0</td>\n",
       "      <td>0</td>\n",
       "      <td>0</td>\n",
       "      <td>I</td>\n",
       "      <td>squamous cell carcinoma</td>\n",
       "      <td>male</td>\n",
       "      <td>155</td>\n",
       "      <td>1</td>\n",
       "      <td>...</td>\n",
       "      <td>30435.593374</td>\n",
       "      <td>231.483934</td>\n",
       "      <td>4558.990657</td>\n",
       "      <td>118.826078</td>\n",
       "      <td>615187.351196</td>\n",
       "      <td>0.027186</td>\n",
       "      <td>0.000433</td>\n",
       "      <td>0.125072</td>\n",
       "      <td>371.860025</td>\n",
       "      <td>0.000096</td>\n",
       "    </tr>\n",
       "    <tr>\n",
       "      <th>2</th>\n",
       "      <td>LUNG1-003</td>\n",
       "      <td>68.1807</td>\n",
       "      <td>2.0</td>\n",
       "      <td>3</td>\n",
       "      <td>0</td>\n",
       "      <td>IIIb</td>\n",
       "      <td>large cell</td>\n",
       "      <td>male</td>\n",
       "      <td>256</td>\n",
       "      <td>1</td>\n",
       "      <td>...</td>\n",
       "      <td>1688.135276</td>\n",
       "      <td>218.269133</td>\n",
       "      <td>2577.313647</td>\n",
       "      <td>44.740697</td>\n",
       "      <td>149388.090307</td>\n",
       "      <td>0.021025</td>\n",
       "      <td>0.001081</td>\n",
       "      <td>0.273498</td>\n",
       "      <td>506.112016</td>\n",
       "      <td>0.000375</td>\n",
       "    </tr>\n",
       "    <tr>\n",
       "      <th>3</th>\n",
       "      <td>LUNG1-004</td>\n",
       "      <td>70.8802</td>\n",
       "      <td>2.0</td>\n",
       "      <td>1</td>\n",
       "      <td>0</td>\n",
       "      <td>II</td>\n",
       "      <td>squamous cell carcinoma</td>\n",
       "      <td>male</td>\n",
       "      <td>141</td>\n",
       "      <td>1</td>\n",
       "      <td>...</td>\n",
       "      <td>5660.448046</td>\n",
       "      <td>120.694667</td>\n",
       "      <td>4381.760740</td>\n",
       "      <td>61.175351</td>\n",
       "      <td>299133.133717</td>\n",
       "      <td>0.013747</td>\n",
       "      <td>0.000393</td>\n",
       "      <td>0.181132</td>\n",
       "      <td>613.881181</td>\n",
       "      <td>0.000125</td>\n",
       "    </tr>\n",
       "    <tr>\n",
       "      <th>4</th>\n",
       "      <td>LUNG1-005</td>\n",
       "      <td>80.4819</td>\n",
       "      <td>4.0</td>\n",
       "      <td>2</td>\n",
       "      <td>0</td>\n",
       "      <td>IIIb</td>\n",
       "      <td>squamous cell carcinoma</td>\n",
       "      <td>male</td>\n",
       "      <td>353</td>\n",
       "      <td>1</td>\n",
       "      <td>...</td>\n",
       "      <td>5794.013365</td>\n",
       "      <td>124.385590</td>\n",
       "      <td>5127.269539</td>\n",
       "      <td>70.726556</td>\n",
       "      <td>392174.428273</td>\n",
       "      <td>0.013114</td>\n",
       "      <td>0.000268</td>\n",
       "      <td>0.161437</td>\n",
       "      <td>642.519431</td>\n",
       "      <td>0.000082</td>\n",
       "    </tr>\n",
       "  </tbody>\n",
       "</table>\n",
       "<p>5 rows × 1228 columns</p>\n",
       "</div>"
      ],
      "text/plain": [
       "   PatientID      age  clinical.T.Stage  Clinical.N.Stage  Clinical.M.Stage  \\\n",
       "0  LUNG1-001  78.7515               2.0                 3                 0   \n",
       "1  LUNG1-002  83.8001               2.0                 0                 0   \n",
       "2  LUNG1-003  68.1807               2.0                 3                 0   \n",
       "3  LUNG1-004  70.8802               2.0                 1                 0   \n",
       "4  LUNG1-005  80.4819               4.0                 2                 0   \n",
       "\n",
       "  Overall.Stage                Histology gender  Survival.time  \\\n",
       "0          IIIb               large cell   male           2165   \n",
       "1             I  squamous cell carcinoma   male            155   \n",
       "2          IIIb               large cell   male            256   \n",
       "3            II  squamous cell carcinoma   male            141   \n",
       "4          IIIb  squamous cell carcinoma   male            353   \n",
       "\n",
       "   deadstatus.event  ...  wavelet-LLL_gldm_GrayLevelNonUniformity  \\\n",
       "0                 1  ...                             13393.763031   \n",
       "1                 1  ...                             30435.593374   \n",
       "2                 1  ...                              1688.135276   \n",
       "3                 1  ...                              5660.448046   \n",
       "4                 1  ...                              5794.013365   \n",
       "\n",
       "   wavelet-LLL_gldm_GrayLevelVariance  wavelet-LLL_gldm_HighGrayLevelEmphasis  \\\n",
       "0                          179.264900                             4832.419014   \n",
       "1                          231.483934                             4558.990657   \n",
       "2                          218.269133                             2577.313647   \n",
       "3                          120.694667                             4381.760740   \n",
       "4                          124.385590                             5127.269539   \n",
       "\n",
       "   wavelet-LLL_gldm_LargeDependenceEmphasis  \\\n",
       "0                                 72.065403   \n",
       "1                                118.826078   \n",
       "2                                 44.740697   \n",
       "3                                 61.175351   \n",
       "4                                 70.726556   \n",
       "\n",
       "   wavelet-LLL_gldm_LargeDependenceHighGrayLevelEmphasis  \\\n",
       "0                                      395108.830811       \n",
       "1                                      615187.351196       \n",
       "2                                      149388.090307       \n",
       "3                                      299133.133717       \n",
       "4                                      392174.428273       \n",
       "\n",
       "   wavelet-LLL_gldm_LargeDependenceLowGrayLevelEmphasis  \\\n",
       "0                                           0.017872      \n",
       "1                                           0.027186      \n",
       "2                                           0.021025      \n",
       "3                                           0.013747      \n",
       "4                                           0.013114      \n",
       "\n",
       "   wavelet-LLL_gldm_LowGrayLevelEmphasis  \\\n",
       "0                               0.000442   \n",
       "1                               0.000433   \n",
       "2                               0.001081   \n",
       "3                               0.000393   \n",
       "4                               0.000268   \n",
       "\n",
       "   wavelet-LLL_gldm_SmallDependenceEmphasis  \\\n",
       "0                                  0.189049   \n",
       "1                                  0.125072   \n",
       "2                                  0.273498   \n",
       "3                                  0.181132   \n",
       "4                                  0.161437   \n",
       "\n",
       "   wavelet-LLL_gldm_SmallDependenceHighGrayLevelEmphasis  \\\n",
       "0                                         642.147174       \n",
       "1                                         371.860025       \n",
       "2                                         506.112016       \n",
       "3                                         613.881181       \n",
       "4                                         642.519431       \n",
       "\n",
       "   wavelet-LLL_gldm_SmallDependenceLowGrayLevelEmphasis  \n",
       "0                                           0.000123     \n",
       "1                                           0.000096     \n",
       "2                                           0.000375     \n",
       "3                                           0.000125     \n",
       "4                                           0.000082     \n",
       "\n",
       "[5 rows x 1228 columns]"
      ]
     },
     "execution_count": 5,
     "metadata": {},
     "output_type": "execute_result"
    }
   ],
   "source": [
    "radiomics.head()"
   ]
  },
  {
   "cell_type": "code",
   "execution_count": 14,
   "id": "7de4d325-8c83-426c-88f1-dfc438e468c1",
   "metadata": {},
   "outputs": [
    {
     "name": "stdout",
     "output_type": "stream",
     "text": [
      "<class 'pandas.core.frame.DataFrame'>\n",
      "RangeIndex: 422 entries, 0 to 421\n",
      "Columns: 1228 entries, PatientID to wavelet-LLL_gldm_SmallDependenceLowGrayLevelEmphasis\n",
      "dtypes: float64(1220), int64(4), object(4)\n",
      "memory usage: 4.0+ MB\n"
     ]
    }
   ],
   "source": [
    "radiomics.info()"
   ]
  },
  {
   "cell_type": "markdown",
   "id": "49590860-e1a3-41aa-bf1b-b42054e62f6f",
   "metadata": {},
   "source": [
    "### Extract the features"
   ]
  },
  {
   "cell_type": "code",
   "execution_count": 15,
   "id": "6a846540-93a6-41b9-9b1c-617d1e3bf249",
   "metadata": {},
   "outputs": [
    {
     "name": "stdout",
     "output_type": "stream",
     "text": [
      "Number of files in 'tciaDownload': 421\n"
     ]
    }
   ],
   "source": [
    "import os\n",
    "\n",
    "dir_path = 'tciaDownload'\n",
    "file_count = len([f for f in os.listdir(dir_path) if os.path.isdir(os.path.join(dir_path, f))])\n",
    "\n",
    "print(f\"Number of files in '{dir_path}':\", file_count)"
   ]
  },
  {
   "cell_type": "code",
   "execution_count": 16,
   "id": "56e0922a-b2c0-405e-a146-5e039116304e",
   "metadata": {},
   "outputs": [],
   "source": [
    "# code for extraction\n",
    "def extract_tumor_xyz_from_seg(seg_path):\n",
    "    print(f\"Reading segmentation file: {seg_path}\")\n",
    "    image = sitk.ReadImage(seg_path)\n",
    "    array = sitk.GetArrayFromImage(image)\n",
    "\n",
    "    unique_labels = np.unique(array)\n",
    "    print(f\"Unique labels in segmentation: {unique_labels}\")\n",
    "\n",
    "    if len(unique_labels) <= 1:\n",
    "        raise ValueError(\"Segmentation does not contain labeled voxels.\")\n",
    "\n",
    "    label = 1 if 1 in unique_labels else int(unique_labels[1])\n",
    "    tumor_voxels = np.argwhere(array == label)\n",
    "\n",
    "    if tumor_voxels.size == 0:\n",
    "        raise ValueError(f\"No voxels found with label: {label}\")\n",
    "\n",
    "    spacing = image.GetSpacing()\n",
    "    origin = image.GetOrigin()\n",
    "    direction = np.array(image.GetDirection()).reshape(3, 3)\n",
    "\n",
    "    coords = []\n",
    "    for z, y, x in tumor_voxels:\n",
    "        phys = origin + direction @ (np.array([x, y, z]) * spacing)\n",
    "        coords.append(phys)\n",
    "\n",
    "    coords = np.array(coords)\n",
    "    centroid = coords.mean(axis=0)\n",
    "    min_xyz = coords.min(axis=0)\n",
    "    max_xyz = coords.max(axis=0)\n",
    "\n",
    "    return {\n",
    "        \"x\": centroid[0],\n",
    "        \"y\": centroid[1],\n",
    "        \"z\": centroid[2],\n",
    "        \"min_x\": min_xyz[0],\n",
    "        \"min_y\": min_xyz[1],\n",
    "        \"min_z\": min_xyz[2],\n",
    "        \"max_x\": max_xyz[0],\n",
    "        \"max_y\": max_xyz[1],\n",
    "        \"max_z\": max_xyz[2]\n",
    "    }"
   ]
  },
  {
   "cell_type": "code",
   "execution_count": 17,
   "id": "67a567a3-37c3-44de-950e-aee248e0d32e",
   "metadata": {},
   "outputs": [
    {
     "name": "stderr",
     "output_type": "stream",
     "text": [
      "Processing DICOM files:   0%|          | 0/421 [00:00<?, ?it/s]"
     ]
    },
    {
     "name": "stdout",
     "output_type": "stream",
     "text": [
      "Reading segmentation file: tciaDownload/1.2.276.0.7230010.3.1.3.2323910823.24656.1597260676.393/1-1.dcm\n"
     ]
    },
    {
     "name": "stdout",
     "output_type": "stream",
     "text": [
      "Unique labels in segmentation: [  0 255]\n"
     ]
    },
    {
     "name": "stderr",
     "output_type": "stream",
     "text": [
      "Processing DICOM files:   0%|          | 1/421 [00:35<4:05:35, 35.09s/it]"
     ]
    },
    {
     "name": "stdout",
     "output_type": "stream",
     "text": [
      "Reading segmentation file: tciaDownload/1.2.276.0.7230010.3.1.3.2323910823.7812.1597259950.739/1-1.dcm\n",
      "Unique labels in segmentation: [  0 255]\n"
     ]
    },
    {
     "name": "stderr",
     "output_type": "stream",
     "text": [
      "Processing DICOM files:   0%|          | 2/421 [00:53<2:57:23, 25.40s/it]"
     ]
    },
    {
     "name": "stdout",
     "output_type": "stream",
     "text": [
      "Reading segmentation file: tciaDownload/1.2.276.0.7230010.3.1.3.2323910823.20032.1597259512.885/1-1.dcm\n",
      "Unique labels in segmentation: [  0 255]\n"
     ]
    },
    {
     "name": "stderr",
     "output_type": "stream",
     "text": [
      "Processing DICOM files:   1%|          | 3/421 [01:18<2:54:40, 25.07s/it]"
     ]
    },
    {
     "name": "stdout",
     "output_type": "stream",
     "text": [
      "Reading segmentation file: tciaDownload/1.2.276.0.7230010.3.1.3.2323910823.20928.1597257388.674/1-1.dcm\n",
      "Unique labels in segmentation: [  0 255]\n"
     ]
    },
    {
     "name": "stderr",
     "output_type": "stream",
     "text": [
      "Processing DICOM files:   1%|          | 4/421 [01:40<2:44:49, 23.72s/it]"
     ]
    },
    {
     "name": "stdout",
     "output_type": "stream",
     "text": [
      "Reading segmentation file: tciaDownload/1.2.276.0.7230010.3.1.3.2323910823.20436.1597258071.430/1-1.dcm\n",
      "Unique labels in segmentation: [  0 255]\n"
     ]
    },
    {
     "name": "stderr",
     "output_type": "stream",
     "text": [
      "Processing DICOM files:   1%|          | 5/421 [01:56<2:25:21, 20.97s/it]"
     ]
    },
    {
     "name": "stdout",
     "output_type": "stream",
     "text": [
      "Reading segmentation file: tciaDownload/1.2.276.0.7230010.3.1.3.2323910823.24600.1597260066.788/1-1.dcm\n",
      "Unique labels in segmentation: [  0 255]\n"
     ]
    },
    {
     "name": "stderr",
     "output_type": "stream",
     "text": [
      "Processing DICOM files:   1%|▏         | 6/421 [02:09<2:06:00, 18.22s/it]"
     ]
    },
    {
     "name": "stdout",
     "output_type": "stream",
     "text": [
      "Reading segmentation file: tciaDownload/1.2.276.0.7230010.3.1.3.2323910823.21516.1597258948.620/1-1.dcm\n",
      "Unique labels in segmentation: [  0 255]\n"
     ]
    },
    {
     "name": "stderr",
     "output_type": "stream",
     "text": [
      "Processing DICOM files:   2%|▏         | 7/421 [02:26<2:03:01, 17.83s/it]"
     ]
    },
    {
     "name": "stdout",
     "output_type": "stream",
     "text": [
      "Reading segmentation file: tciaDownload/1.2.276.0.7230010.3.1.3.2323910823.22808.1597260060.644/1-1.dcm\n",
      "Unique labels in segmentation: [  0 255]\n"
     ]
    },
    {
     "name": "stderr",
     "output_type": "stream",
     "text": [
      "Processing DICOM files:   2%|▏         | 8/421 [02:38<1:51:44, 16.23s/it]"
     ]
    },
    {
     "name": "stdout",
     "output_type": "stream",
     "text": [
      "Reading segmentation file: tciaDownload/1.2.276.0.7230010.3.1.3.2323910823.13720.1597257689.741/1-1.dcm\n",
      "Unique labels in segmentation: [  0 255]\n"
     ]
    },
    {
     "name": "stderr",
     "output_type": "stream",
     "text": [
      "Processing DICOM files:   2%|▏         | 9/421 [02:59<2:01:46, 17.73s/it]"
     ]
    },
    {
     "name": "stdout",
     "output_type": "stream",
     "text": [
      "Reading segmentation file: tciaDownload/1.2.276.0.7230010.3.1.3.2323910823.21996.1597261120.89/1-1.dcm\n",
      "Unique labels in segmentation: [  0 255]\n"
     ]
    },
    {
     "name": "stderr",
     "output_type": "stream",
     "text": [
      "Processing DICOM files:   2%|▏         | 10/421 [03:24<2:15:39, 19.80s/it]"
     ]
    },
    {
     "name": "stdout",
     "output_type": "stream",
     "text": [
      "Reading segmentation file: tciaDownload/1.2.276.0.7230010.3.1.3.2323910823.6096.1597259674.893/1-1.dcm\n",
      "Unique labels in segmentation: [  0 255]\n"
     ]
    },
    {
     "name": "stderr",
     "output_type": "stream",
     "text": [
      "Processing DICOM files:   3%|▎         | 11/421 [03:38<2:03:24, 18.06s/it]"
     ]
    },
    {
     "name": "stdout",
     "output_type": "stream",
     "text": [
      "Reading segmentation file: tciaDownload/1.2.276.0.7230010.3.1.3.2323910823.20520.1597258876.493/1-1.dcm\n",
      "Unique labels in segmentation: [  0 255]\n"
     ]
    },
    {
     "name": "stderr",
     "output_type": "stream",
     "text": [
      "Processing DICOM files:   3%|▎         | 12/421 [03:50<1:51:23, 16.34s/it]"
     ]
    },
    {
     "name": "stdout",
     "output_type": "stream",
     "text": [
      "Reading segmentation file: tciaDownload/1.2.276.0.7230010.3.1.3.2323910823.15032.1597259458.407/1-1.dcm\n",
      "Unique labels in segmentation: [  0 255]\n"
     ]
    },
    {
     "name": "stderr",
     "output_type": "stream",
     "text": [
      "Processing DICOM files:   3%|▎         | 13/421 [04:06<1:49:43, 16.14s/it]"
     ]
    },
    {
     "name": "stdout",
     "output_type": "stream",
     "text": [
      "Reading segmentation file: tciaDownload/1.2.276.0.7230010.3.1.3.2323910823.16628.1597260733.543/1-1.dcm\n",
      "Unique labels in segmentation: [  0 255]\n"
     ]
    },
    {
     "name": "stderr",
     "output_type": "stream",
     "text": [
      "Processing DICOM files:   3%|▎         | 14/421 [04:19<1:43:02, 15.19s/it]"
     ]
    },
    {
     "name": "stdout",
     "output_type": "stream",
     "text": [
      "Reading segmentation file: tciaDownload/1.2.276.0.7230010.3.1.3.2323910823.22452.1597259222.506/1-1.dcm\n",
      "Unique labels in segmentation: [  0 255]\n"
     ]
    },
    {
     "name": "stderr",
     "output_type": "stream",
     "text": [
      "Processing DICOM files:   4%|▎         | 15/421 [04:37<1:47:33, 15.89s/it]"
     ]
    },
    {
     "name": "stdout",
     "output_type": "stream",
     "text": [
      "Reading segmentation file: tciaDownload/1.2.276.0.7230010.3.1.3.2323910823.4588.1597258360.826/1-1.dcm\n",
      "Unique labels in segmentation: [  0 255]\n"
     ]
    },
    {
     "name": "stderr",
     "output_type": "stream",
     "text": [
      "Processing DICOM files:   4%|▍         | 16/421 [04:54<1:51:26, 16.51s/it]"
     ]
    },
    {
     "name": "stdout",
     "output_type": "stream",
     "text": [
      "Reading segmentation file: tciaDownload/1.2.276.0.7230010.3.1.3.2323910823.5220.1597259725.541/1-1.dcm\n",
      "Unique labels in segmentation: [  0 255]\n"
     ]
    },
    {
     "name": "stderr",
     "output_type": "stream",
     "text": [
      "Processing DICOM files:   4%|▍         | 17/421 [05:16<2:00:24, 17.88s/it]"
     ]
    },
    {
     "name": "stdout",
     "output_type": "stream",
     "text": [
      "Reading segmentation file: tciaDownload/1.2.276.0.7230010.3.1.3.2323910823.4780.1597260528.760/1-1.dcm\n",
      "Unique labels in segmentation: [  0 255]\n"
     ]
    },
    {
     "name": "stderr",
     "output_type": "stream",
     "text": [
      "Processing DICOM files:   4%|▍         | 18/421 [05:34<2:01:34, 18.10s/it]"
     ]
    },
    {
     "name": "stdout",
     "output_type": "stream",
     "text": [
      "Reading segmentation file: tciaDownload/1.2.276.0.7230010.3.1.3.2323910823.23564.1597258808.674/1-1.dcm\n",
      "Unique labels in segmentation: [  0 255]\n"
     ]
    },
    {
     "name": "stderr",
     "output_type": "stream",
     "text": [
      "Processing DICOM files:   5%|▍         | 19/421 [05:53<2:03:31, 18.44s/it]"
     ]
    },
    {
     "name": "stdout",
     "output_type": "stream",
     "text": [
      "Reading segmentation file: tciaDownload/1.2.276.0.7230010.3.1.3.2323910823.24204.1597258299.222/1-1.dcm\n",
      "Unique labels in segmentation: [  0 255]\n"
     ]
    },
    {
     "name": "stderr",
     "output_type": "stream",
     "text": [
      "Processing DICOM files:   5%|▍         | 20/421 [06:18<2:16:17, 20.39s/it]"
     ]
    },
    {
     "name": "stdout",
     "output_type": "stream",
     "text": [
      "Reading segmentation file: tciaDownload/1.2.276.0.7230010.3.1.3.2323910823.24368.1597258391.184/1-1.dcm\n",
      "Unique labels in segmentation: [  0 255]\n"
     ]
    },
    {
     "name": "stderr",
     "output_type": "stream",
     "text": [
      "Processing DICOM files:   5%|▍         | 21/421 [06:40<2:18:59, 20.85s/it]"
     ]
    },
    {
     "name": "stdout",
     "output_type": "stream",
     "text": [
      "Reading segmentation file: tciaDownload/1.2.276.0.7230010.3.1.3.2323910823.23868.1597261009.305/1-1.dcm\n",
      "Unique labels in segmentation: [  0 255]\n"
     ]
    },
    {
     "name": "stderr",
     "output_type": "stream",
     "text": [
      "Processing DICOM files:   5%|▌         | 22/421 [06:51<1:58:34, 17.83s/it]"
     ]
    },
    {
     "name": "stdout",
     "output_type": "stream",
     "text": [
      "Reading segmentation file: tciaDownload/1.2.276.0.7230010.3.1.3.2323910823.12196.1597259389.145/1-1.dcm\n",
      "Unique labels in segmentation: [  0 255]\n"
     ]
    },
    {
     "name": "stderr",
     "output_type": "stream",
     "text": [
      "Processing DICOM files:   5%|▌         | 23/421 [07:08<1:57:16, 17.68s/it]"
     ]
    },
    {
     "name": "stdout",
     "output_type": "stream",
     "text": [
      "Reading segmentation file: tciaDownload/1.2.276.0.7230010.3.1.3.2323910823.8800.1597258157.874/1-1.dcm\n",
      "Unique labels in segmentation: [  0 255]\n"
     ]
    },
    {
     "name": "stderr",
     "output_type": "stream",
     "text": [
      "Processing DICOM files:   6%|▌         | 24/421 [07:30<2:05:21, 18.95s/it]"
     ]
    },
    {
     "name": "stdout",
     "output_type": "stream",
     "text": [
      "Reading segmentation file: tciaDownload/1.2.276.0.7230010.3.1.3.2323910823.3320.1597261081.954/1-1.dcm\n",
      "Unique labels in segmentation: [  0 255]\n"
     ]
    },
    {
     "name": "stderr",
     "output_type": "stream",
     "text": [
      "Processing DICOM files:   6%|▌         | 25/421 [07:47<1:59:42, 18.14s/it]"
     ]
    },
    {
     "name": "stdout",
     "output_type": "stream",
     "text": [
      "Reading segmentation file: tciaDownload/1.2.276.0.7230010.3.1.3.2323910823.25516.1597259029.615/1-1.dcm\n",
      "Unique labels in segmentation: [  0 255]\n"
     ]
    },
    {
     "name": "stderr",
     "output_type": "stream",
     "text": [
      "Processing DICOM files:   6%|▌         | 26/421 [07:59<1:48:10, 16.43s/it]"
     ]
    },
    {
     "name": "stdout",
     "output_type": "stream",
     "text": [
      "Reading segmentation file: tciaDownload/1.2.276.0.7230010.3.1.3.2323910823.22668.1597258330.146/1-1.dcm\n",
      "Unique labels in segmentation: [  0 255]\n"
     ]
    },
    {
     "name": "stderr",
     "output_type": "stream",
     "text": [
      "Processing DICOM files:   6%|▋         | 27/421 [08:12<1:40:26, 15.30s/it]"
     ]
    },
    {
     "name": "stdout",
     "output_type": "stream",
     "text": [
      "Reading segmentation file: tciaDownload/1.2.276.0.7230010.3.1.3.2323910823.17888.1597257881.851/1-1.dcm\n",
      "Unique labels in segmentation: [  0 255]\n"
     ]
    },
    {
     "name": "stderr",
     "output_type": "stream",
     "text": [
      "Processing DICOM files:   7%|▋         | 28/421 [08:42<2:10:19, 19.90s/it]"
     ]
    },
    {
     "name": "stdout",
     "output_type": "stream",
     "text": [
      "Reading segmentation file: tciaDownload/1.2.276.0.7230010.3.1.3.2323910823.11560.1597257843.240/1-1.dcm\n",
      "Unique labels in segmentation: [  0 255]\n"
     ]
    },
    {
     "name": "stderr",
     "output_type": "stream",
     "text": [
      "Processing DICOM files:   7%|▋         | 29/421 [09:00<2:06:20, 19.34s/it]"
     ]
    },
    {
     "name": "stdout",
     "output_type": "stream",
     "text": [
      "Reading segmentation file: tciaDownload/1.2.276.0.7230010.3.1.3.2323910823.708.1597258983.418/1-1.dcm\n",
      "Unique labels in segmentation: [  0 255]\n"
     ]
    },
    {
     "name": "stderr",
     "output_type": "stream",
     "text": [
      "Processing DICOM files:   7%|▋         | 30/421 [09:21<2:08:14, 19.68s/it]"
     ]
    },
    {
     "name": "stdout",
     "output_type": "stream",
     "text": [
      "Reading segmentation file: tciaDownload/1.2.276.0.7230010.3.1.3.2323910823.17564.1597257943.880/1-1.dcm\n",
      "Unique labels in segmentation: [  0 255]\n"
     ]
    },
    {
     "name": "stderr",
     "output_type": "stream",
     "text": [
      "Processing DICOM files:   7%|▋         | 31/421 [09:32<1:51:02, 17.08s/it]"
     ]
    },
    {
     "name": "stdout",
     "output_type": "stream",
     "text": [
      "Reading segmentation file: tciaDownload/1.2.276.0.7230010.3.1.3.2323910823.19744.1597258897.937/1-1.dcm\n",
      "Unique labels in segmentation: [  0 255]\n"
     ]
    },
    {
     "name": "stderr",
     "output_type": "stream",
     "text": [
      "Processing DICOM files:   8%|▊         | 32/421 [09:48<1:49:58, 16.96s/it]"
     ]
    },
    {
     "name": "stdout",
     "output_type": "stream",
     "text": [
      "Reading segmentation file: tciaDownload/1.2.276.0.7230010.3.1.3.2323910823.17844.1597257931.974/1-1.dcm\n",
      "Unique labels in segmentation: [  0 255]\n"
     ]
    },
    {
     "name": "stderr",
     "output_type": "stream",
     "text": [
      "Processing DICOM files:   8%|▊         | 33/421 [10:06<1:51:11, 17.20s/it]"
     ]
    },
    {
     "name": "stdout",
     "output_type": "stream",
     "text": [
      "Reading segmentation file: tciaDownload/1.2.276.0.7230010.3.1.3.2323910823.24720.1597258109.252/1-1.dcm\n",
      "Unique labels in segmentation: [  0 255]\n"
     ]
    },
    {
     "name": "stderr",
     "output_type": "stream",
     "text": [
      "Processing DICOM files:   8%|▊         | 34/421 [10:24<1:52:10, 17.39s/it]"
     ]
    },
    {
     "name": "stdout",
     "output_type": "stream",
     "text": [
      "Reading segmentation file: tciaDownload/1.2.276.0.7230010.3.1.3.2323910823.11960.1597259765.23/1-1.dcm\n",
      "Unique labels in segmentation: [  0 255]\n"
     ]
    },
    {
     "name": "stderr",
     "output_type": "stream",
     "text": [
      "Processing DICOM files:   8%|▊         | 35/421 [10:39<1:46:35, 16.57s/it]"
     ]
    },
    {
     "name": "stdout",
     "output_type": "stream",
     "text": [
      "Reading segmentation file: tciaDownload/1.2.276.0.7230010.3.1.3.2323910823.22156.1597259681.329/1-1.dcm\n",
      "Unique labels in segmentation: [  0 255]\n"
     ]
    },
    {
     "name": "stderr",
     "output_type": "stream",
     "text": [
      "Processing DICOM files:   9%|▊         | 36/421 [10:51<1:38:28, 15.35s/it]"
     ]
    },
    {
     "name": "stdout",
     "output_type": "stream",
     "text": [
      "Reading segmentation file: tciaDownload/1.2.276.0.7230010.3.1.3.2323910823.25564.1597258189.158/1-1.dcm\n",
      "Unique labels in segmentation: [  0 255]\n"
     ]
    },
    {
     "name": "stderr",
     "output_type": "stream",
     "text": [
      "Processing DICOM files:   9%|▉         | 37/421 [11:10<1:44:48, 16.38s/it]"
     ]
    },
    {
     "name": "stdout",
     "output_type": "stream",
     "text": [
      "Reading segmentation file: tciaDownload/1.2.276.0.7230010.3.1.3.2323910823.20892.1597260926.322/1-1.dcm\n",
      "Unique labels in segmentation: [  0 255]\n"
     ]
    },
    {
     "name": "stderr",
     "output_type": "stream",
     "text": [
      "Processing DICOM files:   9%|▉         | 38/421 [11:24<1:39:42, 15.62s/it]"
     ]
    },
    {
     "name": "stdout",
     "output_type": "stream",
     "text": [
      "Reading segmentation file: tciaDownload/1.2.276.0.7230010.3.1.3.2323910823.15572.1597258955.450/1-1.dcm\n",
      "Unique labels in segmentation: [  0 255]\n"
     ]
    },
    {
     "name": "stderr",
     "output_type": "stream",
     "text": [
      "Processing DICOM files:   9%|▉         | 39/421 [11:38<1:37:13, 15.27s/it]"
     ]
    },
    {
     "name": "stdout",
     "output_type": "stream",
     "text": [
      "Reading segmentation file: tciaDownload/1.2.276.0.7230010.3.1.3.2323910823.1272.1597258883.839/1-1.dcm\n",
      "Unique labels in segmentation: [  0 255]\n"
     ]
    },
    {
     "name": "stderr",
     "output_type": "stream",
     "text": [
      "Processing DICOM files:  10%|▉         | 40/421 [11:56<1:40:42, 15.86s/it]"
     ]
    },
    {
     "name": "stdout",
     "output_type": "stream",
     "text": [
      "Reading segmentation file: tciaDownload/1.2.276.0.7230010.3.1.3.2323910823.19272.1597258758.834/1-1.dcm\n",
      "Unique labels in segmentation: [  0 255]\n"
     ]
    },
    {
     "name": "stderr",
     "output_type": "stream",
     "text": [
      "Processing DICOM files:  10%|▉         | 41/421 [12:10<1:38:46, 15.60s/it]"
     ]
    },
    {
     "name": "stdout",
     "output_type": "stream",
     "text": [
      "Reading segmentation file: tciaDownload/1.2.276.0.7230010.3.1.3.2323910823.19372.1597261259.403/1-1.dcm\n",
      "Unique labels in segmentation: [  0 255]\n"
     ]
    },
    {
     "name": "stderr",
     "output_type": "stream",
     "text": [
      "Processing DICOM files:  10%|▉         | 42/421 [12:23<1:31:56, 14.55s/it]"
     ]
    },
    {
     "name": "stdout",
     "output_type": "stream",
     "text": [
      "Reading segmentation file: tciaDownload/1.2.276.0.7230010.3.1.3.2323910823.9180.1597257853.312/1-1.dcm\n",
      "Unique labels in segmentation: [  0 255]\n"
     ]
    },
    {
     "name": "stderr",
     "output_type": "stream",
     "text": [
      "Processing DICOM files:  10%|█         | 43/421 [12:39<1:35:55, 15.23s/it]"
     ]
    },
    {
     "name": "stdout",
     "output_type": "stream",
     "text": [
      "Reading segmentation file: tciaDownload/1.2.276.0.7230010.3.1.3.2323910823.15944.1597257301.946/1-1.dcm\n",
      "Unique labels in segmentation: [  0 255]\n"
     ]
    },
    {
     "name": "stderr",
     "output_type": "stream",
     "text": [
      "Processing DICOM files:  10%|█         | 44/421 [13:02<1:50:11, 17.54s/it]"
     ]
    },
    {
     "name": "stdout",
     "output_type": "stream",
     "text": [
      "Reading segmentation file: tciaDownload/1.2.276.0.7230010.3.1.3.2323910823.22996.1597257815.270/1-1.dcm\n",
      "Unique labels in segmentation: [  0 255]\n"
     ]
    },
    {
     "name": "stderr",
     "output_type": "stream",
     "text": [
      "Processing DICOM files:  11%|█         | 45/421 [13:22<1:54:47, 18.32s/it]"
     ]
    },
    {
     "name": "stdout",
     "output_type": "stream",
     "text": [
      "Reading segmentation file: tciaDownload/1.2.276.0.7230010.3.1.3.2323910823.11168.1597257848.356/1-1.dcm\n",
      "Unique labels in segmentation: [  0 255]\n"
     ]
    },
    {
     "name": "stderr",
     "output_type": "stream",
     "text": [
      "Processing DICOM files:  11%|█         | 46/421 [13:36<1:46:11, 16.99s/it]"
     ]
    },
    {
     "name": "stdout",
     "output_type": "stream",
     "text": [
      "Reading segmentation file: tciaDownload/1.2.276.0.7230010.3.1.3.2323910823.9504.1597259006.266/1-1.dcm\n",
      "Unique labels in segmentation: [  0 255]\n"
     ]
    },
    {
     "name": "stderr",
     "output_type": "stream",
     "text": [
      "Processing DICOM files:  11%|█         | 47/421 [13:51<1:41:54, 16.35s/it]"
     ]
    },
    {
     "name": "stdout",
     "output_type": "stream",
     "text": [
      "Reading segmentation file: tciaDownload/1.2.276.0.7230010.3.1.3.2323910823.16608.1597259615.605/1-1.dcm\n",
      "Unique labels in segmentation: [  0 255]\n"
     ]
    },
    {
     "name": "stderr",
     "output_type": "stream",
     "text": [
      "Processing DICOM files:  11%|█▏        | 48/421 [14:07<1:40:45, 16.21s/it]"
     ]
    },
    {
     "name": "stdout",
     "output_type": "stream",
     "text": [
      "Reading segmentation file: tciaDownload/1.2.276.0.7230010.3.1.3.2323910823.12340.1597260886.994/1-1.dcm\n",
      "Unique labels in segmentation: [  0 255]\n"
     ]
    },
    {
     "name": "stderr",
     "output_type": "stream",
     "text": [
      "Processing DICOM files:  12%|█▏        | 49/421 [14:24<1:41:22, 16.35s/it]"
     ]
    },
    {
     "name": "stdout",
     "output_type": "stream",
     "text": [
      "Reading segmentation file: tciaDownload/1.2.276.0.7230010.3.1.3.2323910823.3444.1597258306.775/1-1.dcm\n",
      "Unique labels in segmentation: [  0 255]\n"
     ]
    },
    {
     "name": "stderr",
     "output_type": "stream",
     "text": [
      "Processing DICOM files:  12%|█▏        | 50/421 [14:41<1:42:29, 16.57s/it]"
     ]
    },
    {
     "name": "stdout",
     "output_type": "stream",
     "text": [
      "Reading segmentation file: tciaDownload/1.2.276.0.7230010.3.1.3.2323910823.4500.1597258678.178/1-1.dcm\n",
      "Unique labels in segmentation: [  0 255]\n"
     ]
    },
    {
     "name": "stderr",
     "output_type": "stream",
     "text": [
      "Processing DICOM files:  12%|█▏        | 51/421 [14:58<1:43:41, 16.82s/it]"
     ]
    },
    {
     "name": "stdout",
     "output_type": "stream",
     "text": [
      "Reading segmentation file: tciaDownload/1.2.276.0.7230010.3.1.3.2323910823.19432.1597259449.889/1-1.dcm\n",
      "Unique labels in segmentation: [  0 255]\n"
     ]
    },
    {
     "name": "stderr",
     "output_type": "stream",
     "text": [
      "Processing DICOM files:  12%|█▏        | 52/421 [15:18<1:49:29, 17.80s/it]"
     ]
    },
    {
     "name": "stdout",
     "output_type": "stream",
     "text": [
      "Reading segmentation file: tciaDownload/1.2.276.0.7230010.3.1.3.2323910823.24096.1597260920.20/1-1.dcm\n",
      "Unique labels in segmentation: [  0 255]\n"
     ]
    },
    {
     "name": "stderr",
     "output_type": "stream",
     "text": [
      "Processing DICOM files:  13%|█▎        | 53/421 [15:30<1:38:05, 15.99s/it]"
     ]
    },
    {
     "name": "stdout",
     "output_type": "stream",
     "text": [
      "Reading segmentation file: tciaDownload/1.2.276.0.7230010.3.1.3.2323910823.4364.1597261040.763/1-1.dcm\n",
      "Unique labels in segmentation: [  0 255]\n"
     ]
    },
    {
     "name": "stderr",
     "output_type": "stream",
     "text": [
      "Processing DICOM files:  13%|█▎        | 54/421 [15:48<1:40:25, 16.42s/it]"
     ]
    },
    {
     "name": "stdout",
     "output_type": "stream",
     "text": [
      "Reading segmentation file: tciaDownload/1.2.276.0.7230010.3.1.3.2323910823.4140.1597258147.912/1-1.dcm\n",
      "Unique labels in segmentation: [  0 255]\n"
     ]
    },
    {
     "name": "stderr",
     "output_type": "stream",
     "text": [
      "Processing DICOM files:  13%|█▎        | 55/421 [16:07<1:45:46, 17.34s/it]"
     ]
    },
    {
     "name": "stdout",
     "output_type": "stream",
     "text": [
      "Reading segmentation file: tciaDownload/1.2.276.0.7230010.3.1.3.2323910823.22372.1597259190.507/1-1.dcm\n",
      "Unique labels in segmentation: [  0 255]\n"
     ]
    },
    {
     "name": "stderr",
     "output_type": "stream",
     "text": [
      "Processing DICOM files:  13%|█▎        | 56/421 [16:26<1:48:37, 17.86s/it]"
     ]
    },
    {
     "name": "stdout",
     "output_type": "stream",
     "text": [
      "Reading segmentation file: tciaDownload/1.2.276.0.7230010.3.1.3.2323910823.5248.1597260718.487/1-1.dcm\n",
      "Unique labels in segmentation: [  0 255]\n"
     ]
    },
    {
     "name": "stderr",
     "output_type": "stream",
     "text": [
      "Processing DICOM files:  14%|█▎        | 57/421 [16:46<1:51:35, 18.39s/it]"
     ]
    },
    {
     "name": "stdout",
     "output_type": "stream",
     "text": [
      "Reading segmentation file: tciaDownload/1.2.276.0.7230010.3.1.3.2323910823.4832.1597258263.810/1-1.dcm\n",
      "Unique labels in segmentation: [  0 255]\n"
     ]
    },
    {
     "name": "stderr",
     "output_type": "stream",
     "text": [
      "Processing DICOM files:  14%|█▍        | 58/421 [16:59<1:42:34, 16.95s/it]"
     ]
    },
    {
     "name": "stdout",
     "output_type": "stream",
     "text": [
      "Reading segmentation file: tciaDownload/1.2.276.0.7230010.3.1.3.2323910823.7828.1597261277.116/1-1.dcm\n",
      "Unique labels in segmentation: [  0 255]\n"
     ]
    },
    {
     "name": "stderr",
     "output_type": "stream",
     "text": [
      "Processing DICOM files:  14%|█▍        | 59/421 [17:16<1:42:22, 16.97s/it]"
     ]
    },
    {
     "name": "stdout",
     "output_type": "stream",
     "text": [
      "Reading segmentation file: tciaDownload/1.2.276.0.7230010.3.1.3.2323910823.24764.1597258017.760/1-1.dcm\n",
      "Unique labels in segmentation: [  0 255]\n"
     ]
    },
    {
     "name": "stderr",
     "output_type": "stream",
     "text": [
      "Processing DICOM files:  14%|█▍        | 60/421 [17:27<1:29:52, 14.94s/it]"
     ]
    },
    {
     "name": "stdout",
     "output_type": "stream",
     "text": [
      "Reading segmentation file: tciaDownload/1.2.276.0.7230010.3.1.3.2323910823.14848.1597258177.601/1-1.dcm\n",
      "Unique labels in segmentation: [  0 255]\n"
     ]
    },
    {
     "name": "stderr",
     "output_type": "stream",
     "text": [
      "Processing DICOM files:  14%|█▍        | 61/421 [17:50<1:44:22, 17.40s/it]"
     ]
    },
    {
     "name": "stdout",
     "output_type": "stream",
     "text": [
      "Reading segmentation file: tciaDownload/1.2.276.0.7230010.3.1.3.2323910823.9892.1597259991.956/1-1.dcm\n",
      "Unique labels in segmentation: [  0 255]\n"
     ]
    },
    {
     "name": "stderr",
     "output_type": "stream",
     "text": [
      "Processing DICOM files:  15%|█▍        | 62/421 [18:07<1:43:54, 17.37s/it]"
     ]
    },
    {
     "name": "stdout",
     "output_type": "stream",
     "text": [
      "Reading segmentation file: tciaDownload/1.2.276.0.7230010.3.1.3.2323910823.6976.1597259484.719/1-1.dcm\n",
      "Unique labels in segmentation: [  0 255]\n"
     ]
    },
    {
     "name": "stderr",
     "output_type": "stream",
     "text": [
      "Processing DICOM files:  15%|█▍        | 63/421 [18:20<1:36:29, 16.17s/it]"
     ]
    },
    {
     "name": "stdout",
     "output_type": "stream",
     "text": [
      "Reading segmentation file: tciaDownload/1.2.276.0.7230010.3.1.3.2323910823.19836.1597257837.514/1-1.dcm\n",
      "Unique labels in segmentation: [  0 255]\n"
     ]
    },
    {
     "name": "stderr",
     "output_type": "stream",
     "text": [
      "Processing DICOM files:  15%|█▌        | 64/421 [18:36<1:36:01, 16.14s/it]"
     ]
    },
    {
     "name": "stdout",
     "output_type": "stream",
     "text": [
      "Reading segmentation file: tciaDownload/1.2.276.0.7230010.3.1.3.2323910823.10320.1597260861.446/1-1.dcm\n",
      "Unique labels in segmentation: [  0 255]\n"
     ]
    },
    {
     "name": "stderr",
     "output_type": "stream",
     "text": [
      "Processing DICOM files:  15%|█▌        | 65/421 [18:50<1:31:00, 15.34s/it]"
     ]
    },
    {
     "name": "stdout",
     "output_type": "stream",
     "text": [
      "Reading segmentation file: tciaDownload/1.2.276.0.7230010.3.1.3.2323910823.22112.1597260041.430/1-1.dcm\n",
      "Unique labels in segmentation: [  0 255]\n"
     ]
    },
    {
     "name": "stderr",
     "output_type": "stream",
     "text": [
      "Processing DICOM files:  16%|█▌        | 66/421 [19:05<1:29:54, 15.20s/it]"
     ]
    },
    {
     "name": "stdout",
     "output_type": "stream",
     "text": [
      "Reading segmentation file: tciaDownload/1.2.276.0.7230010.3.1.3.2323910823.2964.1597261268.557/1-1.dcm\n",
      "Unique labels in segmentation: [  0 255]\n"
     ]
    },
    {
     "name": "stderr",
     "output_type": "stream",
     "text": [
      "Processing DICOM files:  16%|█▌        | 67/421 [19:26<1:41:00, 17.12s/it]"
     ]
    },
    {
     "name": "stdout",
     "output_type": "stream",
     "text": [
      "Reading segmentation file: tciaDownload/1.2.276.0.7230010.3.1.3.2323910823.20348.1597258712.72/1-1.dcm\n",
      "Unique labels in segmentation: [  0 255]\n"
     ]
    },
    {
     "name": "stderr",
     "output_type": "stream",
     "text": [
      "Processing DICOM files:  16%|█▌        | 68/421 [19:39<1:32:08, 15.66s/it]"
     ]
    },
    {
     "name": "stdout",
     "output_type": "stream",
     "text": [
      "Reading segmentation file: tciaDownload/1.2.276.0.7230010.3.1.3.2323910823.15524.1597259893.936/1-1.dcm\n",
      "Unique labels in segmentation: [  0 255]\n"
     ]
    },
    {
     "name": "stderr",
     "output_type": "stream",
     "text": [
      "Processing DICOM files:  16%|█▋        | 69/421 [19:59<1:39:25, 16.95s/it]"
     ]
    },
    {
     "name": "stdout",
     "output_type": "stream",
     "text": [
      "Reading segmentation file: tciaDownload/1.2.276.0.7230010.3.1.3.2323910823.18660.1597259519.710/1-1.dcm\n",
      "Unique labels in segmentation: [  0 255]\n"
     ]
    },
    {
     "name": "stderr",
     "output_type": "stream",
     "text": [
      "Processing DICOM files:  17%|█▋        | 70/421 [20:17<1:41:00, 17.27s/it]"
     ]
    },
    {
     "name": "stdout",
     "output_type": "stream",
     "text": [
      "Reading segmentation file: tciaDownload/1.2.276.0.7230010.3.1.3.2323910823.11860.1597259528.443/1-1.dcm\n",
      "Unique labels in segmentation: [  0 255]\n"
     ]
    },
    {
     "name": "stderr",
     "output_type": "stream",
     "text": [
      "Processing DICOM files:  17%|█▋        | 71/421 [20:37<1:46:03, 18.18s/it]"
     ]
    },
    {
     "name": "stdout",
     "output_type": "stream",
     "text": [
      "Reading segmentation file: tciaDownload/1.2.276.0.7230010.3.1.3.2323910823.3520.1597260769.495/1-1.dcm\n",
      "Unique labels in segmentation: [  0 255]\n"
     ]
    },
    {
     "name": "stderr",
     "output_type": "stream",
     "text": [
      "Processing DICOM files:  17%|█▋        | 72/421 [21:02<1:58:26, 20.36s/it]"
     ]
    },
    {
     "name": "stdout",
     "output_type": "stream",
     "text": [
      "Reading segmentation file: tciaDownload/1.2.276.0.7230010.3.1.3.2323910823.12952.1597259404.216/1-1.dcm\n",
      "Unique labels in segmentation: [  0 255]\n"
     ]
    },
    {
     "name": "stderr",
     "output_type": "stream",
     "text": [
      "Processing DICOM files:  17%|█▋        | 73/421 [21:17<1:48:52, 18.77s/it]"
     ]
    },
    {
     "name": "stdout",
     "output_type": "stream",
     "text": [
      "Reading segmentation file: tciaDownload/1.2.276.0.7230010.3.1.3.2323910823.14796.1597259937.609/1-1.dcm\n",
      "Unique labels in segmentation: [  0 255]\n"
     ]
    },
    {
     "name": "stderr",
     "output_type": "stream",
     "text": [
      "Processing DICOM files:  18%|█▊        | 74/421 [21:38<1:50:54, 19.18s/it]"
     ]
    },
    {
     "name": "stdout",
     "output_type": "stream",
     "text": [
      "Reading segmentation file: tciaDownload/1.2.276.0.7230010.3.1.3.2323910823.21208.1597260597.918/1-1.dcm\n",
      "Unique labels in segmentation: [  0 255]\n"
     ]
    },
    {
     "name": "stderr",
     "output_type": "stream",
     "text": [
      "Processing DICOM files:  18%|█▊        | 75/421 [21:57<1:51:33, 19.35s/it]"
     ]
    },
    {
     "name": "stdout",
     "output_type": "stream",
     "text": [
      "Reading segmentation file: tciaDownload/1.2.276.0.7230010.3.1.3.2323910823.2364.1597257968.35/1-1.dcm\n",
      "Unique labels in segmentation: [  0 255]\n"
     ]
    },
    {
     "name": "stderr",
     "output_type": "stream",
     "text": [
      "Processing DICOM files:  18%|█▊        | 76/421 [22:09<1:38:15, 17.09s/it]"
     ]
    },
    {
     "name": "stdout",
     "output_type": "stream",
     "text": [
      "Reading segmentation file: tciaDownload/1.2.276.0.7230010.3.1.3.2323910823.25020.1597259944.759/1-1.dcm\n",
      "Unique labels in segmentation: [  0 255]\n"
     ]
    },
    {
     "name": "stderr",
     "output_type": "stream",
     "text": [
      "Processing DICOM files:  18%|█▊        | 77/421 [22:24<1:34:18, 16.45s/it]"
     ]
    },
    {
     "name": "stdout",
     "output_type": "stream",
     "text": [
      "Reading segmentation file: tciaDownload/1.2.276.0.7230010.3.1.3.2323910823.18944.1597259956.847/1-1.dcm\n",
      "Unique labels in segmentation: [  0 255]\n"
     ]
    },
    {
     "name": "stderr",
     "output_type": "stream",
     "text": [
      "Processing DICOM files:  19%|█▊        | 78/421 [22:42<1:36:41, 16.91s/it]"
     ]
    },
    {
     "name": "stdout",
     "output_type": "stream",
     "text": [
      "Reading segmentation file: tciaDownload/1.2.276.0.7230010.3.1.3.2323910823.11676.1597258838.5/1-1.dcm\n",
      "Unique labels in segmentation: [  0 255]\n"
     ]
    },
    {
     "name": "stderr",
     "output_type": "stream",
     "text": [
      "Processing DICOM files:  19%|█▉        | 79/421 [22:54<1:27:15, 15.31s/it]"
     ]
    },
    {
     "name": "stdout",
     "output_type": "stream",
     "text": [
      "Reading segmentation file: tciaDownload/1.2.276.0.7230010.3.1.3.2323910823.14156.1597259235.337/1-1.dcm\n",
      "Unique labels in segmentation: [  0 255]\n"
     ]
    },
    {
     "name": "stderr",
     "output_type": "stream",
     "text": [
      "Processing DICOM files:  19%|█▉        | 80/421 [23:15<1:37:29, 17.15s/it]"
     ]
    },
    {
     "name": "stdout",
     "output_type": "stream",
     "text": [
      "Reading segmentation file: tciaDownload/1.2.276.0.7230010.3.1.3.2323910823.22212.1597258607.335/1-1.dcm\n",
      "Unique labels in segmentation: [  0 255]\n"
     ]
    },
    {
     "name": "stderr",
     "output_type": "stream",
     "text": [
      "Processing DICOM files:  19%|█▉        | 81/421 [23:35<1:41:08, 17.85s/it]"
     ]
    },
    {
     "name": "stdout",
     "output_type": "stream",
     "text": [
      "Reading segmentation file: tciaDownload/1.2.276.0.7230010.3.1.3.2323910823.17648.1597260025.256/1-1.dcm\n",
      "Unique labels in segmentation: [  0 255]\n"
     ]
    },
    {
     "name": "stderr",
     "output_type": "stream",
     "text": [
      "Processing DICOM files:  19%|█▉        | 82/421 [23:57<1:48:18, 19.17s/it]"
     ]
    },
    {
     "name": "stdout",
     "output_type": "stream",
     "text": [
      "Reading segmentation file: tciaDownload/1.2.276.0.7230010.3.1.3.2323910823.20760.1597260102.419/1-1.dcm\n",
      "Unique labels in segmentation: [  0 255]\n"
     ]
    },
    {
     "name": "stderr",
     "output_type": "stream",
     "text": [
      "Processing DICOM files:  20%|█▉        | 83/421 [24:07<1:33:26, 16.59s/it]"
     ]
    },
    {
     "name": "stdout",
     "output_type": "stream",
     "text": [
      "Reading segmentation file: tciaDownload/1.2.276.0.7230010.3.1.3.2323910823.1568.1597260605.476/1-1.dcm\n",
      "Unique labels in segmentation: [  0 255]\n"
     ]
    },
    {
     "name": "stderr",
     "output_type": "stream",
     "text": [
      "Processing DICOM files:  20%|█▉        | 84/421 [24:28<1:40:12, 17.84s/it]"
     ]
    },
    {
     "name": "stdout",
     "output_type": "stream",
     "text": [
      "Reading segmentation file: tciaDownload/1.2.276.0.7230010.3.1.3.2323910823.13084.1597257886.943/1-1.dcm\n",
      "Unique labels in segmentation: [  0 255]\n"
     ]
    },
    {
     "name": "stderr",
     "output_type": "stream",
     "text": [
      "Processing DICOM files:  20%|██        | 85/421 [24:40<1:29:05, 15.91s/it]"
     ]
    },
    {
     "name": "stdout",
     "output_type": "stream",
     "text": [
      "Reading segmentation file: tciaDownload/1.2.276.0.7230010.3.1.3.2323910823.20728.1597258080.910/1-1.dcm\n",
      "Unique labels in segmentation: [  0 255]\n"
     ]
    },
    {
     "name": "stderr",
     "output_type": "stream",
     "text": [
      "Processing DICOM files:  20%|██        | 86/421 [24:56<1:30:31, 16.21s/it]"
     ]
    },
    {
     "name": "stdout",
     "output_type": "stream",
     "text": [
      "Reading segmentation file: tciaDownload/1.2.276.0.7230010.3.1.3.2323910823.18812.1597261048.393/1-1.dcm\n",
      "Unique labels in segmentation: [  0 255]\n"
     ]
    },
    {
     "name": "stderr",
     "output_type": "stream",
     "text": [
      "Processing DICOM files:  21%|██        | 87/421 [25:14<1:31:46, 16.49s/it]"
     ]
    },
    {
     "name": "stdout",
     "output_type": "stream",
     "text": [
      "Reading segmentation file: tciaDownload/1.2.276.0.7230010.3.1.3.2323910823.17484.1597258138.435/1-1.dcm\n",
      "Unique labels in segmentation: [  0 255]\n"
     ]
    },
    {
     "name": "stderr",
     "output_type": "stream",
     "text": [
      "Processing DICOM files:  21%|██        | 88/421 [25:30<1:31:15, 16.44s/it]"
     ]
    },
    {
     "name": "stdout",
     "output_type": "stream",
     "text": [
      "Reading segmentation file: tciaDownload/1.2.276.0.7230010.3.1.3.2323910823.23132.1597258246.550/1-1.dcm\n",
      "Unique labels in segmentation: [  0 255]\n"
     ]
    },
    {
     "name": "stderr",
     "output_type": "stream",
     "text": [
      "Processing DICOM files:  21%|██        | 89/421 [25:56<1:47:10, 19.37s/it]"
     ]
    },
    {
     "name": "stdout",
     "output_type": "stream",
     "text": [
      "Reading segmentation file: tciaDownload/1.2.276.0.7230010.3.1.3.2323910823.24772.1597257810.624/1-1.dcm\n",
      "Unique labels in segmentation: [  0 255]\n"
     ]
    },
    {
     "name": "stderr",
     "output_type": "stream",
     "text": [
      "Processing DICOM files:  21%|██▏       | 90/421 [26:11<1:39:22, 18.01s/it]"
     ]
    },
    {
     "name": "stdout",
     "output_type": "stream",
     "text": [
      "Reading segmentation file: tciaDownload/1.2.276.0.7230010.3.1.3.2323910823.21828.1597260711.476/1-1.dcm\n",
      "Unique labels in segmentation: [  0 255]\n"
     ]
    },
    {
     "name": "stderr",
     "output_type": "stream",
     "text": [
      "Processing DICOM files:  22%|██▏       | 91/421 [26:27<1:35:25, 17.35s/it]"
     ]
    },
    {
     "name": "stdout",
     "output_type": "stream",
     "text": [
      "Reading segmentation file: tciaDownload/1.2.276.0.7230010.3.1.3.2323910823.21324.1597259846.837/1-1.dcm\n",
      "Unique labels in segmentation: [  0 255]\n"
     ]
    },
    {
     "name": "stderr",
     "output_type": "stream",
     "text": [
      "Processing DICOM files:  22%|██▏       | 92/421 [26:38<1:25:33, 15.60s/it]"
     ]
    },
    {
     "name": "stdout",
     "output_type": "stream",
     "text": [
      "Reading segmentation file: tciaDownload/1.2.276.0.7230010.3.1.3.2323910823.10724.1597258611.781/1-1.dcm\n",
      "Unique labels in segmentation: [  0 255]\n"
     ]
    },
    {
     "name": "stderr",
     "output_type": "stream",
     "text": [
      "Processing DICOM files:  22%|██▏       | 93/421 [26:39<1:01:31, 11.26s/it]"
     ]
    },
    {
     "name": "stdout",
     "output_type": "stream",
     "text": [
      "Reading segmentation file: tciaDownload/1.2.276.0.7230010.3.1.3.2323910823.25352.1597257949.346/1-1.dcm\n",
      "Unique labels in segmentation: [  0 255]\n"
     ]
    },
    {
     "name": "stderr",
     "output_type": "stream",
     "text": [
      "Processing DICOM files:  22%|██▏       | 94/421 [26:57<1:12:25, 13.29s/it]"
     ]
    },
    {
     "name": "stdout",
     "output_type": "stream",
     "text": [
      "Reading segmentation file: tciaDownload/1.2.276.0.7230010.3.1.3.2323910823.16264.1597259607.747/1-1.dcm\n",
      "Unique labels in segmentation: [  0 255]\n"
     ]
    },
    {
     "name": "stderr",
     "output_type": "stream",
     "text": [
      "Processing DICOM files:  23%|██▎       | 95/421 [27:12<1:14:24, 13.70s/it]"
     ]
    },
    {
     "name": "stdout",
     "output_type": "stream",
     "text": [
      "Reading segmentation file: tciaDownload/1.2.276.0.7230010.3.1.3.2323910823.19488.1597258368.184/1-1.dcm\n",
      "Unique labels in segmentation: [  0 255]\n"
     ]
    },
    {
     "name": "stderr",
     "output_type": "stream",
     "text": [
      "Processing DICOM files:  23%|██▎       | 96/421 [27:29<1:20:00, 14.77s/it]"
     ]
    },
    {
     "name": "stdout",
     "output_type": "stream",
     "text": [
      "Reading segmentation file: tciaDownload/1.2.276.0.7230010.3.1.3.2323910823.16924.1597258705.686/1-1.dcm\n",
      "Unique labels in segmentation: [  0 255]\n"
     ]
    },
    {
     "name": "stderr",
     "output_type": "stream",
     "text": [
      "Processing DICOM files:  23%|██▎       | 97/421 [27:46<1:22:32, 15.28s/it]"
     ]
    },
    {
     "name": "stdout",
     "output_type": "stream",
     "text": [
      "Reading segmentation file: tciaDownload/1.2.276.0.7230010.3.1.3.2323910823.5888.1597259976.264/1-1.dcm\n",
      "Unique labels in segmentation: [  0 255]\n"
     ]
    },
    {
     "name": "stderr",
     "output_type": "stream",
     "text": [
      "Processing DICOM files:  23%|██▎       | 98/421 [28:02<1:23:46, 15.56s/it]"
     ]
    },
    {
     "name": "stdout",
     "output_type": "stream",
     "text": [
      "Reading segmentation file: tciaDownload/1.2.276.0.7230010.3.1.3.2323910823.5156.1597257794.644/1-1.dcm\n",
      "Unique labels in segmentation: [  0 255]\n"
     ]
    },
    {
     "name": "stderr",
     "output_type": "stream",
     "text": [
      "Processing DICOM files:  24%|██▎       | 99/421 [28:19<1:25:06, 15.86s/it]"
     ]
    },
    {
     "name": "stdout",
     "output_type": "stream",
     "text": [
      "Reading segmentation file: tciaDownload/1.2.276.0.7230010.3.1.3.2323910823.23048.1597258624.73/1-1.dcm\n",
      "Unique labels in segmentation: [  0 255]\n"
     ]
    },
    {
     "name": "stderr",
     "output_type": "stream",
     "text": [
      "Processing DICOM files:  24%|██▍       | 100/421 [28:33<1:22:47, 15.48s/it]"
     ]
    },
    {
     "name": "stdout",
     "output_type": "stream",
     "text": [
      "Reading segmentation file: tciaDownload/1.2.276.0.7230010.3.1.3.2323910823.20804.1597260568.342/1-1.dcm\n",
      "Unique labels in segmentation: [  0 255]\n"
     ]
    },
    {
     "name": "stderr",
     "output_type": "stream",
     "text": [
      "Processing DICOM files:  24%|██▍       | 101/421 [28:49<1:22:45, 15.52s/it]"
     ]
    },
    {
     "name": "stdout",
     "output_type": "stream",
     "text": [
      "Reading segmentation file: tciaDownload/1.2.276.0.7230010.3.1.3.2323910823.16672.1597258345.428/1-1.dcm\n",
      "Unique labels in segmentation: [  0 255]\n"
     ]
    },
    {
     "name": "stderr",
     "output_type": "stream",
     "text": [
      "Processing DICOM files:  24%|██▍       | 102/421 [29:03<1:20:41, 15.18s/it]"
     ]
    },
    {
     "name": "stdout",
     "output_type": "stream",
     "text": [
      "Reading segmentation file: tciaDownload/1.2.276.0.7230010.3.1.3.2323910823.15612.1597259101.869/1-1.dcm\n",
      "Unique labels in segmentation: [  0 255]\n"
     ]
    },
    {
     "name": "stderr",
     "output_type": "stream",
     "text": [
      "Processing DICOM files:  24%|██▍       | 103/421 [29:26<1:32:02, 17.37s/it]"
     ]
    },
    {
     "name": "stdout",
     "output_type": "stream",
     "text": [
      "Reading segmentation file: tciaDownload/1.2.276.0.7230010.3.1.3.2323910823.23292.1597259814.444/1-1.dcm\n",
      "Unique labels in segmentation: [  0 255]\n"
     ]
    },
    {
     "name": "stderr",
     "output_type": "stream",
     "text": [
      "Processing DICOM files:  25%|██▍       | 104/421 [29:49<1:40:32, 19.03s/it]"
     ]
    },
    {
     "name": "stdout",
     "output_type": "stream",
     "text": [
      "Reading segmentation file: tciaDownload/1.2.276.0.7230010.3.1.3.2323910823.18468.1597261245.613/1-1.dcm\n",
      "Unique labels in segmentation: [  0 255]\n"
     ]
    },
    {
     "name": "stderr",
     "output_type": "stream",
     "text": [
      "Processing DICOM files:  25%|██▍       | 105/421 [30:08<1:40:40, 19.12s/it]"
     ]
    },
    {
     "name": "stdout",
     "output_type": "stream",
     "text": [
      "Reading segmentation file: tciaDownload/1.2.276.0.7230010.3.1.3.2323910823.2780.1597258928.514/1-1.dcm\n",
      "Unique labels in segmentation: [  0 255]\n"
     ]
    },
    {
     "name": "stderr",
     "output_type": "stream",
     "text": [
      "Processing DICOM files:  25%|██▌       | 106/421 [30:27<1:39:54, 19.03s/it]"
     ]
    },
    {
     "name": "stdout",
     "output_type": "stream",
     "text": [
      "Reading segmentation file: tciaDownload/1.2.276.0.7230010.3.1.3.2323910823.23340.1597258560.864/1-1.dcm\n",
      "Unique labels in segmentation: [  0 255]\n"
     ]
    },
    {
     "name": "stderr",
     "output_type": "stream",
     "text": [
      "Processing DICOM files:  25%|██▌       | 107/421 [30:39<1:29:34, 17.12s/it]"
     ]
    },
    {
     "name": "stdout",
     "output_type": "stream",
     "text": [
      "Reading segmentation file: tciaDownload/1.2.276.0.7230010.3.1.3.2323910823.20692.1597259109.706/1-1.dcm\n",
      "Unique labels in segmentation: [  0 255]\n"
     ]
    },
    {
     "name": "stderr",
     "output_type": "stream",
     "text": [
      "Processing DICOM files:  26%|██▌       | 108/421 [30:53<1:24:27, 16.19s/it]"
     ]
    },
    {
     "name": "stdout",
     "output_type": "stream",
     "text": [
      "Reading segmentation file: tciaDownload/1.2.276.0.7230010.3.1.3.2323910823.3528.1597260911.663/1-1.dcm\n",
      "Unique labels in segmentation: [  0 255]\n"
     ]
    },
    {
     "name": "stderr",
     "output_type": "stream",
     "text": [
      "Processing DICOM files:  26%|██▌       | 109/421 [31:18<1:36:55, 18.64s/it]"
     ]
    },
    {
     "name": "stdout",
     "output_type": "stream",
     "text": [
      "Reading segmentation file: tciaDownload/1.2.276.0.7230010.3.1.3.2323910823.20404.1597257699.978/1-1.dcm\n",
      "Unique labels in segmentation: [  0 255]\n"
     ]
    },
    {
     "name": "stderr",
     "output_type": "stream",
     "text": [
      "Processing DICOM files:  26%|██▌       | 110/421 [31:34<1:32:45, 17.90s/it]"
     ]
    },
    {
     "name": "stdout",
     "output_type": "stream",
     "text": [
      "Reading segmentation file: tciaDownload/1.2.276.0.7230010.3.1.3.2323910823.24284.1597258685.151/1-1.dcm\n",
      "Unique labels in segmentation: [  0 255]\n"
     ]
    },
    {
     "name": "stderr",
     "output_type": "stream",
     "text": [
      "Processing DICOM files:  26%|██▋       | 111/421 [31:53<1:34:33, 18.30s/it]"
     ]
    },
    {
     "name": "stdout",
     "output_type": "stream",
     "text": [
      "Reading segmentation file: tciaDownload/1.2.276.0.7230010.3.1.3.2323910823.4884.1597260114.982/1-1.dcm\n",
      "Unique labels in segmentation: [  0 255]\n"
     ]
    },
    {
     "name": "stderr",
     "output_type": "stream",
     "text": [
      "Processing DICOM files:  27%|██▋       | 112/421 [32:10<1:31:20, 17.74s/it]"
     ]
    },
    {
     "name": "stdout",
     "output_type": "stream",
     "text": [
      "Reading segmentation file: tciaDownload/1.2.276.0.7230010.3.1.3.2323910823.4748.1597261218.19/1-1.dcm\n",
      "Unique labels in segmentation: [  0 255]\n"
     ]
    },
    {
     "name": "stderr",
     "output_type": "stream",
     "text": [
      "Processing DICOM files:  27%|██▋       | 113/421 [32:31<1:36:53, 18.88s/it]"
     ]
    },
    {
     "name": "stdout",
     "output_type": "stream",
     "text": [
      "Reading segmentation file: tciaDownload/1.2.276.0.7230010.3.1.3.2323910823.24844.1597258825.769/1-1.dcm\n",
      "Unique labels in segmentation: [  0 255]\n"
     ]
    },
    {
     "name": "stderr",
     "output_type": "stream",
     "text": [
      "Processing DICOM files:  27%|██▋       | 114/421 [32:44<1:27:46, 17.16s/it]"
     ]
    },
    {
     "name": "stdout",
     "output_type": "stream",
     "text": [
      "Reading segmentation file: tciaDownload/1.2.276.0.7230010.3.1.3.2323910823.21760.1597259489.643/1-1.dcm\n",
      "Unique labels in segmentation: [  0 255]\n"
     ]
    },
    {
     "name": "stderr",
     "output_type": "stream",
     "text": [
      "Processing DICOM files:  27%|██▋       | 115/421 [33:03<1:30:41, 17.78s/it]"
     ]
    },
    {
     "name": "stdout",
     "output_type": "stream",
     "text": [
      "Reading segmentation file: tciaDownload/1.2.276.0.7230010.3.1.3.2323910823.21220.1597259241.705/1-1.dcm\n",
      "Unique labels in segmentation: [  0 255]\n"
     ]
    },
    {
     "name": "stderr",
     "output_type": "stream",
     "text": [
      "Processing DICOM files:  28%|██▊       | 116/421 [33:16<1:22:51, 16.30s/it]"
     ]
    },
    {
     "name": "stdout",
     "output_type": "stream",
     "text": [
      "Reading segmentation file: tciaDownload/1.2.276.0.7230010.3.1.3.2323910823.16980.1597259500.465/1-1.dcm\n",
      "Unique labels in segmentation: [  0 255]\n"
     ]
    },
    {
     "name": "stderr",
     "output_type": "stream",
     "text": [
      "Processing DICOM files:  28%|██▊       | 117/421 [33:34<1:24:47, 16.73s/it]"
     ]
    },
    {
     "name": "stdout",
     "output_type": "stream",
     "text": [
      "Reading segmentation file: tciaDownload/1.2.276.0.7230010.3.1.3.2323910823.20896.1597258853.286/1-1.dcm\n",
      "Unique labels in segmentation: [  0 255]\n"
     ]
    },
    {
     "name": "stderr",
     "output_type": "stream",
     "text": [
      "Processing DICOM files:  28%|██▊       | 118/421 [33:50<1:22:34, 16.35s/it]"
     ]
    },
    {
     "name": "stdout",
     "output_type": "stream",
     "text": [
      "Reading segmentation file: tciaDownload/1.2.276.0.7230010.3.1.3.2323910823.20536.1597257528.824/1-1.dcm\n",
      "Unique labels in segmentation: [  0 255]\n"
     ]
    },
    {
     "name": "stderr",
     "output_type": "stream",
     "text": [
      "Processing DICOM files:  28%|██▊       | 119/421 [34:03<1:17:41, 15.44s/it]"
     ]
    },
    {
     "name": "stdout",
     "output_type": "stream",
     "text": [
      "Reading segmentation file: tciaDownload/1.2.276.0.7230010.3.1.3.2323910823.21080.1597260828.622/1-1.dcm\n",
      "Unique labels in segmentation: [  0 255]\n"
     ]
    },
    {
     "name": "stderr",
     "output_type": "stream",
     "text": [
      "Processing DICOM files:  29%|██▊       | 120/421 [34:17<1:14:46, 14.90s/it]"
     ]
    },
    {
     "name": "stdout",
     "output_type": "stream",
     "text": [
      "Reading segmentation file: tciaDownload/1.2.276.0.7230010.3.1.3.2323910823.5936.1597257832.286/1-1.dcm\n",
      "Unique labels in segmentation: [  0 255]\n"
     ]
    },
    {
     "name": "stderr",
     "output_type": "stream",
     "text": [
      "Processing DICOM files:  29%|██▊       | 121/421 [34:32<1:15:12, 15.04s/it]"
     ]
    },
    {
     "name": "stdout",
     "output_type": "stream",
     "text": [
      "Reading segmentation file: tciaDownload/1.2.276.0.7230010.3.1.3.2323910823.25444.1597258255.2/1-1.dcm\n",
      "Unique labels in segmentation: [  0 255]\n"
     ]
    },
    {
     "name": "stderr",
     "output_type": "stream",
     "text": [
      "Processing DICOM files:  29%|██▉       | 122/421 [34:53<1:23:19, 16.72s/it]"
     ]
    },
    {
     "name": "stdout",
     "output_type": "stream",
     "text": [
      "Reading segmentation file: tciaDownload/1.2.276.0.7230010.3.1.3.2323910823.22756.1597258666.889/1-1.dcm\n",
      "Unique labels in segmentation: [  0 255]\n"
     ]
    },
    {
     "name": "stderr",
     "output_type": "stream",
     "text": [
      "Processing DICOM files:  29%|██▉       | 123/421 [34:54<1:00:51, 12.25s/it]"
     ]
    },
    {
     "name": "stdout",
     "output_type": "stream",
     "text": [
      "Reading segmentation file: tciaDownload/1.2.276.0.7230010.3.1.3.2323910823.24496.1597258641.860/1-1.dcm\n",
      "Unique labels in segmentation: [  0 255]\n"
     ]
    },
    {
     "name": "stderr",
     "output_type": "stream",
     "text": [
      "Processing DICOM files:  29%|██▉       | 124/421 [35:06<59:48, 12.08s/it]  "
     ]
    },
    {
     "name": "stdout",
     "output_type": "stream",
     "text": [
      "Reading segmentation file: tciaDownload/1.2.276.0.7230010.3.1.3.2323910823.25396.1597261196.406/1-1.dcm\n",
      "Unique labels in segmentation: [  0 255]\n"
     ]
    },
    {
     "name": "stderr",
     "output_type": "stream",
     "text": [
      "Processing DICOM files:  30%|██▉       | 125/421 [35:27<1:13:25, 14.88s/it]"
     ]
    },
    {
     "name": "stdout",
     "output_type": "stream",
     "text": [
      "Reading segmentation file: tciaDownload/1.2.276.0.7230010.3.1.3.2323910823.24664.1597259050.875/1-1.dcm\n",
      "Unique labels in segmentation: [  0 255]\n"
     ]
    },
    {
     "name": "stderr",
     "output_type": "stream",
     "text": [
      "Processing DICOM files:  30%|██▉       | 126/421 [35:45<1:17:06, 15.68s/it]"
     ]
    },
    {
     "name": "stdout",
     "output_type": "stream",
     "text": [
      "Reading segmentation file: tciaDownload/1.2.276.0.7230010.3.1.3.2323910823.20920.1597259588.137/1-1.dcm\n",
      "Unique labels in segmentation: [  0 255]\n"
     ]
    },
    {
     "name": "stderr",
     "output_type": "stream",
     "text": [
      "Processing DICOM files:  30%|███       | 127/421 [36:06<1:25:19, 17.41s/it]"
     ]
    },
    {
     "name": "stdout",
     "output_type": "stream",
     "text": [
      "Reading segmentation file: tciaDownload/1.2.276.0.7230010.3.1.3.2323910823.3532.1597259228.706/1-1.dcm\n",
      "Unique labels in segmentation: [  0 255]\n"
     ]
    },
    {
     "name": "stderr",
     "output_type": "stream",
     "text": [
      "Processing DICOM files:  30%|███       | 128/421 [36:22<1:22:18, 16.85s/it]"
     ]
    },
    {
     "name": "stdout",
     "output_type": "stream",
     "text": [
      "Reading segmentation file: tciaDownload/1.2.276.0.7230010.3.1.3.2323910823.24788.1597258052.334/1-1.dcm\n",
      "Unique labels in segmentation: [  0 255]\n"
     ]
    },
    {
     "name": "stderr",
     "output_type": "stream",
     "text": [
      "Processing DICOM files:  31%|███       | 129/421 [36:40<1:23:27, 17.15s/it]"
     ]
    },
    {
     "name": "stdout",
     "output_type": "stream",
     "text": [
      "Reading segmentation file: tciaDownload/1.2.276.0.7230010.3.1.3.2323910823.23048.1597259883.158/1-1.dcm\n",
      "Unique labels in segmentation: [  0 255]\n"
     ]
    },
    {
     "name": "stderr",
     "output_type": "stream",
     "text": [
      "Processing DICOM files:  31%|███       | 130/421 [36:59<1:25:45, 17.68s/it]"
     ]
    },
    {
     "name": "stdout",
     "output_type": "stream",
     "text": [
      "Reading segmentation file: tciaDownload/1.2.276.0.7230010.3.1.3.2323910823.3528.1597261298.711/1-1.dcm\n",
      "Unique labels in segmentation: [  0 255]\n"
     ]
    },
    {
     "name": "stderr",
     "output_type": "stream",
     "text": [
      "Processing DICOM files:  31%|███       | 131/421 [37:11<1:17:59, 16.14s/it]"
     ]
    },
    {
     "name": "stdout",
     "output_type": "stream",
     "text": [
      "Reading segmentation file: tciaDownload/1.2.276.0.7230010.3.1.3.2323910823.12536.1597260637.689/1-1.dcm\n",
      "Unique labels in segmentation: [  0 255]\n"
     ]
    },
    {
     "name": "stderr",
     "output_type": "stream",
     "text": [
      "Processing DICOM files:  31%|███▏      | 132/421 [37:37<1:31:36, 19.02s/it]"
     ]
    },
    {
     "name": "stdout",
     "output_type": "stream",
     "text": [
      "Reading segmentation file: tciaDownload/1.2.276.0.7230010.3.1.3.2323910823.7324.1597257921.138/1-1.dcm\n",
      "Unique labels in segmentation: [  0 255]\n"
     ]
    },
    {
     "name": "stderr",
     "output_type": "stream",
     "text": [
      "Processing DICOM files:  32%|███▏      | 133/421 [37:57<1:32:18, 19.23s/it]"
     ]
    },
    {
     "name": "stdout",
     "output_type": "stream",
     "text": [
      "Reading segmentation file: tciaDownload/1.2.276.0.7230010.3.1.3.2323910823.23020.1597258584.743/1-1.dcm\n",
      "Unique labels in segmentation: [  0 255]\n"
     ]
    },
    {
     "name": "stderr",
     "output_type": "stream",
     "text": [
      "Processing DICOM files:  32%|███▏      | 134/421 [38:14<1:28:27, 18.49s/it]"
     ]
    },
    {
     "name": "stdout",
     "output_type": "stream",
     "text": [
      "Reading segmentation file: tciaDownload/1.2.276.0.7230010.3.1.3.2323910823.22300.1597257788.622/1-1.dcm\n",
      "Unique labels in segmentation: [  0 255]\n"
     ]
    },
    {
     "name": "stderr",
     "output_type": "stream",
     "text": [
      "Processing DICOM files:  32%|███▏      | 135/421 [38:32<1:27:35, 18.38s/it]"
     ]
    },
    {
     "name": "stdout",
     "output_type": "stream",
     "text": [
      "Reading segmentation file: tciaDownload/1.2.276.0.7230010.3.1.3.2323910823.2268.1597260725.514/1-1.dcm\n",
      "Unique labels in segmentation: [  0 255]\n"
     ]
    },
    {
     "name": "stderr",
     "output_type": "stream",
     "text": [
      "Processing DICOM files:  32%|███▏      | 136/421 [38:51<1:29:03, 18.75s/it]"
     ]
    },
    {
     "name": "stdout",
     "output_type": "stream",
     "text": [
      "Reading segmentation file: tciaDownload/1.2.276.0.7230010.3.1.3.2323910823.14716.1597260694.1001/1-1.dcm\n",
      "Unique labels in segmentation: [  0 255]\n"
     ]
    },
    {
     "name": "stderr",
     "output_type": "stream",
     "text": [
      "Processing DICOM files:  33%|███▎      | 137/421 [39:06<1:23:23, 17.62s/it]"
     ]
    },
    {
     "name": "stdout",
     "output_type": "stream",
     "text": [
      "Reading segmentation file: tciaDownload/1.2.276.0.7230010.3.1.3.2323910823.24328.1597258963.342/1-1.dcm\n",
      "Unique labels in segmentation: [  0 255]\n"
     ]
    },
    {
     "name": "stderr",
     "output_type": "stream",
     "text": [
      "Processing DICOM files:  33%|███▎      | 138/421 [39:30<1:31:42, 19.44s/it]"
     ]
    },
    {
     "name": "stdout",
     "output_type": "stream",
     "text": [
      "Reading segmentation file: tciaDownload/1.2.276.0.7230010.3.1.3.2323910823.19064.1597258433.812/1-1.dcm\n",
      "Unique labels in segmentation: [  0 255]\n"
     ]
    },
    {
     "name": "stderr",
     "output_type": "stream",
     "text": [
      "Processing DICOM files:  33%|███▎      | 139/421 [39:44<1:23:44, 17.82s/it]"
     ]
    },
    {
     "name": "stdout",
     "output_type": "stream",
     "text": [
      "Reading segmentation file: tciaDownload/1.2.276.0.7230010.3.1.3.2323910823.3824.1597258090.602/1-1.dcm\n",
      "Unique labels in segmentation: [  0 255]\n"
     ]
    },
    {
     "name": "stderr",
     "output_type": "stream",
     "text": [
      "Processing DICOM files:  33%|███▎      | 140/421 [40:04<1:26:33, 18.48s/it]"
     ]
    },
    {
     "name": "stdout",
     "output_type": "stream",
     "text": [
      "Reading segmentation file: tciaDownload/1.2.276.0.7230010.3.1.3.2323910823.23268.1597259247.860/1-1.dcm\n",
      "Unique labels in segmentation: [  0 255]\n"
     ]
    },
    {
     "name": "stderr",
     "output_type": "stream",
     "text": [
      "Processing DICOM files:  33%|███▎      | 141/421 [40:27<1:33:02, 19.94s/it]"
     ]
    },
    {
     "name": "stdout",
     "output_type": "stream",
     "text": [
      "Reading segmentation file: tciaDownload/1.2.276.0.7230010.3.1.3.2323910823.16036.1597260821.97/1-1.dcm\n",
      "Unique labels in segmentation: [  0 255]\n"
     ]
    },
    {
     "name": "stderr",
     "output_type": "stream",
     "text": [
      "Processing DICOM files:  34%|███▎      | 142/421 [40:47<1:32:19, 19.86s/it]"
     ]
    },
    {
     "name": "stdout",
     "output_type": "stream",
     "text": [
      "Reading segmentation file: tciaDownload/1.2.276.0.7230010.3.1.3.2323910823.19388.1597259421.126/1-1.dcm\n",
      "Unique labels in segmentation: [  0 255]\n"
     ]
    },
    {
     "name": "stderr",
     "output_type": "stream",
     "text": [
      "Processing DICOM files:  34%|███▍      | 143/421 [41:01<1:23:43, 18.07s/it]"
     ]
    },
    {
     "name": "stdout",
     "output_type": "stream",
     "text": [
      "Reading segmentation file: tciaDownload/1.2.276.0.7230010.3.1.3.2323910823.13372.1597259174.960/1-1.dcm\n",
      "Unique labels in segmentation: [  0 255]\n"
     ]
    },
    {
     "name": "stderr",
     "output_type": "stream",
     "text": [
      "Processing DICOM files:  34%|███▍      | 144/421 [41:16<1:19:41, 17.26s/it]"
     ]
    },
    {
     "name": "stdout",
     "output_type": "stream",
     "text": [
      "Reading segmentation file: tciaDownload/1.2.276.0.7230010.3.1.3.2323910823.23544.1597258751.112/1-1.dcm\n",
      "Unique labels in segmentation: [  0 255]\n"
     ]
    },
    {
     "name": "stderr",
     "output_type": "stream",
     "text": [
      "Processing DICOM files:  34%|███▍      | 145/421 [41:32<1:17:15, 16.79s/it]"
     ]
    },
    {
     "name": "stdout",
     "output_type": "stream",
     "text": [
      "Reading segmentation file: tciaDownload/1.2.276.0.7230010.3.1.3.2323910823.4944.1597257273.478/1-1.dcm\n",
      "Unique labels in segmentation: [  0 255]\n"
     ]
    },
    {
     "name": "stderr",
     "output_type": "stream",
     "text": [
      "Processing DICOM files:  35%|███▍      | 146/421 [42:00<1:32:04, 20.09s/it]"
     ]
    },
    {
     "name": "stdout",
     "output_type": "stream",
     "text": [
      "Reading segmentation file: tciaDownload/1.2.276.0.7230010.3.1.3.2323910823.9960.1597258313.565/1-1.dcm\n",
      "Unique labels in segmentation: [  0 255]\n"
     ]
    },
    {
     "name": "stderr",
     "output_type": "stream",
     "text": [
      "Processing DICOM files:  35%|███▍      | 147/421 [42:18<1:28:53, 19.46s/it]"
     ]
    },
    {
     "name": "stdout",
     "output_type": "stream",
     "text": [
      "Reading segmentation file: tciaDownload/1.2.276.0.7230010.3.1.3.2323910823.16932.1597260009.374/1-1.dcm\n",
      "Unique labels in segmentation: [  0 255]\n"
     ]
    },
    {
     "name": "stderr",
     "output_type": "stream",
     "text": [
      "Processing DICOM files:  35%|███▌      | 148/421 [42:33<1:23:20, 18.32s/it]"
     ]
    },
    {
     "name": "stdout",
     "output_type": "stream",
     "text": [
      "Reading segmentation file: tciaDownload/1.2.276.0.7230010.3.1.3.2323910823.21548.1597259802.588/1-1.dcm\n",
      "Unique labels in segmentation: [  0 255]\n"
     ]
    },
    {
     "name": "stderr",
     "output_type": "stream",
     "text": [
      "Processing DICOM files:  35%|███▌      | 149/421 [42:51<1:21:38, 18.01s/it]"
     ]
    },
    {
     "name": "stdout",
     "output_type": "stream",
     "text": [
      "Reading segmentation file: tciaDownload/1.2.276.0.7230010.3.1.3.2323910823.1488.1597261152.798/1-1.dcm\n",
      "Unique labels in segmentation: [  0 255]\n"
     ]
    },
    {
     "name": "stderr",
     "output_type": "stream",
     "text": [
      "Processing DICOM files:  36%|███▌      | 150/421 [43:07<1:18:44, 17.43s/it]"
     ]
    },
    {
     "name": "stdout",
     "output_type": "stream",
     "text": [
      "Reading segmentation file: tciaDownload/1.2.276.0.7230010.3.1.3.2323910823.21052.1597258730.420/1-1.dcm\n",
      "Unique labels in segmentation: [  0 255]\n"
     ]
    },
    {
     "name": "stderr",
     "output_type": "stream",
     "text": [
      "Processing DICOM files:  36%|███▌      | 151/421 [43:18<1:10:10, 15.60s/it]"
     ]
    },
    {
     "name": "stdout",
     "output_type": "stream",
     "text": [
      "Reading segmentation file: tciaDownload/1.2.276.0.7230010.3.1.3.2323910823.4436.1597259703.503/1-1.dcm\n",
      "Unique labels in segmentation: [  0 255]\n"
     ]
    },
    {
     "name": "stderr",
     "output_type": "stream",
     "text": [
      "Processing DICOM files:  36%|███▌      | 152/421 [43:33<1:09:25, 15.48s/it]"
     ]
    },
    {
     "name": "stdout",
     "output_type": "stream",
     "text": [
      "Reading segmentation file: tciaDownload/1.2.276.0.7230010.3.1.3.2323910823.15024.1597260082.194/1-1.dcm\n",
      "Unique labels in segmentation: [  0 255]\n"
     ]
    },
    {
     "name": "stderr",
     "output_type": "stream",
     "text": [
      "Processing DICOM files:  36%|███▋      | 153/421 [43:45<1:04:02, 14.34s/it]"
     ]
    },
    {
     "name": "stdout",
     "output_type": "stream",
     "text": [
      "Reading segmentation file: tciaDownload/1.2.276.0.7230010.3.1.3.2323910823.11620.1597261188.603/1-1.dcm\n",
      "Unique labels in segmentation: [  0 255]\n"
     ]
    },
    {
     "name": "stderr",
     "output_type": "stream",
     "text": [
      "Processing DICOM files:  37%|███▋      | 154/421 [44:00<1:05:09, 14.64s/it]"
     ]
    },
    {
     "name": "stdout",
     "output_type": "stream",
     "text": [
      "Reading segmentation file: tciaDownload/1.2.276.0.7230010.3.1.3.2323910823.20768.1597258322.597/1-1.dcm\n",
      "Unique labels in segmentation: [  0 255]\n"
     ]
    },
    {
     "name": "stderr",
     "output_type": "stream",
     "text": [
      "Processing DICOM files:  37%|███▋      | 155/421 [44:16<1:06:29, 15.00s/it]"
     ]
    },
    {
     "name": "stdout",
     "output_type": "stream",
     "text": [
      "Reading segmentation file: tciaDownload/1.2.276.0.7230010.3.1.3.2323910823.4696.1597259660.927/1-1.dcm\n",
      "Unique labels in segmentation: [  0 255]\n"
     ]
    },
    {
     "name": "stderr",
     "output_type": "stream",
     "text": [
      "Processing DICOM files:  37%|███▋      | 156/421 [44:32<1:06:50, 15.14s/it]"
     ]
    },
    {
     "name": "stdout",
     "output_type": "stream",
     "text": [
      "Reading segmentation file: tciaDownload/1.2.276.0.7230010.3.1.3.2323910823.18620.1597261072.484/1-1.dcm\n",
      "Unique labels in segmentation: [  0 255]\n"
     ]
    },
    {
     "name": "stderr",
     "output_type": "stream",
     "text": [
      "Processing DICOM files:  37%|███▋      | 157/421 [44:47<1:06:38, 15.15s/it]"
     ]
    },
    {
     "name": "stdout",
     "output_type": "stream",
     "text": [
      "Reading segmentation file: tciaDownload/1.2.276.0.7230010.3.1.3.2323910823.2876.1597259507.333/1-1.dcm\n",
      "Unique labels in segmentation: [  0 255]\n"
     ]
    },
    {
     "name": "stderr",
     "output_type": "stream",
     "text": [
      "Processing DICOM files:  38%|███▊      | 158/421 [44:49<49:26, 11.28s/it]  "
     ]
    },
    {
     "name": "stdout",
     "output_type": "stream",
     "text": [
      "Reading segmentation file: tciaDownload/1.2.276.0.7230010.3.1.3.2323910823.11800.1597259983.981/1-1.dcm\n",
      "Unique labels in segmentation: [  0 255]\n"
     ]
    },
    {
     "name": "stderr",
     "output_type": "stream",
     "text": [
      "Processing DICOM files:  38%|███▊      | 159/421 [45:06<56:44, 13.00s/it]"
     ]
    },
    {
     "name": "stdout",
     "output_type": "stream",
     "text": [
      "Reading segmentation file: tciaDownload/1.2.276.0.7230010.3.1.3.2323910823.22272.1597259628.39/1-1.dcm\n",
      "Unique labels in segmentation: [  0 255]\n"
     ]
    },
    {
     "name": "stderr",
     "output_type": "stream",
     "text": [
      "Processing DICOM files:  38%|███▊      | 160/421 [45:22<1:00:39, 13.94s/it]"
     ]
    },
    {
     "name": "stdout",
     "output_type": "stream",
     "text": [
      "Reading segmentation file: tciaDownload/1.2.276.0.7230010.3.1.3.2323910823.25464.1597257314.410/1-1.dcm\n",
      "Unique labels in segmentation: [  0 255]\n"
     ]
    },
    {
     "name": "stderr",
     "output_type": "stream",
     "text": [
      "Processing DICOM files:  38%|███▊      | 161/421 [45:42<1:08:05, 15.71s/it]"
     ]
    },
    {
     "name": "stdout",
     "output_type": "stream",
     "text": [
      "Reading segmentation file: tciaDownload/1.2.276.0.7230010.3.1.3.2323910823.10956.1597257464.636/1-1.dcm\n",
      "Unique labels in segmentation: [  0 255]\n"
     ]
    },
    {
     "name": "stderr",
     "output_type": "stream",
     "text": [
      "Processing DICOM files:  38%|███▊      | 162/421 [46:02<1:12:53, 16.89s/it]"
     ]
    },
    {
     "name": "stdout",
     "output_type": "stream",
     "text": [
      "Reading segmentation file: tciaDownload/1.2.276.0.7230010.3.1.3.2323910823.11592.1597257375.448/1-1.dcm\n",
      "Unique labels in segmentation: [  0 255]\n"
     ]
    },
    {
     "name": "stderr",
     "output_type": "stream",
     "text": [
      "Processing DICOM files:  39%|███▊      | 163/421 [46:23<1:18:06, 18.17s/it]"
     ]
    },
    {
     "name": "stdout",
     "output_type": "stream",
     "text": [
      "Reading segmentation file: tciaDownload/1.2.276.0.7230010.3.1.3.2323910823.792.1597259573.496/1-1.dcm\n",
      "Unique labels in segmentation: [  0 255]\n"
     ]
    },
    {
     "name": "stderr",
     "output_type": "stream",
     "text": [
      "Processing DICOM files:  39%|███▉      | 164/421 [46:36<1:11:38, 16.73s/it]"
     ]
    },
    {
     "name": "stdout",
     "output_type": "stream",
     "text": [
      "Reading segmentation file: tciaDownload/1.2.276.0.7230010.3.1.3.2323910823.7456.1597258061.361/1-1.dcm\n",
      "Unique labels in segmentation: [  0 255]\n"
     ]
    },
    {
     "name": "stderr",
     "output_type": "stream",
     "text": [
      "Processing DICOM files:  39%|███▉      | 165/421 [46:51<1:08:48, 16.13s/it]"
     ]
    },
    {
     "name": "stdout",
     "output_type": "stream",
     "text": [
      "Reading segmentation file: tciaDownload/1.2.276.0.7230010.3.1.3.2323910823.20908.1597260089.507/1-1.dcm\n",
      "Unique labels in segmentation: [  0 255]\n"
     ]
    },
    {
     "name": "stderr",
     "output_type": "stream",
     "text": [
      "Processing DICOM files:  39%|███▉      | 166/421 [47:03<1:03:25, 14.92s/it]"
     ]
    },
    {
     "name": "stdout",
     "output_type": "stream",
     "text": [
      "Reading segmentation file: tciaDownload/1.2.276.0.7230010.3.1.3.2323910823.22628.1597257326.285/1-1.dcm\n",
      "Unique labels in segmentation: [  0 255]\n"
     ]
    },
    {
     "name": "stderr",
     "output_type": "stream",
     "text": [
      "Processing DICOM files:  40%|███▉      | 167/421 [47:23<1:10:11, 16.58s/it]"
     ]
    },
    {
     "name": "stdout",
     "output_type": "stream",
     "text": [
      "Reading segmentation file: tciaDownload/1.2.276.0.7230010.3.1.3.2323910823.25492.1597258592.177/1-1.dcm\n",
      "Unique labels in segmentation: [  0 255]\n"
     ]
    },
    {
     "name": "stderr",
     "output_type": "stream",
     "text": [
      "Processing DICOM files:  40%|███▉      | 168/421 [47:46<1:17:57, 18.49s/it]"
     ]
    },
    {
     "name": "stdout",
     "output_type": "stream",
     "text": [
      "Reading segmentation file: tciaDownload/1.2.276.0.7230010.3.1.3.2323910823.20560.1597259601.104/1-1.dcm\n",
      "Unique labels in segmentation: [  0 255]\n"
     ]
    },
    {
     "name": "stderr",
     "output_type": "stream",
     "text": [
      "Processing DICOM files:  40%|████      | 169/421 [48:02<1:13:25, 17.48s/it]"
     ]
    },
    {
     "name": "stdout",
     "output_type": "stream",
     "text": [
      "Reading segmentation file: tciaDownload/1.2.276.0.7230010.3.1.3.2323910823.6488.1597257987.545/1-1.dcm\n",
      "Unique labels in segmentation: [  0 255]\n"
     ]
    },
    {
     "name": "stderr",
     "output_type": "stream",
     "text": [
      "Processing DICOM files:  40%|████      | 170/421 [48:10<1:02:19, 14.90s/it]"
     ]
    },
    {
     "name": "stdout",
     "output_type": "stream",
     "text": [
      "Reading segmentation file: tciaDownload/1.2.276.0.7230010.3.1.3.2323910823.25492.1597258861.290/1-1.dcm\n",
      "Unique labels in segmentation: [  0 255]\n"
     ]
    },
    {
     "name": "stderr",
     "output_type": "stream",
     "text": [
      "Processing DICOM files:  41%|████      | 171/421 [48:23<58:52, 14.13s/it]  "
     ]
    },
    {
     "name": "stdout",
     "output_type": "stream",
     "text": [
      "Reading segmentation file: tciaDownload/1.2.276.0.7230010.3.1.3.2323910823.17428.1597258662.107/1-1.dcm\n",
      "Unique labels in segmentation: [  0 255]\n"
     ]
    },
    {
     "name": "stderr",
     "output_type": "stream",
     "text": [
      "Processing DICOM files:  41%|████      | 172/421 [48:35<56:23, 13.59s/it]"
     ]
    },
    {
     "name": "stdout",
     "output_type": "stream",
     "text": [
      "Reading segmentation file: tciaDownload/1.2.276.0.7230010.3.1.3.2323910823.18072.1597259633.874/1-1.dcm\n",
      "Unique labels in segmentation: [  0 255]\n"
     ]
    },
    {
     "name": "stderr",
     "output_type": "stream",
     "text": [
      "Processing DICOM files:  41%|████      | 173/421 [48:48<55:39, 13.47s/it]"
     ]
    },
    {
     "name": "stdout",
     "output_type": "stream",
     "text": [
      "Reading segmentation file: tciaDownload/1.2.276.0.7230010.3.1.3.2323910823.15884.1597259478.101/1-1.dcm\n",
      "Unique labels in segmentation: [  0 255]\n"
     ]
    },
    {
     "name": "stderr",
     "output_type": "stream",
     "text": [
      "Processing DICOM files:  41%|████▏     | 174/421 [49:11<1:06:57, 16.26s/it]"
     ]
    },
    {
     "name": "stdout",
     "output_type": "stream",
     "text": [
      "Reading segmentation file: tciaDownload/1.2.276.0.7230010.3.1.3.2323910823.20860.1597258910.553/1-1.dcm\n",
      "Unique labels in segmentation: [  0 255]\n"
     ]
    },
    {
     "name": "stderr",
     "output_type": "stream",
     "text": [
      "Processing DICOM files:  42%|████▏     | 175/421 [49:27<1:06:26, 16.20s/it]"
     ]
    },
    {
     "name": "stdout",
     "output_type": "stream",
     "text": [
      "Reading segmentation file: tciaDownload/1.2.276.0.7230010.3.1.3.2323910823.16512.1597260621.241/1-1.dcm\n",
      "Unique labels in segmentation: [  0 255]\n"
     ]
    },
    {
     "name": "stderr",
     "output_type": "stream",
     "text": [
      "Processing DICOM files:  42%|████▏     | 176/421 [49:42<1:04:57, 15.91s/it]"
     ]
    },
    {
     "name": "stdout",
     "output_type": "stream",
     "text": [
      "Reading segmentation file: tciaDownload/1.2.276.0.7230010.3.1.3.2323910823.22832.1597257799.287/1-1.dcm\n",
      "Unique labels in segmentation: [  0 255]\n"
     ]
    },
    {
     "name": "stderr",
     "output_type": "stream",
     "text": [
      "Processing DICOM files:  42%|████▏     | 177/421 [49:57<1:03:09, 15.53s/it]"
     ]
    },
    {
     "name": "stdout",
     "output_type": "stream",
     "text": [
      "Reading segmentation file: tciaDownload/1.2.276.0.7230010.3.1.3.2323910823.19488.1597259150.562/1-1.dcm\n",
      "Unique labels in segmentation: [  0 255]\n"
     ]
    },
    {
     "name": "stderr",
     "output_type": "stream",
     "text": [
      "Processing DICOM files:  42%|████▏     | 178/421 [50:08<56:58, 14.07s/it]  "
     ]
    },
    {
     "name": "stdout",
     "output_type": "stream",
     "text": [
      "Reading segmentation file: tciaDownload/1.2.276.0.7230010.3.1.3.2323910823.23284.1597258743.358/1-1.dcm\n",
      "Unique labels in segmentation: [  0 255]\n"
     ]
    },
    {
     "name": "stderr",
     "output_type": "stream",
     "text": [
      "Processing DICOM files:  43%|████▎     | 179/421 [50:24<58:58, 14.62s/it]"
     ]
    },
    {
     "name": "stdout",
     "output_type": "stream",
     "text": [
      "Reading segmentation file: tciaDownload/1.2.276.0.7230010.3.1.3.2323910823.22240.1597259653.167/1-1.dcm\n",
      "Unique labels in segmentation: [  0 255]\n"
     ]
    },
    {
     "name": "stderr",
     "output_type": "stream",
     "text": [
      "Processing DICOM files:  43%|████▎     | 180/421 [50:36<56:27, 14.05s/it]"
     ]
    },
    {
     "name": "stdout",
     "output_type": "stream",
     "text": [
      "Reading segmentation file: tciaDownload/1.2.276.0.7230010.3.1.3.2323910823.22304.1597257974.609/1-1.dcm\n",
      "Unique labels in segmentation: [  0 255]\n"
     ]
    },
    {
     "name": "stderr",
     "output_type": "stream",
     "text": [
      "Processing DICOM files:  43%|████▎     | 181/421 [50:54<1:01:04, 15.27s/it]"
     ]
    },
    {
     "name": "stdout",
     "output_type": "stream",
     "text": [
      "Reading segmentation file: tciaDownload/1.2.276.0.7230010.3.1.3.2323910823.21276.1597258117.861/1-1.dcm\n",
      "Unique labels in segmentation: [  0 255]\n"
     ]
    },
    {
     "name": "stderr",
     "output_type": "stream",
     "text": [
      "Processing DICOM files:  43%|████▎     | 182/421 [51:10<1:01:05, 15.34s/it]"
     ]
    },
    {
     "name": "stdout",
     "output_type": "stream",
     "text": [
      "Reading segmentation file: tciaDownload/1.2.276.0.7230010.3.1.3.2323910823.20828.1597259912.865/1-1.dcm\n",
      "Unique labels in segmentation: [  0 255]\n"
     ]
    },
    {
     "name": "stderr",
     "output_type": "stream",
     "text": [
      "Processing DICOM files:  43%|████▎     | 183/421 [51:26<1:01:54, 15.61s/it]"
     ]
    },
    {
     "name": "stdout",
     "output_type": "stream",
     "text": [
      "Reading segmentation file: tciaDownload/1.2.276.0.7230010.3.1.3.2323910823.18724.1597257516.794/1-1.dcm\n",
      "Unique labels in segmentation: [  0 255]\n"
     ]
    },
    {
     "name": "stderr",
     "output_type": "stream",
     "text": [
      "Processing DICOM files:  44%|████▎     | 184/421 [51:43<1:03:27, 16.06s/it]"
     ]
    },
    {
     "name": "stdout",
     "output_type": "stream",
     "text": [
      "Reading segmentation file: tciaDownload/1.2.276.0.7230010.3.1.3.2323910823.25264.1597260750.927/1-1.dcm\n",
      "Unique labels in segmentation: [  0 255]\n"
     ]
    },
    {
     "name": "stderr",
     "output_type": "stream",
     "text": [
      "Processing DICOM files:  44%|████▍     | 185/421 [52:03<1:07:29, 17.16s/it]"
     ]
    },
    {
     "name": "stdout",
     "output_type": "stream",
     "text": [
      "Reading segmentation file: tciaDownload/1.2.276.0.7230010.3.1.3.2323910823.21500.1597257452.142/1-1.dcm\n",
      "Unique labels in segmentation: [  0 255]\n"
     ]
    },
    {
     "name": "stderr",
     "output_type": "stream",
     "text": [
      "Processing DICOM files:  44%|████▍     | 186/421 [52:22<1:09:40, 17.79s/it]"
     ]
    },
    {
     "name": "stdout",
     "output_type": "stream",
     "text": [
      "Reading segmentation file: tciaDownload/1.2.276.0.7230010.3.1.3.2323910823.6720.1597258167.743/1-1.dcm\n",
      "Unique labels in segmentation: [  0 255]\n"
     ]
    },
    {
     "name": "stderr",
     "output_type": "stream",
     "text": [
      "Processing DICOM files:  44%|████▍     | 187/421 [52:37<1:05:49, 16.88s/it]"
     ]
    },
    {
     "name": "stdout",
     "output_type": "stream",
     "text": [
      "Reading segmentation file: tciaDownload/1.2.276.0.7230010.3.1.3.2323910823.20524.1597260970.612/1-1.dcm\n",
      "Unique labels in segmentation: [  0 255]\n"
     ]
    },
    {
     "name": "stderr",
     "output_type": "stream",
     "text": [
      "Processing DICOM files:  45%|████▍     | 188/421 [53:04<1:17:26, 19.94s/it]"
     ]
    },
    {
     "name": "stdout",
     "output_type": "stream",
     "text": [
      "Reading segmentation file: tciaDownload/1.2.276.0.7230010.3.1.3.2323910823.21324.1597257766.153/1-1.dcm\n",
      "Unique labels in segmentation: [  0 255]\n"
     ]
    },
    {
     "name": "stderr",
     "output_type": "stream",
     "text": [
      "Processing DICOM files:  45%|████▍     | 189/421 [53:27<1:20:20, 20.78s/it]"
     ]
    },
    {
     "name": "stdout",
     "output_type": "stream",
     "text": [
      "Reading segmentation file: tciaDownload/1.2.276.0.7230010.3.1.3.2323910823.5016.1597260018.45/1-1.dcm\n",
      "Unique labels in segmentation: [  0 255]\n"
     ]
    },
    {
     "name": "stderr",
     "output_type": "stream",
     "text": [
      "Processing DICOM files:  45%|████▌     | 190/421 [53:40<1:11:41, 18.62s/it]"
     ]
    },
    {
     "name": "stdout",
     "output_type": "stream",
     "text": [
      "Reading segmentation file: tciaDownload/1.2.276.0.7230010.3.1.3.2323910823.21096.1597257926.34/1-1.dcm\n",
      "Unique labels in segmentation: [  0 255]\n"
     ]
    },
    {
     "name": "stderr",
     "output_type": "stream",
     "text": [
      "Processing DICOM files:  45%|████▌     | 191/421 [53:56<1:08:04, 17.76s/it]"
     ]
    },
    {
     "name": "stdout",
     "output_type": "stream",
     "text": [
      "Reading segmentation file: tciaDownload/1.2.276.0.7230010.3.1.3.2323910823.17648.1597257338.366/1-1.dcm\n",
      "Unique labels in segmentation: [  0 255]\n"
     ]
    },
    {
     "name": "stderr",
     "output_type": "stream",
     "text": [
      "Processing DICOM files:  46%|████▌     | 192/421 [54:15<1:09:28, 18.20s/it]"
     ]
    },
    {
     "name": "stdout",
     "output_type": "stream",
     "text": [
      "Reading segmentation file: tciaDownload/1.2.276.0.7230010.3.1.3.2323910823.15516.1597257709.94/1-1.dcm\n",
      "Unique labels in segmentation: [  0 255]\n"
     ]
    },
    {
     "name": "stderr",
     "output_type": "stream",
     "text": [
      "Processing DICOM files:  46%|████▌     | 193/421 [54:27<1:01:41, 16.24s/it]"
     ]
    },
    {
     "name": "stdout",
     "output_type": "stream",
     "text": [
      "Reading segmentation file: tciaDownload/1.2.276.0.7230010.3.1.3.2323910823.23736.1597257349.790/1-1.dcm\n",
      "Unique labels in segmentation: [  0 255]\n"
     ]
    },
    {
     "name": "stderr",
     "output_type": "stream",
     "text": [
      "Processing DICOM files:  46%|████▌     | 194/421 [54:40<57:18, 15.15s/it]  "
     ]
    },
    {
     "name": "stdout",
     "output_type": "stream",
     "text": [
      "Reading segmentation file: tciaDownload/1.2.276.0.7230010.3.1.3.2323910823.1672.1597257503.485/1-1.dcm\n",
      "Unique labels in segmentation: [  0 255]\n"
     ]
    },
    {
     "name": "stderr",
     "output_type": "stream",
     "text": [
      "Processing DICOM files:  46%|████▋     | 195/421 [55:01<1:03:59, 16.99s/it]"
     ]
    },
    {
     "name": "stdout",
     "output_type": "stream",
     "text": [
      "Reading segmentation file: tciaDownload/1.2.276.0.7230010.3.1.3.2323910823.23960.1597259440.66/1-1.dcm\n",
      "Unique labels in segmentation: [  0 255]\n"
     ]
    },
    {
     "name": "stderr",
     "output_type": "stream",
     "text": [
      "Processing DICOM files:  47%|████▋     | 196/421 [55:22<1:08:16, 18.21s/it]"
     ]
    },
    {
     "name": "stdout",
     "output_type": "stream",
     "text": [
      "Reading segmentation file: tciaDownload/1.2.276.0.7230010.3.1.3.2323910823.19136.1597260893.910/1-1.dcm\n",
      "Unique labels in segmentation: [  0 255]\n"
     ]
    },
    {
     "name": "stderr",
     "output_type": "stream",
     "text": [
      "Processing DICOM files:  47%|████▋     | 197/421 [55:33<59:52, 16.04s/it]  "
     ]
    },
    {
     "name": "stdout",
     "output_type": "stream",
     "text": [
      "Reading segmentation file: tciaDownload/1.2.276.0.7230010.3.1.3.2323910823.23904.1597257826.764/1-1.dcm\n",
      "Unique labels in segmentation: [  0 255]\n"
     ]
    },
    {
     "name": "stderr",
     "output_type": "stream",
     "text": [
      "Processing DICOM files:  47%|████▋     | 198/421 [55:58<1:10:14, 18.90s/it]"
     ]
    },
    {
     "name": "stdout",
     "output_type": "stream",
     "text": [
      "Reading segmentation file: tciaDownload/1.2.276.0.7230010.3.1.3.2323910823.17684.1597260842.466/1-1.dcm\n",
      "Unique labels in segmentation: [  0 255]\n"
     ]
    },
    {
     "name": "stderr",
     "output_type": "stream",
     "text": [
      "Processing DICOM files:  47%|████▋     | 199/421 [56:14<1:06:07, 17.87s/it]"
     ]
    },
    {
     "name": "stdout",
     "output_type": "stream",
     "text": [
      "Reading segmentation file: tciaDownload/1.2.276.0.7230010.3.1.3.2323910823.20516.1597258918.838/1-1.dcm\n",
      "Unique labels in segmentation: [  0 255]\n"
     ]
    },
    {
     "name": "stderr",
     "output_type": "stream",
     "text": [
      "Processing DICOM files:  48%|████▊     | 200/421 [56:41<1:15:34, 20.52s/it]"
     ]
    },
    {
     "name": "stdout",
     "output_type": "stream",
     "text": [
      "Reading segmentation file: tciaDownload/1.2.276.0.7230010.3.1.3.2323910823.22048.1597257914.847/1-1.dcm\n",
      "Unique labels in segmentation: [  0 255]\n"
     ]
    },
    {
     "name": "stderr",
     "output_type": "stream",
     "text": [
      "Processing DICOM files:  48%|████▊     | 201/421 [57:03<1:16:59, 21.00s/it]"
     ]
    },
    {
     "name": "stdout",
     "output_type": "stream",
     "text": [
      "Reading segmentation file: tciaDownload/1.2.276.0.7230010.3.1.3.2323910823.9316.1597258779.765/1-1.dcm\n",
      "Unique labels in segmentation: [  0 255]\n"
     ]
    },
    {
     "name": "stderr",
     "output_type": "stream",
     "text": [
      "Processing DICOM files:  48%|████▊     | 202/421 [57:14<1:05:40, 17.99s/it]"
     ]
    },
    {
     "name": "stdout",
     "output_type": "stream",
     "text": [
      "Reading segmentation file: tciaDownload/1.2.276.0.7230010.3.1.3.2323910823.9396.1597257478.140/1-1.dcm\n",
      "Unique labels in segmentation: [  0 255]\n"
     ]
    },
    {
     "name": "stderr",
     "output_type": "stream",
     "text": [
      "Processing DICOM files:  48%|████▊     | 203/421 [57:30<1:02:56, 17.33s/it]"
     ]
    },
    {
     "name": "stdout",
     "output_type": "stream",
     "text": [
      "Reading segmentation file: tciaDownload/1.2.276.0.7230010.3.1.3.2323910823.23444.1597259580.56/1-1.dcm\n",
      "Unique labels in segmentation: [  0 255]\n"
     ]
    },
    {
     "name": "stderr",
     "output_type": "stream",
     "text": [
      "Processing DICOM files:  48%|████▊     | 204/421 [57:44<59:07, 16.35s/it]  "
     ]
    },
    {
     "name": "stdout",
     "output_type": "stream",
     "text": [
      "Reading segmentation file: tciaDownload/1.2.276.0.7230010.3.1.3.2323910823.18008.1597257961.539/1-1.dcm\n",
      "Unique labels in segmentation: [  0 255]\n"
     ]
    },
    {
     "name": "stderr",
     "output_type": "stream",
     "text": [
      "Processing DICOM files:  49%|████▊     | 205/421 [58:01<59:31, 16.54s/it]"
     ]
    },
    {
     "name": "stdout",
     "output_type": "stream",
     "text": [
      "Reading segmentation file: tciaDownload/1.2.276.0.7230010.3.1.3.2323910823.17484.1597258010.132/1-1.dcm\n",
      "Unique labels in segmentation: [  0 255]\n"
     ]
    },
    {
     "name": "stderr",
     "output_type": "stream",
     "text": [
      "Processing DICOM files:  49%|████▉     | 206/421 [58:19<1:01:06, 17.05s/it]"
     ]
    },
    {
     "name": "stdout",
     "output_type": "stream",
     "text": [
      "Reading segmentation file: tciaDownload/1.2.276.0.7230010.3.1.3.2323910823.15224.1597257426.910/1-1.dcm\n",
      "Unique labels in segmentation: [  0 255]\n"
     ]
    },
    {
     "name": "stderr",
     "output_type": "stream",
     "text": [
      "Processing DICOM files:  49%|████▉     | 207/421 [58:37<1:01:41, 17.30s/it]"
     ]
    },
    {
     "name": "stdout",
     "output_type": "stream",
     "text": [
      "Reading segmentation file: tciaDownload/1.2.276.0.7230010.3.1.3.2323910823.21324.1597257257.231/1-1.dcm\n",
      "Unique labels in segmentation: [  0 255]\n"
     ]
    },
    {
     "name": "stderr",
     "output_type": "stream",
     "text": [
      "Processing DICOM files:  49%|████▉     | 208/421 [59:05<1:12:37, 20.46s/it]"
     ]
    },
    {
     "name": "stdout",
     "output_type": "stream",
     "text": [
      "Reading segmentation file: tciaDownload/1.2.276.0.7230010.3.1.3.2323910823.21736.1597257896.335/1-1.dcm\n",
      "Unique labels in segmentation: [  0 255]\n"
     ]
    },
    {
     "name": "stderr",
     "output_type": "stream",
     "text": [
      "Processing DICOM files:  50%|████▉     | 209/421 [59:17<1:03:23, 17.94s/it]"
     ]
    },
    {
     "name": "stdout",
     "output_type": "stream",
     "text": [
      "Reading segmentation file: tciaDownload/1.2.276.0.7230010.3.1.3.2323910823.3244.1597260988.841/1-1.dcm\n",
      "Unique labels in segmentation: [  0 255]\n"
     ]
    },
    {
     "name": "stderr",
     "output_type": "stream",
     "text": [
      "Processing DICOM files:  50%|████▉     | 210/421 [59:35<1:03:52, 18.16s/it]"
     ]
    },
    {
     "name": "stdout",
     "output_type": "stream",
     "text": [
      "Reading segmentation file: tciaDownload/1.2.276.0.7230010.3.1.3.2323910823.19328.1597260740.711/1-1.dcm\n",
      "Unique labels in segmentation: [  0 255]\n"
     ]
    },
    {
     "name": "stderr",
     "output_type": "stream",
     "text": [
      "Processing DICOM files:  50%|█████     | 211/421 [59:54<1:03:58, 18.28s/it]"
     ]
    },
    {
     "name": "stdout",
     "output_type": "stream",
     "text": [
      "Reading segmentation file: tciaDownload/1.2.276.0.7230010.3.1.3.2323910823.17768.1597261284.466/1-1.dcm\n",
      "Unique labels in segmentation: [  0 255]\n"
     ]
    },
    {
     "name": "stderr",
     "output_type": "stream",
     "text": [
      "Processing DICOM files:  50%|█████     | 212/421 [1:00:10<1:01:07, 17.55s/it]"
     ]
    },
    {
     "name": "stdout",
     "output_type": "stream",
     "text": [
      "Reading segmentation file: tciaDownload/1.2.276.0.7230010.3.1.3.2323910823.8412.1597259714.165/1-1.dcm\n",
      "Unique labels in segmentation: [  0 255]\n"
     ]
    },
    {
     "name": "stderr",
     "output_type": "stream",
     "text": [
      "Processing DICOM files:  51%|█████     | 213/421 [1:00:31<1:05:10, 18.80s/it]"
     ]
    },
    {
     "name": "stdout",
     "output_type": "stream",
     "text": [
      "Reading segmentation file: tciaDownload/1.2.276.0.7230010.3.1.3.2323910823.12536.1597259667.361/1-1.dcm\n",
      "Unique labels in segmentation: [  0 255]\n"
     ]
    },
    {
     "name": "stderr",
     "output_type": "stream",
     "text": [
      "Processing DICOM files:  51%|█████     | 214/421 [1:00:44<58:48, 17.05s/it]  "
     ]
    },
    {
     "name": "stdout",
     "output_type": "stream",
     "text": [
      "Reading segmentation file: tciaDownload/1.2.276.0.7230010.3.1.3.2323910823.25308.1597259413.448/1-1.dcm\n",
      "Unique labels in segmentation: [  0 255]\n"
     ]
    },
    {
     "name": "stderr",
     "output_type": "stream",
     "text": [
      "Processing DICOM files:  51%|█████     | 215/421 [1:01:03<1:00:32, 17.63s/it]"
     ]
    },
    {
     "name": "stdout",
     "output_type": "stream",
     "text": [
      "Reading segmentation file: tciaDownload/1.2.276.0.7230010.3.1.3.2323910823.2432.1597258383.482/1-1.dcm\n",
      "Unique labels in segmentation: [  0 255]\n"
     ]
    },
    {
     "name": "stderr",
     "output_type": "stream",
     "text": [
      "Processing DICOM files:  51%|█████▏    | 216/421 [1:01:17<56:18, 16.48s/it]  "
     ]
    },
    {
     "name": "stdout",
     "output_type": "stream",
     "text": [
      "Reading segmentation file: tciaDownload/1.2.276.0.7230010.3.1.3.2323910823.7408.1597259542.963/1-1.dcm\n",
      "Unique labels in segmentation: [  0 255]\n"
     ]
    },
    {
     "name": "stderr",
     "output_type": "stream",
     "text": [
      "Processing DICOM files:  52%|█████▏    | 217/421 [1:01:29<51:02, 15.01s/it]"
     ]
    },
    {
     "name": "stdout",
     "output_type": "stream",
     "text": [
      "Reading segmentation file: tciaDownload/1.2.276.0.7230010.3.1.3.2323910823.20000.1597257289.87/1-1.dcm\n",
      "Unique labels in segmentation: [  0 255]\n"
     ]
    },
    {
     "name": "stderr",
     "output_type": "stream",
     "text": [
      "Processing DICOM files:  52%|█████▏    | 218/421 [1:01:43<50:31, 14.93s/it]"
     ]
    },
    {
     "name": "stdout",
     "output_type": "stream",
     "text": [
      "Reading segmentation file: tciaDownload/1.2.276.0.7230010.3.1.3.2323910823.7960.1597259143.872/1-1.dcm\n",
      "Unique labels in segmentation: [  0 255]\n"
     ]
    },
    {
     "name": "stderr",
     "output_type": "stream",
     "text": [
      "Processing DICOM files:  52%|█████▏    | 219/421 [1:01:56<48:06, 14.29s/it]"
     ]
    },
    {
     "name": "stdout",
     "output_type": "stream",
     "text": [
      "Reading segmentation file: tciaDownload/1.2.276.0.7230010.3.1.3.2323910823.18812.1597260662.849/1-1.dcm\n",
      "Unique labels in segmentation: [  0 255]\n"
     ]
    },
    {
     "name": "stderr",
     "output_type": "stream",
     "text": [
      "Processing DICOM files:  52%|█████▏    | 220/421 [1:02:21<58:50, 17.57s/it]"
     ]
    },
    {
     "name": "stdout",
     "output_type": "stream",
     "text": [
      "Reading segmentation file: tciaDownload/1.2.276.0.7230010.3.1.3.2323910823.21096.1597258970.772/1-1.dcm\n",
      "Unique labels in segmentation: [  0 255]\n"
     ]
    },
    {
     "name": "stderr",
     "output_type": "stream",
     "text": [
      "Processing DICOM files:  52%|█████▏    | 221/421 [1:02:31<50:57, 15.29s/it]"
     ]
    },
    {
     "name": "stdout",
     "output_type": "stream",
     "text": [
      "Reading segmentation file: tciaDownload/1.2.276.0.7230010.3.1.3.2323910823.25464.1597258272.819/1-1.dcm\n",
      "Unique labels in segmentation: [  0 255]\n"
     ]
    },
    {
     "name": "stderr",
     "output_type": "stream",
     "text": [
      "Processing DICOM files:  53%|█████▎    | 222/421 [1:02:54<57:41, 17.39s/it]"
     ]
    },
    {
     "name": "stdout",
     "output_type": "stream",
     "text": [
      "Reading segmentation file: tciaDownload/1.2.276.0.7230010.3.1.3.2323910823.3968.1597259920.978/1-1.dcm\n",
      "Unique labels in segmentation: [  0 255]\n"
     ]
    },
    {
     "name": "stderr",
     "output_type": "stream",
     "text": [
      "Processing DICOM files:  53%|█████▎    | 223/421 [1:03:12<57:51, 17.53s/it]"
     ]
    },
    {
     "name": "stdout",
     "output_type": "stream",
     "text": [
      "Reading segmentation file: tciaDownload/1.2.276.0.7230010.3.1.3.2323910823.17480.1597260942.806/1-1.dcm\n",
      "Unique labels in segmentation: [  0 255]\n"
     ]
    },
    {
     "name": "stderr",
     "output_type": "stream",
     "text": [
      "Processing DICOM files:  53%|█████▎    | 224/421 [1:03:25<53:29, 16.29s/it]"
     ]
    },
    {
     "name": "stdout",
     "output_type": "stream",
     "text": [
      "Reading segmentation file: tciaDownload/1.2.276.0.7230010.3.1.3.2323910823.18860.1597257439.490/1-1.dcm\n",
      "Unique labels in segmentation: [  0 255]\n"
     ]
    },
    {
     "name": "stderr",
     "output_type": "stream",
     "text": [
      "Processing DICOM files:  53%|█████▎    | 225/421 [1:03:43<54:28, 16.68s/it]"
     ]
    },
    {
     "name": "stdout",
     "output_type": "stream",
     "text": [
      "Reading segmentation file: tciaDownload/1.2.276.0.7230010.3.1.3.2323910823.1956.1597259929.328/1-1.dcm\n",
      "Unique labels in segmentation: [  0 255]\n"
     ]
    },
    {
     "name": "stderr",
     "output_type": "stream",
     "text": [
      "Processing DICOM files:  54%|█████▎    | 226/421 [1:03:59<53:30, 16.47s/it]"
     ]
    },
    {
     "name": "stdout",
     "output_type": "stream",
     "text": [
      "Reading segmentation file: tciaDownload/1.2.276.0.7230010.3.1.3.2323910823.23864.1597260522.316/1-1.dcm\n",
      "Unique labels in segmentation: [  0 255]\n"
     ]
    },
    {
     "name": "stderr",
     "output_type": "stream",
     "text": [
      "Processing DICOM files:  54%|█████▍    | 227/421 [1:04:16<54:26, 16.84s/it]"
     ]
    },
    {
     "name": "stdout",
     "output_type": "stream",
     "text": [
      "Reading segmentation file: tciaDownload/1.2.276.0.7230010.3.1.3.2323910823.24912.1597260950.917/1-1.dcm\n",
      "Unique labels in segmentation: [  0 255]\n"
     ]
    },
    {
     "name": "stderr",
     "output_type": "stream",
     "text": [
      "Processing DICOM files:  54%|█████▍    | 228/421 [1:04:31<52:28, 16.31s/it]"
     ]
    },
    {
     "name": "stdout",
     "output_type": "stream",
     "text": [
      "Reading segmentation file: tciaDownload/1.2.276.0.7230010.3.1.3.2323910823.2772.1597259786.661/1-1.dcm\n",
      "Unique labels in segmentation: [  0 255]\n"
     ]
    },
    {
     "name": "stderr",
     "output_type": "stream",
     "text": [
      "Processing DICOM files:  54%|█████▍    | 229/421 [1:04:44<48:29, 15.16s/it]"
     ]
    },
    {
     "name": "stdout",
     "output_type": "stream",
     "text": [
      "Reading segmentation file: tciaDownload/1.2.276.0.7230010.3.1.3.2323910823.21572.1597257804.452/1-1.dcm\n",
      "Unique labels in segmentation: [  0 255]\n"
     ]
    },
    {
     "name": "stderr",
     "output_type": "stream",
     "text": [
      "Processing DICOM files:  55%|█████▍    | 230/421 [1:05:03<52:24, 16.46s/it]"
     ]
    },
    {
     "name": "stdout",
     "output_type": "stream",
     "text": [
      "Reading segmentation file: tciaDownload/1.2.276.0.7230010.3.1.3.2323910823.23176.1597259567.693/1-1.dcm\n",
      "Unique labels in segmentation: [  0 255]\n"
     ]
    },
    {
     "name": "stderr",
     "output_type": "stream",
     "text": [
      "Processing DICOM files:  55%|█████▍    | 231/421 [1:05:17<49:05, 15.50s/it]"
     ]
    },
    {
     "name": "stdout",
     "output_type": "stream",
     "text": [
      "Reading segmentation file: tciaDownload/1.2.276.0.7230010.3.1.3.2323910823.19696.1597259206.999/1-1.dcm\n",
      "Unique labels in segmentation: [  0 255]\n"
     ]
    },
    {
     "name": "stderr",
     "output_type": "stream",
     "text": [
      "Processing DICOM files:  55%|█████▌    | 232/421 [1:05:31<47:59, 15.24s/it]"
     ]
    },
    {
     "name": "stdout",
     "output_type": "stream",
     "text": [
      "Reading segmentation file: tciaDownload/1.2.276.0.7230010.3.1.3.2323910823.19496.1597260575.3/1-1.dcm\n",
      "Unique labels in segmentation: [  0 255]\n"
     ]
    },
    {
     "name": "stderr",
     "output_type": "stream",
     "text": [
      "Processing DICOM files:  55%|█████▌    | 233/421 [1:05:49<49:42, 15.86s/it]"
     ]
    },
    {
     "name": "stdout",
     "output_type": "stream",
     "text": [
      "Reading segmentation file: tciaDownload/1.2.276.0.7230010.3.1.3.2323910823.20264.1597258891.428/1-1.dcm\n",
      "Unique labels in segmentation: [  0 255]\n"
     ]
    },
    {
     "name": "stderr",
     "output_type": "stream",
     "text": [
      "Processing DICOM files:  56%|█████▌    | 234/421 [1:06:04<49:18, 15.82s/it]"
     ]
    },
    {
     "name": "stdout",
     "output_type": "stream",
     "text": [
      "Reading segmentation file: tciaDownload/1.2.276.0.7230010.3.1.3.2323910823.15288.1597261179.859/1-1.dcm\n",
      "Unique labels in segmentation: [  0 255]\n"
     ]
    },
    {
     "name": "stderr",
     "output_type": "stream",
     "text": [
      "Processing DICOM files:  56%|█████▌    | 235/421 [1:06:21<49:54, 16.10s/it]"
     ]
    },
    {
     "name": "stdout",
     "output_type": "stream",
     "text": [
      "Reading segmentation file: tciaDownload/1.2.276.0.7230010.3.1.3.2323910823.2812.1597257938.743/1-1.dcm\n",
      "Unique labels in segmentation: [  0 255]\n"
     ]
    },
    {
     "name": "stderr",
     "output_type": "stream",
     "text": [
      "Processing DICOM files:  56%|█████▌    | 236/421 [1:06:32<44:35, 14.46s/it]"
     ]
    },
    {
     "name": "stdout",
     "output_type": "stream",
     "text": [
      "Reading segmentation file: tciaDownload/1.2.276.0.7230010.3.1.3.2323910823.9200.1597259043.435/1-1.dcm\n",
      "Unique labels in segmentation: [  0 255]\n"
     ]
    },
    {
     "name": "stderr",
     "output_type": "stream",
     "text": [
      "Processing DICOM files:  56%|█████▋    | 237/421 [1:06:50<47:44, 15.57s/it]"
     ]
    },
    {
     "name": "stdout",
     "output_type": "stream",
     "text": [
      "Reading segmentation file: tciaDownload/1.2.276.0.7230010.3.1.3.2323910823.22068.1597258724.791/1-1.dcm\n",
      "Unique labels in segmentation: [  0 255]\n"
     ]
    },
    {
     "name": "stderr",
     "output_type": "stream",
     "text": [
      "Processing DICOM files:  57%|█████▋    | 238/421 [1:06:59<41:52, 13.73s/it]"
     ]
    },
    {
     "name": "stdout",
     "output_type": "stream",
     "text": [
      "Reading segmentation file: tciaDownload/1.2.276.0.7230010.3.1.3.2323910823.11436.1597260561.739/1-1.dcm\n",
      "Unique labels in segmentation: [  0 255]\n"
     ]
    },
    {
     "name": "stderr",
     "output_type": "stream",
     "text": [
      "Processing DICOM files:  57%|█████▋    | 239/421 [1:07:13<42:00, 13.85s/it]"
     ]
    },
    {
     "name": "stdout",
     "output_type": "stream",
     "text": [
      "Reading segmentation file: tciaDownload/1.2.276.0.7230010.3.1.3.2323910823.19540.1597258290.453/1-1.dcm\n",
      "Unique labels in segmentation: [  0 255]\n"
     ]
    },
    {
     "name": "stderr",
     "output_type": "stream",
     "text": [
      "Processing DICOM files:  57%|█████▋    | 240/421 [1:07:35<48:40, 16.14s/it]"
     ]
    },
    {
     "name": "stdout",
     "output_type": "stream",
     "text": [
      "Reading segmentation file: tciaDownload/1.2.276.0.7230010.3.1.3.2323910823.2712.1597261016.47/1-1.dcm\n",
      "Unique labels in segmentation: [  0 255]\n"
     ]
    },
    {
     "name": "stderr",
     "output_type": "stream",
     "text": [
      "Processing DICOM files:  57%|█████▋    | 241/421 [1:07:55<52:06, 17.37s/it]"
     ]
    },
    {
     "name": "stdout",
     "output_type": "stream",
     "text": [
      "Reading segmentation file: tciaDownload/1.2.276.0.7230010.3.1.3.2323910823.23964.1597257864.465/1-1.dcm\n",
      "Unique labels in segmentation: [  0 255]\n"
     ]
    },
    {
     "name": "stderr",
     "output_type": "stream",
     "text": [
      "Processing DICOM files:  57%|█████▋    | 242/421 [1:08:12<51:31, 17.27s/it]"
     ]
    },
    {
     "name": "stdout",
     "output_type": "stream",
     "text": [
      "Reading segmentation file: tciaDownload/1.2.276.0.7230010.3.1.3.2323910823.25112.1597260107.787/1-1.dcm\n",
      "Unique labels in segmentation: [  0 255]\n"
     ]
    },
    {
     "name": "stderr",
     "output_type": "stream",
     "text": [
      "Processing DICOM files:  58%|█████▊    | 243/421 [1:08:22<44:30, 15.00s/it]"
     ]
    },
    {
     "name": "stdout",
     "output_type": "stream",
     "text": [
      "Reading segmentation file: tciaDownload/1.2.276.0.7230010.3.1.3.2323910823.17916.1597258999.726/1-1.dcm\n",
      "Unique labels in segmentation: [  0 255]\n"
     ]
    },
    {
     "name": "stderr",
     "output_type": "stream",
     "text": [
      "Processing DICOM files:  58%|█████▊    | 244/421 [1:08:42<49:06, 16.65s/it]"
     ]
    },
    {
     "name": "stdout",
     "output_type": "stream",
     "text": [
      "Reading segmentation file: tciaDownload/1.2.276.0.7230010.3.1.3.2323910823.19464.1597260904.406/1-1.dcm\n"
     ]
    },
    {
     "name": "stderr",
     "output_type": "stream",
     "text": [
      "Processing DICOM files:  58%|█████▊    | 245/421 [1:08:43<34:40, 11.82s/it]"
     ]
    },
    {
     "name": "stdout",
     "output_type": "stream",
     "text": [
      "Unique labels in segmentation: [  0 255]\n",
      "Reading segmentation file: tciaDownload/1.2.276.0.7230010.3.1.3.2323910823.25312.1597259471.482/1-1.dcm\n",
      "Unique labels in segmentation: [  0 255]\n"
     ]
    },
    {
     "name": "stderr",
     "output_type": "stream",
     "text": [
      "Processing DICOM files:  58%|█████▊    | 246/421 [1:08:44<25:15,  8.66s/it]"
     ]
    },
    {
     "name": "stdout",
     "output_type": "stream",
     "text": [
      "Reading segmentation file: tciaDownload/1.2.276.0.7230010.3.1.3.2323910823.24976.1597260033.469/1-1.dcm\n",
      "Unique labels in segmentation: [  0 255]\n"
     ]
    },
    {
     "name": "stderr",
     "output_type": "stream",
     "text": [
      "Processing DICOM files:  59%|█████▊    | 247/421 [1:09:00<31:39, 10.92s/it]"
     ]
    },
    {
     "name": "stdout",
     "output_type": "stream",
     "text": [
      "Reading segmentation file: tciaDownload/1.2.276.0.7230010.3.1.3.2323910823.17780.1597259837.175/1-1.dcm\n",
      "Unique labels in segmentation: [  0 255]\n"
     ]
    },
    {
     "name": "stderr",
     "output_type": "stream",
     "text": [
      "Processing DICOM files:  59%|█████▉    | 248/421 [1:09:16<35:50, 12.43s/it]"
     ]
    },
    {
     "name": "stdout",
     "output_type": "stream",
     "text": [
      "Reading segmentation file: tciaDownload/1.2.276.0.7230010.3.1.3.2323910823.21620.1597257953.833/1-1.dcm\n",
      "Unique labels in segmentation: [  0 255]\n"
     ]
    },
    {
     "name": "stderr",
     "output_type": "stream",
     "text": [
      "Processing DICOM files:  59%|█████▉    | 249/421 [1:09:30<36:34, 12.76s/it]"
     ]
    },
    {
     "name": "stdout",
     "output_type": "stream",
     "text": [
      "Reading segmentation file: tciaDownload/1.2.276.0.7230010.3.1.3.2323910823.18380.1597258575.835/1-1.dcm\n",
      "Unique labels in segmentation: [  0 255]\n"
     ]
    },
    {
     "name": "stderr",
     "output_type": "stream",
     "text": [
      "Processing DICOM files:  59%|█████▉    | 250/421 [1:09:41<35:23, 12.42s/it]"
     ]
    },
    {
     "name": "stdout",
     "output_type": "stream",
     "text": [
      "Reading segmentation file: tciaDownload/1.2.276.0.7230010.3.1.3.2323910823.23952.1597260996.321/1-1.dcm\n",
      "Unique labels in segmentation: [  0 255]\n"
     ]
    },
    {
     "name": "stderr",
     "output_type": "stream",
     "text": [
      "Processing DICOM files:  60%|█████▉    | 251/421 [1:09:57<38:12, 13.49s/it]"
     ]
    },
    {
     "name": "stdout",
     "output_type": "stream",
     "text": [
      "Reading segmentation file: tciaDownload/1.2.276.0.7230010.3.1.3.2323910823.22444.1597260547.585/1-1.dcm\n",
      "Unique labels in segmentation: [  0 255]\n"
     ]
    },
    {
     "name": "stderr",
     "output_type": "stream",
     "text": [
      "Processing DICOM files:  60%|█████▉    | 252/421 [1:10:15<41:11, 14.62s/it]"
     ]
    },
    {
     "name": "stdout",
     "output_type": "stream",
     "text": [
      "Reading segmentation file: tciaDownload/1.2.276.0.7230010.3.1.3.2323910823.9180.1597259494.658/1-1.dcm\n",
      "Unique labels in segmentation: [  0 255]\n"
     ]
    },
    {
     "name": "stderr",
     "output_type": "stream",
     "text": [
      "Processing DICOM files:  60%|██████    | 253/421 [1:10:17<30:28, 10.88s/it]"
     ]
    },
    {
     "name": "stdout",
     "output_type": "stream",
     "text": [
      "Reading segmentation file: tciaDownload/1.2.276.0.7230010.3.1.3.2323910823.16476.1597257778.788/1-1.dcm\n",
      "Unique labels in segmentation: [  0 255]\n"
     ]
    },
    {
     "name": "stderr",
     "output_type": "stream",
     "text": [
      "Processing DICOM files:  60%|██████    | 254/421 [1:10:34<35:26, 12.73s/it]"
     ]
    },
    {
     "name": "stdout",
     "output_type": "stream",
     "text": [
      "Reading segmentation file: tciaDownload/1.2.276.0.7230010.3.1.3.2323910823.24612.1597260130.724/1-1.dcm\n",
      "Unique labels in segmentation: [  0 255]\n"
     ]
    },
    {
     "name": "stderr",
     "output_type": "stream",
     "text": [
      "Processing DICOM files:  61%|██████    | 255/421 [1:10:44<33:25, 12.08s/it]"
     ]
    },
    {
     "name": "stdout",
     "output_type": "stream",
     "text": [
      "Reading segmentation file: tciaDownload/1.2.276.0.7230010.3.1.3.2323910823.18240.1597259021.273/1-1.dcm\n",
      "Unique labels in segmentation: [  0 255]\n"
     ]
    },
    {
     "name": "stderr",
     "output_type": "stream",
     "text": [
      "Processing DICOM files:  61%|██████    | 256/421 [1:11:05<39:54, 14.51s/it]"
     ]
    },
    {
     "name": "stdout",
     "output_type": "stream",
     "text": [
      "Reading segmentation file: tciaDownload/1.2.276.0.7230010.3.1.3.2323910823.12008.1597259861.47/1-1.dcm\n",
      "Unique labels in segmentation: [  0 255]\n"
     ]
    },
    {
     "name": "stderr",
     "output_type": "stream",
     "text": [
      "Processing DICOM files:  61%|██████    | 257/421 [1:11:17<37:35, 13.75s/it]"
     ]
    },
    {
     "name": "stdout",
     "output_type": "stream",
     "text": [
      "Reading segmentation file: tciaDownload/1.2.276.0.7230010.3.1.3.2323910823.21984.1597257676.349/1-1.dcm\n",
      "Unique labels in segmentation: [  0 255]\n"
     ]
    },
    {
     "name": "stderr",
     "output_type": "stream",
     "text": [
      "Processing DICOM files:  61%|██████▏   | 258/421 [1:11:28<35:05, 12.92s/it]"
     ]
    },
    {
     "name": "stdout",
     "output_type": "stream",
     "text": [
      "Reading segmentation file: tciaDownload/1.2.276.0.7230010.3.1.3.2323910823.24588.1597259969.599/1-1.dcm\n",
      "Unique labels in segmentation: [  0 255]\n"
     ]
    },
    {
     "name": "stderr",
     "output_type": "stream",
     "text": [
      "Processing DICOM files:  62%|██████▏   | 259/421 [1:11:39<33:59, 12.59s/it]"
     ]
    },
    {
     "name": "stdout",
     "output_type": "stream",
     "text": [
      "Reading segmentation file: tciaDownload/1.2.276.0.7230010.3.1.3.2323910823.912.1597258038.723/1-1.dcm\n",
      "Unique labels in segmentation: [  0 255]\n"
     ]
    },
    {
     "name": "stderr",
     "output_type": "stream",
     "text": [
      "Processing DICOM files:  62%|██████▏   | 260/421 [1:12:00<40:09, 14.97s/it]"
     ]
    },
    {
     "name": "stdout",
     "output_type": "stream",
     "text": [
      "Reading segmentation file: tciaDownload/1.2.276.0.7230010.3.1.3.2323910823.1592.1597258599.950/1-1.dcm\n",
      "Unique labels in segmentation: [  0 255]\n"
     ]
    },
    {
     "name": "stderr",
     "output_type": "stream",
     "text": [
      "Processing DICOM files:  62%|██████▏   | 261/421 [1:12:17<41:48, 15.68s/it]"
     ]
    },
    {
     "name": "stdout",
     "output_type": "stream",
     "text": [
      "Reading segmentation file: tciaDownload/1.2.276.0.7230010.3.1.3.2323910823.20892.1597259057.195/1-1.dcm\n",
      "Unique labels in segmentation: [  0 255]\n"
     ]
    },
    {
     "name": "stderr",
     "output_type": "stream",
     "text": [
      "Processing DICOM files:  62%|██████▏   | 262/421 [1:12:21<32:14, 12.17s/it]"
     ]
    },
    {
     "name": "stdout",
     "output_type": "stream",
     "text": [
      "Reading segmentation file: tciaDownload/1.2.276.0.7230010.3.1.3.2323910823.12236.1597260074.85/1-1.dcm\n",
      "Unique labels in segmentation: [  0 255]\n"
     ]
    },
    {
     "name": "stderr",
     "output_type": "stream",
     "text": [
      "Processing DICOM files:  62%|██████▏   | 263/421 [1:12:41<38:16, 14.54s/it]"
     ]
    },
    {
     "name": "stdout",
     "output_type": "stream",
     "text": [
      "Reading segmentation file: tciaDownload/1.2.276.0.7230010.3.1.3.2323910823.17836.1597258903.866/1-1.dcm\n",
      "Unique labels in segmentation: [  0 255]\n"
     ]
    },
    {
     "name": "stderr",
     "output_type": "stream",
     "text": [
      "Processing DICOM files:  63%|██████▎   | 264/421 [1:12:56<37:57, 14.51s/it]"
     ]
    },
    {
     "name": "stdout",
     "output_type": "stream",
     "text": [
      "Reading segmentation file: tciaDownload/1.2.276.0.7230010.3.1.3.2323910823.19760.1597258617.886/1-1.dcm\n",
      "Unique labels in segmentation: [  0 255]\n"
     ]
    },
    {
     "name": "stderr",
     "output_type": "stream",
     "text": [
      "Processing DICOM files:  63%|██████▎   | 265/421 [1:13:10<37:21, 14.37s/it]"
     ]
    },
    {
     "name": "stdout",
     "output_type": "stream",
     "text": [
      "Reading segmentation file: tciaDownload/1.2.276.0.7230010.3.1.3.2323910823.21056.1597257361.983/1-1.dcm\n",
      "Unique labels in segmentation: [  0 255]\n"
     ]
    },
    {
     "name": "stderr",
     "output_type": "stream",
     "text": [
      "Processing DICOM files:  63%|██████▎   | 266/421 [1:13:35<45:51, 17.75s/it]"
     ]
    },
    {
     "name": "stdout",
     "output_type": "stream",
     "text": [
      "Reading segmentation file: tciaDownload/1.2.276.0.7230010.3.1.3.2323910823.3516.1597259214.976/1-1.dcm\n",
      "Unique labels in segmentation: [  0 255]\n"
     ]
    },
    {
     "name": "stderr",
     "output_type": "stream",
     "text": [
      "Processing DICOM files:  63%|██████▎   | 267/421 [1:13:51<43:44, 17.04s/it]"
     ]
    },
    {
     "name": "stdout",
     "output_type": "stream",
     "text": [
      "Reading segmentation file: tciaDownload/1.2.276.0.7230010.3.1.3.2323910823.23348.1597257858.673/1-1.dcm\n",
      "Unique labels in segmentation: [  0 255]\n"
     ]
    },
    {
     "name": "stderr",
     "output_type": "stream",
     "text": [
      "Processing DICOM files:  64%|██████▎   | 268/421 [1:14:16<49:31, 19.42s/it]"
     ]
    },
    {
     "name": "stdout",
     "output_type": "stream",
     "text": [
      "Reading segmentation file: tciaDownload/1.2.276.0.7230010.3.1.3.2323910823.22612.1597260702.688/1-1.dcm\n",
      "Unique labels in segmentation: [  0 255]\n"
     ]
    },
    {
     "name": "stderr",
     "output_type": "stream",
     "text": [
      "Processing DICOM files:  64%|██████▍   | 269/421 [1:14:35<49:15, 19.45s/it]"
     ]
    },
    {
     "name": "stdout",
     "output_type": "stream",
     "text": [
      "Reading segmentation file: tciaDownload/1.2.276.0.7230010.3.1.3.2323910823.21456.1597260540.379/1-1.dcm\n",
      "Unique labels in segmentation: [  0 255]\n"
     ]
    },
    {
     "name": "stderr",
     "output_type": "stream",
     "text": [
      "Processing DICOM files:  64%|██████▍   | 270/421 [1:15:00<53:16, 21.17s/it]"
     ]
    },
    {
     "name": "stdout",
     "output_type": "stream",
     "text": [
      "Reading segmentation file: tciaDownload/1.2.276.0.7230010.3.1.3.2323910823.21980.1597261226.117/1-1.dcm\n",
      "Unique labels in segmentation: [  0 255]\n"
     ]
    },
    {
     "name": "stderr",
     "output_type": "stream",
     "text": [
      "Processing DICOM files:  64%|██████▍   | 271/421 [1:15:15<48:05, 19.23s/it]"
     ]
    },
    {
     "name": "stdout",
     "output_type": "stream",
     "text": [
      "Reading segmentation file: tciaDownload/1.2.276.0.7230010.3.1.3.2323910823.21544.1597259825.589/1-1.dcm\n",
      "Unique labels in segmentation: [  0 255]\n"
     ]
    },
    {
     "name": "stderr",
     "output_type": "stream",
     "text": [
      "Processing DICOM files:  65%|██████▍   | 272/421 [1:15:31<45:21, 18.27s/it]"
     ]
    },
    {
     "name": "stdout",
     "output_type": "stream",
     "text": [
      "Reading segmentation file: tciaDownload/1.2.276.0.7230010.3.1.3.2323910823.3532.1597259397.756/1-1.dcm\n",
      "Unique labels in segmentation: [  0 255]\n"
     ]
    },
    {
     "name": "stderr",
     "output_type": "stream",
     "text": [
      "Processing DICOM files:  65%|██████▍   | 273/421 [1:15:44<41:00, 16.62s/it]"
     ]
    },
    {
     "name": "stdout",
     "output_type": "stream",
     "text": [
      "Reading segmentation file: tciaDownload/1.2.276.0.7230010.3.1.3.2323910823.15524.1597260001.34/1-1.dcm\n",
      "Unique labels in segmentation: [  0 255]\n"
     ]
    },
    {
     "name": "stderr",
     "output_type": "stream",
     "text": [
      "Processing DICOM files:  65%|██████▌   | 274/421 [1:16:03<42:40, 17.42s/it]"
     ]
    },
    {
     "name": "stdout",
     "output_type": "stream",
     "text": [
      "Reading segmentation file: tciaDownload/1.2.276.0.7230010.3.1.3.2323910823.15796.1597258869.746/1-1.dcm\n",
      "Unique labels in segmentation: [  0 255]\n"
     ]
    },
    {
     "name": "stderr",
     "output_type": "stream",
     "text": [
      "Processing DICOM files:  65%|██████▌   | 275/421 [1:16:16<38:36, 15.87s/it]"
     ]
    },
    {
     "name": "stdout",
     "output_type": "stream",
     "text": [
      "Reading segmentation file: tciaDownload/1.2.276.0.7230010.3.1.3.2323910823.24572.1597260867.965/1-1.dcm\n",
      "Unique labels in segmentation: [  0 255]\n"
     ]
    },
    {
     "name": "stderr",
     "output_type": "stream",
     "text": [
      "Processing DICOM files:  66%|██████▌   | 276/421 [1:16:27<35:21, 14.63s/it]"
     ]
    },
    {
     "name": "stdout",
     "output_type": "stream",
     "text": [
      "Reading segmentation file: tciaDownload/1.2.276.0.7230010.3.1.3.2323910823.24812.1597258846.343/1-1.dcm\n",
      "Unique labels in segmentation: [  0 255]\n"
     ]
    },
    {
     "name": "stderr",
     "output_type": "stream",
     "text": [
      "Processing DICOM files:  66%|██████▌   | 277/421 [1:16:43<35:40, 14.86s/it]"
     ]
    },
    {
     "name": "stdout",
     "output_type": "stream",
     "text": [
      "Reading segmentation file: tciaDownload/1.2.276.0.7230010.3.1.3.2323910823.13228.1597257783.401/1-1.dcm\n",
      "Unique labels in segmentation: [  0 255]\n"
     ]
    },
    {
     "name": "stderr",
     "output_type": "stream",
     "text": [
      "Processing DICOM files:  66%|██████▌   | 278/421 [1:16:52<31:25, 13.19s/it]"
     ]
    },
    {
     "name": "stdout",
     "output_type": "stream",
     "text": [
      "Reading segmentation file: tciaDownload/1.2.276.0.7230010.3.1.3.2323910823.6720.1597258816.589/1-1.dcm\n",
      "Unique labels in segmentation: [  0 255]\n"
     ]
    },
    {
     "name": "stderr",
     "output_type": "stream",
     "text": [
      "Processing DICOM files:  66%|██████▋   | 279/421 [1:17:08<33:04, 13.98s/it]"
     ]
    },
    {
     "name": "stdout",
     "output_type": "stream",
     "text": [
      "Reading segmentation file: tciaDownload/1.2.276.0.7230010.3.1.3.2323910823.17948.1597257760.135/1-1.dcm\n",
      "Unique labels in segmentation: [  0 255]\n"
     ]
    },
    {
     "name": "stderr",
     "output_type": "stream",
     "text": [
      "Processing DICOM files:  67%|██████▋   | 280/421 [1:17:21<32:33, 13.85s/it]"
     ]
    },
    {
     "name": "stdout",
     "output_type": "stream",
     "text": [
      "Reading segmentation file: tciaDownload/1.2.276.0.7230010.3.1.3.2323910823.18136.1597258568.75/1-1.dcm\n",
      "Unique labels in segmentation: [  0 255]\n"
     ]
    },
    {
     "name": "stderr",
     "output_type": "stream",
     "text": [
      "Processing DICOM files:  67%|██████▋   | 281/421 [1:17:37<33:50, 14.51s/it]"
     ]
    },
    {
     "name": "stdout",
     "output_type": "stream",
     "text": [
      "Reading segmentation file: tciaDownload/1.2.276.0.7230010.3.1.3.2323910823.20520.1597259551.939/1-1.dcm\n",
      "Unique labels in segmentation: [  0 255]\n"
     ]
    },
    {
     "name": "stderr",
     "output_type": "stream",
     "text": [
      "Processing DICOM files:  67%|██████▋   | 282/421 [1:17:52<33:27, 14.44s/it]"
     ]
    },
    {
     "name": "stdout",
     "output_type": "stream",
     "text": [
      "Reading segmentation file: tciaDownload/1.2.276.0.7230010.3.1.3.2323910823.22476.1597259430.28/1-1.dcm\n",
      "Unique labels in segmentation: [  0 255]\n"
     ]
    },
    {
     "name": "stderr",
     "output_type": "stream",
     "text": [
      "Processing DICOM files:  67%|██████▋   | 283/421 [1:18:08<34:28, 14.99s/it]"
     ]
    },
    {
     "name": "stdout",
     "output_type": "stream",
     "text": [
      "Reading segmentation file: tciaDownload/1.2.276.0.7230010.3.1.3.2323910823.3864.1597259136.948/1-1.dcm\n",
      "Unique labels in segmentation: [  0 255]\n"
     ]
    },
    {
     "name": "stderr",
     "output_type": "stream",
     "text": [
      "Processing DICOM files:  67%|██████▋   | 284/421 [1:18:19<31:43, 13.90s/it]"
     ]
    },
    {
     "name": "stdout",
     "output_type": "stream",
     "text": [
      "Reading segmentation file: tciaDownload/1.2.276.0.7230010.3.1.3.2323910823.24428.1597258399.695/1-1.dcm\n",
      "Unique labels in segmentation: [  0 255]\n"
     ]
    },
    {
     "name": "stderr",
     "output_type": "stream",
     "text": [
      "Processing DICOM files:  68%|██████▊   | 285/421 [1:18:35<32:51, 14.50s/it]"
     ]
    },
    {
     "name": "stdout",
     "output_type": "stream",
     "text": [
      "Reading segmentation file: tciaDownload/1.2.276.0.7230010.3.1.3.2323910823.25164.1597259639.590/1-1.dcm\n",
      "Unique labels in segmentation: [  0 255]\n"
     ]
    },
    {
     "name": "stderr",
     "output_type": "stream",
     "text": [
      "Processing DICOM files:  68%|██████▊   | 286/421 [1:18:49<32:08, 14.29s/it]"
     ]
    },
    {
     "name": "stdout",
     "output_type": "stream",
     "text": [
      "Reading segmentation file: tciaDownload/1.2.276.0.7230010.3.1.3.2323910823.25068.1597261291.711/1-1.dcm\n",
      "Unique labels in segmentation: [  0 255]\n"
     ]
    },
    {
     "name": "stderr",
     "output_type": "stream",
     "text": [
      "Processing DICOM files:  68%|██████▊   | 287/421 [1:19:08<34:58, 15.66s/it]"
     ]
    },
    {
     "name": "stdout",
     "output_type": "stream",
     "text": [
      "Reading segmentation file: tciaDownload/1.2.276.0.7230010.3.1.3.2323910823.22716.1597258425.266/1-1.dcm\n",
      "Unique labels in segmentation: [  0 255]\n"
     ]
    },
    {
     "name": "stderr",
     "output_type": "stream",
     "text": [
      "Processing DICOM files:  68%|██████▊   | 288/421 [1:19:23<34:15, 15.45s/it]"
     ]
    },
    {
     "name": "stdout",
     "output_type": "stream",
     "text": [
      "Reading segmentation file: tciaDownload/1.2.276.0.7230010.3.1.3.2323910823.2832.1597260852.35/1-1.dcm\n",
      "Unique labels in segmentation: [  0 255]\n"
     ]
    },
    {
     "name": "stderr",
     "output_type": "stream",
     "text": [
      "Processing DICOM files:  69%|██████▊   | 289/421 [1:19:43<36:55, 16.78s/it]"
     ]
    },
    {
     "name": "stdout",
     "output_type": "stream",
     "text": [
      "Reading segmentation file: tciaDownload/1.2.276.0.7230010.3.1.3.2323910823.23864.1597261003.731/1-1.dcm\n",
      "Unique labels in segmentation: [  0 255]\n"
     ]
    },
    {
     "name": "stderr",
     "output_type": "stream",
     "text": [
      "Processing DICOM files:  69%|██████▉   | 290/421 [1:19:56<34:03, 15.60s/it]"
     ]
    },
    {
     "name": "stdout",
     "output_type": "stream",
     "text": [
      "Reading segmentation file: tciaDownload/1.2.276.0.7230010.3.1.3.2323910823.23808.1597261063.971/1-1.dcm\n",
      "Unique labels in segmentation: [  0 255]\n"
     ]
    },
    {
     "name": "stderr",
     "output_type": "stream",
     "text": [
      "Processing DICOM files:  69%|██████▉   | 291/421 [1:20:12<34:33, 15.95s/it]"
     ]
    },
    {
     "name": "stdout",
     "output_type": "stream",
     "text": [
      "Reading segmentation file: tciaDownload/1.2.276.0.7230010.3.1.3.2323910823.25468.1597261055.568/1-1.dcm\n",
      "Unique labels in segmentation: [  0 255]\n"
     ]
    },
    {
     "name": "stderr",
     "output_type": "stream",
     "text": [
      "Processing DICOM files:  69%|██████▉   | 292/421 [1:20:32<36:28, 16.97s/it]"
     ]
    },
    {
     "name": "stdout",
     "output_type": "stream",
     "text": [
      "Reading segmentation file: tciaDownload/1.2.276.0.7230010.3.1.3.2323910823.24776.1597257995.465/1-1.dcm\n",
      "Unique labels in segmentation: [  0 255]\n"
     ]
    },
    {
     "name": "stderr",
     "output_type": "stream",
     "text": [
      "Processing DICOM files:  70%|██████▉   | 293/421 [1:20:45<34:03, 15.97s/it]"
     ]
    },
    {
     "name": "stdout",
     "output_type": "stream",
     "text": [
      "Reading segmentation file: tciaDownload/1.2.276.0.7230010.3.1.3.2323910823.17820.1597259355.782/1-1.dcm\n",
      "Unique labels in segmentation: [  0 255]\n"
     ]
    },
    {
     "name": "stderr",
     "output_type": "stream",
     "text": [
      "Processing DICOM files:  70%|██████▉   | 294/421 [1:21:01<33:28, 15.82s/it]"
     ]
    },
    {
     "name": "stdout",
     "output_type": "stream",
     "text": [
      "Reading segmentation file: tciaDownload/1.2.276.0.7230010.3.1.3.2323910823.2964.1597258736.31/1-1.dcm\n",
      "Unique labels in segmentation: [  0 255]\n"
     ]
    },
    {
     "name": "stderr",
     "output_type": "stream",
     "text": [
      "Processing DICOM files:  70%|███████   | 295/421 [1:21:12<30:30, 14.53s/it]"
     ]
    },
    {
     "name": "stdout",
     "output_type": "stream",
     "text": [
      "Reading segmentation file: tciaDownload/1.2.276.0.7230010.3.1.3.2323910823.15564.1597261099.504/1-1.dcm\n",
      "Unique labels in segmentation: [  0 255]\n"
     ]
    },
    {
     "name": "stderr",
     "output_type": "stream",
     "text": [
      "Processing DICOM files:  70%|███████   | 296/421 [1:21:31<33:02, 15.86s/it]"
     ]
    },
    {
     "name": "stdout",
     "output_type": "stream",
     "text": [
      "Reading segmentation file: tciaDownload/1.2.276.0.7230010.3.1.3.2323910823.9504.1597259378.185/1-1.dcm\n",
      "Unique labels in segmentation: [  0 255]\n"
     ]
    },
    {
     "name": "stderr",
     "output_type": "stream",
     "text": [
      "Processing DICOM files:  71%|███████   | 297/421 [1:21:51<34:56, 16.91s/it]"
     ]
    },
    {
     "name": "stdout",
     "output_type": "stream",
     "text": [
      "Reading segmentation file: tciaDownload/1.2.276.0.7230010.3.1.3.2323910823.4140.1597259071.969/1-1.dcm\n",
      "Unique labels in segmentation: [  0 255]\n"
     ]
    },
    {
     "name": "stderr",
     "output_type": "stream",
     "text": [
      "Processing DICOM files:  71%|███████   | 298/421 [1:22:06<33:42, 16.44s/it]"
     ]
    },
    {
     "name": "stdout",
     "output_type": "stream",
     "text": [
      "Reading segmentation file: tciaDownload/1.2.276.0.7230010.3.1.3.2323910823.17928.1597258408.635/1-1.dcm\n",
      "Unique labels in segmentation: [  0 255]\n"
     ]
    },
    {
     "name": "stderr",
     "output_type": "stream",
     "text": [
      "Processing DICOM files:  71%|███████   | 299/421 [1:22:22<32:56, 16.20s/it]"
     ]
    },
    {
     "name": "stdout",
     "output_type": "stream",
     "text": [
      "Reading segmentation file: tciaDownload/1.2.276.0.7230010.3.1.3.2323910823.9316.1597259466.812/1-1.dcm\n",
      "Unique labels in segmentation: [  0 255]\n"
     ]
    },
    {
     "name": "stderr",
     "output_type": "stream",
     "text": [
      "Processing DICOM files:  71%|███████▏  | 300/421 [1:22:38<33:00, 16.37s/it]"
     ]
    },
    {
     "name": "stdout",
     "output_type": "stream",
     "text": [
      "Reading segmentation file: tciaDownload/1.2.276.0.7230010.3.1.3.2323910823.20552.1597261161.880/1-1.dcm\n",
      "Unique labels in segmentation: [  0 255]\n"
     ]
    },
    {
     "name": "stderr",
     "output_type": "stream",
     "text": [
      "Processing DICOM files:  71%|███████▏  | 301/421 [1:23:02<37:21, 18.68s/it]"
     ]
    },
    {
     "name": "stdout",
     "output_type": "stream",
     "text": [
      "Reading segmentation file: tciaDownload/1.2.276.0.7230010.3.1.3.2323910823.8012.1597259079.376/1-1.dcm\n",
      "Unique labels in segmentation: [  0 255]\n"
     ]
    },
    {
     "name": "stderr",
     "output_type": "stream",
     "text": [
      "Processing DICOM files:  72%|███████▏  | 302/421 [1:23:21<36:55, 18.62s/it]"
     ]
    },
    {
     "name": "stdout",
     "output_type": "stream",
     "text": [
      "Reading segmentation file: tciaDownload/1.2.276.0.7230010.3.1.3.2323910823.2828.1597260137.404/1-1.dcm\n",
      "Unique labels in segmentation: [  0 255]\n"
     ]
    },
    {
     "name": "stderr",
     "output_type": "stream",
     "text": [
      "Processing DICOM files:  72%|███████▏  | 303/421 [1:23:38<35:31, 18.06s/it]"
     ]
    },
    {
     "name": "stdout",
     "output_type": "stream",
     "text": [
      "Reading segmentation file: tciaDownload/1.2.276.0.7230010.3.1.3.2323910823.3464.1597261030.742/1-1.dcm\n",
      "Unique labels in segmentation: [  0 255]\n"
     ]
    },
    {
     "name": "stderr",
     "output_type": "stream",
     "text": [
      "Processing DICOM files:  72%|███████▏  | 304/421 [1:23:52<33:10, 17.02s/it]"
     ]
    },
    {
     "name": "stdout",
     "output_type": "stream",
     "text": [
      "Reading segmentation file: tciaDownload/1.2.276.0.7230010.3.1.3.2323910823.21164.1597259535.616/1-1.dcm\n",
      "Unique labels in segmentation: [  0 255]\n"
     ]
    },
    {
     "name": "stderr",
     "output_type": "stream",
     "text": [
      "Processing DICOM files:  72%|███████▏  | 305/421 [1:24:07<31:43, 16.41s/it]"
     ]
    },
    {
     "name": "stdout",
     "output_type": "stream",
     "text": [
      "Reading segmentation file: tciaDownload/1.2.276.0.7230010.3.1.3.2323910823.19388.1597258991.510/1-1.dcm\n",
      "Unique labels in segmentation: [  0 255]\n"
     ]
    },
    {
     "name": "stderr",
     "output_type": "stream",
     "text": [
      "Processing DICOM files:  73%|███████▎  | 306/421 [1:24:22<30:34, 15.95s/it]"
     ]
    },
    {
     "name": "stdout",
     "output_type": "stream",
     "text": [
      "Reading segmentation file: tciaDownload/1.2.276.0.7230010.3.1.3.2323910823.25516.1597259125.918/1-1.dcm\n",
      "Unique labels in segmentation: [  0 255]\n"
     ]
    },
    {
     "name": "stderr",
     "output_type": "stream",
     "text": [
      "Processing DICOM files:  73%|███████▎  | 307/421 [1:24:34<28:16, 14.88s/it]"
     ]
    },
    {
     "name": "stdout",
     "output_type": "stream",
     "text": [
      "Reading segmentation file: tciaDownload/1.2.276.0.7230010.3.1.3.2323910823.5016.1597259064.374/1-1.dcm\n",
      "Unique labels in segmentation: [  0 255]\n"
     ]
    },
    {
     "name": "stderr",
     "output_type": "stream",
     "text": [
      "Processing DICOM files:  73%|███████▎  | 308/421 [1:24:49<27:48, 14.77s/it]"
     ]
    },
    {
     "name": "stdout",
     "output_type": "stream",
     "text": [
      "Reading segmentation file: tciaDownload/1.2.276.0.7230010.3.1.3.2323910823.19516.1597258792.989/1-1.dcm\n",
      "Unique labels in segmentation: [  0 255]\n"
     ]
    },
    {
     "name": "stderr",
     "output_type": "stream",
     "text": [
      "Processing DICOM files:  73%|███████▎  | 309/421 [1:25:02<26:19, 14.11s/it]"
     ]
    },
    {
     "name": "stdout",
     "output_type": "stream",
     "text": [
      "Reading segmentation file: tciaDownload/1.2.276.0.7230010.3.1.3.2323910823.16752.1597261204.820/1-1.dcm\n",
      "Unique labels in segmentation: [  0 255]\n"
     ]
    },
    {
     "name": "stderr",
     "output_type": "stream",
     "text": [
      "Processing DICOM files:  74%|███████▎  | 310/421 [1:25:22<29:27, 15.92s/it]"
     ]
    },
    {
     "name": "stdout",
     "output_type": "stream",
     "text": [
      "Reading segmentation file: tciaDownload/1.2.276.0.7230010.3.1.3.2323910823.25212.1597258765.714/1-1.dcm\n",
      "Unique labels in segmentation: [  0 255]\n"
     ]
    },
    {
     "name": "stderr",
     "output_type": "stream",
     "text": [
      "Processing DICOM files:  74%|███████▍  | 311/421 [1:25:34<26:58, 14.71s/it]"
     ]
    },
    {
     "name": "stdout",
     "output_type": "stream",
     "text": [
      "Reading segmentation file: tciaDownload/1.2.276.0.7230010.3.1.3.2323910823.20524.1597260509.554/1-1.dcm\n",
      "Unique labels in segmentation: [  0 255]\n"
     ]
    },
    {
     "name": "stderr",
     "output_type": "stream",
     "text": [
      "Processing DICOM files:  74%|███████▍  | 312/421 [1:25:52<28:33, 15.72s/it]"
     ]
    },
    {
     "name": "stdout",
     "output_type": "stream",
     "text": [
      "Reading segmentation file: tciaDownload/1.2.276.0.7230010.3.1.3.2323910823.24496.1597261170.569/1-1.dcm\n",
      "Unique labels in segmentation: [  0 255]\n"
     ]
    },
    {
     "name": "stderr",
     "output_type": "stream",
     "text": [
      "Processing DICOM files:  74%|███████▍  | 313/421 [1:26:11<29:58, 16.66s/it]"
     ]
    },
    {
     "name": "stdout",
     "output_type": "stream",
     "text": [
      "Reading segmentation file: tciaDownload/1.2.276.0.7230010.3.1.3.2323910823.17848.1597261143.260/1-1.dcm\n",
      "Unique labels in segmentation: [  0 255]\n"
     ]
    },
    {
     "name": "stderr",
     "output_type": "stream",
     "text": [
      "Processing DICOM files:  75%|███████▍  | 314/421 [1:26:26<29:03, 16.29s/it]"
     ]
    },
    {
     "name": "stdout",
     "output_type": "stream",
     "text": [
      "Reading segmentation file: tciaDownload/1.2.276.0.7230010.3.1.3.2323910823.24764.1597257749.930/1-1.dcm\n",
      "Unique labels in segmentation: [  0 255]\n"
     ]
    },
    {
     "name": "stderr",
     "output_type": "stream",
     "text": [
      "Processing DICOM files:  75%|███████▍  | 315/421 [1:26:39<26:49, 15.18s/it]"
     ]
    },
    {
     "name": "stdout",
     "output_type": "stream",
     "text": [
      "Reading segmentation file: tciaDownload/1.2.276.0.7230010.3.1.3.2323910823.4812.1597257908.649/1-1.dcm\n",
      "Unique labels in segmentation: [  0 255]\n"
     ]
    },
    {
     "name": "stderr",
     "output_type": "stream",
     "text": [
      "Processing DICOM files:  75%|███████▌  | 316/421 [1:26:53<26:03, 14.89s/it]"
     ]
    },
    {
     "name": "stdout",
     "output_type": "stream",
     "text": [
      "Reading segmentation file: tciaDownload/1.2.276.0.7230010.3.1.3.2323910823.11540.1597261090.253/1-1.dcm\n",
      "Unique labels in segmentation: [  0 255]\n"
     ]
    },
    {
     "name": "stderr",
     "output_type": "stream",
     "text": [
      "Processing DICOM files:  75%|███████▌  | 317/421 [1:27:05<24:13, 13.97s/it]"
     ]
    },
    {
     "name": "stdout",
     "output_type": "stream",
     "text": [
      "Reading segmentation file: tciaDownload/1.2.276.0.7230010.3.1.3.2323910823.18976.1597259093.831/1-1.dcm\n",
      "Unique labels in segmentation: [  0 255]\n"
     ]
    },
    {
     "name": "stderr",
     "output_type": "stream",
     "text": [
      "Processing DICOM files:  76%|███████▌  | 318/421 [1:27:30<29:52, 17.40s/it]"
     ]
    },
    {
     "name": "stdout",
     "output_type": "stream",
     "text": [
      "Reading segmentation file: tciaDownload/1.2.276.0.7230010.3.1.3.2323910823.11208.1597261136.4/1-1.dcm\n",
      "Unique labels in segmentation: [  0 255]\n"
     ]
    },
    {
     "name": "stderr",
     "output_type": "stream",
     "text": [
      "Processing DICOM files:  76%|███████▌  | 319/421 [1:27:50<30:49, 18.13s/it]"
     ]
    },
    {
     "name": "stdout",
     "output_type": "stream",
     "text": [
      "Reading segmentation file: tciaDownload/1.2.276.0.7230010.3.1.3.2323910823.23264.1597261023.803/1-1.dcm\n",
      "Unique labels in segmentation: [  0 255]\n"
     ]
    },
    {
     "name": "stderr",
     "output_type": "stream",
     "text": [
      "Processing DICOM files:  76%|███████▌  | 320/421 [1:28:02<27:15, 16.20s/it]"
     ]
    },
    {
     "name": "stdout",
     "output_type": "stream",
     "text": [
      "Reading segmentation file: tciaDownload/1.2.276.0.7230010.3.1.3.2323910823.19220.1597259795.66/1-1.dcm\n",
      "Unique labels in segmentation: [  0 255]\n"
     ]
    },
    {
     "name": "stderr",
     "output_type": "stream",
     "text": [
      "Processing DICOM files:  76%|███████▌  | 321/421 [1:28:04<20:01, 12.02s/it]"
     ]
    },
    {
     "name": "stdout",
     "output_type": "stream",
     "text": [
      "Reading segmentation file: tciaDownload/1.2.276.0.7230010.3.1.3.2323910823.25056.1597260686.735/1-1.dcm\n",
      "Unique labels in segmentation: [  0 255]\n"
     ]
    },
    {
     "name": "stderr",
     "output_type": "stream",
     "text": [
      "Processing DICOM files:  76%|███████▋  | 322/421 [1:28:29<26:07, 15.84s/it]"
     ]
    },
    {
     "name": "stdout",
     "output_type": "stream",
     "text": [
      "Reading segmentation file: tciaDownload/1.2.276.0.7230010.3.1.3.2323910823.10252.1597261128.805/1-1.dcm\n",
      "Unique labels in segmentation: [  0 255]\n"
     ]
    },
    {
     "name": "stderr",
     "output_type": "stream",
     "text": [
      "Processing DICOM files:  77%|███████▋  | 323/421 [1:28:40<23:46, 14.56s/it]"
     ]
    },
    {
     "name": "stdout",
     "output_type": "stream",
     "text": [
      "Reading segmentation file: tciaDownload/1.2.276.0.7230010.3.1.3.2323910823.25160.1597257490.655/1-1.dcm\n",
      "Unique labels in segmentation: [  0 255]\n"
     ]
    },
    {
     "name": "stderr",
     "output_type": "stream",
     "text": [
      "Processing DICOM files:  77%|███████▋  | 324/421 [1:29:03<27:24, 16.96s/it]"
     ]
    },
    {
     "name": "stdout",
     "output_type": "stream",
     "text": [
      "Reading segmentation file: tciaDownload/1.2.276.0.7230010.3.1.3.2323910823.15696.1597259183.624/1-1.dcm\n",
      "Unique labels in segmentation: [  0 255]\n"
     ]
    },
    {
     "name": "stderr",
     "output_type": "stream",
     "text": [
      "Processing DICOM files:  77%|███████▋  | 325/421 [1:29:18<26:20, 16.46s/it]"
     ]
    },
    {
     "name": "stdout",
     "output_type": "stream",
     "text": [
      "Reading segmentation file: tciaDownload/1.2.276.0.7230010.3.1.3.2323910823.25128.1597260933.249/1-1.dcm\n",
      "Unique labels in segmentation: [  0 255]\n"
     ]
    },
    {
     "name": "stderr",
     "output_type": "stream",
     "text": [
      "Processing DICOM files:  77%|███████▋  | 326/421 [1:29:37<27:27, 17.35s/it]"
     ]
    },
    {
     "name": "stdout",
     "output_type": "stream",
     "text": [
      "Reading segmentation file: tciaDownload/1.2.276.0.7230010.3.1.3.2323910823.17176.1597260583.102/1-1.dcm\n",
      "Unique labels in segmentation: [  0 255]\n"
     ]
    },
    {
     "name": "stderr",
     "output_type": "stream",
     "text": [
      "Processing DICOM files:  78%|███████▊  | 327/421 [1:30:01<30:02, 19.18s/it]"
     ]
    },
    {
     "name": "stdout",
     "output_type": "stream",
     "text": [
      "Reading segmentation file: tciaDownload/1.2.276.0.7230010.3.1.3.2323910823.24744.1597260612.191/1-1.dcm\n",
      "Unique labels in segmentation: [  0 255]\n"
     ]
    },
    {
     "name": "stderr",
     "output_type": "stream",
     "text": [
      "Processing DICOM files:  78%|███████▊  | 328/421 [1:30:17<28:33, 18.42s/it]"
     ]
    },
    {
     "name": "stdout",
     "output_type": "stream",
     "text": [
      "Reading segmentation file: tciaDownload/1.2.276.0.7230010.3.1.3.2323910823.24880.1597261106.932/1-1.dcm\n",
      "Unique labels in segmentation: [  0 255]\n"
     ]
    },
    {
     "name": "stderr",
     "output_type": "stream",
     "text": [
      "Processing DICOM files:  78%|███████▊  | 329/421 [1:30:30<25:45, 16.80s/it]"
     ]
    },
    {
     "name": "stdout",
     "output_type": "stream",
     "text": [
      "Reading segmentation file: tciaDownload/1.2.276.0.7230010.3.1.3.2323910823.5420.1597258100.678/1-1.dcm\n",
      "Unique labels in segmentation: [  0 255]\n"
     ]
    },
    {
     "name": "stderr",
     "output_type": "stream",
     "text": [
      "Processing DICOM files:  78%|███████▊  | 330/421 [1:30:44<23:48, 15.70s/it]"
     ]
    },
    {
     "name": "stdout",
     "output_type": "stream",
     "text": [
      "Reading segmentation file: tciaDownload/1.2.276.0.7230010.3.1.3.2323910823.18204.1597259013.116/1-1.dcm\n",
      "Unique labels in segmentation: [  0 255]\n"
     ]
    },
    {
     "name": "stderr",
     "output_type": "stream",
     "text": [
      "Processing DICOM files:  79%|███████▊  | 331/421 [1:31:04<25:36, 17.08s/it]"
     ]
    },
    {
     "name": "stdout",
     "output_type": "stream",
     "text": [
      "Reading segmentation file: tciaDownload/1.2.276.0.7230010.3.1.3.2323910823.3136.1597258353.355/1-1.dcm\n",
      "Unique labels in segmentation: [  0 255]\n"
     ]
    },
    {
     "name": "stderr",
     "output_type": "stream",
     "text": [
      "Processing DICOM files:  79%|███████▉  | 332/421 [1:31:29<28:51, 19.45s/it]"
     ]
    },
    {
     "name": "stdout",
     "output_type": "stream",
     "text": [
      "Reading segmentation file: tciaDownload/1.2.276.0.7230010.3.1.3.2323910823.23220.1597259594.731/1-1.dcm\n",
      "Unique labels in segmentation: [  0 255]\n"
     ]
    },
    {
     "name": "stderr",
     "output_type": "stream",
     "text": [
      "Processing DICOM files:  79%|███████▉  | 333/421 [1:31:46<27:22, 18.66s/it]"
     ]
    },
    {
     "name": "stdout",
     "output_type": "stream",
     "text": [
      "Reading segmentation file: tciaDownload/1.2.276.0.7230010.3.1.3.2323910823.22300.1597259748.517/1-1.dcm\n",
      "Unique labels in segmentation: [  0 255]\n"
     ]
    },
    {
     "name": "stderr",
     "output_type": "stream",
     "text": [
      "Processing DICOM files:  79%|███████▉  | 334/421 [1:32:02<25:56, 17.89s/it]"
     ]
    },
    {
     "name": "stdout",
     "output_type": "stream",
     "text": [
      "Reading segmentation file: tciaDownload/1.2.276.0.7230010.3.1.3.2323910823.15620.1597258649.901/1-1.dcm\n",
      "Unique labels in segmentation: [  0 255]\n"
     ]
    },
    {
     "name": "stderr",
     "output_type": "stream",
     "text": [
      "Processing DICOM files:  80%|███████▉  | 335/421 [1:32:20<25:52, 18.05s/it]"
     ]
    },
    {
     "name": "stdout",
     "output_type": "stream",
     "text": [
      "Reading segmentation file: tciaDownload/1.2.276.0.7230010.3.1.3.2323910823.2020.1597260047.292/1-1.dcm\n",
      "Unique labels in segmentation: [  0 255]\n"
     ]
    },
    {
     "name": "stderr",
     "output_type": "stream",
     "text": [
      "Processing DICOM files:  80%|███████▉  | 336/421 [1:32:30<21:51, 15.42s/it]"
     ]
    },
    {
     "name": "stdout",
     "output_type": "stream",
     "text": [
      "Reading segmentation file: tciaDownload/1.2.276.0.7230010.3.1.3.2323910823.1956.1597260554.647/1-1.dcm\n",
      "Unique labels in segmentation: [  0 255]\n"
     ]
    },
    {
     "name": "stderr",
     "output_type": "stream",
     "text": [
      "Processing DICOM files:  80%|████████  | 337/421 [1:32:43<20:43, 14.80s/it]"
     ]
    },
    {
     "name": "stdout",
     "output_type": "stream",
     "text": [
      "Reading segmentation file: tciaDownload/1.2.276.0.7230010.3.1.3.2323910823.17660.1597259872.898/1-1.dcm\n",
      "Unique labels in segmentation: [  0 255]\n"
     ]
    },
    {
     "name": "stderr",
     "output_type": "stream",
     "text": [
      "Processing DICOM files:  80%|████████  | 338/421 [1:32:57<20:11, 14.60s/it]"
     ]
    },
    {
     "name": "stdout",
     "output_type": "stream",
     "text": [
      "Reading segmentation file: tciaDownload/1.2.276.0.7230010.3.1.3.2323910823.11504.1597260515.421/1-1.dcm\n",
      "Unique labels in segmentation: [  0 255]\n"
     ]
    },
    {
     "name": "stderr",
     "output_type": "stream",
     "text": [
      "Processing DICOM files:  81%|████████  | 339/421 [1:33:16<21:41, 15.87s/it]"
     ]
    },
    {
     "name": "stdout",
     "output_type": "stream",
     "text": [
      "Reading segmentation file: tciaDownload/1.2.276.0.7230010.3.1.3.2323910823.22824.1597258698.709/1-1.dcm\n",
      "Unique labels in segmentation: [  0 255]\n"
     ]
    },
    {
     "name": "stderr",
     "output_type": "stream",
     "text": [
      "Processing DICOM files:  81%|████████  | 340/421 [1:33:30<20:51, 15.45s/it]"
     ]
    },
    {
     "name": "stdout",
     "output_type": "stream",
     "text": [
      "Reading segmentation file: tciaDownload/1.2.276.0.7230010.3.1.3.2323910823.11192.1597258025.108/1-1.dcm\n",
      "Unique labels in segmentation: [  0 255]\n"
     ]
    },
    {
     "name": "stderr",
     "output_type": "stream",
     "text": [
      "Processing DICOM files:  81%|████████  | 341/421 [1:33:43<19:27, 14.59s/it]"
     ]
    },
    {
     "name": "stdout",
     "output_type": "stream",
     "text": [
      "Reading segmentation file: tciaDownload/1.2.276.0.7230010.3.1.3.2323910823.6544.1597260785.400/1-1.dcm\n",
      "Unique labels in segmentation: [  0 255]\n"
     ]
    },
    {
     "name": "stderr",
     "output_type": "stream",
     "text": [
      "Processing DICOM files:  81%|████████  | 342/421 [1:33:57<18:54, 14.36s/it]"
     ]
    },
    {
     "name": "stdout",
     "output_type": "stream",
     "text": [
      "Reading segmentation file: tciaDownload/1.2.276.0.7230010.3.1.3.2323910823.5104.1597258544.250/1-1.dcm\n",
      "Unique labels in segmentation: [  0 255]\n"
     ]
    },
    {
     "name": "stderr",
     "output_type": "stream",
     "text": [
      "Processing DICOM files:  81%|████████▏ | 343/421 [1:34:13<19:30, 15.00s/it]"
     ]
    },
    {
     "name": "stdout",
     "output_type": "stream",
     "text": [
      "Reading segmentation file: tciaDownload/1.2.276.0.7230010.3.1.3.2323910823.15016.1597258376.730/1-1.dcm\n",
      "Unique labels in segmentation: [  0 255]\n"
     ]
    },
    {
     "name": "stderr",
     "output_type": "stream",
     "text": [
      "Processing DICOM files:  82%|████████▏ | 344/421 [1:34:41<24:09, 18.83s/it]"
     ]
    },
    {
     "name": "stdout",
     "output_type": "stream",
     "text": [
      "Reading segmentation file: tciaDownload/1.2.276.0.7230010.3.1.3.2323910823.23176.1597259777.810/1-1.dcm\n",
      "Unique labels in segmentation: [  0 255]\n"
     ]
    },
    {
     "name": "stderr",
     "output_type": "stream",
     "text": [
      "Processing DICOM files:  82%|████████▏ | 345/421 [1:34:53<21:08, 16.69s/it]"
     ]
    },
    {
     "name": "stdout",
     "output_type": "stream",
     "text": [
      "Reading segmentation file: tciaDownload/1.2.276.0.7230010.3.1.3.2323910823.20380.1597259963.116/1-1.dcm\n",
      "Unique labels in segmentation: [  0 255]\n"
     ]
    },
    {
     "name": "stderr",
     "output_type": "stream",
     "text": [
      "Processing DICOM files:  82%|████████▏ | 346/421 [1:35:04<18:46, 15.02s/it]"
     ]
    },
    {
     "name": "stdout",
     "output_type": "stream",
     "text": [
      "Reading segmentation file: tciaDownload/1.2.276.0.7230010.3.1.3.2323910823.21640.1597257891.391/1-1.dcm\n",
      "Unique labels in segmentation: [  0 255]\n"
     ]
    },
    {
     "name": "stderr",
     "output_type": "stream",
     "text": [
      "Processing DICOM files:  82%|████████▏ | 347/421 [1:35:16<17:38, 14.30s/it]"
     ]
    },
    {
     "name": "stdout",
     "output_type": "stream",
     "text": [
      "Reading segmentation file: tciaDownload/1.2.276.0.7230010.3.1.3.2323910823.22716.1597257413.671/1-1.dcm\n",
      "Unique labels in segmentation: [  0 255]\n"
     ]
    },
    {
     "name": "stderr",
     "output_type": "stream",
     "text": [
      "Processing DICOM files:  83%|████████▎ | 348/421 [1:35:30<17:14, 14.17s/it]"
     ]
    },
    {
     "name": "stdout",
     "output_type": "stream",
     "text": [
      "Reading segmentation file: tciaDownload/1.2.276.0.7230010.3.1.3.2323910823.25464.1597259689.118/1-1.dcm\n",
      "Unique labels in segmentation: [  0 255]\n"
     ]
    },
    {
     "name": "stderr",
     "output_type": "stream",
     "text": [
      "Processing DICOM files:  83%|████████▎ | 349/421 [1:35:44<16:42, 13.92s/it]"
     ]
    },
    {
     "name": "stdout",
     "output_type": "stream",
     "text": [
      "Reading segmentation file: tciaDownload/1.2.276.0.7230010.3.1.3.2323910823.19272.1597259115.280/1-1.dcm\n",
      "Unique labels in segmentation: [  0 255]\n"
     ]
    },
    {
     "name": "stderr",
     "output_type": "stream",
     "text": [
      "Processing DICOM files:  83%|████████▎ | 350/421 [1:36:03<18:27, 15.60s/it]"
     ]
    },
    {
     "name": "stdout",
     "output_type": "stream",
     "text": [
      "Reading segmentation file: tciaDownload/1.2.276.0.7230010.3.1.3.2323910823.19884.1597259903.946/1-1.dcm\n",
      "Unique labels in segmentation: [  0 255]\n"
     ]
    },
    {
     "name": "stderr",
     "output_type": "stream",
     "text": [
      "Processing DICOM files:  83%|████████▎ | 351/421 [1:36:18<17:58, 15.41s/it]"
     ]
    },
    {
     "name": "stdout",
     "output_type": "stream",
     "text": [
      "Reading segmentation file: tciaDownload/1.2.276.0.7230010.3.1.3.2323910823.23816.1597258201.199/1-1.dcm\n",
      "Unique labels in segmentation: [  0 255]\n"
     ]
    },
    {
     "name": "stderr",
     "output_type": "stream",
     "text": [
      "Processing DICOM files:  84%|████████▎ | 352/421 [1:36:39<19:37, 17.06s/it]"
     ]
    },
    {
     "name": "stdout",
     "output_type": "stream",
     "text": [
      "Reading segmentation file: tciaDownload/1.2.276.0.7230010.3.1.3.2323910823.10112.1597257772.658/1-1.dcm\n",
      "Unique labels in segmentation: [  0 255]\n"
     ]
    },
    {
     "name": "stderr",
     "output_type": "stream",
     "text": [
      "Processing DICOM files:  84%|████████▍ | 353/421 [1:37:01<20:52, 18.42s/it]"
     ]
    },
    {
     "name": "stdout",
     "output_type": "stream",
     "text": [
      "Reading segmentation file: tciaDownload/1.2.276.0.7230010.3.1.3.2323910823.12016.1597257870.546/1-1.dcm\n",
      "Unique labels in segmentation: [  0 255]\n"
     ]
    },
    {
     "name": "stderr",
     "output_type": "stream",
     "text": [
      "Processing DICOM files:  84%|████████▍ | 354/421 [1:37:18<20:14, 18.13s/it]"
     ]
    },
    {
     "name": "stdout",
     "output_type": "stream",
     "text": [
      "Reading segmentation file: tciaDownload/1.2.276.0.7230010.3.1.3.2323910823.21176.1597258692.25/1-1.dcm\n",
      "Unique labels in segmentation: [  0 255]\n"
     ]
    },
    {
     "name": "stderr",
     "output_type": "stream",
     "text": [
      "Processing DICOM files:  84%|████████▍ | 355/421 [1:37:34<19:11, 17.44s/it]"
     ]
    },
    {
     "name": "stdout",
     "output_type": "stream",
     "text": [
      "Reading segmentation file: tciaDownload/1.2.276.0.7230010.3.1.3.2323910823.22596.1597258002.955/1-1.dcm\n",
      "Unique labels in segmentation: [  0 255]\n"
     ]
    },
    {
     "name": "stderr",
     "output_type": "stream",
     "text": [
      "Processing DICOM files:  85%|████████▍ | 356/421 [1:37:54<19:37, 18.11s/it]"
     ]
    },
    {
     "name": "stdout",
     "output_type": "stream",
     "text": [
      "Reading segmentation file: tciaDownload/1.2.276.0.7230010.3.1.3.2323910823.22828.1597258831.993/1-1.dcm\n",
      "Unique labels in segmentation: [  0 255]\n"
     ]
    },
    {
     "name": "stderr",
     "output_type": "stream",
     "text": [
      "Processing DICOM files:  85%|████████▍ | 357/421 [1:38:05<17:13, 16.15s/it]"
     ]
    },
    {
     "name": "stdout",
     "output_type": "stream",
     "text": [
      "Reading segmentation file: tciaDownload/1.2.276.0.7230010.3.1.3.2323910823.24772.1597260878.920/1-1.dcm\n",
      "Unique labels in segmentation: [  0 255]\n"
     ]
    },
    {
     "name": "stderr",
     "output_type": "stream",
     "text": [
      "Processing DICOM files:  85%|████████▌ | 358/421 [1:38:20<16:33, 15.77s/it]"
     ]
    },
    {
     "name": "stdout",
     "output_type": "stream",
     "text": [
      "Reading segmentation file: tciaDownload/1.2.276.0.7230010.3.1.3.2323910823.8528.1597259736.700/1-1.dcm\n",
      "Unique labels in segmentation: [  0 255]\n"
     ]
    },
    {
     "name": "stderr",
     "output_type": "stream",
     "text": [
      "Processing DICOM files:  85%|████████▌ | 359/421 [1:38:32<15:11, 14.70s/it]"
     ]
    },
    {
     "name": "stdout",
     "output_type": "stream",
     "text": [
      "Reading segmentation file: tciaDownload/1.2.276.0.7230010.3.1.3.2323910823.32.1597261112.557/1-1.dcm\n",
      "Unique labels in segmentation: [  0 255]\n"
     ]
    },
    {
     "name": "stderr",
     "output_type": "stream",
     "text": [
      "Processing DICOM files:  86%|████████▌ | 360/421 [1:38:43<13:42, 13.49s/it]"
     ]
    },
    {
     "name": "stdout",
     "output_type": "stream",
     "text": [
      "Reading segmentation file: tciaDownload/1.2.276.0.7230010.3.1.3.2323910823.10712.1597260629.793/1-1.dcm\n",
      "Unique labels in segmentation: [  0 255]\n"
     ]
    },
    {
     "name": "stderr",
     "output_type": "stream",
     "text": [
      "Processing DICOM files:  86%|████████▌ | 361/421 [1:38:59<14:09, 14.15s/it]"
     ]
    },
    {
     "name": "stdout",
     "output_type": "stream",
     "text": [
      "Reading segmentation file: tciaDownload/1.2.276.0.7230010.3.1.3.2323910823.17340.1597259622.353/1-1.dcm\n",
      "Unique labels in segmentation: [  0 255]\n"
     ]
    },
    {
     "name": "stderr",
     "output_type": "stream",
     "text": [
      "Processing DICOM files:  86%|████████▌ | 362/421 [1:39:07<12:09, 12.37s/it]"
     ]
    },
    {
     "name": "stdout",
     "output_type": "stream",
     "text": [
      "Reading segmentation file: tciaDownload/1.2.276.0.7230010.3.1.3.2323910823.20092.1597258218.629/1-1.dcm\n",
      "Unique labels in segmentation: [  0 255]\n"
     ]
    },
    {
     "name": "stderr",
     "output_type": "stream",
     "text": [
      "Processing DICOM files:  86%|████████▌ | 363/421 [1:39:30<15:09, 15.68s/it]"
     ]
    },
    {
     "name": "stdout",
     "output_type": "stream",
     "text": [
      "Reading segmentation file: tciaDownload/1.2.276.0.7230010.3.1.3.2323910823.23564.1597259166.761/1-1.dcm\n",
      "Unique labels in segmentation: [  0 255]\n"
     ]
    },
    {
     "name": "stderr",
     "output_type": "stream",
     "text": [
      "Processing DICOM files:  86%|████████▋ | 364/421 [1:39:45<14:41, 15.47s/it]"
     ]
    },
    {
     "name": "stdout",
     "output_type": "stream",
     "text": [
      "Reading segmentation file: tciaDownload/1.2.276.0.7230010.3.1.3.2323910823.20880.1597260800.39/1-1.dcm\n",
      "Unique labels in segmentation: [  0 255]\n"
     ]
    },
    {
     "name": "stderr",
     "output_type": "stream",
     "text": [
      "Processing DICOM files:  87%|████████▋ | 365/421 [1:40:00<14:17, 15.32s/it]"
     ]
    },
    {
     "name": "stdout",
     "output_type": "stream",
     "text": [
      "Reading segmentation file: tciaDownload/1.2.276.0.7230010.3.1.3.2323910823.17376.1597258237.118/1-1.dcm\n",
      "Unique labels in segmentation: [  0 255]\n"
     ]
    },
    {
     "name": "stderr",
     "output_type": "stream",
     "text": [
      "Processing DICOM files:  87%|████████▋ | 366/421 [1:40:16<14:12, 15.50s/it]"
     ]
    },
    {
     "name": "stdout",
     "output_type": "stream",
     "text": [
      "Reading segmentation file: tciaDownload/1.2.276.0.7230010.3.1.3.2323910823.18844.1597260811.617/1-1.dcm\n",
      "Unique labels in segmentation: [  0 255]\n"
     ]
    },
    {
     "name": "stderr",
     "output_type": "stream",
     "text": [
      "Processing DICOM files:  87%|████████▋ | 367/421 [1:40:33<14:24, 16.00s/it]"
     ]
    },
    {
     "name": "stdout",
     "output_type": "stream",
     "text": [
      "Reading segmentation file: tciaDownload/1.2.276.0.7230010.3.1.3.2323910823.5936.1597257744.837/1-1.dcm\n",
      "Unique labels in segmentation: [  0 255]\n"
     ]
    },
    {
     "name": "stderr",
     "output_type": "stream",
     "text": [
      "Processing DICOM files:  87%|████████▋ | 368/421 [1:40:43<12:22, 14.01s/it]"
     ]
    },
    {
     "name": "stdout",
     "output_type": "stream",
     "text": [
      "Reading segmentation file: tciaDownload/1.2.276.0.7230010.3.1.3.2323910823.12236.1597258800.413/1-1.dcm\n",
      "Unique labels in segmentation: [  0 255]\n"
     ]
    },
    {
     "name": "stderr",
     "output_type": "stream",
     "text": [
      "Processing DICOM files:  88%|████████▊ | 369/421 [1:40:57<12:18, 14.21s/it]"
     ]
    },
    {
     "name": "stdout",
     "output_type": "stream",
     "text": [
      "Reading segmentation file: tciaDownload/1.2.276.0.7230010.3.1.3.2323910823.23608.1597258772.968/1-1.dcm\n",
      "Unique labels in segmentation: [  0 255]\n"
     ]
    },
    {
     "name": "stderr",
     "output_type": "stream",
     "text": [
      "Processing DICOM files:  88%|████████▊ | 370/421 [1:41:10<11:43, 13.80s/it]"
     ]
    },
    {
     "name": "stdout",
     "output_type": "stream",
     "text": [
      "Reading segmentation file: tciaDownload/1.2.276.0.7230010.3.1.3.2323910823.25212.1597259199.40/1-1.dcm\n",
      "Unique labels in segmentation: [  0 255]\n"
     ]
    },
    {
     "name": "stderr",
     "output_type": "stream",
     "text": [
      "Processing DICOM files:  88%|████████▊ | 371/421 [1:41:27<12:21, 14.83s/it]"
     ]
    },
    {
     "name": "stdout",
     "output_type": "stream",
     "text": [
      "Reading segmentation file: tciaDownload/1.2.276.0.7230010.3.1.3.2323910823.24368.1597260123.251/1-1.dcm\n",
      "Unique labels in segmentation: [  0 255]\n"
     ]
    },
    {
     "name": "stderr",
     "output_type": "stream",
     "text": [
      "Processing DICOM files:  88%|████████▊ | 372/421 [1:41:42<12:09, 14.88s/it]"
     ]
    },
    {
     "name": "stdout",
     "output_type": "stream",
     "text": [
      "Reading segmentation file: tciaDownload/1.2.276.0.7230010.3.1.3.2323910823.17256.1597259363.510/1-1.dcm\n",
      "Unique labels in segmentation: [  0 255]\n"
     ]
    },
    {
     "name": "stderr",
     "output_type": "stream",
     "text": [
      "Processing DICOM files:  89%|████████▊ | 373/421 [1:42:03<13:10, 16.47s/it]"
     ]
    },
    {
     "name": "stdout",
     "output_type": "stream",
     "text": [
      "Reading segmentation file: tciaDownload/1.2.276.0.7230010.3.1.3.2323910823.752.1597257902.77/1-1.dcm\n",
      "Unique labels in segmentation: [  0 255]\n"
     ]
    },
    {
     "name": "stderr",
     "output_type": "stream",
     "text": [
      "Processing DICOM files:  89%|████████▉ | 374/421 [1:42:20<13:07, 16.75s/it]"
     ]
    },
    {
     "name": "stdout",
     "output_type": "stream",
     "text": [
      "Reading segmentation file: tciaDownload/1.2.276.0.7230010.3.1.3.2323910823.25020.1597257754.499/1-1.dcm\n",
      "Unique labels in segmentation: [  0 255]\n"
     ]
    },
    {
     "name": "stderr",
     "output_type": "stream",
     "text": [
      "Processing DICOM files:  89%|████████▉ | 375/421 [1:42:43<14:16, 18.63s/it]"
     ]
    },
    {
     "name": "stdout",
     "output_type": "stream",
     "text": [
      "Reading segmentation file: tciaDownload/1.2.276.0.7230010.3.1.3.2323910823.23080.1597261211.633/1-1.dcm\n",
      "Unique labels in segmentation: [  0 255]\n"
     ]
    },
    {
     "name": "stderr",
     "output_type": "stream",
     "text": [
      "Processing DICOM files:  89%|████████▉ | 376/421 [1:42:56<12:46, 17.04s/it]"
     ]
    },
    {
     "name": "stdout",
     "output_type": "stream",
     "text": [
      "Reading segmentation file: tciaDownload/1.2.276.0.7230010.3.1.3.2323910823.22348.1597259158.686/1-1.dcm\n",
      "Unique labels in segmentation: [  0 255]\n"
     ]
    },
    {
     "name": "stderr",
     "output_type": "stream",
     "text": [
      "Processing DICOM files:  90%|████████▉ | 377/421 [1:43:13<12:23, 16.89s/it]"
     ]
    },
    {
     "name": "stdout",
     "output_type": "stream",
     "text": [
      "Reading segmentation file: tciaDownload/1.2.276.0.7230010.3.1.3.2323910823.6176.1597257401.104/1-1.dcm\n",
      "Unique labels in segmentation: [  0 255]\n"
     ]
    },
    {
     "name": "stderr",
     "output_type": "stream",
     "text": [
      "Processing DICOM files:  90%|████████▉ | 378/421 [1:43:36<13:32, 18.90s/it]"
     ]
    },
    {
     "name": "stdout",
     "output_type": "stream",
     "text": [
      "Reading segmentation file: tciaDownload/1.2.276.0.7230010.3.1.3.2323910823.22296.1597260590.809/1-1.dcm\n",
      "Unique labels in segmentation: [  0 255]\n"
     ]
    },
    {
     "name": "stderr",
     "output_type": "stream",
     "text": [
      "Processing DICOM files:  90%|█████████ | 379/421 [1:43:55<13:14, 18.91s/it]"
     ]
    },
    {
     "name": "stdout",
     "output_type": "stream",
     "text": [
      "Reading segmentation file: tciaDownload/1.2.276.0.7230010.3.1.3.2323910823.15048.1597259086.447/1-1.dcm\n",
      "Unique labels in segmentation: [  0 255]\n"
     ]
    },
    {
     "name": "stderr",
     "output_type": "stream",
     "text": [
      "Processing DICOM files:  90%|█████████ | 380/421 [1:44:10<12:06, 17.71s/it]"
     ]
    },
    {
     "name": "stdout",
     "output_type": "stream",
     "text": [
      "Reading segmentation file: tciaDownload/1.2.276.0.7230010.3.1.3.2323910823.12276.1597260760.299/1-1.dcm\n",
      "Unique labels in segmentation: [  0 255]\n"
     ]
    },
    {
     "name": "stderr",
     "output_type": "stream",
     "text": [
      "Processing DICOM files:  90%|█████████ | 381/421 [1:44:32<12:32, 18.82s/it]"
     ]
    },
    {
     "name": "stdout",
     "output_type": "stream",
     "text": [
      "Reading segmentation file: tciaDownload/1.2.276.0.7230010.3.1.3.2323910823.18764.1597257981.526/1-1.dcm\n",
      "Unique labels in segmentation: [  0 255]\n"
     ]
    },
    {
     "name": "stderr",
     "output_type": "stream",
     "text": [
      "Processing DICOM files:  91%|█████████ | 382/421 [1:44:47<11:34, 17.82s/it]"
     ]
    },
    {
     "name": "stdout",
     "output_type": "stream",
     "text": [
      "Reading segmentation file: tciaDownload/1.2.276.0.7230010.3.1.3.2323910823.8412.1597258718.998/1-1.dcm\n",
      "Unique labels in segmentation: [  0 255]\n"
     ]
    },
    {
     "name": "stderr",
     "output_type": "stream",
     "text": [
      "Processing DICOM files:  91%|█████████ | 383/421 [1:45:02<10:44, 16.95s/it]"
     ]
    },
    {
     "name": "stdout",
     "output_type": "stream",
     "text": [
      "Reading segmentation file: tciaDownload/1.2.276.0.7230010.3.1.3.2323910823.22996.1597258281.491/1-1.dcm\n",
      "Unique labels in segmentation: [  0 255]\n"
     ]
    },
    {
     "name": "stderr",
     "output_type": "stream",
     "text": [
      "Processing DICOM files:  91%|█████████ | 384/421 [1:45:14<09:31, 15.46s/it]"
     ]
    },
    {
     "name": "stdout",
     "output_type": "stream",
     "text": [
      "Reading segmentation file: tciaDownload/1.2.276.0.7230010.3.1.3.2323910823.19136.1597260792.432/1-1.dcm\n",
      "Unique labels in segmentation: [  0 255]\n"
     ]
    },
    {
     "name": "stderr",
     "output_type": "stream",
     "text": [
      "Processing DICOM files:  91%|█████████▏| 385/421 [1:45:33<09:48, 16.36s/it]"
     ]
    },
    {
     "name": "stdout",
     "output_type": "stream",
     "text": [
      "Reading segmentation file: tciaDownload/1.2.276.0.7230010.3.1.3.2323910823.22228.1597260052.934/1-1.dcm\n",
      "Unique labels in segmentation: [  0 255]\n"
     ]
    },
    {
     "name": "stderr",
     "output_type": "stream",
     "text": [
      "Processing DICOM files:  92%|█████████▏| 386/421 [1:45:47<09:15, 15.87s/it]"
     ]
    },
    {
     "name": "stdout",
     "output_type": "stream",
     "text": [
      "Reading segmentation file: tciaDownload/1.2.276.0.7230010.3.1.3.2323910823.25312.1597259560.805/1-1.dcm\n",
      "Unique labels in segmentation: [  0 255]\n"
     ]
    },
    {
     "name": "stderr",
     "output_type": "stream",
     "text": [
      "Processing DICOM files:  92%|█████████▏| 387/421 [1:46:00<08:22, 14.79s/it]"
     ]
    },
    {
     "name": "stdout",
     "output_type": "stream",
     "text": [
      "Reading segmentation file: tciaDownload/1.2.276.0.7230010.3.1.3.2323910823.20716.1597257876.132/1-1.dcm\n",
      "Unique labels in segmentation: [  0 255]\n"
     ]
    },
    {
     "name": "stderr",
     "output_type": "stream",
     "text": [
      "Processing DICOM files:  92%|█████████▏| 388/421 [1:46:14<08:08, 14.79s/it]"
     ]
    },
    {
     "name": "stdout",
     "output_type": "stream",
     "text": [
      "Reading segmentation file: tciaDownload/1.2.276.0.7230010.3.1.3.2323910823.12848.1597258672.156/1-1.dcm\n",
      "Unique labels in segmentation: [  0 255]\n"
     ]
    },
    {
     "name": "stderr",
     "output_type": "stream",
     "text": [
      "Processing DICOM files:  92%|█████████▏| 389/421 [1:46:30<08:04, 15.13s/it]"
     ]
    },
    {
     "name": "stdout",
     "output_type": "stream",
     "text": [
      "Reading segmentation file: tciaDownload/1.2.276.0.7230010.3.1.3.2323910823.23408.1597260777.332/1-1.dcm\n",
      "Unique labels in segmentation: [  0 255]\n"
     ]
    },
    {
     "name": "stderr",
     "output_type": "stream",
     "text": [
      "Processing DICOM files:  93%|█████████▎| 390/421 [1:46:48<08:11, 15.85s/it]"
     ]
    },
    {
     "name": "stdout",
     "output_type": "stream",
     "text": [
      "Reading segmentation file: tciaDownload/1.2.276.0.7230010.3.1.3.2323910823.15524.1597259645.741/1-1.dcm\n",
      "Unique labels in segmentation: [  0 255]\n"
     ]
    },
    {
     "name": "stderr",
     "output_type": "stream",
     "text": [
      "Processing DICOM files:  93%|█████████▎| 391/421 [1:47:04<07:59, 15.98s/it]"
     ]
    },
    {
     "name": "stdout",
     "output_type": "stream",
     "text": [
      "Reading segmentation file: tciaDownload/1.2.276.0.7230010.3.1.3.2323910823.6456.1597260647.931/1-1.dcm\n",
      "Unique labels in segmentation: [  0 255]\n"
     ]
    },
    {
     "name": "stderr",
     "output_type": "stream",
     "text": [
      "Processing DICOM files:  93%|█████████▎| 392/421 [1:47:28<08:56, 18.50s/it]"
     ]
    },
    {
     "name": "stdout",
     "output_type": "stream",
     "text": [
      "Reading segmentation file: tciaDownload/1.2.276.0.7230010.3.1.3.2323910823.25180.1597258416.918/1-1.dcm\n",
      "Unique labels in segmentation: [  0 255]\n"
     ]
    },
    {
     "name": "stderr",
     "output_type": "stream",
     "text": [
      "Processing DICOM files:  93%|█████████▎| 393/421 [1:47:49<08:59, 19.26s/it]"
     ]
    },
    {
     "name": "stdout",
     "output_type": "stream",
     "text": [
      "Reading segmentation file: tciaDownload/1.2.276.0.7230010.3.1.3.2323910823.25412.1597258656.343/1-1.dcm\n",
      "Unique labels in segmentation: [  0 255]\n"
     ]
    },
    {
     "name": "stderr",
     "output_type": "stream",
     "text": [
      "Processing DICOM files:  94%|█████████▎| 394/421 [1:48:01<07:35, 16.89s/it]"
     ]
    },
    {
     "name": "stdout",
     "output_type": "stream",
     "text": [
      "Reading segmentation file: tciaDownload/1.2.276.0.7230010.3.1.3.2323910823.1440.1597257734.86/1-1.dcm\n",
      "Unique labels in segmentation: [  0 255]\n"
     ]
    },
    {
     "name": "stderr",
     "output_type": "stream",
     "text": [
      "Processing DICOM files:  94%|█████████▍| 395/421 [1:48:20<07:35, 17.50s/it]"
     ]
    },
    {
     "name": "stdout",
     "output_type": "stream",
     "text": [
      "Reading segmentation file: tciaDownload/1.2.276.0.7230010.3.1.3.2323910823.11644.1597260534.485/1-1.dcm\n",
      "Unique labels in segmentation: [  0 255]\n"
     ]
    },
    {
     "name": "stderr",
     "output_type": "stream",
     "text": [
      "Processing DICOM files:  94%|█████████▍| 396/421 [1:48:34<06:52, 16.52s/it]"
     ]
    },
    {
     "name": "stdout",
     "output_type": "stream",
     "text": [
      "Reading segmentation file: tciaDownload/1.2.276.0.7230010.3.1.3.2323910823.17168.1597258337.943/1-1.dcm\n",
      "Unique labels in segmentation: [  0 255]\n"
     ]
    },
    {
     "name": "stderr",
     "output_type": "stream",
     "text": [
      "Processing DICOM files:  94%|█████████▍| 397/421 [1:48:58<07:27, 18.64s/it]"
     ]
    },
    {
     "name": "stdout",
     "output_type": "stream",
     "text": [
      "Reading segmentation file: tciaDownload/1.2.276.0.7230010.3.1.3.2323910823.24880.1597259037.165/1-1.dcm\n",
      "Unique labels in segmentation: [  0 255]\n"
     ]
    },
    {
     "name": "stderr",
     "output_type": "stream",
     "text": [
      "Processing DICOM files:  95%|█████████▍| 398/421 [1:49:16<07:10, 18.70s/it]"
     ]
    },
    {
     "name": "stdout",
     "output_type": "stream",
     "text": [
      "Reading segmentation file: tciaDownload/1.2.276.0.7230010.3.1.3.2323910823.25212.1597259120.404/1-1.dcm\n",
      "Unique labels in segmentation: [  0 255]\n"
     ]
    },
    {
     "name": "stderr",
     "output_type": "stream",
     "text": [
      "Processing DICOM files:  95%|█████████▍| 399/421 [1:49:30<06:17, 17.14s/it]"
     ]
    },
    {
     "name": "stdout",
     "output_type": "stream",
     "text": [
      "Reading segmentation file: tciaDownload/1.2.276.0.7230010.3.1.3.2323910823.22072.1597258636.134/1-1.dcm\n",
      "Unique labels in segmentation: [  0 255]\n"
     ]
    },
    {
     "name": "stderr",
     "output_type": "stream",
     "text": [
      "Processing DICOM files:  95%|█████████▌| 400/421 [1:49:45<05:47, 16.54s/it]"
     ]
    },
    {
     "name": "stdout",
     "output_type": "stream",
     "text": [
      "Reading segmentation file: tciaDownload/1.2.276.0.7230010.3.1.3.2323910823.19272.1597261035.532/1-1.dcm\n",
      "Unique labels in segmentation: [  0 255]\n"
     ]
    },
    {
     "name": "stderr",
     "output_type": "stream",
     "text": [
      "Processing DICOM files:  95%|█████████▌| 401/421 [1:49:46<03:58, 11.91s/it]"
     ]
    },
    {
     "name": "stdout",
     "output_type": "stream",
     "text": [
      "Reading segmentation file: tciaDownload/1.2.276.0.7230010.3.1.3.2323910823.976.1597258128.107/1-1.dcm\n",
      "Unique labels in segmentation: [  0 255]\n"
     ]
    },
    {
     "name": "stderr",
     "output_type": "stream",
     "text": [
      "Processing DICOM files:  95%|█████████▌| 402/421 [1:50:04<04:19, 13.64s/it]"
     ]
    },
    {
     "name": "stdout",
     "output_type": "stream",
     "text": [
      "Reading segmentation file: tciaDownload/1.2.276.0.7230010.3.1.3.2323910823.18132.1597258553.248/1-1.dcm\n",
      "Unique labels in segmentation: [  0 255]\n"
     ]
    },
    {
     "name": "stderr",
     "output_type": "stream",
     "text": [
      "Processing DICOM files:  96%|█████████▌| 403/421 [1:50:18<04:08, 13.82s/it]"
     ]
    },
    {
     "name": "stdout",
     "output_type": "stream",
     "text": [
      "Reading segmentation file: tciaDownload/1.2.276.0.7230010.3.1.3.2323910823.5428.1597258976.375/1-1.dcm\n",
      "Unique labels in segmentation: [  0 255]\n"
     ]
    },
    {
     "name": "stderr",
     "output_type": "stream",
     "text": [
      "Processing DICOM files:  96%|█████████▌| 404/421 [1:50:34<04:03, 14.35s/it]"
     ]
    },
    {
     "name": "stdout",
     "output_type": "stream",
     "text": [
      "Reading segmentation file: tciaDownload/1.2.276.0.7230010.3.1.3.2323910823.16932.1597260835.449/1-1.dcm\n",
      "Unique labels in segmentation: [  0 255]\n"
     ]
    },
    {
     "name": "stderr",
     "output_type": "stream",
     "text": [
      "Processing DICOM files:  96%|█████████▌| 405/421 [1:50:46<03:38, 13.64s/it]"
     ]
    },
    {
     "name": "stdout",
     "output_type": "stream",
     "text": [
      "Reading segmentation file: tciaDownload/1.2.276.0.7230010.3.1.3.2323910823.18620.1597260981.184/1-1.dcm\n",
      "Unique labels in segmentation: [  0 255]\n"
     ]
    },
    {
     "name": "stderr",
     "output_type": "stream",
     "text": [
      "Processing DICOM files:  96%|█████████▋| 406/421 [1:51:04<03:44, 14.94s/it]"
     ]
    },
    {
     "name": "stdout",
     "output_type": "stream",
     "text": [
      "Reading segmentation file: tciaDownload/1.2.276.0.7230010.3.1.3.2323910823.21036.1597259348.769/1-1.dcm\n",
      "Unique labels in segmentation: [  0 255]\n"
     ]
    },
    {
     "name": "stderr",
     "output_type": "stream",
     "text": [
      "Processing DICOM files:  97%|█████████▋| 407/421 [1:51:17<03:20, 14.34s/it]"
     ]
    },
    {
     "name": "stdout",
     "output_type": "stream",
     "text": [
      "Reading segmentation file: tciaDownload/1.2.276.0.7230010.3.1.3.2323910823.10320.1597261253.444/1-1.dcm\n",
      "Unique labels in segmentation: [  0 255]\n"
     ]
    },
    {
     "name": "stderr",
     "output_type": "stream",
     "text": [
      "Processing DICOM files:  97%|█████████▋| 408/421 [1:51:27<02:49, 13.04s/it]"
     ]
    },
    {
     "name": "stdout",
     "output_type": "stream",
     "text": [
      "Reading segmentation file: tciaDownload/1.2.276.0.7230010.3.1.3.2323910823.19804.1597258938.929/1-1.dcm\n",
      "Unique labels in segmentation: [  0 255]\n"
     ]
    },
    {
     "name": "stderr",
     "output_type": "stream",
     "text": [
      "Processing DICOM files:  97%|█████████▋| 409/421 [1:51:41<02:39, 13.31s/it]"
     ]
    },
    {
     "name": "stdout",
     "output_type": "stream",
     "text": [
      "Reading segmentation file: tciaDownload/1.2.276.0.7230010.3.1.3.2323910823.23908.1597257721.209/1-1.dcm\n",
      "Unique labels in segmentation: [  0 255]\n"
     ]
    },
    {
     "name": "stderr",
     "output_type": "stream",
     "text": [
      "Processing DICOM files:  97%|█████████▋| 410/421 [1:51:53<02:22, 12.92s/it]"
     ]
    },
    {
     "name": "stdout",
     "output_type": "stream",
     "text": [
      "Reading segmentation file: tciaDownload/1.2.276.0.7230010.3.1.3.2323910823.15980.1597261234.658/1-1.dcm\n",
      "Unique labels in segmentation: [  0 255]\n"
     ]
    },
    {
     "name": "stderr",
     "output_type": "stream",
     "text": [
      "Processing DICOM files:  98%|█████████▊| 411/421 [1:52:11<02:27, 14.72s/it]"
     ]
    },
    {
     "name": "stdout",
     "output_type": "stream",
     "text": [
      "Reading segmentation file: tciaDownload/1.2.276.0.7230010.3.1.3.2323910823.20860.1597258227.961/1-1.dcm\n",
      "Unique labels in segmentation: [  0 255]\n"
     ]
    },
    {
     "name": "stderr",
     "output_type": "stream",
     "text": [
      "Processing DICOM files:  98%|█████████▊| 412/421 [1:52:29<02:19, 15.50s/it]"
     ]
    },
    {
     "name": "stdout",
     "output_type": "stream",
     "text": [
      "Reading segmentation file: tciaDownload/1.2.276.0.7230010.3.1.3.2323910823.22124.1597259694.845/1-1.dcm\n",
      "Unique labels in segmentation: [  0 255]\n"
     ]
    },
    {
     "name": "stderr",
     "output_type": "stream",
     "text": [
      "Processing DICOM files:  98%|█████████▊| 413/421 [1:52:32<01:33, 11.73s/it]"
     ]
    },
    {
     "name": "stdout",
     "output_type": "stream",
     "text": [
      "Reading segmentation file: tciaDownload/1.2.276.0.7230010.3.1.3.2323910823.21600.1597260957.912/1-1.dcm\n",
      "Unique labels in segmentation: [  0 255]\n"
     ]
    },
    {
     "name": "stderr",
     "output_type": "stream",
     "text": [
      "Processing DICOM files:  98%|█████████▊| 414/421 [1:52:45<01:25, 12.27s/it]"
     ]
    },
    {
     "name": "stdout",
     "output_type": "stream",
     "text": [
      "Reading segmentation file: tciaDownload/1.2.276.0.7230010.3.1.3.2323910823.16040.1597258786.448/1-1.dcm\n",
      "Unique labels in segmentation: [  0 255]\n"
     ]
    },
    {
     "name": "stderr",
     "output_type": "stream",
     "text": [
      "Processing DICOM files:  99%|█████████▊| 415/421 [1:53:03<01:23, 13.85s/it]"
     ]
    },
    {
     "name": "stdout",
     "output_type": "stream",
     "text": [
      "Reading segmentation file: tciaDownload/1.2.276.0.7230010.3.1.3.2323910823.19268.1597260900.345/1-1.dcm\n",
      "Unique labels in segmentation: [  0 255]\n"
     ]
    },
    {
     "name": "stderr",
     "output_type": "stream",
     "text": [
      "Processing DICOM files:  99%|█████████▉| 416/421 [1:53:22<01:16, 15.34s/it]"
     ]
    },
    {
     "name": "stdout",
     "output_type": "stream",
     "text": [
      "Reading segmentation file: tciaDownload/1.2.276.0.7230010.3.1.3.2323910823.22304.1597259131.380/1-1.dcm\n",
      "Unique labels in segmentation: [  0 255]\n"
     ]
    },
    {
     "name": "stderr",
     "output_type": "stream",
     "text": [
      "Processing DICOM files:  99%|█████████▉| 417/421 [1:53:38<01:02, 15.63s/it]"
     ]
    },
    {
     "name": "stdout",
     "output_type": "stream",
     "text": [
      "Reading segmentation file: tciaDownload/1.2.276.0.7230010.3.1.3.2323910823.22184.1597258630.111/1-1.dcm\n",
      "Unique labels in segmentation: [  0 255]\n"
     ]
    },
    {
     "name": "stderr",
     "output_type": "stream",
     "text": [
      "Processing DICOM files:  99%|█████████▉| 418/421 [1:53:52<00:45, 15.21s/it]"
     ]
    },
    {
     "name": "stdout",
     "output_type": "stream",
     "text": [
      "Reading segmentation file: tciaDownload/1.2.276.0.7230010.3.1.3.2323910823.21864.1597258209.673/1-1.dcm\n",
      "Unique labels in segmentation: [  0 255]\n"
     ]
    },
    {
     "name": "stderr",
     "output_type": "stream",
     "text": [
      "Processing DICOM files: 100%|█████████▉| 419/421 [1:54:05<00:28, 14.49s/it]"
     ]
    },
    {
     "name": "stdout",
     "output_type": "stream",
     "text": [
      "Reading segmentation file: tciaDownload/1.2.276.0.7230010.3.1.3.2323910823.25268.1597260096.416/1-1.dcm\n",
      "Unique labels in segmentation: [  0 255]\n"
     ]
    },
    {
     "name": "stderr",
     "output_type": "stream",
     "text": [
      "Processing DICOM files: 100%|█████████▉| 420/421 [1:54:22<00:15, 15.36s/it]"
     ]
    },
    {
     "name": "stdout",
     "output_type": "stream",
     "text": [
      "Reading segmentation file: tciaDownload/1.2.276.0.7230010.3.1.3.2323910823.24516.1597257820.582/1-1.dcm\n",
      "Unique labels in segmentation: [  0 255]\n"
     ]
    },
    {
     "name": "stderr",
     "output_type": "stream",
     "text": [
      "Processing DICOM files: 100%|██████████| 421/421 [1:54:47<00:00, 16.36s/it]\n"
     ]
    }
   ],
   "source": [
    "# --- Main Logic ---\n",
    "dir_path = 'tciaDownload'\n",
    "subdirs = [f for f in os.listdir(dir_path) if os.path.isdir(os.path.join(dir_path, f))]\n",
    "\n",
    "# Collect all .dcm file paths with corresponding subdir info\n",
    "dcm_paths = []\n",
    "for subdir in subdirs:\n",
    "    full_subdir_path = os.path.join(dir_path, subdir)\n",
    "    dcm_files = [f for f in os.listdir(full_subdir_path) if f.endswith('.dcm')]\n",
    "    dcm_paths.extend([(os.path.join(full_subdir_path, f)) for f in dcm_files])\n",
    "\n",
    "results = []\n",
    "\n",
    "# Process with progress bar\n",
    "for seg_path in tqdm(dcm_paths, desc=\"Processing DICOM files\"):\n",
    "    try:\n",
    "        # Extract features\n",
    "        features = extract_tumor_xyz_from_seg(seg_path)\n",
    "\n",
    "        # Read PatientID\n",
    "        image = sitk.ReadImage(seg_path)\n",
    "        patient_id = image.GetMetaData(\"0010|0020\") if image.HasMetaDataKey(\"0010|0020\") else \"Unknown\"\n",
    "\n",
    "        # Store as a row\n",
    "        row = {\n",
    "            \"PatientID\": patient_id,\n",
    "            **features\n",
    "        }\n",
    "\n",
    "        results.append(row)\n",
    "\n",
    "    except Exception as e:\n",
    "        print(f\"❌ Failed processing {seg_path}: {e}\")"
   ]
  },
  {
   "cell_type": "code",
   "execution_count": 18,
   "id": "881c8cd1-5668-4f97-92cf-eef1e4f4766e",
   "metadata": {},
   "outputs": [
    {
     "name": "stdout",
     "output_type": "stream",
     "text": [
      "✅ Completed processing 421 DICOM files.\n",
      "💾 Results saved to centroid.csv\n"
     ]
    }
   ],
   "source": [
    "# Save to CSV\n",
    "df = pd.DataFrame(results)\n",
    "df.to_csv(\"centroid.csv\", index=False)\n",
    "\n",
    "print(f\"✅ Completed processing {len(results)} DICOM files.\")\n",
    "print(\"💾 Results saved to centroid.csv\")"
   ]
  },
  {
   "cell_type": "code",
   "execution_count": null,
   "id": "2cc15efe",
   "metadata": {},
   "outputs": [
    {
     "name": "stdout",
     "output_type": "stream",
     "text": [
      "✅ Merge complete. Saved to merged_patient_data.csv\n"
     ]
    }
   ],
   "source": [
    "# Load the tumor segmentation summary\n",
    "tumor_df = pd.read_csv(\"centroid.csv\")\n",
    "\n",
    "# Strip whitespace from PatientID columns in both DataFrames\n",
    "radiomics['PatientID'] = radiomics['PatientID'].astype(str).str.strip()\n",
    "tumor_df['PatientID'] = tumor_df['PatientID'].astype(str).str.strip()\n",
    "\n",
    "# Merge on PatientID\n",
    "merged_df = radiomics.merge(tumor_df, on=\"PatientID\", how=\"left\")\n",
    "\n",
    "# Save the result\n",
    "merged_df.to_csv(\"radiomic_features.csv\", index=False)\n",
    "\n",
    "print(\"✅ Merge complete. Saved to merged_patient_data.csv\")"
   ]
  },
  {
   "cell_type": "code",
   "execution_count": 11,
   "id": "0a62946f",
   "metadata": {},
   "outputs": [
    {
     "data": {
      "text/html": [
       "<div>\n",
       "<style scoped>\n",
       "    .dataframe tbody tr th:only-of-type {\n",
       "        vertical-align: middle;\n",
       "    }\n",
       "\n",
       "    .dataframe tbody tr th {\n",
       "        vertical-align: top;\n",
       "    }\n",
       "\n",
       "    .dataframe thead th {\n",
       "        text-align: right;\n",
       "    }\n",
       "</style>\n",
       "<table border=\"1\" class=\"dataframe\">\n",
       "  <thead>\n",
       "    <tr style=\"text-align: right;\">\n",
       "      <th></th>\n",
       "      <th>PatientID</th>\n",
       "      <th>age</th>\n",
       "      <th>clinical.T.Stage</th>\n",
       "      <th>Clinical.N.Stage</th>\n",
       "      <th>Clinical.M.Stage</th>\n",
       "      <th>Overall.Stage</th>\n",
       "      <th>Histology</th>\n",
       "      <th>gender</th>\n",
       "      <th>Survival.time</th>\n",
       "      <th>deadstatus.event</th>\n",
       "      <th>...</th>\n",
       "      <th>wavelet-LLL_gldm_GrayLevelNonUniformity</th>\n",
       "      <th>wavelet-LLL_gldm_GrayLevelVariance</th>\n",
       "      <th>wavelet-LLL_gldm_HighGrayLevelEmphasis</th>\n",
       "      <th>wavelet-LLL_gldm_LargeDependenceEmphasis</th>\n",
       "      <th>wavelet-LLL_gldm_LargeDependenceHighGrayLevelEmphasis</th>\n",
       "      <th>wavelet-LLL_gldm_LargeDependenceLowGrayLevelEmphasis</th>\n",
       "      <th>wavelet-LLL_gldm_LowGrayLevelEmphasis</th>\n",
       "      <th>wavelet-LLL_gldm_SmallDependenceEmphasis</th>\n",
       "      <th>wavelet-LLL_gldm_SmallDependenceHighGrayLevelEmphasis</th>\n",
       "      <th>wavelet-LLL_gldm_SmallDependenceLowGrayLevelEmphasis</th>\n",
       "    </tr>\n",
       "  </thead>\n",
       "  <tbody>\n",
       "    <tr>\n",
       "      <th>0</th>\n",
       "      <td>LUNG1-001</td>\n",
       "      <td>78.7515</td>\n",
       "      <td>2.0</td>\n",
       "      <td>3</td>\n",
       "      <td>0</td>\n",
       "      <td>IIIb</td>\n",
       "      <td>large cell</td>\n",
       "      <td>male</td>\n",
       "      <td>2165</td>\n",
       "      <td>1</td>\n",
       "      <td>...</td>\n",
       "      <td>13393.763031</td>\n",
       "      <td>179.264900</td>\n",
       "      <td>4832.419014</td>\n",
       "      <td>72.065403</td>\n",
       "      <td>395108.830811</td>\n",
       "      <td>0.017872</td>\n",
       "      <td>0.000442</td>\n",
       "      <td>0.189049</td>\n",
       "      <td>642.147174</td>\n",
       "      <td>0.000123</td>\n",
       "    </tr>\n",
       "    <tr>\n",
       "      <th>1</th>\n",
       "      <td>LUNG1-002</td>\n",
       "      <td>83.8001</td>\n",
       "      <td>2.0</td>\n",
       "      <td>0</td>\n",
       "      <td>0</td>\n",
       "      <td>I</td>\n",
       "      <td>squamous cell carcinoma</td>\n",
       "      <td>male</td>\n",
       "      <td>155</td>\n",
       "      <td>1</td>\n",
       "      <td>...</td>\n",
       "      <td>30435.593374</td>\n",
       "      <td>231.483934</td>\n",
       "      <td>4558.990657</td>\n",
       "      <td>118.826078</td>\n",
       "      <td>615187.351196</td>\n",
       "      <td>0.027186</td>\n",
       "      <td>0.000433</td>\n",
       "      <td>0.125072</td>\n",
       "      <td>371.860025</td>\n",
       "      <td>0.000096</td>\n",
       "    </tr>\n",
       "    <tr>\n",
       "      <th>2</th>\n",
       "      <td>LUNG1-003</td>\n",
       "      <td>68.1807</td>\n",
       "      <td>2.0</td>\n",
       "      <td>3</td>\n",
       "      <td>0</td>\n",
       "      <td>IIIb</td>\n",
       "      <td>large cell</td>\n",
       "      <td>male</td>\n",
       "      <td>256</td>\n",
       "      <td>1</td>\n",
       "      <td>...</td>\n",
       "      <td>1688.135276</td>\n",
       "      <td>218.269133</td>\n",
       "      <td>2577.313647</td>\n",
       "      <td>44.740697</td>\n",
       "      <td>149388.090307</td>\n",
       "      <td>0.021025</td>\n",
       "      <td>0.001081</td>\n",
       "      <td>0.273498</td>\n",
       "      <td>506.112016</td>\n",
       "      <td>0.000375</td>\n",
       "    </tr>\n",
       "    <tr>\n",
       "      <th>3</th>\n",
       "      <td>LUNG1-004</td>\n",
       "      <td>70.8802</td>\n",
       "      <td>2.0</td>\n",
       "      <td>1</td>\n",
       "      <td>0</td>\n",
       "      <td>II</td>\n",
       "      <td>squamous cell carcinoma</td>\n",
       "      <td>male</td>\n",
       "      <td>141</td>\n",
       "      <td>1</td>\n",
       "      <td>...</td>\n",
       "      <td>5660.448046</td>\n",
       "      <td>120.694667</td>\n",
       "      <td>4381.760740</td>\n",
       "      <td>61.175351</td>\n",
       "      <td>299133.133717</td>\n",
       "      <td>0.013747</td>\n",
       "      <td>0.000393</td>\n",
       "      <td>0.181132</td>\n",
       "      <td>613.881181</td>\n",
       "      <td>0.000125</td>\n",
       "    </tr>\n",
       "    <tr>\n",
       "      <th>4</th>\n",
       "      <td>LUNG1-005</td>\n",
       "      <td>80.4819</td>\n",
       "      <td>4.0</td>\n",
       "      <td>2</td>\n",
       "      <td>0</td>\n",
       "      <td>IIIb</td>\n",
       "      <td>squamous cell carcinoma</td>\n",
       "      <td>male</td>\n",
       "      <td>353</td>\n",
       "      <td>1</td>\n",
       "      <td>...</td>\n",
       "      <td>5794.013365</td>\n",
       "      <td>124.385590</td>\n",
       "      <td>5127.269539</td>\n",
       "      <td>70.726556</td>\n",
       "      <td>392174.428273</td>\n",
       "      <td>0.013114</td>\n",
       "      <td>0.000268</td>\n",
       "      <td>0.161437</td>\n",
       "      <td>642.519431</td>\n",
       "      <td>0.000082</td>\n",
       "    </tr>\n",
       "  </tbody>\n",
       "</table>\n",
       "<p>5 rows × 1228 columns</p>\n",
       "</div>"
      ],
      "text/plain": [
       "   PatientID      age  clinical.T.Stage  Clinical.N.Stage  Clinical.M.Stage  \\\n",
       "0  LUNG1-001  78.7515               2.0                 3                 0   \n",
       "1  LUNG1-002  83.8001               2.0                 0                 0   \n",
       "2  LUNG1-003  68.1807               2.0                 3                 0   \n",
       "3  LUNG1-004  70.8802               2.0                 1                 0   \n",
       "4  LUNG1-005  80.4819               4.0                 2                 0   \n",
       "\n",
       "  Overall.Stage                Histology gender  Survival.time  \\\n",
       "0          IIIb               large cell   male           2165   \n",
       "1             I  squamous cell carcinoma   male            155   \n",
       "2          IIIb               large cell   male            256   \n",
       "3            II  squamous cell carcinoma   male            141   \n",
       "4          IIIb  squamous cell carcinoma   male            353   \n",
       "\n",
       "   deadstatus.event  ...  wavelet-LLL_gldm_GrayLevelNonUniformity  \\\n",
       "0                 1  ...                             13393.763031   \n",
       "1                 1  ...                             30435.593374   \n",
       "2                 1  ...                              1688.135276   \n",
       "3                 1  ...                              5660.448046   \n",
       "4                 1  ...                              5794.013365   \n",
       "\n",
       "   wavelet-LLL_gldm_GrayLevelVariance  wavelet-LLL_gldm_HighGrayLevelEmphasis  \\\n",
       "0                          179.264900                             4832.419014   \n",
       "1                          231.483934                             4558.990657   \n",
       "2                          218.269133                             2577.313647   \n",
       "3                          120.694667                             4381.760740   \n",
       "4                          124.385590                             5127.269539   \n",
       "\n",
       "   wavelet-LLL_gldm_LargeDependenceEmphasis  \\\n",
       "0                                 72.065403   \n",
       "1                                118.826078   \n",
       "2                                 44.740697   \n",
       "3                                 61.175351   \n",
       "4                                 70.726556   \n",
       "\n",
       "   wavelet-LLL_gldm_LargeDependenceHighGrayLevelEmphasis  \\\n",
       "0                                      395108.830811       \n",
       "1                                      615187.351196       \n",
       "2                                      149388.090307       \n",
       "3                                      299133.133717       \n",
       "4                                      392174.428273       \n",
       "\n",
       "   wavelet-LLL_gldm_LargeDependenceLowGrayLevelEmphasis  \\\n",
       "0                                           0.017872      \n",
       "1                                           0.027186      \n",
       "2                                           0.021025      \n",
       "3                                           0.013747      \n",
       "4                                           0.013114      \n",
       "\n",
       "   wavelet-LLL_gldm_LowGrayLevelEmphasis  \\\n",
       "0                               0.000442   \n",
       "1                               0.000433   \n",
       "2                               0.001081   \n",
       "3                               0.000393   \n",
       "4                               0.000268   \n",
       "\n",
       "   wavelet-LLL_gldm_SmallDependenceEmphasis  \\\n",
       "0                                  0.189049   \n",
       "1                                  0.125072   \n",
       "2                                  0.273498   \n",
       "3                                  0.181132   \n",
       "4                                  0.161437   \n",
       "\n",
       "   wavelet-LLL_gldm_SmallDependenceHighGrayLevelEmphasis  \\\n",
       "0                                         642.147174       \n",
       "1                                         371.860025       \n",
       "2                                         506.112016       \n",
       "3                                         613.881181       \n",
       "4                                         642.519431       \n",
       "\n",
       "   wavelet-LLL_gldm_SmallDependenceLowGrayLevelEmphasis  \n",
       "0                                           0.000123     \n",
       "1                                           0.000096     \n",
       "2                                           0.000375     \n",
       "3                                           0.000125     \n",
       "4                                           0.000082     \n",
       "\n",
       "[5 rows x 1228 columns]"
      ]
     },
     "execution_count": 11,
     "metadata": {},
     "output_type": "execute_result"
    }
   ],
   "source": [
    "radiomics.head()"
   ]
  },
  {
   "cell_type": "code",
   "execution_count": 10,
   "id": "f84c1ba8",
   "metadata": {},
   "outputs": [
    {
     "data": {
      "text/html": [
       "<div>\n",
       "<style scoped>\n",
       "    .dataframe tbody tr th:only-of-type {\n",
       "        vertical-align: middle;\n",
       "    }\n",
       "\n",
       "    .dataframe tbody tr th {\n",
       "        vertical-align: top;\n",
       "    }\n",
       "\n",
       "    .dataframe thead th {\n",
       "        text-align: right;\n",
       "    }\n",
       "</style>\n",
       "<table border=\"1\" class=\"dataframe\">\n",
       "  <thead>\n",
       "    <tr style=\"text-align: right;\">\n",
       "      <th></th>\n",
       "      <th>PatientID</th>\n",
       "      <th>x</th>\n",
       "      <th>y</th>\n",
       "      <th>z</th>\n",
       "      <th>min_x</th>\n",
       "      <th>min_y</th>\n",
       "      <th>min_z</th>\n",
       "      <th>max_x</th>\n",
       "      <th>max_y</th>\n",
       "      <th>max_z</th>\n",
       "    </tr>\n",
       "  </thead>\n",
       "  <tbody>\n",
       "    <tr>\n",
       "      <th>0</th>\n",
       "      <td>LUNG1-022</td>\n",
       "      <td>60.190313</td>\n",
       "      <td>14.599448</td>\n",
       "      <td>335.368303</td>\n",
       "      <td>-74.1120</td>\n",
       "      <td>-92.1120</td>\n",
       "      <td>-75.9</td>\n",
       "      <td>181.8880</td>\n",
       "      <td>114.8880</td>\n",
       "      <td>634.1</td>\n",
       "    </tr>\n",
       "    <tr>\n",
       "      <th>1</th>\n",
       "      <td>LUNG1-174</td>\n",
       "      <td>-53.208900</td>\n",
       "      <td>-195.329511</td>\n",
       "      <td>-378.726778</td>\n",
       "      <td>-125.5117</td>\n",
       "      <td>-299.5117</td>\n",
       "      <td>-621.0</td>\n",
       "      <td>49.4883</td>\n",
       "      <td>-99.5117</td>\n",
       "      <td>-228.0</td>\n",
       "    </tr>\n",
       "    <tr>\n",
       "      <th>2</th>\n",
       "      <td>LUNG1-122</td>\n",
       "      <td>3.406338</td>\n",
       "      <td>6.853500</td>\n",
       "      <td>-408.164315</td>\n",
       "      <td>-146.5117</td>\n",
       "      <td>-101.5117</td>\n",
       "      <td>-602.5</td>\n",
       "      <td>157.4883</td>\n",
       "      <td>97.4883</td>\n",
       "      <td>-169.5</td>\n",
       "    </tr>\n",
       "    <tr>\n",
       "      <th>3</th>\n",
       "      <td>LUNG1-411</td>\n",
       "      <td>9.138102</td>\n",
       "      <td>-180.240372</td>\n",
       "      <td>-325.217594</td>\n",
       "      <td>-134.5117</td>\n",
       "      <td>-287.5117</td>\n",
       "      <td>-639.0</td>\n",
       "      <td>137.4883</td>\n",
       "      <td>-91.5117</td>\n",
       "      <td>-41.0</td>\n",
       "    </tr>\n",
       "    <tr>\n",
       "      <th>4</th>\n",
       "      <td>LUNG1-359</td>\n",
       "      <td>10.556907</td>\n",
       "      <td>-157.485831</td>\n",
       "      <td>-294.473415</td>\n",
       "      <td>-126.5117</td>\n",
       "      <td>-243.5117</td>\n",
       "      <td>-709.0</td>\n",
       "      <td>140.4883</td>\n",
       "      <td>-75.5117</td>\n",
       "      <td>-87.0</td>\n",
       "    </tr>\n",
       "  </tbody>\n",
       "</table>\n",
       "</div>"
      ],
      "text/plain": [
       "    PatientID          x           y           z     min_x     min_y  min_z  \\\n",
       "0  LUNG1-022   60.190313   14.599448  335.368303  -74.1120  -92.1120  -75.9   \n",
       "1  LUNG1-174  -53.208900 -195.329511 -378.726778 -125.5117 -299.5117 -621.0   \n",
       "2  LUNG1-122    3.406338    6.853500 -408.164315 -146.5117 -101.5117 -602.5   \n",
       "3  LUNG1-411    9.138102 -180.240372 -325.217594 -134.5117 -287.5117 -639.0   \n",
       "4  LUNG1-359   10.556907 -157.485831 -294.473415 -126.5117 -243.5117 -709.0   \n",
       "\n",
       "      max_x     max_y  max_z  \n",
       "0  181.8880  114.8880  634.1  \n",
       "1   49.4883  -99.5117 -228.0  \n",
       "2  157.4883   97.4883 -169.5  \n",
       "3  137.4883  -91.5117  -41.0  \n",
       "4  140.4883  -75.5117  -87.0  "
      ]
     },
     "execution_count": 10,
     "metadata": {},
     "output_type": "execute_result"
    }
   ],
   "source": [
    "tumor_df.head()"
   ]
  },
  {
   "cell_type": "code",
   "execution_count": 27,
   "id": "3961f4be",
   "metadata": {},
   "outputs": [
    {
     "data": {
      "text/html": [
       "<div>\n",
       "<style scoped>\n",
       "    .dataframe tbody tr th:only-of-type {\n",
       "        vertical-align: middle;\n",
       "    }\n",
       "\n",
       "    .dataframe tbody tr th {\n",
       "        vertical-align: top;\n",
       "    }\n",
       "\n",
       "    .dataframe thead th {\n",
       "        text-align: right;\n",
       "    }\n",
       "</style>\n",
       "<table border=\"1\" class=\"dataframe\">\n",
       "  <thead>\n",
       "    <tr style=\"text-align: right;\">\n",
       "      <th></th>\n",
       "      <th>PatientID</th>\n",
       "      <th>age</th>\n",
       "      <th>clinical.T.Stage</th>\n",
       "      <th>Clinical.N.Stage</th>\n",
       "      <th>Clinical.M.Stage</th>\n",
       "      <th>Overall.Stage</th>\n",
       "      <th>Histology</th>\n",
       "      <th>gender</th>\n",
       "      <th>Survival.time</th>\n",
       "      <th>deadstatus.event</th>\n",
       "      <th>...</th>\n",
       "      <th>wavelet-LLL_gldm_SmallDependenceLowGrayLevelEmphasis</th>\n",
       "      <th>x</th>\n",
       "      <th>y</th>\n",
       "      <th>z</th>\n",
       "      <th>min_x</th>\n",
       "      <th>min_y</th>\n",
       "      <th>min_z</th>\n",
       "      <th>max_x</th>\n",
       "      <th>max_y</th>\n",
       "      <th>max_z</th>\n",
       "    </tr>\n",
       "  </thead>\n",
       "  <tbody>\n",
       "    <tr>\n",
       "      <th>0</th>\n",
       "      <td>LUNG1-001</td>\n",
       "      <td>78.7515</td>\n",
       "      <td>2.0</td>\n",
       "      <td>3</td>\n",
       "      <td>0</td>\n",
       "      <td>IIIb</td>\n",
       "      <td>large cell</td>\n",
       "      <td>male</td>\n",
       "      <td>2165</td>\n",
       "      <td>1</td>\n",
       "      <td>...</td>\n",
       "      <td>0.000123</td>\n",
       "      <td>6.196296</td>\n",
       "      <td>-184.722568</td>\n",
       "      <td>-413.653013</td>\n",
       "      <td>-139.5117</td>\n",
       "      <td>-300.5117</td>\n",
       "      <td>-616.5</td>\n",
       "      <td>166.4883</td>\n",
       "      <td>-81.5117</td>\n",
       "      <td>-169.5</td>\n",
       "    </tr>\n",
       "    <tr>\n",
       "      <th>1</th>\n",
       "      <td>LUNG1-002</td>\n",
       "      <td>83.8001</td>\n",
       "      <td>2.0</td>\n",
       "      <td>0</td>\n",
       "      <td>0</td>\n",
       "      <td>I</td>\n",
       "      <td>squamous cell carcinoma</td>\n",
       "      <td>male</td>\n",
       "      <td>155</td>\n",
       "      <td>1</td>\n",
       "      <td>...</td>\n",
       "      <td>0.000096</td>\n",
       "      <td>16.448367</td>\n",
       "      <td>-9.154733</td>\n",
       "      <td>251.858923</td>\n",
       "      <td>-126.1120</td>\n",
       "      <td>-105.1120</td>\n",
       "      <td>-121.4</td>\n",
       "      <td>152.8880</td>\n",
       "      <td>185.8880</td>\n",
       "      <td>531.6</td>\n",
       "    </tr>\n",
       "    <tr>\n",
       "      <th>2</th>\n",
       "      <td>LUNG1-003</td>\n",
       "      <td>68.1807</td>\n",
       "      <td>2.0</td>\n",
       "      <td>3</td>\n",
       "      <td>0</td>\n",
       "      <td>IIIb</td>\n",
       "      <td>large cell</td>\n",
       "      <td>male</td>\n",
       "      <td>256</td>\n",
       "      <td>1</td>\n",
       "      <td>...</td>\n",
       "      <td>0.000375</td>\n",
       "      <td>13.741307</td>\n",
       "      <td>-34.750982</td>\n",
       "      <td>73.283886</td>\n",
       "      <td>-124.1120</td>\n",
       "      <td>-152.1120</td>\n",
       "      <td>-299.9</td>\n",
       "      <td>152.8880</td>\n",
       "      <td>82.8880</td>\n",
       "      <td>335.1</td>\n",
       "    </tr>\n",
       "    <tr>\n",
       "      <th>3</th>\n",
       "      <td>LUNG1-004</td>\n",
       "      <td>70.8802</td>\n",
       "      <td>2.0</td>\n",
       "      <td>1</td>\n",
       "      <td>0</td>\n",
       "      <td>II</td>\n",
       "      <td>squamous cell carcinoma</td>\n",
       "      <td>male</td>\n",
       "      <td>141</td>\n",
       "      <td>1</td>\n",
       "      <td>...</td>\n",
       "      <td>0.000125</td>\n",
       "      <td>4.155463</td>\n",
       "      <td>13.561335</td>\n",
       "      <td>-307.463080</td>\n",
       "      <td>-137.5117</td>\n",
       "      <td>-106.5117</td>\n",
       "      <td>-624.0</td>\n",
       "      <td>165.4883</td>\n",
       "      <td>123.4883</td>\n",
       "      <td>-97.0</td>\n",
       "    </tr>\n",
       "    <tr>\n",
       "      <th>4</th>\n",
       "      <td>LUNG1-005</td>\n",
       "      <td>80.4819</td>\n",
       "      <td>4.0</td>\n",
       "      <td>2</td>\n",
       "      <td>0</td>\n",
       "      <td>IIIb</td>\n",
       "      <td>squamous cell carcinoma</td>\n",
       "      <td>male</td>\n",
       "      <td>353</td>\n",
       "      <td>1</td>\n",
       "      <td>...</td>\n",
       "      <td>0.000082</td>\n",
       "      <td>-6.221136</td>\n",
       "      <td>-17.284232</td>\n",
       "      <td>138.648683</td>\n",
       "      <td>-152.1120</td>\n",
       "      <td>-130.1120</td>\n",
       "      <td>-168.4</td>\n",
       "      <td>124.8880</td>\n",
       "      <td>96.8880</td>\n",
       "      <td>365.6</td>\n",
       "    </tr>\n",
       "  </tbody>\n",
       "</table>\n",
       "<p>5 rows × 1237 columns</p>\n",
       "</div>"
      ],
      "text/plain": [
       "   PatientID      age  clinical.T.Stage  Clinical.N.Stage  Clinical.M.Stage  \\\n",
       "0  LUNG1-001  78.7515               2.0                 3                 0   \n",
       "1  LUNG1-002  83.8001               2.0                 0                 0   \n",
       "2  LUNG1-003  68.1807               2.0                 3                 0   \n",
       "3  LUNG1-004  70.8802               2.0                 1                 0   \n",
       "4  LUNG1-005  80.4819               4.0                 2                 0   \n",
       "\n",
       "  Overall.Stage                Histology gender  Survival.time  \\\n",
       "0          IIIb               large cell   male           2165   \n",
       "1             I  squamous cell carcinoma   male            155   \n",
       "2          IIIb               large cell   male            256   \n",
       "3            II  squamous cell carcinoma   male            141   \n",
       "4          IIIb  squamous cell carcinoma   male            353   \n",
       "\n",
       "   deadstatus.event  ...  \\\n",
       "0                 1  ...   \n",
       "1                 1  ...   \n",
       "2                 1  ...   \n",
       "3                 1  ...   \n",
       "4                 1  ...   \n",
       "\n",
       "   wavelet-LLL_gldm_SmallDependenceLowGrayLevelEmphasis          x  \\\n",
       "0                                           0.000123      6.196296   \n",
       "1                                           0.000096     16.448367   \n",
       "2                                           0.000375     13.741307   \n",
       "3                                           0.000125      4.155463   \n",
       "4                                           0.000082     -6.221136   \n",
       "\n",
       "            y           z     min_x     min_y  min_z     max_x     max_y  \\\n",
       "0 -184.722568 -413.653013 -139.5117 -300.5117 -616.5  166.4883  -81.5117   \n",
       "1   -9.154733  251.858923 -126.1120 -105.1120 -121.4  152.8880  185.8880   \n",
       "2  -34.750982   73.283886 -124.1120 -152.1120 -299.9  152.8880   82.8880   \n",
       "3   13.561335 -307.463080 -137.5117 -106.5117 -624.0  165.4883  123.4883   \n",
       "4  -17.284232  138.648683 -152.1120 -130.1120 -168.4  124.8880   96.8880   \n",
       "\n",
       "   max_z  \n",
       "0 -169.5  \n",
       "1  531.6  \n",
       "2  335.1  \n",
       "3  -97.0  \n",
       "4  365.6  \n",
       "\n",
       "[5 rows x 1237 columns]"
      ]
     },
     "execution_count": 27,
     "metadata": {},
     "output_type": "execute_result"
    }
   ],
   "source": [
    "merged_df.head()"
   ]
  },
  {
   "cell_type": "code",
   "execution_count": 32,
   "id": "3ff5b2e8-308d-4377-8ceb-87cc12e0c37c",
   "metadata": {},
   "outputs": [
    {
     "data": {
      "text/html": [
       "<div>\n",
       "<style scoped>\n",
       "    .dataframe tbody tr th:only-of-type {\n",
       "        vertical-align: middle;\n",
       "    }\n",
       "\n",
       "    .dataframe tbody tr th {\n",
       "        vertical-align: top;\n",
       "    }\n",
       "\n",
       "    .dataframe thead th {\n",
       "        text-align: right;\n",
       "    }\n",
       "</style>\n",
       "<table border=\"1\" class=\"dataframe\">\n",
       "  <thead>\n",
       "    <tr style=\"text-align: right;\">\n",
       "      <th></th>\n",
       "      <th>PatientID</th>\n",
       "      <th>age</th>\n",
       "      <th>clinical.T.Stage</th>\n",
       "      <th>Clinical.N.Stage</th>\n",
       "      <th>Clinical.M.Stage</th>\n",
       "      <th>Overall.Stage</th>\n",
       "      <th>Histology</th>\n",
       "      <th>gender</th>\n",
       "      <th>Survival.time</th>\n",
       "      <th>deadstatus.event</th>\n",
       "      <th>...</th>\n",
       "      <th>wavelet-LLL_gldm_SmallDependenceLowGrayLevelEmphasis</th>\n",
       "      <th>x</th>\n",
       "      <th>y</th>\n",
       "      <th>z</th>\n",
       "      <th>min_x</th>\n",
       "      <th>min_y</th>\n",
       "      <th>min_z</th>\n",
       "      <th>max_x</th>\n",
       "      <th>max_y</th>\n",
       "      <th>max_z</th>\n",
       "    </tr>\n",
       "  </thead>\n",
       "  <tbody>\n",
       "    <tr>\n",
       "      <th>127</th>\n",
       "      <td>LUNG1-128</td>\n",
       "      <td>64.5859</td>\n",
       "      <td>3.0</td>\n",
       "      <td>1</td>\n",
       "      <td>0</td>\n",
       "      <td>IIIa</td>\n",
       "      <td>nos</td>\n",
       "      <td>female</td>\n",
       "      <td>335</td>\n",
       "      <td>0</td>\n",
       "      <td>...</td>\n",
       "      <td>0.000239</td>\n",
       "      <td>NaN</td>\n",
       "      <td>NaN</td>\n",
       "      <td>NaN</td>\n",
       "      <td>NaN</td>\n",
       "      <td>NaN</td>\n",
       "      <td>NaN</td>\n",
       "      <td>NaN</td>\n",
       "      <td>NaN</td>\n",
       "      <td>NaN</td>\n",
       "    </tr>\n",
       "  </tbody>\n",
       "</table>\n",
       "<p>1 rows × 1237 columns</p>\n",
       "</div>"
      ],
      "text/plain": [
       "     PatientID      age  clinical.T.Stage  Clinical.N.Stage  Clinical.M.Stage  \\\n",
       "127  LUNG1-128  64.5859               3.0                 1                 0   \n",
       "\n",
       "    Overall.Stage Histology  gender  Survival.time  deadstatus.event  ...  \\\n",
       "127          IIIa       nos  female            335                 0  ...   \n",
       "\n",
       "     wavelet-LLL_gldm_SmallDependenceLowGrayLevelEmphasis   x   y   z  min_x  \\\n",
       "127                                           0.000239    NaN NaN NaN    NaN   \n",
       "\n",
       "     min_y  min_z  max_x  max_y  max_z  \n",
       "127    NaN    NaN    NaN    NaN    NaN  \n",
       "\n",
       "[1 rows x 1237 columns]"
      ]
     },
     "execution_count": 32,
     "metadata": {},
     "output_type": "execute_result"
    }
   ],
   "source": [
    "merged_df[merged_df[\"x\"].isnull()]"
   ]
  }
 ],
 "metadata": {
  "kernelspec": {
   "display_name": "Python 3",
   "language": "python",
   "name": "python3"
  },
  "language_info": {
   "codemirror_mode": {
    "name": "ipython",
    "version": 3
   },
   "file_extension": ".py",
   "mimetype": "text/x-python",
   "name": "python",
   "nbconvert_exporter": "python",
   "pygments_lexer": "ipython3",
   "version": "3.12.1"
  }
 },
 "nbformat": 4,
 "nbformat_minor": 5
}
